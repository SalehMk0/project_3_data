{
 "cells": [
  {
   "cell_type": "code",
   "execution_count": 115,
   "id": "6168f558-72b3-4ba5-b110-32e55861aec3",
   "metadata": {},
   "outputs": [],
   "source": [
    "import pandas as pd\n",
    "import  numpy as np\n",
    "import matplotlib.pyplot as plt\n",
    "import seaborn as sns"
   ]
  },
  {
   "cell_type": "code",
   "execution_count": 116,
   "id": "a5380668-8c49-4f7a-bacd-fb37c477ed72",
   "metadata": {},
   "outputs": [],
   "source": [
    "categories = pd.read_csv('csv/d_categories.csv')\n",
    "conditions = pd.read_csv('csv/d_conditions.csv')\n",
    "countries = pd.read_csv('csv/d_countries.csv')\n",
    "customers = pd.read_csv('csv/d_customers.csv')\n",
    "manufacturers = pd.read_csv('csv/d_manufacturers.csv')\n",
    "questions = pd.read_csv('csv/d_questions.csv')\n",
    "reviews = pd.read_csv('csv/d_reviews1.csv')\n",
    "products = pd.read_csv('csv/f_products.csv')"
   ]
  },
  {
   "cell_type": "code",
   "execution_count": 117,
   "id": "e5e1c3ae-b09b-4e9a-bd69-0b57a960b634",
   "metadata": {},
   "outputs": [],
   "source": [
    "products['purchase_date'] = pd.to_datetime(products['purchase_date'])\n",
    "df = products.merge(categories, on='category_id', how='inner')\n",
    "df = df.merge(conditions, on='condition_id', how='left')\n",
    "df = df.merge(countries, on='country_id', how='left')\n",
    "df = df.merge(manufacturers, on='manufacturer_id', how='left')\n",
    "df = df.merge(questions, on='product_id', how='left')\n",
    "df = df.merge(reviews, on='product_id', how='left')\n",
    "df = df.set_index('purchase_date').sort_index()"
   ]
  },
  {
   "cell_type": "code",
   "execution_count": 118,
   "id": "2e74421a-aa73-40c5-8c28-f38b54e62ca7",
   "metadata": {},
   "outputs": [
    {
     "data": {
      "text/plain": [
       "purchase_date\n",
       "2016-01-01              Arts & Crafts\n",
       "2016-01-01                      Games\n",
       "2016-01-01             Party Supplies\n",
       "2016-01-01    Die-Cast & Toy Vehicles\n",
       "2016-01-01         Figures & Playsets\n",
       "                       ...           \n",
       "2022-12-27                    Hobbies\n",
       "2022-12-29              Arts & Crafts\n",
       "2022-12-30      Sports Toys & Outdoor\n",
       "2022-12-31      Sports Toys & Outdoor\n",
       "2022-12-31                Fancy Dress\n",
       "Name: category, Length: 10763, dtype: object"
      ]
     },
     "execution_count": 118,
     "metadata": {},
     "output_type": "execute_result"
    }
   ],
   "source": [
    "df.category"
   ]
  },
  {
   "cell_type": "code",
   "execution_count": null,
   "id": "30a1ca34-df24-4336-854e-a0ce81b47319",
   "metadata": {},
   "outputs": [],
   "source": []
  }
 ],
 "metadata": {
  "kernelspec": {
   "display_name": "Python 3 (ipykernel)",
   "language": "python",
   "name": "python3"
  },
  "language_info": {
   "codemirror_mode": {
    "name": "ipython",
    "version": 3
   },
   "file_extension": ".py",
   "mimetype": "text/x-python",
   "name": "python",
   "nbconvert_exporter": "python",
   "pygments_lexer": "ipython3",
   "version": "3.11.7"
  }
 },
 "nbformat": 4,
 "nbformat_minor": 5
}
