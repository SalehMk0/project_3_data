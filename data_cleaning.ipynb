{
 "cells": [
  {
   "cell_type": "code",
   "execution_count": 1220,
   "id": "d4de0fd0-1f16-4321-98ba-3d56b0b580c3",
   "metadata": {},
   "outputs": [],
   "source": [
    "import pandas as pd"
   ]
  },
  {
   "cell_type": "code",
   "execution_count": 1221,
   "id": "20a684da-35e0-4310-905b-222e19042933",
   "metadata": {},
   "outputs": [],
   "source": [
    "df = pd.read_csv('amazon.csv')"
   ]
  },
  {
   "cell_type": "code",
   "execution_count": 1222,
   "id": "7b3a7729-35fe-4bce-a3b2-6b1fbfc58960",
   "metadata": {},
   "outputs": [
    {
     "name": "stderr",
     "output_type": "stream",
     "text": [
      "<>:1: SyntaxWarning: invalid escape sequence '\\d'\n",
      "<>:1: SyntaxWarning: invalid escape sequence '\\d'\n",
      "/var/folders/d2/zqv2mpg17tzb0413h3b_jwb00000gn/T/ipykernel_52705/4135669244.py:1: SyntaxWarning: invalid escape sequence '\\d'\n",
      "  df['price'] = df['price'].str.replace('[^\\d.]', '', regex=True)\n"
     ]
    },
    {
     "data": {
      "text/plain": [
       "dtype('float64')"
      ]
     },
     "execution_count": 1222,
     "metadata": {},
     "output_type": "execute_result"
    }
   ],
   "source": [
    "df['price'] = df['price'].str.replace('[^\\d.]', '', regex=True)\n",
    "df['price'] = pd.to_numeric(df['price'], errors='coerce')\n",
    "df['price'].dtype"
   ]
  },
  {
   "cell_type": "code",
   "execution_count": 1223,
   "id": "417a73ec-1399-494c-8cef-2621ae291fe9",
   "metadata": {},
   "outputs": [],
   "source": [
    "df['number_available_in_stock'] = df['number_available_in_stock'].str.replace('Â', '', regex=False)\n",
    "df[['quantity', 'condition']] = df['number_available_in_stock'].str.split(n=1, expand=True)\n",
    "df['quantity'] = pd.to_numeric(df['quantity'], errors='coerce')\n",
    "df['condition'] = df['condition'].str.strip()\n",
    "df['condition'] = df['condition'].fillna('Unknown')\n",
    "df = df.drop('number_available_in_stock', axis=1)"
   ]
  },
  {
   "cell_type": "code",
   "execution_count": 1224,
   "id": "cba1983c-b594-46f1-9a95-7cffa8d58855",
   "metadata": {},
   "outputs": [],
   "source": [
    "df['number_of_answered_questions'] = df['number_of_answered_questions'].fillna(0).astype(int)\n",
    "df['number_of_answered_questions'] = df['number_of_answered_questions'].astype(int)"
   ]
  },
  {
   "cell_type": "code",
   "execution_count": 1225,
   "id": "46617e65-fefe-4a1d-885d-cf769ca31d5a",
   "metadata": {},
   "outputs": [
    {
     "data": {
      "text/plain": [
       "dtype('int64')"
      ]
     },
     "execution_count": 1225,
     "metadata": {},
     "output_type": "execute_result"
    }
   ],
   "source": [
    "df['number_of_answered_questions'].dtype"
   ]
  },
  {
   "cell_type": "code",
   "execution_count": 1226,
   "id": "a054333f-33f3-47b8-9174-fc5106724d74",
   "metadata": {},
   "outputs": [],
   "source": [
    "df['average_review_rating'] = df['average_review_rating'].str.split().str[0].astype(float)"
   ]
  },
  {
   "cell_type": "code",
   "execution_count": 1227,
   "id": "d1c1960e-a50c-464d-96d8-07217ec73d26",
   "metadata": {},
   "outputs": [
    {
     "data": {
      "text/plain": [
       "0       4.9\n",
       "1       4.5\n",
       "2       3.9\n",
       "3       5.0\n",
       "4       4.7\n",
       "       ... \n",
       "9994    5.0\n",
       "9995    4.0\n",
       "9996    5.0\n",
       "9997    5.0\n",
       "9998    4.5\n",
       "Name: average_review_rating, Length: 9999, dtype: float64"
      ]
     },
     "execution_count": 1227,
     "metadata": {},
     "output_type": "execute_result"
    }
   ],
   "source": [
    "df['average_review_rating']"
   ]
  },
  {
   "cell_type": "code",
   "execution_count": 1228,
   "id": "e25d7850-2350-4f24-83d2-3b81673dafee",
   "metadata": {},
   "outputs": [],
   "source": [
    "df.to_csv('data.csv', index=False)"
   ]
  },
  {
   "cell_type": "code",
   "execution_count": 1229,
   "id": "ed6b591d-e2a8-48b0-99bf-acf0f696950c",
   "metadata": {},
   "outputs": [],
   "source": [
    "\n",
    "import numpy as np\n",
    "\n",
    "def split_review(text):\n",
    "    if pd.isna(text) or not isinstance(text, str):\n",
    "        return pd.Series([None, None, None, None])\n",
    "    \n",
    "    parts = text.split('//')\n",
    "    review = parts[0].strip()\n",
    "    rating = parts[1].strip() if len(parts) > 1 else None\n",
    "    date = parts[2].strip() if len(parts) > 2 else None\n",
    "    \n",
    "    if len(parts) > 3:\n",
    "        customer_date = parts[3].strip().split(' on ')\n",
    "        customer = customer_date[0].replace('\\n', '').strip()\n",
    "        date = customer_date[1] if len(customer_date) > 1 else date\n",
    "    else:\n",
    "        customer = None\n",
    "    customer = customer[2:].strip() if customer.startswith('By') else customer\n",
    "\n",
    "    return pd.Series([review, rating, date, customer])\n",
    "\n",
    "df[['review_text', 'rating', 'date', 'customer_name']] = df['customer_reviews'].apply(split_review)\n",
    "df = df.drop('customer_reviews', axis=1)\n"
   ]
  },
  {
   "cell_type": "code",
   "execution_count": 1230,
   "id": "4e58bd44-83d9-430c-8e78-b2bf1edae61d",
   "metadata": {},
   "outputs": [],
   "source": [
    "df.to_csv('data.csv', index=False)"
   ]
  },
  {
   "cell_type": "code",
   "execution_count": 1231,
   "id": "b8cd133b-ab0c-474f-a9ad-7c907275e31d",
   "metadata": {},
   "outputs": [
    {
     "data": {
      "text/plain": [
       "9994    DC 66 Batman Classic TV Series 6 Inch Riddler ...\n",
       "9995                                                  NaN\n",
       "9996    *Includes 1x Badge with holder and chain *High...\n",
       "9997    Designed by Ed BenesIt's here - the third seri...\n",
       "9998                                                  NaN\n",
       "Name: description, dtype: object"
      ]
     },
     "execution_count": 1231,
     "metadata": {},
     "output_type": "execute_result"
    }
   ],
   "source": [
    "df['description'].tail(5)"
   ]
  },
  {
   "cell_type": "code",
   "execution_count": 1232,
   "id": "2b51f2db-6df9-467e-81b1-0bde947b0e6f",
   "metadata": {},
   "outputs": [],
   "source": [
    "df = df.drop('description', axis =1)"
   ]
  },
  {
   "cell_type": "code",
   "execution_count": 1233,
   "id": "d35df82f-ba36-4af5-a9fd-69ab24b4b536",
   "metadata": {},
   "outputs": [],
   "source": [
    "df.to_csv('data.csv', index= False)"
   ]
  },
  {
   "cell_type": "code",
   "execution_count": 1234,
   "id": "70455f4c-5a71-4dd4-be8b-1b3c2d3bd1de",
   "metadata": {},
   "outputs": [],
   "source": [
    "# Combine the columns, using product_information if available, otherwise use product_description\n",
    "df['description'] = df['product_information'].fillna(df['product_description'])\n",
    "\n",
    "# If you want to use both, concatenating them when both are available:\n",
    "df['description'] = df['product_information'].fillna('') + ' ' + df['product_description'].fillna('')\n",
    "df['description'] = df['description'].str.strip()\n",
    "\n",
    "# Remove the original columns\n",
    "df = df.drop(['product_information', 'product_description'], axis=1)"
   ]
  },
  {
   "cell_type": "code",
   "execution_count": 1235,
   "id": "8a1e3abb-af18-4cd3-9fdd-2b66a637238e",
   "metadata": {},
   "outputs": [],
   "source": [
    "df.to_csv('data.csv', index= False)"
   ]
  },
  {
   "cell_type": "code",
   "execution_count": 1236,
   "id": "1592bdcf-8a62-47f1-b471-8dab389cd9b5",
   "metadata": {},
   "outputs": [],
   "source": [
    "\n",
    "df['category_list'] = df['amazon_category_and_sub_category'].str.split('>')\n",
    "\n",
    "\n",
    "df['category'] = df['category_list'].str[0].str.strip()\n",
    "df['sub_category_1'] = df['category_list'].str[1].str.strip()\n",
    "df['sub_category_2'] = df['category_list'].str[2].str.strip()\n",
    "df['sub_category_3'] = df['category_list'].str[3].str.strip()\n",
    "\n",
    "\n",
    "df = df.drop('category_list', axis=1)"
   ]
  },
  {
   "cell_type": "code",
   "execution_count": 1237,
   "id": "b1589a93",
   "metadata": {},
   "outputs": [
    {
     "data": {
      "text/plain": [
       "0                     Hobbies\n",
       "1                     Hobbies\n",
       "2                     Hobbies\n",
       "3                     Hobbies\n",
       "4                     Hobbies\n",
       "                ...          \n",
       "9994                  Hobbies\n",
       "9995      Characters & Brands\n",
       "9996    Novelty & Special Use\n",
       "9997                  Hobbies\n",
       "9998      Characters & Brands\n",
       "Name: category, Length: 9999, dtype: object"
      ]
     },
     "execution_count": 1237,
     "metadata": {},
     "output_type": "execute_result"
    }
   ],
   "source": [
    "df['category']"
   ]
  },
  {
   "cell_type": "code",
   "execution_count": 1238,
   "id": "76f102b9",
   "metadata": {},
   "outputs": [
    {
     "name": "stdout",
     "output_type": "stream",
     "text": [
      "0    Rail Vehicles\n",
      "1    Rail Vehicles\n",
      "2    Rail Vehicles\n",
      "3    Rail Vehicles\n",
      "4    Rail Vehicles\n",
      "Name: sub_category_2, dtype: object\n"
     ]
    }
   ],
   "source": [
    "print(df['sub_category_2'].head())"
   ]
  },
  {
   "cell_type": "code",
   "execution_count": 1239,
   "id": "555d7e8e-471b-4e83-9e7c-4d6434db77f1",
   "metadata": {},
   "outputs": [
    {
     "name": "stdout",
     "output_type": "stream",
     "text": [
      "                            uniq_id  \\\n",
      "0  eac7efa5dbd3d667f26eb3d3ab504464   \n",
      "1  b17540ef7e86e461d37f3ae58b7b72ac   \n",
      "2  348f344247b0c1a935b1223072ef9d8a   \n",
      "3  e12b92dbb8eaee78b22965d2a9bbbd9f   \n",
      "4  e33a9adeed5f36840ccc227db4682a36   \n",
      "\n",
      "                                        product_name manufacturer  price  \\\n",
      "0                              Hornby 2014 Catalogue       Hornby   3.42   \n",
      "1  FunkyBuys® Large Christmas Holiday Express Fes...    FunkyBuys  16.99   \n",
      "2  CLASSIC TOY TRAIN SET TRACK CARRIAGES LIGHT EN...          ccf   9.99   \n",
      "3     HORNBY Coach R4410A BR Hawksworth Corridor 3rd       Hornby  39.99   \n",
      "4  Hornby 00 Gauge 0-4-0 Gildenlow Salt Co. Steam...       Hornby  32.19   \n",
      "\n",
      "  purchase_date   ship_date   ship_country number_of_reviews  \\\n",
      "0      6/4/2018   6/14/2018  United States                15   \n",
      "1     8/30/2022    9/2/2022  United States                 2   \n",
      "2      8/4/2020    8/6/2020  United States                17   \n",
      "3    10/27/2020  10/30/2020  United States                 1   \n",
      "4      2/3/2018    2/4/2018  United States                 3   \n",
      "\n",
      "   number_of_answered_questions  average_review_rating  ... condition  \\\n",
      "0                             1                    4.9  ...       new   \n",
      "1                             1                    4.5  ...   Unknown   \n",
      "2                             2                    3.9  ...       new   \n",
      "3                             2                    5.0  ...   Unknown   \n",
      "4                             2                    4.7  ...   Unknown   \n",
      "\n",
      "                                     review_text rating           date  \\\n",
      "0  Worth Buying For The Pictures Alone (As Ever)    4.0   6 April 2014   \n",
      "1                                     Four Stars    4.0   18 Dec. 2015   \n",
      "2                        **Highly Recommended!**    5.0    26 May 2015   \n",
      "3                                      I love it    5.0   22 July 2013   \n",
      "4                               Birthday present    5.0  14 April 2014   \n",
      "\n",
      "   customer_name                                        description category  \\\n",
      "0    Copnovelist  Technical Details Item Weight640 g Product Dim...  Hobbies   \n",
      "1   kenneth bell  Technical Details Manufacturer recommended age...  Hobbies   \n",
      "2    Simon.B :-)  Technical Details Manufacturer recommended age...  Hobbies   \n",
      "3   Lilla Lukacs  Technical Details Item Weight259 g Product Dim...  Hobbies   \n",
      "4    Love my Dog  Technical Details Item Weight159 g Product Dim...  Hobbies   \n",
      "\n",
      "                sub_category_1 sub_category_2 sub_category_3  \n",
      "0  Model Trains & Railway Sets  Rail Vehicles         Trains  \n",
      "1  Model Trains & Railway Sets  Rail Vehicles         Trains  \n",
      "2  Model Trains & Railway Sets  Rail Vehicles         Trains  \n",
      "3  Model Trains & Railway Sets  Rail Vehicles         Trains  \n",
      "4  Model Trains & Railway Sets  Rail Vehicles         Trains  \n",
      "\n",
      "[5 rows x 25 columns]\n"
     ]
    }
   ],
   "source": [
    "print(df.head())"
   ]
  },
  {
   "cell_type": "code",
   "execution_count": 1240,
   "id": "c0a24305",
   "metadata": {},
   "outputs": [],
   "source": [
    "df = pd.read_csv('amazon.csv')"
   ]
  },
  {
   "cell_type": "code",
   "execution_count": 1241,
   "id": "f1a107e6",
   "metadata": {},
   "outputs": [
    {
     "name": "stdout",
     "output_type": "stream",
     "text": [
      "0        5 new\n",
      "1            0\n",
      "2        2 new\n",
      "3            0\n",
      "4            0\n",
      "         ...  \n",
      "9994     5 new\n",
      "9995         0\n",
      "9996     3 new\n",
      "9997     3 new\n",
      "9998    31 new\n",
      "Name: number_available_in_stock, Length: 9999, dtype: object\n"
     ]
    },
    {
     "name": "stderr",
     "output_type": "stream",
     "text": [
      "/var/folders/d2/zqv2mpg17tzb0413h3b_jwb00000gn/T/ipykernel_52705/313368633.py:1: FutureWarning: A value is trying to be set on a copy of a DataFrame or Series through chained assignment using an inplace method.\n",
      "The behavior will change in pandas 3.0. This inplace method will never work because the intermediate object on which we are setting values always behaves as a copy.\n",
      "\n",
      "For example, when doing 'df[col].method(value, inplace=True)', try using 'df.method({col: value}, inplace=True)' or df[col] = df[col].method(value) instead, to perform the operation inplace on the original object.\n",
      "\n",
      "\n",
      "  df['number_available_in_stock'].fillna(0, inplace=True)\n"
     ]
    }
   ],
   "source": [
    "df['number_available_in_stock'].fillna(0, inplace=True)\n",
    "print(df['number_available_in_stock'])"
   ]
  },
  {
   "cell_type": "code",
   "execution_count": 1242,
   "id": "c41cbb6a",
   "metadata": {},
   "outputs": [
    {
     "name": "stderr",
     "output_type": "stream",
     "text": [
      "/var/folders/d2/zqv2mpg17tzb0413h3b_jwb00000gn/T/ipykernel_52705/2756258389.py:3: FutureWarning: A value is trying to be set on a copy of a DataFrame or Series through chained assignment using an inplace method.\n",
      "The behavior will change in pandas 3.0. This inplace method will never work because the intermediate object on which we are setting values always behaves as a copy.\n",
      "\n",
      "For example, when doing 'df[col].method(value, inplace=True)', try using 'df.method({col: value}, inplace=True)' or df[col] = df[col].method(value) instead, to perform the operation inplace on the original object.\n",
      "\n",
      "\n",
      "  df['condition'].fillna('', inplace=True)  # Fill NaN with empty string for rows with no condition\n"
     ]
    }
   ],
   "source": [
    "df['quantity'] = df['number_available_in_stock'].str.extract(r'^(\\d+)').fillna(0).astype(int)\n",
    "df['condition'] = df['number_available_in_stock'].str.extract(r'\\s(.*)')  # Extract condition if it exists\n",
    "df['condition'].fillna('', inplace=True)  # Fill NaN with empty string for rows with no condition\n",
    "\n"
   ]
  },
  {
   "cell_type": "code",
   "execution_count": 1243,
   "id": "f1c31474",
   "metadata": {},
   "outputs": [
    {
     "name": "stdout",
     "output_type": "stream",
     "text": [
      "      quantity condition\n",
      "0            5       new\n",
      "1            0          \n",
      "2            2       new\n",
      "3            0          \n",
      "4            0          \n",
      "...        ...       ...\n",
      "9994         5       new\n",
      "9995         0          \n",
      "9996         3       new\n",
      "9997         3       new\n",
      "9998        31       new\n",
      "\n",
      "[9999 rows x 2 columns]\n"
     ]
    }
   ],
   "source": [
    "print(df[['quantity', 'condition']])"
   ]
  },
  {
   "cell_type": "code",
   "execution_count": 1244,
   "id": "8e49fc4e",
   "metadata": {},
   "outputs": [
    {
     "data": {
      "text/plain": [
       "array(['new', '', 'used', 'collectible', 'refurbished'], dtype=object)"
      ]
     },
     "execution_count": 1244,
     "metadata": {},
     "output_type": "execute_result"
    }
   ],
   "source": [
    "df['condition'].unique()"
   ]
  },
  {
   "cell_type": "code",
   "execution_count": 1245,
   "id": "fe389d7d",
   "metadata": {},
   "outputs": [
    {
     "name": "stdout",
     "output_type": "stream",
     "text": [
      "     ship_country  country_id\n",
      "0   United States           1\n",
      "1          Canada           2\n",
      "2       Australia           3\n",
      "3  United Kingdom           4\n",
      "4         Germany           5\n",
      "5          France           6\n"
     ]
    }
   ],
   "source": [
    "unique_countries = df['ship_country'].drop_duplicates().reset_index(drop=True)\n",
    "unique_countries = pd.DataFrame(unique_countries, columns=['ship_country'])\n",
    "unique_countries['country_id'] = unique_countries.index + 1  # Generate unique IDs starting from 1\n",
    "\n",
    "# Create a country ID mapping\n",
    "country_mapping = dict(zip(unique_countries['ship_country'], unique_countries['country_id']))\n",
    "\n",
    "# Update product data\n",
    "df['country_id'] = df['ship_country'].map(country_mapping)\n",
    "df = df.drop(columns=['ship_country'])\n",
    "\n",
    "# Save the updated product DataFrame\n",
    "#df.to_csv('products_updated.csv', index=False)\n",
    "print(unique_countries)"
   ]
  },
  {
   "cell_type": "code",
   "execution_count": 1246,
   "id": "5f5fb0fc",
   "metadata": {},
   "outputs": [],
   "source": [
    "d_countries = unique_countries\n",
    "d_countries.rename(columns={'ship_country': 'country_name'}, inplace=True)\n"
   ]
  },
  {
   "cell_type": "code",
   "execution_count": 1247,
   "id": "5cc39862",
   "metadata": {},
   "outputs": [
    {
     "name": "stdout",
     "output_type": "stream",
     "text": [
      "<class 'pandas.core.frame.DataFrame'>\n",
      "RangeIndex: 9999 entries, 0 to 9998\n",
      "Data columns (total 21 columns):\n",
      " #   Column                                       Non-Null Count  Dtype  \n",
      "---  ------                                       --------------  -----  \n",
      " 0   uniq_id                                      9999 non-null   object \n",
      " 1   product_name                                 9999 non-null   object \n",
      " 2   manufacturer                                 9992 non-null   object \n",
      " 3   price                                        8565 non-null   object \n",
      " 4   purchase_date                                9999 non-null   object \n",
      " 5   ship_date                                    9999 non-null   object \n",
      " 6   number_available_in_stock                    9999 non-null   object \n",
      " 7   number_of_reviews                            9981 non-null   object \n",
      " 8   number_of_answered_questions                 9234 non-null   float64\n",
      " 9   average_review_rating                        9981 non-null   object \n",
      " 10  amazon_category_and_sub_category             9309 non-null   object \n",
      " 11  customers_who_bought_this_item_also_bought   8937 non-null   object \n",
      " 12  description                                  9348 non-null   object \n",
      " 13  product_information                          9941 non-null   object \n",
      " 14  product_description                          9348 non-null   object \n",
      " 15  items_customers_buy_after_viewing_this_item  6934 non-null   object \n",
      " 16  customer_questions_and_answers               913 non-null    object \n",
      " 17  customer_reviews                             9978 non-null   object \n",
      " 18  quantity                                     9999 non-null   int64  \n",
      " 19  condition                                    9999 non-null   object \n",
      " 20  country_id                                   9999 non-null   int64  \n",
      "dtypes: float64(1), int64(2), object(18)\n",
      "memory usage: 1.6+ MB\n",
      "None\n"
     ]
    }
   ],
   "source": [
    "print(df.info())"
   ]
  },
  {
   "cell_type": "code",
   "execution_count": 1248,
   "id": "45b009ae",
   "metadata": {},
   "outputs": [
    {
     "name": "stdout",
     "output_type": "stream",
     "text": [
      "<class 'pandas.core.frame.DataFrame'>\n",
      "RangeIndex: 1677 entries, 0 to 1676\n",
      "Data columns (total 4 columns):\n",
      " #   Column       Non-Null Count  Dtype \n",
      "---  ------       --------------  ----- \n",
      " 0   product_id   1677 non-null   object\n",
      " 1   question     1677 non-null   object\n",
      " 2   answer       1677 non-null   object\n",
      " 3   question_id  1677 non-null   int64 \n",
      "dtypes: int64(1), object(3)\n",
      "memory usage: 52.5+ KB\n",
      "None\n"
     ]
    }
   ],
   "source": [
    "def split_questions_and_answers(row):\n",
    "    if isinstance(row['customer_questions_and_answers'], str):\n",
    "        qa_pairs = row['customer_questions_and_answers'].split(' | ')\n",
    "        product_id = row['uniq_id']\n",
    "        return [{'product_id': product_id, 'question': qa.split(' // ')[0].strip(), 'answer': qa.split(' // ')[1].strip()} for qa in qa_pairs]\n",
    "    else:\n",
    "        return None\n",
    "\n",
    "# Apply the function to each row in the DataFrame\n",
    "qa_list = df.apply(split_questions_and_answers, axis=1).dropna().tolist()\n",
    "\n",
    "# Flatten the list of dictionaries into a DataFrame\n",
    "new_df = pd.DataFrame([item for sublist in qa_list for item in sublist])\n",
    "\n",
    "# Add the question_id column\n",
    "new_df['question_id'] = range(1, len(new_df) + 1)\n",
    "\n",
    "print(new_df.info())\n",
    "d_questions = new_df"
   ]
  },
  {
   "cell_type": "code",
   "execution_count": 1249,
   "id": "7226fb80",
   "metadata": {},
   "outputs": [
    {
     "name": "stdout",
     "output_type": "stream",
     "text": [
      "                               uniq_id  \\\n",
      "0     eac7efa5dbd3d667f26eb3d3ab504464   \n",
      "1     b17540ef7e86e461d37f3ae58b7b72ac   \n",
      "2     348f344247b0c1a935b1223072ef9d8a   \n",
      "3     e12b92dbb8eaee78b22965d2a9bbbd9f   \n",
      "4     e33a9adeed5f36840ccc227db4682a36   \n",
      "...                                ...   \n",
      "9994  44d6967f083825a5de36ad4865a65bcd   \n",
      "9995  08f0747b6fc6687215ffb994c3a6fb32   \n",
      "9996  bf6cc073f8f24e6e338190fa16f6ee9d   \n",
      "9997  cd783d0b8b44e631b9788b203eaaefae   \n",
      "9998  94d18e86e504bee1e392df7e5738b18a   \n",
      "\n",
      "                       amazon_category_and_sub_category  \n",
      "0     Hobbies > Model Trains & Railway Sets > Rail V...  \n",
      "1     Hobbies > Model Trains & Railway Sets > Rail V...  \n",
      "2     Hobbies > Model Trains & Railway Sets > Rail V...  \n",
      "3     Hobbies > Model Trains & Railway Sets > Rail V...  \n",
      "4     Hobbies > Model Trains & Railway Sets > Rail V...  \n",
      "...                                                 ...  \n",
      "9994  Hobbies > Collectible Figures & Memorabilia > ...  \n",
      "9995             Characters & Brands > Star Wars > Toys  \n",
      "9996  Novelty & Special Use > Novelty > Accessories ...  \n",
      "9997  Hobbies > Collectible Figures & Memorabilia > ...  \n",
      "9998             Characters & Brands > Star Wars > Toys  \n",
      "\n",
      "[9999 rows x 2 columns]\n"
     ]
    }
   ],
   "source": [
    "print(df[['uniq_id', 'amazon_category_and_sub_category']])"
   ]
  },
  {
   "cell_type": "code",
   "execution_count": 1250,
   "id": "69fb19f0",
   "metadata": {},
   "outputs": [
    {
     "name": "stdout",
     "output_type": "stream",
     "text": [
      "d_category DataFrame:\n",
      "                            product_id               Category\n",
      "0     eac7efa5dbd3d667f26eb3d3ab504464                Hobbies\n",
      "1     b17540ef7e86e461d37f3ae58b7b72ac                Hobbies\n",
      "2     348f344247b0c1a935b1223072ef9d8a                Hobbies\n",
      "3     e12b92dbb8eaee78b22965d2a9bbbd9f                Hobbies\n",
      "4     e33a9adeed5f36840ccc227db4682a36                Hobbies\n",
      "...                                ...                    ...\n",
      "9994  44d6967f083825a5de36ad4865a65bcd                Hobbies\n",
      "9995  08f0747b6fc6687215ffb994c3a6fb32    Characters & Brands\n",
      "9996  bf6cc073f8f24e6e338190fa16f6ee9d  Novelty & Special Use\n",
      "9997  cd783d0b8b44e631b9788b203eaaefae                Hobbies\n",
      "9998  94d18e86e504bee1e392df7e5738b18a    Characters & Brands\n",
      "\n",
      "[9999 rows x 2 columns]\n",
      "\n",
      "d_sub_category DataFrame:\n",
      "                            product_id                       Sub_Category  \\\n",
      "0     eac7efa5dbd3d667f26eb3d3ab504464        Model Trains & Railway Sets   \n",
      "1     b17540ef7e86e461d37f3ae58b7b72ac        Model Trains & Railway Sets   \n",
      "2     348f344247b0c1a935b1223072ef9d8a        Model Trains & Railway Sets   \n",
      "3     e12b92dbb8eaee78b22965d2a9bbbd9f        Model Trains & Railway Sets   \n",
      "4     e33a9adeed5f36840ccc227db4682a36        Model Trains & Railway Sets   \n",
      "...                                ...                                ...   \n",
      "9994  44d6967f083825a5de36ad4865a65bcd  Collectible Figures & Memorabilia   \n",
      "9995  08f0747b6fc6687215ffb994c3a6fb32                          Star Wars   \n",
      "9996  bf6cc073f8f24e6e338190fa16f6ee9d                            Novelty   \n",
      "9997  cd783d0b8b44e631b9788b203eaaefae  Collectible Figures & Memorabilia   \n",
      "9998  94d18e86e504bee1e392df7e5738b18a                          Star Wars   \n",
      "\n",
      "                     Sub_Sub_Category Sub_Sub_Sub_Category    id  \n",
      "0                       Rail Vehicles               Trains     1  \n",
      "1                       Rail Vehicles               Trains     2  \n",
      "2                       Rail Vehicles               Trains     3  \n",
      "3                       Rail Vehicles               Trains     4  \n",
      "4                       Rail Vehicles               Trains     5  \n",
      "...                               ...                  ...   ...  \n",
      "9994  Collectible Props & Memorabilia                 None  9995  \n",
      "9995                             Toys                 None  9996  \n",
      "9996                      Accessories       Buttons & Pins  9997  \n",
      "9997  Collectible Props & Memorabilia                 None  9998  \n",
      "9998                             Toys                 None  9999  \n",
      "\n",
      "[9999 rows x 5 columns]\n"
     ]
    }
   ],
   "source": [
    "df[['Category', 'Sub_Category', 'Sub_Sub_Category', 'Sub_Sub_Sub_Category']] = df['amazon_category_and_sub_category'].str.split(' > ', expand=True, n=3)\n",
    "\n",
    "# Create unique identifiers for subcategories\n",
    "df['Sub_Category_ID'] = df['Sub_Category'].factorize()[0] + 1\n",
    "df['Sub_Sub_Category_ID'] = df['Sub_Sub_Category'].factorize()[0] + 1\n",
    "df['Sub_Sub_Sub_Category_ID'] = df['Sub_Sub_Sub_Category'].factorize()[0] + 1\n",
    "\n",
    "# Create d_category DataFrame\n",
    "d_category = df[['uniq_id', 'Category']].drop_duplicates().reset_index(drop=True)\n",
    "d_category.rename(columns={'uniq_id': 'product_id'}, inplace=True)\n",
    "\n",
    "# Create d_sub_category DataFrame\n",
    "d_sub_category = df[['uniq_id', 'Sub_Category', 'Sub_Sub_Category', 'Sub_Sub_Sub_Category']].drop_duplicates().reset_index(drop=True)\n",
    "d_sub_category.rename(columns={'uniq_id': 'product_id'}, inplace=True)\n",
    "d_sub_category['id'] = d_sub_category.index + 1  # Add a primary key column\n",
    "\n",
    "# Display the new DataFrames\n",
    "print(\"d_category DataFrame:\")\n",
    "print(d_category)\n",
    "print(\"\\nd_sub_category DataFrame:\")\n",
    "print(d_sub_category)"
   ]
  },
  {
   "cell_type": "code",
   "execution_count": 1251,
   "id": "72c9ad88",
   "metadata": {},
   "outputs": [
    {
     "data": {
      "text/plain": [
       "Index(['uniq_id', 'product_name', 'manufacturer', 'price', 'purchase_date',\n",
       "       'ship_date', 'number_available_in_stock', 'number_of_reviews',\n",
       "       'number_of_answered_questions', 'average_review_rating',\n",
       "       'amazon_category_and_sub_category',\n",
       "       'customers_who_bought_this_item_also_bought', 'description',\n",
       "       'product_information', 'product_description',\n",
       "       'items_customers_buy_after_viewing_this_item',\n",
       "       'customer_questions_and_answers', 'customer_reviews', 'quantity',\n",
       "       'condition', 'country_id', 'Category', 'Sub_Category',\n",
       "       'Sub_Sub_Category', 'Sub_Sub_Sub_Category', 'Sub_Category_ID',\n",
       "       'Sub_Sub_Category_ID', 'Sub_Sub_Sub_Category_ID'],\n",
       "      dtype='object')"
      ]
     },
     "execution_count": 1251,
     "metadata": {},
     "output_type": "execute_result"
    }
   ],
   "source": [
    "df.columns"
   ]
  },
  {
   "cell_type": "code",
   "execution_count": 1252,
   "id": "e83979dd",
   "metadata": {},
   "outputs": [
    {
     "data": {
      "text/html": [
       "<div>\n",
       "<style scoped>\n",
       "    .dataframe tbody tr th:only-of-type {\n",
       "        vertical-align: middle;\n",
       "    }\n",
       "\n",
       "    .dataframe tbody tr th {\n",
       "        vertical-align: top;\n",
       "    }\n",
       "\n",
       "    .dataframe thead th {\n",
       "        text-align: right;\n",
       "    }\n",
       "</style>\n",
       "<table border=\"1\" class=\"dataframe\">\n",
       "  <thead>\n",
       "    <tr style=\"text-align: right;\">\n",
       "      <th></th>\n",
       "      <th>category</th>\n",
       "      <th>category_id</th>\n",
       "    </tr>\n",
       "  </thead>\n",
       "  <tbody>\n",
       "    <tr>\n",
       "      <th>0</th>\n",
       "      <td>Hobbies</td>\n",
       "      <td>1</td>\n",
       "    </tr>\n",
       "    <tr>\n",
       "      <th>1</th>\n",
       "      <td>NaN</td>\n",
       "      <td>2</td>\n",
       "    </tr>\n",
       "    <tr>\n",
       "      <th>2</th>\n",
       "      <td>Characters &amp; Brands</td>\n",
       "      <td>3</td>\n",
       "    </tr>\n",
       "    <tr>\n",
       "      <th>3</th>\n",
       "      <td>Fancy Dress</td>\n",
       "      <td>4</td>\n",
       "    </tr>\n",
       "    <tr>\n",
       "      <th>4</th>\n",
       "      <td>Bags</td>\n",
       "      <td>5</td>\n",
       "    </tr>\n",
       "    <tr>\n",
       "      <th>5</th>\n",
       "      <td>Arts &amp; Crafts</td>\n",
       "      <td>6</td>\n",
       "    </tr>\n",
       "    <tr>\n",
       "      <th>6</th>\n",
       "      <td>Handbags &amp; Shoulder Bags</td>\n",
       "      <td>7</td>\n",
       "    </tr>\n",
       "    <tr>\n",
       "      <th>7</th>\n",
       "      <td>Games</td>\n",
       "      <td>8</td>\n",
       "    </tr>\n",
       "    <tr>\n",
       "      <th>8</th>\n",
       "      <td>Figures &amp; Playsets</td>\n",
       "      <td>9</td>\n",
       "    </tr>\n",
       "    <tr>\n",
       "      <th>9</th>\n",
       "      <td>Home Accessories</td>\n",
       "      <td>10</td>\n",
       "    </tr>\n",
       "    <tr>\n",
       "      <th>10</th>\n",
       "      <td>Sweets, Chocolate &amp; Gum</td>\n",
       "      <td>11</td>\n",
       "    </tr>\n",
       "    <tr>\n",
       "      <th>11</th>\n",
       "      <td>Sports Toys &amp; Outdoor</td>\n",
       "      <td>12</td>\n",
       "    </tr>\n",
       "    <tr>\n",
       "      <th>12</th>\n",
       "      <td>Die-Cast &amp; Toy Vehicles</td>\n",
       "      <td>13</td>\n",
       "    </tr>\n",
       "    <tr>\n",
       "      <th>13</th>\n",
       "      <td>Baby &amp; Toddler Toys</td>\n",
       "      <td>14</td>\n",
       "    </tr>\n",
       "    <tr>\n",
       "      <th>14</th>\n",
       "      <td>Storage, Cleaning &amp; Ring Sizers</td>\n",
       "      <td>15</td>\n",
       "    </tr>\n",
       "    <tr>\n",
       "      <th>15</th>\n",
       "      <td>Bedding &amp; Linens</td>\n",
       "      <td>16</td>\n",
       "    </tr>\n",
       "    <tr>\n",
       "      <th>16</th>\n",
       "      <td>Office Supplies</td>\n",
       "      <td>17</td>\n",
       "    </tr>\n",
       "    <tr>\n",
       "      <th>17</th>\n",
       "      <td>Party Supplies</td>\n",
       "      <td>18</td>\n",
       "    </tr>\n",
       "    <tr>\n",
       "      <th>18</th>\n",
       "      <td>Camping &amp; Hiking</td>\n",
       "      <td>19</td>\n",
       "    </tr>\n",
       "    <tr>\n",
       "      <th>19</th>\n",
       "      <td>Pretend Play</td>\n",
       "      <td>20</td>\n",
       "    </tr>\n",
       "    <tr>\n",
       "      <th>20</th>\n",
       "      <td>Women</td>\n",
       "      <td>21</td>\n",
       "    </tr>\n",
       "    <tr>\n",
       "      <th>21</th>\n",
       "      <td>Electronic Toys</td>\n",
       "      <td>22</td>\n",
       "    </tr>\n",
       "    <tr>\n",
       "      <th>22</th>\n",
       "      <td>Car Parts</td>\n",
       "      <td>23</td>\n",
       "    </tr>\n",
       "    <tr>\n",
       "      <th>23</th>\n",
       "      <td>Dolls &amp; Accessories</td>\n",
       "      <td>24</td>\n",
       "    </tr>\n",
       "    <tr>\n",
       "      <th>24</th>\n",
       "      <td>Indoor Lighting</td>\n",
       "      <td>25</td>\n",
       "    </tr>\n",
       "    <tr>\n",
       "      <th>25</th>\n",
       "      <td>Educational Toys</td>\n",
       "      <td>26</td>\n",
       "    </tr>\n",
       "    <tr>\n",
       "      <th>26</th>\n",
       "      <td>Laundry, Storage &amp; Organisation</td>\n",
       "      <td>27</td>\n",
       "    </tr>\n",
       "    <tr>\n",
       "      <th>27</th>\n",
       "      <td>Supporters' Gear</td>\n",
       "      <td>28</td>\n",
       "    </tr>\n",
       "    <tr>\n",
       "      <th>28</th>\n",
       "      <td>Jams, Honey &amp; Spreads</td>\n",
       "      <td>29</td>\n",
       "    </tr>\n",
       "    <tr>\n",
       "      <th>29</th>\n",
       "      <td>Novelty &amp; Special Use</td>\n",
       "      <td>30</td>\n",
       "    </tr>\n",
       "    <tr>\n",
       "      <th>30</th>\n",
       "      <td>Musical Toy Instruments</td>\n",
       "      <td>31</td>\n",
       "    </tr>\n",
       "    <tr>\n",
       "      <th>31</th>\n",
       "      <td>Men</td>\n",
       "      <td>32</td>\n",
       "    </tr>\n",
       "    <tr>\n",
       "      <th>32</th>\n",
       "      <td>Sex &amp; Sensuality</td>\n",
       "      <td>33</td>\n",
       "    </tr>\n",
       "    <tr>\n",
       "      <th>33</th>\n",
       "      <td>Cooking &amp; Dining</td>\n",
       "      <td>34</td>\n",
       "    </tr>\n",
       "    <tr>\n",
       "      <th>34</th>\n",
       "      <td>Medication &amp; Remedies</td>\n",
       "      <td>35</td>\n",
       "    </tr>\n",
       "    <tr>\n",
       "      <th>35</th>\n",
       "      <td>Puppets &amp; Puppet Theatres</td>\n",
       "      <td>36</td>\n",
       "    </tr>\n",
       "    <tr>\n",
       "      <th>36</th>\n",
       "      <td>Jigsaws &amp; Puzzles</td>\n",
       "      <td>37</td>\n",
       "    </tr>\n",
       "    <tr>\n",
       "      <th>37</th>\n",
       "      <td>Dogs</td>\n",
       "      <td>38</td>\n",
       "    </tr>\n",
       "    <tr>\n",
       "      <th>38</th>\n",
       "      <td>Medical Supplies &amp; Equipment</td>\n",
       "      <td>39</td>\n",
       "    </tr>\n",
       "    <tr>\n",
       "      <th>39</th>\n",
       "      <td>Pens, Pencils &amp; Writing Supplies</td>\n",
       "      <td>40</td>\n",
       "    </tr>\n",
       "    <tr>\n",
       "      <th>40</th>\n",
       "      <td>Worlds Apart</td>\n",
       "      <td>41</td>\n",
       "    </tr>\n",
       "    <tr>\n",
       "      <th>41</th>\n",
       "      <td>Gardening</td>\n",
       "      <td>42</td>\n",
       "    </tr>\n",
       "    <tr>\n",
       "      <th>42</th>\n",
       "      <td>Lab &amp; Scientific Products</td>\n",
       "      <td>43</td>\n",
       "    </tr>\n",
       "    <tr>\n",
       "      <th>43</th>\n",
       "      <td>Novelty Jewellery</td>\n",
       "      <td>44</td>\n",
       "    </tr>\n",
       "  </tbody>\n",
       "</table>\n",
       "</div>"
      ],
      "text/plain": [
       "                            category  category_id\n",
       "0                            Hobbies            1\n",
       "1                                NaN            2\n",
       "2                Characters & Brands            3\n",
       "3                        Fancy Dress            4\n",
       "4                               Bags            5\n",
       "5                      Arts & Crafts            6\n",
       "6           Handbags & Shoulder Bags            7\n",
       "7                              Games            8\n",
       "8                 Figures & Playsets            9\n",
       "9                   Home Accessories           10\n",
       "10           Sweets, Chocolate & Gum           11\n",
       "11             Sports Toys & Outdoor           12\n",
       "12           Die-Cast & Toy Vehicles           13\n",
       "13               Baby & Toddler Toys           14\n",
       "14   Storage, Cleaning & Ring Sizers           15\n",
       "15                  Bedding & Linens           16\n",
       "16                   Office Supplies           17\n",
       "17                    Party Supplies           18\n",
       "18                  Camping & Hiking           19\n",
       "19                      Pretend Play           20\n",
       "20                             Women           21\n",
       "21                   Electronic Toys           22\n",
       "22                         Car Parts           23\n",
       "23               Dolls & Accessories           24\n",
       "24                   Indoor Lighting           25\n",
       "25                  Educational Toys           26\n",
       "26   Laundry, Storage & Organisation           27\n",
       "27                  Supporters' Gear           28\n",
       "28             Jams, Honey & Spreads           29\n",
       "29             Novelty & Special Use           30\n",
       "30           Musical Toy Instruments           31\n",
       "31                               Men           32\n",
       "32                  Sex & Sensuality           33\n",
       "33                  Cooking & Dining           34\n",
       "34             Medication & Remedies           35\n",
       "35         Puppets & Puppet Theatres           36\n",
       "36                 Jigsaws & Puzzles           37\n",
       "37                              Dogs           38\n",
       "38      Medical Supplies & Equipment           39\n",
       "39  Pens, Pencils & Writing Supplies           40\n",
       "40                      Worlds Apart           41\n",
       "41                         Gardening           42\n",
       "42         Lab & Scientific Products           43\n",
       "43                 Novelty Jewellery           44"
      ]
     },
     "execution_count": 1252,
     "metadata": {},
     "output_type": "execute_result"
    }
   ],
   "source": [
    "unique_categories = df['Category'].unique()\n",
    "d_categories1 = pd.DataFrame(unique_categories, columns=['category'])\n",
    "\n",
    "# Step 2: Assign category_id starting from 1\n",
    "d_categories1['category_id'] = range(1, len(d_categories1) + 1)\n",
    "\n",
    "# Optional: Reset index if needed\n",
    "d_categories1.reset_index(drop=True, inplace=True)\n",
    "\n",
    "d_categories1\n"
   ]
  },
  {
   "cell_type": "code",
   "execution_count": 1253,
   "id": "cbbcf4a8",
   "metadata": {},
   "outputs": [
    {
     "name": "stdout",
     "output_type": "stream",
     "text": [
      "<class 'pandas.core.frame.DataFrame'>\n",
      "RangeIndex: 9999 entries, 0 to 9998\n",
      "Data columns (total 28 columns):\n",
      " #   Column                                       Non-Null Count  Dtype  \n",
      "---  ------                                       --------------  -----  \n",
      " 0   uniq_id                                      9999 non-null   object \n",
      " 1   product_name                                 9999 non-null   object \n",
      " 2   manufacturer                                 9992 non-null   object \n",
      " 3   price                                        8565 non-null   object \n",
      " 4   purchase_date                                9999 non-null   object \n",
      " 5   ship_date                                    9999 non-null   object \n",
      " 6   number_available_in_stock                    9999 non-null   object \n",
      " 7   number_of_reviews                            9981 non-null   object \n",
      " 8   number_of_answered_questions                 9234 non-null   float64\n",
      " 9   average_review_rating                        9981 non-null   object \n",
      " 10  amazon_category_and_sub_category             9309 non-null   object \n",
      " 11  customers_who_bought_this_item_also_bought   8937 non-null   object \n",
      " 12  description                                  9348 non-null   object \n",
      " 13  product_information                          9941 non-null   object \n",
      " 14  product_description                          9348 non-null   object \n",
      " 15  items_customers_buy_after_viewing_this_item  6934 non-null   object \n",
      " 16  customer_questions_and_answers               913 non-null    object \n",
      " 17  customer_reviews                             9978 non-null   object \n",
      " 18  quantity                                     9999 non-null   int64  \n",
      " 19  condition                                    9999 non-null   object \n",
      " 20  country_id                                   9999 non-null   int64  \n",
      " 21  Category                                     9309 non-null   object \n",
      " 22  Sub_Category                                 9309 non-null   object \n",
      " 23  Sub_Sub_Category                             5386 non-null   object \n",
      " 24  Sub_Sub_Sub_Category                         1397 non-null   object \n",
      " 25  Sub_Category_ID                              9999 non-null   int64  \n",
      " 26  Sub_Sub_Category_ID                          9999 non-null   int64  \n",
      " 27  Sub_Sub_Sub_Category_ID                      9999 non-null   int64  \n",
      "dtypes: float64(1), int64(5), object(22)\n",
      "memory usage: 2.1+ MB\n"
     ]
    }
   ],
   "source": [
    "df.info()"
   ]
  },
  {
   "cell_type": "code",
   "execution_count": 1254,
   "id": "ca6924eb",
   "metadata": {},
   "outputs": [
    {
     "name": "stdout",
     "output_type": "stream",
     "text": [
      "                            product_id               Category\n",
      "0     eac7efa5dbd3d667f26eb3d3ab504464                Hobbies\n",
      "1     b17540ef7e86e461d37f3ae58b7b72ac                Hobbies\n",
      "2     348f344247b0c1a935b1223072ef9d8a                Hobbies\n",
      "3     e12b92dbb8eaee78b22965d2a9bbbd9f                Hobbies\n",
      "4     e33a9adeed5f36840ccc227db4682a36                Hobbies\n",
      "...                                ...                    ...\n",
      "9994  44d6967f083825a5de36ad4865a65bcd                Hobbies\n",
      "9995  08f0747b6fc6687215ffb994c3a6fb32    Characters & Brands\n",
      "9996  bf6cc073f8f24e6e338190fa16f6ee9d  Novelty & Special Use\n",
      "9997  cd783d0b8b44e631b9788b203eaaefae                Hobbies\n",
      "9998  94d18e86e504bee1e392df7e5738b18a    Characters & Brands\n",
      "\n",
      "[9999 rows x 2 columns]\n"
     ]
    }
   ],
   "source": [
    "print(d_category)"
   ]
  },
  {
   "cell_type": "code",
   "execution_count": 1255,
   "id": "69c5ad00",
   "metadata": {},
   "outputs": [
    {
     "name": "stderr",
     "output_type": "stream",
     "text": [
      "/var/folders/d2/zqv2mpg17tzb0413h3b_jwb00000gn/T/ipykernel_52705/2172223898.py:1: FutureWarning: A value is trying to be set on a copy of a DataFrame or Series through chained assignment using an inplace method.\n",
      "The behavior will change in pandas 3.0. This inplace method will never work because the intermediate object on which we are setting values always behaves as a copy.\n",
      "\n",
      "For example, when doing 'df[col].method(value, inplace=True)', try using 'df.method({col: value}, inplace=True)' or df[col] = df[col].method(value) instead, to perform the operation inplace on the original object.\n",
      "\n",
      "\n",
      "  df['manufacturer'].replace({None: 'Unknown', '': 'Unknown'}, inplace=True)\n"
     ]
    },
    {
     "name": "stdout",
     "output_type": "stream",
     "text": [
      "      manufacturer_id manufacturer_name\n",
      "0                   1            Hornby\n",
      "1                   2         FunkyBuys\n",
      "2                   3               ccf\n",
      "3                   4           Generic\n",
      "4                   5       Chuggington\n",
      "...               ...               ...\n",
      "2646             2647          Feldherr\n",
      "2647             2648               GGS\n",
      "2648             2649   Captain america\n",
      "2649             2650           IronMan\n",
      "2650             2651      Super Heroes\n",
      "\n",
      "[2651 rows x 2 columns]\n"
     ]
    }
   ],
   "source": [
    "df['manufacturer'].replace({None: 'Unknown', '': 'Unknown'}, inplace=True)\n",
    "\n",
    "# Drop duplicates and keep only unique manufacturers\n",
    "unique_manufacturers = df['manufacturer'].drop_duplicates().reset_index(drop=True)\n",
    "\n",
    "# Create a new DataFrame with manufacturer_id\n",
    "d_manufacturers = pd.DataFrame({\n",
    "    'manufacturer_id': range(1, len(unique_manufacturers) + 1),\n",
    "    'manufacturer_name': unique_manufacturers\n",
    "})\n",
    "\n",
    "# Print the new DataFrame\n",
    "print(d_manufacturers)"
   ]
  },
  {
   "cell_type": "code",
   "execution_count": 1256,
   "id": "5ca2ef75",
   "metadata": {},
   "outputs": [
    {
     "name": "stdout",
     "output_type": "stream",
     "text": [
      "['Hornby' 'FunkyBuys' 'ccf' ... 'Captain america' 'IronMan' 'Super Heroes']\n"
     ]
    }
   ],
   "source": [
    "print(df['manufacturer'].unique())"
   ]
  },
  {
   "cell_type": "code",
   "execution_count": 1257,
   "id": "c4eb7639",
   "metadata": {},
   "outputs": [],
   "source": [
    "unique_manufacturers = df['manufacturer'].drop_duplicates().reset_index(drop=True)\n",
    "unique_manufacturers = pd.DataFrame(unique_manufacturers, columns=['manufacturer_name'])"
   ]
  },
  {
   "cell_type": "code",
   "execution_count": 1258,
   "id": "0a07020f",
   "metadata": {},
   "outputs": [
    {
     "name": "stdout",
     "output_type": "stream",
     "text": [
      "0       Worth Buying For The Pictures Alone (As Ever) ...\n",
      "1       Four Stars // 4.0 // 18 Dec. 2015 // By\\n    \\...\n",
      "2       **Highly Recommended!** // 5.0 // 26 May 2015 ...\n",
      "3       I love it // 5.0 // 22 July 2013 // By\\n    \\n...\n",
      "4       Birthday present // 5.0 // 14 April 2014 // By...\n",
      "                              ...                        \n",
      "9994    Realistic // 5.0 // 31 Mar. 2014 // By\\n    \\n...\n",
      "9995    ... what I see my grandson us going to have fu...\n",
      "9996    Five Stars // 5.0 // 18 Dec. 2015 // By\\n    \\...\n",
      "9997    The best sculpt in a while // 5.0 // 13 May 20...\n",
      "9998    Gold leader // 5.0 // 31 Aug. 2015 // By\\n    ...\n",
      "Name: customer_reviews, Length: 9999, dtype: object\n"
     ]
    }
   ],
   "source": [
    "print(df['customer_reviews'])"
   ]
  },
  {
   "cell_type": "code",
   "execution_count": 1259,
   "id": "4d6c6648",
   "metadata": {},
   "outputs": [],
   "source": [
    "import re"
   ]
  },
  {
   "cell_type": "code",
   "execution_count": 1260,
   "id": "0abad578",
   "metadata": {},
   "outputs": [
    {
     "name": "stdout",
     "output_type": "stream",
     "text": [
      "                                             review  rating review_date  \\\n",
      "0     Worth Buying For The Pictures Alone (As Ever)     4.0  2014-04-06   \n",
      "1                                              None     NaN         NaT   \n",
      "2                           **Highly Recommended!**     5.0  2015-05-26   \n",
      "3                                         I love it     5.0  2013-07-22   \n",
      "4                                  Birthday present     5.0  2014-04-14   \n",
      "...                                             ...     ...         ...   \n",
      "9994                                           None     NaN         NaT   \n",
      "9995                                           None     NaN         NaT   \n",
      "9996                                           None     NaN         NaT   \n",
      "9997                     The best sculpt in a while     5.0  2010-05-13   \n",
      "9998                                           None     NaN         NaT   \n",
      "\n",
      "            author                        product_id  \n",
      "0      Copnovelist  eac7efa5dbd3d667f26eb3d3ab504464  \n",
      "1             None  b17540ef7e86e461d37f3ae58b7b72ac  \n",
      "2      Simon.B :-)  348f344247b0c1a935b1223072ef9d8a  \n",
      "3     Lilla Lukacs  e12b92dbb8eaee78b22965d2a9bbbd9f  \n",
      "4      Love my Dog  e33a9adeed5f36840ccc227db4682a36  \n",
      "...            ...                               ...  \n",
      "9994          None  44d6967f083825a5de36ad4865a65bcd  \n",
      "9995          None  08f0747b6fc6687215ffb994c3a6fb32  \n",
      "9996          None  bf6cc073f8f24e6e338190fa16f6ee9d  \n",
      "9997     Sodam Yat  cd783d0b8b44e631b9788b203eaaefae  \n",
      "9998          None  94d18e86e504bee1e392df7e5738b18a  \n",
      "\n",
      "[9999 rows x 5 columns]\n"
     ]
    }
   ],
   "source": [
    "def parse_review(review):\n",
    "    if not isinstance(review, str):\n",
    "        return pd.Series([None, None, None, None])\n",
    "    \n",
    "    # Improved regex to better capture author details\n",
    "    match = re.match(r'(.+?) // (\\d+\\.\\d+) // (\\d{1,2} \\w+ \\d{4}) // By\\s*(.+?)(?:\\n|$)', review, re.DOTALL)\n",
    "    if match:\n",
    "        review_text, rating, date, author = match.groups()\n",
    "        return pd.Series([review_text.strip(), float(rating), date.strip(), author.strip()])\n",
    "    else:\n",
    "        return pd.Series([None, None, None, None])\n",
    "\n",
    "# Convert all entries to strings\n",
    "df['customer_reviews'] = df['customer_reviews'].astype(str)\n",
    "\n",
    "# Apply function to the DataFrame\n",
    "d_reviews = df['customer_reviews'].apply(parse_review)\n",
    "d_reviews.columns = ['review', 'rating', 'review_date', 'author']\n",
    "\n",
    "# Add product_id column to d_reviews\n",
    "d_reviews['product_id'] = df['uniq_id']\n",
    "d_reviews['review_date'] = pd.to_datetime(d_reviews['review_date'], format='%d %B %Y', errors='coerce')\n",
    "\n",
    "print(d_reviews)"
   ]
  },
  {
   "cell_type": "code",
   "execution_count": 1261,
   "id": "9820a69b",
   "metadata": {},
   "outputs": [],
   "source": [
    "from textblob import TextBlob\n",
    "\n",
    "def get_sentiment(review):\n",
    "    review = str(review)\n",
    "    analysis = TextBlob(review)\n",
    "    return analysis.sentiment.polarity\n",
    "\n",
    "d_reviews1 = pd.DataFrame({\n",
    "    'review_id': range(1, len(d_reviews) + 1),\n",
    "    'product_id': d_reviews['product_id'],\n",
    "    'review': d_reviews['review'],\n",
    "    'rating': d_reviews['rating'],\n",
    "    'customer_id': d_reviews['author'].astype('category').cat.codes+1,\n",
    "    'review_date': d_reviews['review_date'],\n",
    "    'sentiment_score': d_reviews['review'].apply(get_sentiment)\n",
    "\n",
    "})\n",
    "\n",
    "d_reviews1['customer_id'] = d_reviews1['customer_id'] + 1"
   ]
  },
  {
   "cell_type": "code",
   "execution_count": 1262,
   "id": "588889df",
   "metadata": {},
   "outputs": [
    {
     "data": {
      "text/html": [
       "<div>\n",
       "<style scoped>\n",
       "    .dataframe tbody tr th:only-of-type {\n",
       "        vertical-align: middle;\n",
       "    }\n",
       "\n",
       "    .dataframe tbody tr th {\n",
       "        vertical-align: top;\n",
       "    }\n",
       "\n",
       "    .dataframe thead th {\n",
       "        text-align: right;\n",
       "    }\n",
       "</style>\n",
       "<table border=\"1\" class=\"dataframe\">\n",
       "  <thead>\n",
       "    <tr style=\"text-align: right;\">\n",
       "      <th></th>\n",
       "      <th>review</th>\n",
       "      <th>sentiment_score</th>\n",
       "    </tr>\n",
       "  </thead>\n",
       "  <tbody>\n",
       "    <tr>\n",
       "      <th>2182</th>\n",
       "      <td>Excellent toy!</td>\n",
       "      <td>1.000</td>\n",
       "    </tr>\n",
       "    <tr>\n",
       "      <th>3873</th>\n",
       "      <td>Excellent</td>\n",
       "      <td>1.000</td>\n",
       "    </tr>\n",
       "    <tr>\n",
       "      <th>7457</th>\n",
       "      <td>excellent.</td>\n",
       "      <td>1.000</td>\n",
       "    </tr>\n",
       "    <tr>\n",
       "      <th>3683</th>\n",
       "      <td>Excellent but not for beginners.</td>\n",
       "      <td>1.000</td>\n",
       "    </tr>\n",
       "    <tr>\n",
       "      <th>7543</th>\n",
       "      <td>awesome</td>\n",
       "      <td>1.000</td>\n",
       "    </tr>\n",
       "    <tr>\n",
       "      <th>...</th>\n",
       "      <td>...</td>\n",
       "      <td>...</td>\n",
       "    </tr>\n",
       "    <tr>\n",
       "      <th>9338</th>\n",
       "      <td>and my grandson was hugely disappointed.</td>\n",
       "      <td>-0.750</td>\n",
       "    </tr>\n",
       "    <tr>\n",
       "      <th>9301</th>\n",
       "      <td>disappointed</td>\n",
       "      <td>-0.750</td>\n",
       "    </tr>\n",
       "    <tr>\n",
       "      <th>2681</th>\n",
       "      <td>Match Attax 2012/2013 Topps - 17 Base Card TEA...</td>\n",
       "      <td>-0.800</td>\n",
       "    </tr>\n",
       "    <tr>\n",
       "      <th>1369</th>\n",
       "      <td>Very Disappointed</td>\n",
       "      <td>-0.975</td>\n",
       "    </tr>\n",
       "    <tr>\n",
       "      <th>7038</th>\n",
       "      <td>Beware the base!</td>\n",
       "      <td>-1.000</td>\n",
       "    </tr>\n",
       "  </tbody>\n",
       "</table>\n",
       "<p>9999 rows × 2 columns</p>\n",
       "</div>"
      ],
      "text/plain": [
       "                                                 review  sentiment_score\n",
       "2182                                     Excellent toy!            1.000\n",
       "3873                                          Excellent            1.000\n",
       "7457                                         excellent.            1.000\n",
       "3683                   Excellent but not for beginners.            1.000\n",
       "7543                                            awesome            1.000\n",
       "...                                                 ...              ...\n",
       "9338           and my grandson was hugely disappointed.           -0.750\n",
       "9301                                       disappointed           -0.750\n",
       "2681  Match Attax 2012/2013 Topps - 17 Base Card TEA...           -0.800\n",
       "1369                                  Very Disappointed           -0.975\n",
       "7038                                   Beware the base!           -1.000\n",
       "\n",
       "[9999 rows x 2 columns]"
      ]
     },
     "execution_count": 1262,
     "metadata": {},
     "output_type": "execute_result"
    }
   ],
   "source": [
    "d_reviews1[['review', 'sentiment_score']].sort_values(by='sentiment_score', ascending=False)\n"
   ]
  },
  {
   "cell_type": "code",
   "execution_count": 1263,
   "id": "4bc3c46a",
   "metadata": {},
   "outputs": [
    {
     "name": "stdout",
     "output_type": "stream",
     "text": [
      "<class 'pandas.core.frame.DataFrame'>\n",
      "RangeIndex: 9999 entries, 0 to 9998\n",
      "Data columns (total 28 columns):\n",
      " #   Column                                       Non-Null Count  Dtype  \n",
      "---  ------                                       --------------  -----  \n",
      " 0   uniq_id                                      9999 non-null   object \n",
      " 1   product_name                                 9999 non-null   object \n",
      " 2   manufacturer                                 9999 non-null   object \n",
      " 3   price                                        8565 non-null   object \n",
      " 4   purchase_date                                9999 non-null   object \n",
      " 5   ship_date                                    9999 non-null   object \n",
      " 6   number_available_in_stock                    9999 non-null   object \n",
      " 7   number_of_reviews                            9981 non-null   object \n",
      " 8   number_of_answered_questions                 9234 non-null   float64\n",
      " 9   average_review_rating                        9981 non-null   object \n",
      " 10  amazon_category_and_sub_category             9309 non-null   object \n",
      " 11  customers_who_bought_this_item_also_bought   8937 non-null   object \n",
      " 12  description                                  9348 non-null   object \n",
      " 13  product_information                          9941 non-null   object \n",
      " 14  product_description                          9348 non-null   object \n",
      " 15  items_customers_buy_after_viewing_this_item  6934 non-null   object \n",
      " 16  customer_questions_and_answers               913 non-null    object \n",
      " 17  customer_reviews                             9999 non-null   object \n",
      " 18  quantity                                     9999 non-null   int64  \n",
      " 19  condition                                    9999 non-null   object \n",
      " 20  country_id                                   9999 non-null   int64  \n",
      " 21  Category                                     9309 non-null   object \n",
      " 22  Sub_Category                                 9309 non-null   object \n",
      " 23  Sub_Sub_Category                             5386 non-null   object \n",
      " 24  Sub_Sub_Sub_Category                         1397 non-null   object \n",
      " 25  Sub_Category_ID                              9999 non-null   int64  \n",
      " 26  Sub_Sub_Category_ID                          9999 non-null   int64  \n",
      " 27  Sub_Sub_Sub_Category_ID                      9999 non-null   int64  \n",
      "dtypes: float64(1), int64(5), object(22)\n",
      "memory usage: 2.1+ MB\n",
      "None\n"
     ]
    }
   ],
   "source": [
    "print(df.info())"
   ]
  },
  {
   "cell_type": "code",
   "execution_count": 1264,
   "id": "05ee8d83",
   "metadata": {},
   "outputs": [
    {
     "data": {
      "text/plain": [
       "array([ 5,  0,  2,  3,  4,  1,  6, 18, 12, 26, 37, 35, 22, 11, 16, 31,  9,\n",
       "       29, 33,  7, 15, 13, 19, 27, 10, 39, 23, 38,  8, 17, 34, 30, 21, 14,\n",
       "       32, 20, 43, 25, 24, 41, 47, 73, 58, 49, 36, 72, 40, 28, 69, 44, 55,\n",
       "       56, 52, 71, 86, 60, 92, 65, 74, 50, 63, 78, 51, 53, 64, 48, 57, 42,\n",
       "       46, 54, 59, 66, 45, 62, 70])"
      ]
     },
     "execution_count": 1264,
     "metadata": {},
     "output_type": "execute_result"
    }
   ],
   "source": [
    "df['quantity'].unique()"
   ]
  },
  {
   "cell_type": "code",
   "execution_count": 1265,
   "id": "7b0ec89d",
   "metadata": {},
   "outputs": [
    {
     "name": "stdout",
     "output_type": "stream",
     "text": [
      "         author  customer_id\n",
      "0   Copnovelist            1\n",
      "1          None            2\n",
      "2   Simon.B :-)            3\n",
      "3  Lilla Lukacs            4\n",
      "4   Love my Dog            5\n"
     ]
    }
   ],
   "source": [
    "# Create d_customers DataFrame\n",
    "d_customers = pd.DataFrame({'author': d_reviews['author'].unique()})\n",
    "d_customers['customer_id'] = range(1, len(d_customers) + 1)\n",
    "\n",
    "print(d_customers.head())"
   ]
  },
  {
   "cell_type": "code",
   "execution_count": 1266,
   "id": "43b71d29",
   "metadata": {},
   "outputs": [],
   "source": [
    "d_customers.rename(columns={'author': 'customer_name'}, inplace=True)\n"
   ]
  },
  {
   "cell_type": "code",
   "execution_count": 1267,
   "id": "d6a756a6",
   "metadata": {},
   "outputs": [
    {
     "name": "stdout",
     "output_type": "stream",
     "text": [
      "                                     customer_name  customer_id\n",
      "0                                      Copnovelist            1\n",
      "1                                             None            2\n",
      "2                                      Simon.B :-)            3\n",
      "3                                     Lilla Lukacs            4\n",
      "4                                      Love my Dog            5\n",
      "...                                            ...          ...\n",
      "3242                                         fumps         3243\n",
      "3243                                          Robo         3244\n",
      "3244  Margie Greyvenstein author of  'Masked Gods'         3245\n",
      "3245                                        Jay B.         3246\n",
      "3246                                     Sodam Yat         3247\n",
      "\n",
      "[3247 rows x 2 columns]\n"
     ]
    }
   ],
   "source": [
    "print(d_customers)"
   ]
  },
  {
   "cell_type": "code",
   "execution_count": 1268,
   "id": "9223bab8",
   "metadata": {},
   "outputs": [
    {
     "data": {
      "text/plain": [
       "Index(['review', 'rating', 'review_date', 'author', 'product_id'], dtype='object')"
      ]
     },
     "execution_count": 1268,
     "metadata": {},
     "output_type": "execute_result"
    }
   ],
   "source": [
    "d_reviews.columns"
   ]
  },
  {
   "cell_type": "code",
   "execution_count": 1269,
   "id": "4e9c847d",
   "metadata": {},
   "outputs": [
    {
     "name": "stdout",
     "output_type": "stream",
     "text": [
      "     condition  condition_id\n",
      "0          new             1\n",
      "1                          2\n",
      "2         used             3\n",
      "3  collectible             4\n",
      "4  refurbished             5\n"
     ]
    }
   ],
   "source": [
    "conditions = pd.DataFrame({'condition': df['condition'].unique()})\n",
    "conditions['condition_id'] = range(1, len(conditions) + 1)\n",
    "\n",
    "# Print the DataFrame\n",
    "print(conditions.head())"
   ]
  },
  {
   "cell_type": "code",
   "execution_count": 1270,
   "id": "661d3cf8",
   "metadata": {},
   "outputs": [],
   "source": [
    "d_conditions = conditions"
   ]
  },
  {
   "cell_type": "code",
   "execution_count": 1271,
   "id": "d8b3b5ea",
   "metadata": {},
   "outputs": [
    {
     "name": "stdout",
     "output_type": "stream",
     "text": [
      "SQLAlchemy version: 2.0.31\n",
      "PyMySQL version: 1.4.6\n"
     ]
    }
   ],
   "source": [
    "import sqlalchemy\n",
    "import pymysql\n",
    "\n",
    "print(f\"SQLAlchemy version: {sqlalchemy.__version__}\")\n",
    "print(f\"PyMySQL version: {pymysql.__version__}\")\n"
   ]
  },
  {
   "cell_type": "code",
   "execution_count": 1272,
   "id": "3e7968d6",
   "metadata": {},
   "outputs": [
    {
     "name": "stdout",
     "output_type": "stream",
     "text": [
      "                                     customer_name  customer_id\n",
      "0                                      Copnovelist            1\n",
      "1                                             None            2\n",
      "2                                      Simon.B :-)            3\n",
      "3                                     Lilla Lukacs            4\n",
      "4                                      Love my Dog            5\n",
      "...                                            ...          ...\n",
      "3242                                         fumps         3243\n",
      "3243                                          Robo         3244\n",
      "3244  Margie Greyvenstein author of  'Masked Gods'         3245\n",
      "3245                                        Jay B.         3246\n",
      "3246                                     Sodam Yat         3247\n",
      "\n",
      "[3247 rows x 2 columns]\n"
     ]
    }
   ],
   "source": [
    "print(d_customers)"
   ]
  },
  {
   "cell_type": "code",
   "execution_count": 1273,
   "id": "498a1034",
   "metadata": {},
   "outputs": [
    {
     "data": {
      "text/html": [
       "<div>\n",
       "<style scoped>\n",
       "    .dataframe tbody tr th:only-of-type {\n",
       "        vertical-align: middle;\n",
       "    }\n",
       "\n",
       "    .dataframe tbody tr th {\n",
       "        vertical-align: top;\n",
       "    }\n",
       "\n",
       "    .dataframe thead th {\n",
       "        text-align: right;\n",
       "    }\n",
       "</style>\n",
       "<table border=\"1\" class=\"dataframe\">\n",
       "  <thead>\n",
       "    <tr style=\"text-align: right;\">\n",
       "      <th></th>\n",
       "      <th>uniq_id</th>\n",
       "      <th>product_name</th>\n",
       "      <th>manufacturer</th>\n",
       "      <th>price</th>\n",
       "      <th>purchase_date</th>\n",
       "      <th>ship_date</th>\n",
       "      <th>number_available_in_stock</th>\n",
       "      <th>number_of_reviews</th>\n",
       "      <th>number_of_answered_questions</th>\n",
       "      <th>average_review_rating</th>\n",
       "      <th>...</th>\n",
       "      <th>quantity</th>\n",
       "      <th>condition</th>\n",
       "      <th>country_id</th>\n",
       "      <th>Category</th>\n",
       "      <th>Sub_Category</th>\n",
       "      <th>Sub_Sub_Category</th>\n",
       "      <th>Sub_Sub_Sub_Category</th>\n",
       "      <th>Sub_Category_ID</th>\n",
       "      <th>Sub_Sub_Category_ID</th>\n",
       "      <th>Sub_Sub_Sub_Category_ID</th>\n",
       "    </tr>\n",
       "  </thead>\n",
       "  <tbody>\n",
       "    <tr>\n",
       "      <th>0</th>\n",
       "      <td>eac7efa5dbd3d667f26eb3d3ab504464</td>\n",
       "      <td>Hornby 2014 Catalogue</td>\n",
       "      <td>Hornby</td>\n",
       "      <td>£3.42</td>\n",
       "      <td>6/4/2018</td>\n",
       "      <td>6/14/2018</td>\n",
       "      <td>5 new</td>\n",
       "      <td>15</td>\n",
       "      <td>1.0</td>\n",
       "      <td>4.9 out of 5 stars</td>\n",
       "      <td>...</td>\n",
       "      <td>5</td>\n",
       "      <td>new</td>\n",
       "      <td>1</td>\n",
       "      <td>Hobbies</td>\n",
       "      <td>Model Trains &amp; Railway Sets</td>\n",
       "      <td>Rail Vehicles</td>\n",
       "      <td>Trains</td>\n",
       "      <td>1</td>\n",
       "      <td>1</td>\n",
       "      <td>1</td>\n",
       "    </tr>\n",
       "    <tr>\n",
       "      <th>1</th>\n",
       "      <td>b17540ef7e86e461d37f3ae58b7b72ac</td>\n",
       "      <td>FunkyBuys® Large Christmas Holiday Express Fes...</td>\n",
       "      <td>FunkyBuys</td>\n",
       "      <td>£16.99</td>\n",
       "      <td>8/30/2022</td>\n",
       "      <td>9/2/2022</td>\n",
       "      <td>0</td>\n",
       "      <td>2</td>\n",
       "      <td>1.0</td>\n",
       "      <td>4.5 out of 5 stars</td>\n",
       "      <td>...</td>\n",
       "      <td>0</td>\n",
       "      <td></td>\n",
       "      <td>1</td>\n",
       "      <td>Hobbies</td>\n",
       "      <td>Model Trains &amp; Railway Sets</td>\n",
       "      <td>Rail Vehicles</td>\n",
       "      <td>Trains</td>\n",
       "      <td>1</td>\n",
       "      <td>1</td>\n",
       "      <td>1</td>\n",
       "    </tr>\n",
       "    <tr>\n",
       "      <th>2</th>\n",
       "      <td>348f344247b0c1a935b1223072ef9d8a</td>\n",
       "      <td>CLASSIC TOY TRAIN SET TRACK CARRIAGES LIGHT EN...</td>\n",
       "      <td>ccf</td>\n",
       "      <td>£9.99</td>\n",
       "      <td>8/4/2020</td>\n",
       "      <td>8/6/2020</td>\n",
       "      <td>2 new</td>\n",
       "      <td>17</td>\n",
       "      <td>2.0</td>\n",
       "      <td>3.9 out of 5 stars</td>\n",
       "      <td>...</td>\n",
       "      <td>2</td>\n",
       "      <td>new</td>\n",
       "      <td>1</td>\n",
       "      <td>Hobbies</td>\n",
       "      <td>Model Trains &amp; Railway Sets</td>\n",
       "      <td>Rail Vehicles</td>\n",
       "      <td>Trains</td>\n",
       "      <td>1</td>\n",
       "      <td>1</td>\n",
       "      <td>1</td>\n",
       "    </tr>\n",
       "    <tr>\n",
       "      <th>3</th>\n",
       "      <td>e12b92dbb8eaee78b22965d2a9bbbd9f</td>\n",
       "      <td>HORNBY Coach R4410A BR Hawksworth Corridor 3rd</td>\n",
       "      <td>Hornby</td>\n",
       "      <td>£39.99</td>\n",
       "      <td>10/27/2020</td>\n",
       "      <td>10/30/2020</td>\n",
       "      <td>0</td>\n",
       "      <td>1</td>\n",
       "      <td>2.0</td>\n",
       "      <td>5.0 out of 5 stars</td>\n",
       "      <td>...</td>\n",
       "      <td>0</td>\n",
       "      <td></td>\n",
       "      <td>1</td>\n",
       "      <td>Hobbies</td>\n",
       "      <td>Model Trains &amp; Railway Sets</td>\n",
       "      <td>Rail Vehicles</td>\n",
       "      <td>Trains</td>\n",
       "      <td>1</td>\n",
       "      <td>1</td>\n",
       "      <td>1</td>\n",
       "    </tr>\n",
       "    <tr>\n",
       "      <th>4</th>\n",
       "      <td>e33a9adeed5f36840ccc227db4682a36</td>\n",
       "      <td>Hornby 00 Gauge 0-4-0 Gildenlow Salt Co. Steam...</td>\n",
       "      <td>Hornby</td>\n",
       "      <td>£32.19</td>\n",
       "      <td>2/3/2018</td>\n",
       "      <td>2/4/2018</td>\n",
       "      <td>0</td>\n",
       "      <td>3</td>\n",
       "      <td>2.0</td>\n",
       "      <td>4.7 out of 5 stars</td>\n",
       "      <td>...</td>\n",
       "      <td>0</td>\n",
       "      <td></td>\n",
       "      <td>1</td>\n",
       "      <td>Hobbies</td>\n",
       "      <td>Model Trains &amp; Railway Sets</td>\n",
       "      <td>Rail Vehicles</td>\n",
       "      <td>Trains</td>\n",
       "      <td>1</td>\n",
       "      <td>1</td>\n",
       "      <td>1</td>\n",
       "    </tr>\n",
       "    <tr>\n",
       "      <th>...</th>\n",
       "      <td>...</td>\n",
       "      <td>...</td>\n",
       "      <td>...</td>\n",
       "      <td>...</td>\n",
       "      <td>...</td>\n",
       "      <td>...</td>\n",
       "      <td>...</td>\n",
       "      <td>...</td>\n",
       "      <td>...</td>\n",
       "      <td>...</td>\n",
       "      <td>...</td>\n",
       "      <td>...</td>\n",
       "      <td>...</td>\n",
       "      <td>...</td>\n",
       "      <td>...</td>\n",
       "      <td>...</td>\n",
       "      <td>...</td>\n",
       "      <td>...</td>\n",
       "      <td>...</td>\n",
       "      <td>...</td>\n",
       "      <td>...</td>\n",
       "    </tr>\n",
       "    <tr>\n",
       "      <th>9994</th>\n",
       "      <td>44d6967f083825a5de36ad4865a65bcd</td>\n",
       "      <td>Batman 1966 TV Series Action Figures - The Rid...</td>\n",
       "      <td>Mattel</td>\n",
       "      <td>£22.95</td>\n",
       "      <td>6/6/2016</td>\n",
       "      <td>6/15/2016</td>\n",
       "      <td>5 new</td>\n",
       "      <td>3</td>\n",
       "      <td>3.0</td>\n",
       "      <td>5.0 out of 5 stars</td>\n",
       "      <td>...</td>\n",
       "      <td>5</td>\n",
       "      <td>new</td>\n",
       "      <td>6</td>\n",
       "      <td>Hobbies</td>\n",
       "      <td>Collectible Figures &amp; Memorabilia</td>\n",
       "      <td>Collectible Props &amp; Memorabilia</td>\n",
       "      <td>None</td>\n",
       "      <td>29</td>\n",
       "      <td>13</td>\n",
       "      <td>0</td>\n",
       "    </tr>\n",
       "    <tr>\n",
       "      <th>9995</th>\n",
       "      <td>08f0747b6fc6687215ffb994c3a6fb32</td>\n",
       "      <td>Star Wars Costume, Kids Stormtrooper Costume S...</td>\n",
       "      <td>Star Wars</td>\n",
       "      <td>£39.99</td>\n",
       "      <td>8/28/2016</td>\n",
       "      <td>8/30/2016</td>\n",
       "      <td>0</td>\n",
       "      <td>1</td>\n",
       "      <td>3.0</td>\n",
       "      <td>4.0 out of 5 stars</td>\n",
       "      <td>...</td>\n",
       "      <td>0</td>\n",
       "      <td></td>\n",
       "      <td>6</td>\n",
       "      <td>Characters &amp; Brands</td>\n",
       "      <td>Star Wars</td>\n",
       "      <td>Toys</td>\n",
       "      <td>None</td>\n",
       "      <td>4</td>\n",
       "      <td>5</td>\n",
       "      <td>0</td>\n",
       "    </tr>\n",
       "    <tr>\n",
       "      <th>9996</th>\n",
       "      <td>bf6cc073f8f24e6e338190fa16f6ee9d</td>\n",
       "      <td>Defiance Lawkeeper Metal Badge Prop Replica</td>\n",
       "      <td>Olde Scotland Yard Ltd.</td>\n",
       "      <td>£43.99</td>\n",
       "      <td>7/19/2016</td>\n",
       "      <td>7/24/2016</td>\n",
       "      <td>3 new</td>\n",
       "      <td>1</td>\n",
       "      <td>3.0</td>\n",
       "      <td>5.0 out of 5 stars</td>\n",
       "      <td>...</td>\n",
       "      <td>3</td>\n",
       "      <td>new</td>\n",
       "      <td>6</td>\n",
       "      <td>Novelty &amp; Special Use</td>\n",
       "      <td>Novelty</td>\n",
       "      <td>Accessories</td>\n",
       "      <td>Buttons &amp; Pins</td>\n",
       "      <td>67</td>\n",
       "      <td>3</td>\n",
       "      <td>21</td>\n",
       "    </tr>\n",
       "    <tr>\n",
       "      <th>9997</th>\n",
       "      <td>cd783d0b8b44e631b9788b203eaaefae</td>\n",
       "      <td>Justice League of America Series 3 Green Lante...</td>\n",
       "      <td>DC Comics</td>\n",
       "      <td>£49.81</td>\n",
       "      <td>1/31/2016</td>\n",
       "      <td>2/5/2016</td>\n",
       "      <td>3 new</td>\n",
       "      <td>1</td>\n",
       "      <td>3.0</td>\n",
       "      <td>5.0 out of 5 stars</td>\n",
       "      <td>...</td>\n",
       "      <td>3</td>\n",
       "      <td>new</td>\n",
       "      <td>6</td>\n",
       "      <td>Hobbies</td>\n",
       "      <td>Collectible Figures &amp; Memorabilia</td>\n",
       "      <td>Collectible Props &amp; Memorabilia</td>\n",
       "      <td>None</td>\n",
       "      <td>29</td>\n",
       "      <td>13</td>\n",
       "      <td>0</td>\n",
       "    </tr>\n",
       "    <tr>\n",
       "      <th>9998</th>\n",
       "      <td>94d18e86e504bee1e392df7e5738b18a</td>\n",
       "      <td>Star Wars 1/72 Y-Wing Starfighter</td>\n",
       "      <td>Bandai</td>\n",
       "      <td>£21.20</td>\n",
       "      <td>10/8/2016</td>\n",
       "      <td>10/11/2016</td>\n",
       "      <td>31 new</td>\n",
       "      <td>11</td>\n",
       "      <td>3.0</td>\n",
       "      <td>4.5 out of 5 stars</td>\n",
       "      <td>...</td>\n",
       "      <td>31</td>\n",
       "      <td>new</td>\n",
       "      <td>6</td>\n",
       "      <td>Characters &amp; Brands</td>\n",
       "      <td>Star Wars</td>\n",
       "      <td>Toys</td>\n",
       "      <td>None</td>\n",
       "      <td>4</td>\n",
       "      <td>5</td>\n",
       "      <td>0</td>\n",
       "    </tr>\n",
       "  </tbody>\n",
       "</table>\n",
       "<p>9999 rows × 28 columns</p>\n",
       "</div>"
      ],
      "text/plain": [
       "                               uniq_id  \\\n",
       "0     eac7efa5dbd3d667f26eb3d3ab504464   \n",
       "1     b17540ef7e86e461d37f3ae58b7b72ac   \n",
       "2     348f344247b0c1a935b1223072ef9d8a   \n",
       "3     e12b92dbb8eaee78b22965d2a9bbbd9f   \n",
       "4     e33a9adeed5f36840ccc227db4682a36   \n",
       "...                                ...   \n",
       "9994  44d6967f083825a5de36ad4865a65bcd   \n",
       "9995  08f0747b6fc6687215ffb994c3a6fb32   \n",
       "9996  bf6cc073f8f24e6e338190fa16f6ee9d   \n",
       "9997  cd783d0b8b44e631b9788b203eaaefae   \n",
       "9998  94d18e86e504bee1e392df7e5738b18a   \n",
       "\n",
       "                                           product_name  \\\n",
       "0                                 Hornby 2014 Catalogue   \n",
       "1     FunkyBuys® Large Christmas Holiday Express Fes...   \n",
       "2     CLASSIC TOY TRAIN SET TRACK CARRIAGES LIGHT EN...   \n",
       "3        HORNBY Coach R4410A BR Hawksworth Corridor 3rd   \n",
       "4     Hornby 00 Gauge 0-4-0 Gildenlow Salt Co. Steam...   \n",
       "...                                                 ...   \n",
       "9994  Batman 1966 TV Series Action Figures - The Rid...   \n",
       "9995  Star Wars Costume, Kids Stormtrooper Costume S...   \n",
       "9996        Defiance Lawkeeper Metal Badge Prop Replica   \n",
       "9997  Justice League of America Series 3 Green Lante...   \n",
       "9998                  Star Wars 1/72 Y-Wing Starfighter   \n",
       "\n",
       "                 manufacturer   price purchase_date   ship_date  \\\n",
       "0                      Hornby   £3.42      6/4/2018   6/14/2018   \n",
       "1                   FunkyBuys  £16.99     8/30/2022    9/2/2022   \n",
       "2                         ccf   £9.99      8/4/2020    8/6/2020   \n",
       "3                      Hornby  £39.99    10/27/2020  10/30/2020   \n",
       "4                      Hornby  £32.19      2/3/2018    2/4/2018   \n",
       "...                       ...     ...           ...         ...   \n",
       "9994                   Mattel  £22.95      6/6/2016   6/15/2016   \n",
       "9995                Star Wars  £39.99     8/28/2016   8/30/2016   \n",
       "9996  Olde Scotland Yard Ltd.  £43.99     7/19/2016   7/24/2016   \n",
       "9997                DC Comics  £49.81     1/31/2016    2/5/2016   \n",
       "9998                   Bandai  £21.20     10/8/2016  10/11/2016   \n",
       "\n",
       "     number_available_in_stock number_of_reviews  \\\n",
       "0                        5 new                15   \n",
       "1                            0                 2   \n",
       "2                        2 new                17   \n",
       "3                            0                 1   \n",
       "4                            0                 3   \n",
       "...                        ...               ...   \n",
       "9994                     5 new                 3   \n",
       "9995                         0                 1   \n",
       "9996                     3 new                 1   \n",
       "9997                     3 new                 1   \n",
       "9998                    31 new                11   \n",
       "\n",
       "      number_of_answered_questions average_review_rating  ... quantity  \\\n",
       "0                              1.0    4.9 out of 5 stars  ...        5   \n",
       "1                              1.0    4.5 out of 5 stars  ...        0   \n",
       "2                              2.0    3.9 out of 5 stars  ...        2   \n",
       "3                              2.0    5.0 out of 5 stars  ...        0   \n",
       "4                              2.0    4.7 out of 5 stars  ...        0   \n",
       "...                            ...                   ...  ...      ...   \n",
       "9994                           3.0    5.0 out of 5 stars  ...        5   \n",
       "9995                           3.0    4.0 out of 5 stars  ...        0   \n",
       "9996                           3.0    5.0 out of 5 stars  ...        3   \n",
       "9997                           3.0    5.0 out of 5 stars  ...        3   \n",
       "9998                           3.0    4.5 out of 5 stars  ...       31   \n",
       "\n",
       "     condition country_id               Category  \\\n",
       "0          new          1                Hobbies   \n",
       "1                       1                Hobbies   \n",
       "2          new          1                Hobbies   \n",
       "3                       1                Hobbies   \n",
       "4                       1                Hobbies   \n",
       "...        ...        ...                    ...   \n",
       "9994       new          6                Hobbies   \n",
       "9995                    6    Characters & Brands   \n",
       "9996       new          6  Novelty & Special Use   \n",
       "9997       new          6                Hobbies   \n",
       "9998       new          6    Characters & Brands   \n",
       "\n",
       "                           Sub_Category                 Sub_Sub_Category  \\\n",
       "0           Model Trains & Railway Sets                    Rail Vehicles   \n",
       "1           Model Trains & Railway Sets                    Rail Vehicles   \n",
       "2           Model Trains & Railway Sets                    Rail Vehicles   \n",
       "3           Model Trains & Railway Sets                    Rail Vehicles   \n",
       "4           Model Trains & Railway Sets                    Rail Vehicles   \n",
       "...                                 ...                              ...   \n",
       "9994  Collectible Figures & Memorabilia  Collectible Props & Memorabilia   \n",
       "9995                          Star Wars                             Toys   \n",
       "9996                            Novelty                      Accessories   \n",
       "9997  Collectible Figures & Memorabilia  Collectible Props & Memorabilia   \n",
       "9998                          Star Wars                             Toys   \n",
       "\n",
       "     Sub_Sub_Sub_Category Sub_Category_ID  Sub_Sub_Category_ID  \\\n",
       "0                  Trains               1                    1   \n",
       "1                  Trains               1                    1   \n",
       "2                  Trains               1                    1   \n",
       "3                  Trains               1                    1   \n",
       "4                  Trains               1                    1   \n",
       "...                   ...             ...                  ...   \n",
       "9994                 None              29                   13   \n",
       "9995                 None               4                    5   \n",
       "9996       Buttons & Pins              67                    3   \n",
       "9997                 None              29                   13   \n",
       "9998                 None               4                    5   \n",
       "\n",
       "     Sub_Sub_Sub_Category_ID  \n",
       "0                          1  \n",
       "1                          1  \n",
       "2                          1  \n",
       "3                          1  \n",
       "4                          1  \n",
       "...                      ...  \n",
       "9994                       0  \n",
       "9995                       0  \n",
       "9996                      21  \n",
       "9997                       0  \n",
       "9998                       0  \n",
       "\n",
       "[9999 rows x 28 columns]"
      ]
     },
     "execution_count": 1273,
     "metadata": {},
     "output_type": "execute_result"
    }
   ],
   "source": [
    "df"
   ]
  },
  {
   "cell_type": "code",
   "execution_count": 1274,
   "id": "414ce0ab",
   "metadata": {},
   "outputs": [
    {
     "data": {
      "text/html": [
       "<div>\n",
       "<style scoped>\n",
       "    .dataframe tbody tr th:only-of-type {\n",
       "        vertical-align: middle;\n",
       "    }\n",
       "\n",
       "    .dataframe tbody tr th {\n",
       "        vertical-align: top;\n",
       "    }\n",
       "\n",
       "    .dataframe thead th {\n",
       "        text-align: right;\n",
       "    }\n",
       "</style>\n",
       "<table border=\"1\" class=\"dataframe\">\n",
       "  <thead>\n",
       "    <tr style=\"text-align: right;\">\n",
       "      <th></th>\n",
       "      <th>condition</th>\n",
       "      <th>condition_id</th>\n",
       "    </tr>\n",
       "  </thead>\n",
       "  <tbody>\n",
       "    <tr>\n",
       "      <th>0</th>\n",
       "      <td>new</td>\n",
       "      <td>1</td>\n",
       "    </tr>\n",
       "    <tr>\n",
       "      <th>1</th>\n",
       "      <td></td>\n",
       "      <td>2</td>\n",
       "    </tr>\n",
       "    <tr>\n",
       "      <th>2</th>\n",
       "      <td>used</td>\n",
       "      <td>3</td>\n",
       "    </tr>\n",
       "    <tr>\n",
       "      <th>3</th>\n",
       "      <td>collectible</td>\n",
       "      <td>4</td>\n",
       "    </tr>\n",
       "    <tr>\n",
       "      <th>4</th>\n",
       "      <td>refurbished</td>\n",
       "      <td>5</td>\n",
       "    </tr>\n",
       "  </tbody>\n",
       "</table>\n",
       "</div>"
      ],
      "text/plain": [
       "     condition  condition_id\n",
       "0          new             1\n",
       "1                          2\n",
       "2         used             3\n",
       "3  collectible             4\n",
       "4  refurbished             5"
      ]
     },
     "execution_count": 1274,
     "metadata": {},
     "output_type": "execute_result"
    }
   ],
   "source": [
    "d_conditions"
   ]
  },
  {
   "cell_type": "code",
   "execution_count": 1275,
   "id": "9cf4c9b5",
   "metadata": {},
   "outputs": [
    {
     "name": "stdout",
     "output_type": "stream",
     "text": [
      "                         product_id  category_id  \\\n",
      "0  eac7efa5dbd3d667f26eb3d3ab504464            1   \n",
      "1  b17540ef7e86e461d37f3ae58b7b72ac            1   \n",
      "2  348f344247b0c1a935b1223072ef9d8a            1   \n",
      "3  e12b92dbb8eaee78b22965d2a9bbbd9f            1   \n",
      "4  e33a9adeed5f36840ccc227db4682a36            1   \n",
      "\n",
      "                                        product_name      average_rating  \\\n",
      "0                              Hornby 2014 Catalogue  4.9 out of 5 stars   \n",
      "1  FunkyBuys® Large Christmas Holiday Express Fes...  4.5 out of 5 stars   \n",
      "2  CLASSIC TOY TRAIN SET TRACK CARRIAGES LIGHT EN...  3.9 out of 5 stars   \n",
      "3     HORNBY Coach R4410A BR Hawksworth Corridor 3rd  5.0 out of 5 stars   \n",
      "4  Hornby 00 Gauge 0-4-0 Gildenlow Salt Co. Steam...  4.7 out of 5 stars   \n",
      "\n",
      "                                         description  country_id   price  \\\n",
      "0  Product Description Hornby 2014 Catalogue Box ...           1   £3.42   \n",
      "1  Size Name:Large FunkyBuys® Large Christmas Hol...           1  £16.99   \n",
      "2  BIG CLASSIC TOY TRAIN SET TRACK CARRIAGE LIGHT...           1   £9.99   \n",
      "3  Hornby 00 Gauge BR Hawksworth 3rd Class W 2107...           1  £39.99   \n",
      "4  Product Description Hornby RailRoad 0-4-0 Gild...           1  £32.19   \n",
      "\n",
      "    ship_date purchase_date reviews_nb  manufacturer_id  nb_stocks  \\\n",
      "0  2018-06-14    2018-06-04         15                1          5   \n",
      "1  2022-09-02    2022-08-30          2                2          0   \n",
      "2  2020-08-06    2020-08-04         17                3          2   \n",
      "3  2020-10-30    2020-10-27          1                1          0   \n",
      "4  2018-02-04    2018-02-03          3                1          0   \n",
      "\n",
      "   condition_id                                       bought_after  \\\n",
      "0             1  http://www.amazon.co.uk/Hornby-R8150-Catalogue...   \n",
      "1             2  http://www.amazon.co.uk/Christmas-Holiday-Expr...   \n",
      "2             1  http://www.amazon.co.uk/Train-With-Tracks-Batt...   \n",
      "3             2                                                NaN   \n",
      "4             2  http://www.amazon.co.uk/Hornby-R2672-RailRoad-...   \n",
      "\n",
      "                sub_category_1 sub_category_2 sub_category_3  \n",
      "0  Model Trains & Railway Sets  Rail Vehicles         Trains  \n",
      "1  Model Trains & Railway Sets  Rail Vehicles         Trains  \n",
      "2  Model Trains & Railway Sets  Rail Vehicles         Trains  \n",
      "3  Model Trains & Railway Sets  Rail Vehicles         Trains  \n",
      "4  Model Trains & Railway Sets  Rail Vehicles         Trains  \n"
     ]
    }
   ],
   "source": [
    "def convert_to_timestamp(timestamp):\n",
    "    try:\n",
    "        # Adjust the format to match 'M/D/YYYY'\n",
    "        dt = datetime.strptime(timestamp, '%m/%d/%Y')\n",
    "        return dt.strftime('%Y-%m-%d')\n",
    "    except Exception as e:\n",
    "        # Log or print the error message if needed\n",
    "        print(f\"Error converting timestamp: {e}\")\n",
    "        return None\n",
    "\n",
    "category_to_id = d_categories1.set_index('category')['category_id'].to_dict()\n",
    "manufacturer_to_id = d_manufacturers.set_index('manufacturer_name')['manufacturer_id'].to_dict()\n",
    "condition_to_id = d_conditions.set_index('condition')['condition_id'].to_dict()\n",
    "\n",
    "# Assuming df is already defined\n",
    "f_products = pd.DataFrame({\n",
    "    'product_id': df['uniq_id'],\n",
    "    'category_id': df['Category'].map(category_to_id),\n",
    "    'product_name' : df['product_name'],\n",
    "    'average_rating': df['average_review_rating'],\n",
    "    'description': df['description'],\n",
    "    'country_id': df['country_id'],\n",
    "    'price': df['price'],\n",
    "    'ship_date': df['ship_date'].apply(lambda x: convert_to_timestamp(x) if pd.notnull(x) else None),\n",
    "    'purchase_date': df['purchase_date'].apply(lambda x: convert_to_timestamp(x) if pd.notnull(x) else None),\n",
    "    'reviews_nb': df['number_of_reviews'],\n",
    "    'manufacturer_id': df['manufacturer'].map(manufacturer_to_id),\n",
    "    'nb_stocks': df['quantity'],\n",
    "    'condition_id': df['condition'].map(condition_to_id),\n",
    "    'bought_after': df['items_customers_buy_after_viewing_this_item'],\n",
    "    'sub_category_1': df['Sub_Category'],\n",
    "    'sub_category_2': df['Sub_Sub_Category'],\n",
    "    'sub_category_3': df['Sub_Sub_Sub_Category']\n",
    "})\n",
    "\n",
    "# Display the DataFrame\n",
    "print(f_products.head())"
   ]
  },
  {
   "cell_type": "code",
   "execution_count": 1276,
   "id": "29b87a80",
   "metadata": {},
   "outputs": [
    {
     "name": "stdout",
     "output_type": "stream",
     "text": [
      "product_id                 object\n",
      "category_id                  int8\n",
      "product_name               object\n",
      "average_rating            float64\n",
      "description                object\n",
      "country_id                   int8\n",
      "price                     float64\n",
      "ship_date          datetime64[ns]\n",
      "purchase_date      datetime64[ns]\n",
      "reviews_nb                float64\n",
      "manufacturer_id             int16\n",
      "nb_stocks                    int8\n",
      "condition_id                 int8\n",
      "bought_after               object\n",
      "sub_category_1             object\n",
      "sub_category_2             object\n",
      "sub_category_3             object\n",
      "dtype: object\n"
     ]
    }
   ],
   "source": [
    "# Function to extract numeric rating\n",
    "def extract_rating(rating_str):\n",
    "    try:\n",
    "        return float(rating_str.split()[0])\n",
    "    except:\n",
    "        return np.nan\n",
    "\n",
    "# Function to clean price\n",
    "def clean_price(price_str):\n",
    "    try:\n",
    "        return float(price_str.replace('£', '').replace(',', ''))\n",
    "    except:\n",
    "        return np.nan\n",
    "\n",
    "# Correcting data types\n",
    "f_products['product_id'] = f_products['product_id'].astype(str)\n",
    "f_products['category_id'] = pd.to_numeric(f_products['category_id'], errors='coerce', downcast='integer')\n",
    "f_products['product_name'] = f_products['product_name'].astype(str)\n",
    "f_products['average_rating'] = f_products['average_rating'].apply(extract_rating)\n",
    "f_products['description'] = f_products['description'].astype(str)\n",
    "f_products['country_id'] = pd.to_numeric(f_products['country_id'], errors='coerce', downcast='integer')\n",
    "f_products['price'] = f_products['price'].apply(clean_price)\n",
    "f_products['ship_date'] = f_products['ship_date']\n",
    "f_products['purchase_date'] = f_products['purchase_date']\n",
    "f_products['reviews_nb'] = pd.to_numeric(f_products['reviews_nb'], errors='coerce', downcast='integer')\n",
    "f_products['manufacturer_id'] = pd.to_numeric(f_products['manufacturer_id'], errors='coerce', downcast='integer')\n",
    "f_products['nb_stocks'] = pd.to_numeric(f_products['nb_stocks'], errors='coerce', downcast='integer')\n",
    "f_products['condition_id'] = pd.to_numeric(f_products['condition_id'], errors='coerce', downcast='integer')\n",
    "f_products['bought_after'] = f_products['bought_after'].astype(str)\n",
    "f_products['sub_category_1'] = f_products['sub_category_1'].astype(str)\n",
    "f_products['sub_category_2'] = f_products['sub_category_2'].astype(str)\n",
    "f_products['sub_category_3'] = f_products['sub_category_3'].astype(str)\n",
    "\n",
    "f_products['ship_date'] = pd.to_datetime(f_products['ship_date'], format='%Y-%m-%d', errors='coerce')\n",
    "f_products['purchase_date'] = pd.to_datetime(f_products['purchase_date'], format='%Y-%m-%d', errors='coerce')\n",
    "\n",
    "# Display the DataFrame with corrected data types\n",
    "print(f_products.dtypes)\n"
   ]
  },
  {
   "cell_type": "code",
   "execution_count": 1277,
   "id": "d70a5201",
   "metadata": {},
   "outputs": [
    {
     "name": "stdout",
     "output_type": "stream",
     "text": [
      "Empty DataFrame\n",
      "Columns: [product_id, category_id, product_name, average_rating, description, country_id, price, ship_date, purchase_date, reviews_nb, manufacturer_id, nb_stocks, condition_id, bought_after, sub_category_1, sub_category_2, sub_category_3]\n",
      "Index: []\n"
     ]
    }
   ],
   "source": [
    "duplicate_rows = f_products[f_products.duplicated(['product_id'], keep=False)]\n",
    "print(duplicate_rows)\n"
   ]
  },
  {
   "cell_type": "code",
   "execution_count": 1278,
   "id": "4d4dc1ff",
   "metadata": {},
   "outputs": [],
   "source": [
    "import os"
   ]
  },
  {
   "cell_type": "code",
   "execution_count": 1279,
   "id": "0d7f9801",
   "metadata": {},
   "outputs": [
    {
     "data": {
      "text/plain": [
       "3247"
      ]
     },
     "execution_count": 1279,
     "metadata": {},
     "output_type": "execute_result"
    }
   ],
   "source": [
    "import pandas as pd\n",
    "from sqlalchemy import create_engine\n",
    "\n",
    "# Database credentials\n",
    "db_user = 'root'\n",
    "db_password = ''\n",
    "db_host = 'localhost'\n",
    "db_port = 3306\n",
    "db_name = 'amazon_sales_db'\n",
    "\n",
    "# Create the database engine\n",
    "engine = create_engine(f'mysql+pymysql://{db_user}:{db_password}@{db_host}:{db_port}/{db_name}')\n",
    "\n",
    "# Load DataFrame into the MySQL table\n",
    "d_customers.to_sql('d_customers', con=engine, if_exists='append', index=False)\n",
    "\n",
    "\n",
    "\n"
   ]
  },
  {
   "cell_type": "code",
   "execution_count": 1280,
   "id": "a3ba1921",
   "metadata": {},
   "outputs": [],
   "source": [
    "d_customers.to_csv(os.path.join('csv', 'd_customers.csv'), index=False)"
   ]
  },
  {
   "cell_type": "code",
   "execution_count": 1281,
   "id": "9600776b",
   "metadata": {},
   "outputs": [
    {
     "data": {
      "text/plain": [
       "2651"
      ]
     },
     "execution_count": 1281,
     "metadata": {},
     "output_type": "execute_result"
    }
   ],
   "source": [
    "d_manufacturers.to_sql('d_manufacturers', con=engine, if_exists='append', index=False)"
   ]
  },
  {
   "cell_type": "code",
   "execution_count": 1282,
   "id": "3a653cbb",
   "metadata": {},
   "outputs": [],
   "source": [
    "d_manufacturers.to_csv(os.path.join('csv', 'd_manufacturers.csv'), index=False)"
   ]
  },
  {
   "cell_type": "code",
   "execution_count": 1283,
   "id": "5cc51934",
   "metadata": {},
   "outputs": [
    {
     "data": {
      "text/plain": [
       "44"
      ]
     },
     "execution_count": 1283,
     "metadata": {},
     "output_type": "execute_result"
    }
   ],
   "source": [
    "d_categories1.to_sql('d_categories', con=engine, if_exists=\"append\", index=False)"
   ]
  },
  {
   "cell_type": "code",
   "execution_count": 1284,
   "id": "8b60644b",
   "metadata": {},
   "outputs": [],
   "source": [
    "d_categories1.to_csv(os.path.join('csv', 'd_categories.csv'), index=False)"
   ]
  },
  {
   "cell_type": "code",
   "execution_count": 1285,
   "id": "3d7f9418",
   "metadata": {},
   "outputs": [
    {
     "data": {
      "text/plain": [
       "6"
      ]
     },
     "execution_count": 1285,
     "metadata": {},
     "output_type": "execute_result"
    }
   ],
   "source": [
    "d_countries.to_sql('d_countries', con=engine, if_exists=\"append\", index=False)"
   ]
  },
  {
   "cell_type": "code",
   "execution_count": 1286,
   "id": "101059ae",
   "metadata": {},
   "outputs": [],
   "source": [
    "d_countries.to_csv(os.path.join('csv', 'd_countries.csv'), index=False)"
   ]
  },
  {
   "cell_type": "code",
   "execution_count": 1287,
   "id": "6a92335a",
   "metadata": {},
   "outputs": [
    {
     "data": {
      "text/plain": [
       "5"
      ]
     },
     "execution_count": 1287,
     "metadata": {},
     "output_type": "execute_result"
    }
   ],
   "source": [
    "d_conditions.to_sql('d_conditions', con=engine, if_exists=\"append\", index=False)"
   ]
  },
  {
   "cell_type": "code",
   "execution_count": 1288,
   "id": "14797ee9",
   "metadata": {},
   "outputs": [],
   "source": [
    "d_conditions.to_csv(os.path.join('csv', 'd_conditions.csv'), index=False)"
   ]
  },
  {
   "cell_type": "code",
   "execution_count": 1289,
   "id": "2d65353b",
   "metadata": {},
   "outputs": [
    {
     "data": {
      "text/plain": [
       "9999"
      ]
     },
     "execution_count": 1289,
     "metadata": {},
     "output_type": "execute_result"
    }
   ],
   "source": [
    "f_products.to_sql('f_products', con=engine, if_exists=\"append\", index=False)"
   ]
  },
  {
   "cell_type": "code",
   "execution_count": 1290,
   "id": "1828462e",
   "metadata": {},
   "outputs": [],
   "source": [
    "f_products.to_csv(os.path.join('csv', 'f_products.csv'), index=False)"
   ]
  },
  {
   "cell_type": "code",
   "execution_count": 1291,
   "id": "d80246ce",
   "metadata": {},
   "outputs": [
    {
     "data": {
      "text/plain": [
       "1677"
      ]
     },
     "execution_count": 1291,
     "metadata": {},
     "output_type": "execute_result"
    }
   ],
   "source": [
    "d_questions.to_sql('d_questions', con=engine, if_exists=\"append\", index=False)"
   ]
  },
  {
   "cell_type": "code",
   "execution_count": 1292,
   "id": "d112df8c",
   "metadata": {},
   "outputs": [],
   "source": [
    "d_questions.to_csv(os.path.join('csv', 'd_questions.csv'), index=False)"
   ]
  },
  {
   "cell_type": "code",
   "execution_count": 1293,
   "id": "ee77bab1",
   "metadata": {},
   "outputs": [
    {
     "data": {
      "text/plain": [
       "9999"
      ]
     },
     "execution_count": 1293,
     "metadata": {},
     "output_type": "execute_result"
    }
   ],
   "source": [
    "d_reviews1.to_sql('d_reviews', con=engine, if_exists=\"append\", index=False)"
   ]
  },
  {
   "cell_type": "code",
   "execution_count": 1294,
   "id": "20ba042a",
   "metadata": {},
   "outputs": [],
   "source": [
    "d_reviews1.to_csv(os.path.join('csv', 'd_reviews1.csv'), index=False)"
   ]
  }
 ],
 "metadata": {
  "kernelspec": {
   "display_name": "Python 3 (ipykernel)",
   "language": "python",
   "name": "python3"
  },
  "language_info": {
   "codemirror_mode": {
    "name": "ipython",
    "version": 3
   },
   "file_extension": ".py",
   "mimetype": "text/x-python",
   "name": "python",
   "nbconvert_exporter": "python",
   "pygments_lexer": "ipython3",
   "version": "3.12.2"
  }
 },
 "nbformat": 4,
 "nbformat_minor": 5
}
