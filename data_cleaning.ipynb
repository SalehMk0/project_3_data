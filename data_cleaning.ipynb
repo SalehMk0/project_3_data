{
 "cells": [
  {
   "cell_type": "code",
   "execution_count": 1,
   "id": "d4de0fd0-1f16-4321-98ba-3d56b0b580c3",
   "metadata": {},
   "outputs": [],
   "source": [
    "import pandas as pd"
   ]
  },
  {
   "cell_type": "code",
   "execution_count": 2,
   "id": "20a684da-35e0-4310-905b-222e19042933",
   "metadata": {},
   "outputs": [],
   "source": [
    "df = pd.read_csv('amazon.csv')"
   ]
  },
  {
   "cell_type": "code",
   "execution_count": 3,
   "id": "7b3a7729-35fe-4bce-a3b2-6b1fbfc58960",
   "metadata": {},
   "outputs": [
    {
     "name": "stderr",
     "output_type": "stream",
     "text": [
      "<>:1: SyntaxWarning: invalid escape sequence '\\d'\n",
      "<>:1: SyntaxWarning: invalid escape sequence '\\d'\n",
      "/var/folders/d2/zqv2mpg17tzb0413h3b_jwb00000gn/T/ipykernel_42910/4135669244.py:1: SyntaxWarning: invalid escape sequence '\\d'\n",
      "  df['price'] = df['price'].str.replace('[^\\d.]', '', regex=True)\n"
     ]
    },
    {
     "data": {
      "text/plain": [
       "dtype('float64')"
      ]
     },
     "execution_count": 3,
     "metadata": {},
     "output_type": "execute_result"
    }
   ],
   "source": [
    "df['price'] = df['price'].str.replace('[^\\d.]', '', regex=True)\n",
    "df['price'] = pd.to_numeric(df['price'], errors='coerce')\n",
    "df['price'].dtype"
   ]
  },
  {
   "cell_type": "code",
   "execution_count": 4,
   "id": "417a73ec-1399-494c-8cef-2621ae291fe9",
   "metadata": {},
   "outputs": [],
   "source": [
    "df['number_available_in_stock'] = df['number_available_in_stock'].str.replace('Â', '', regex=False)\n",
    "df[['quantity', 'condition']] = df['number_available_in_stock'].str.split(n=1, expand=True)\n",
    "df['quantity'] = pd.to_numeric(df['quantity'], errors='coerce')\n",
    "df['condition'] = df['condition'].str.strip()\n",
    "df['condition'] = df['condition'].fillna('Unknown')\n",
    "df = df.drop('number_available_in_stock', axis=1)"
   ]
  },
  {
   "cell_type": "code",
   "execution_count": 5,
   "id": "cba1983c-b594-46f1-9a95-7cffa8d58855",
   "metadata": {},
   "outputs": [],
   "source": [
    "df['number_of_answered_questions'] = df['number_of_answered_questions'].fillna(0).astype(int)\n",
    "df['number_of_answered_questions'] = df['number_of_answered_questions'].astype(int)"
   ]
  },
  {
   "cell_type": "code",
   "execution_count": 6,
   "id": "46617e65-fefe-4a1d-885d-cf769ca31d5a",
   "metadata": {},
   "outputs": [
    {
     "data": {
      "text/plain": [
       "dtype('int64')"
      ]
     },
     "execution_count": 6,
     "metadata": {},
     "output_type": "execute_result"
    }
   ],
   "source": [
    "df['number_of_answered_questions'].dtype"
   ]
  },
  {
   "cell_type": "code",
   "execution_count": 7,
   "id": "a054333f-33f3-47b8-9174-fc5106724d74",
   "metadata": {},
   "outputs": [],
   "source": [
    "df['average_review_rating'] = df['average_review_rating'].str.split().str[0].astype(float)"
   ]
  },
  {
   "cell_type": "code",
   "execution_count": 8,
   "id": "d1c1960e-a50c-464d-96d8-07217ec73d26",
   "metadata": {},
   "outputs": [
    {
     "data": {
      "text/plain": [
       "0       4.9\n",
       "1       4.5\n",
       "2       3.9\n",
       "3       5.0\n",
       "4       4.7\n",
       "       ... \n",
       "9994    5.0\n",
       "9995    4.0\n",
       "9996    5.0\n",
       "9997    5.0\n",
       "9998    4.5\n",
       "Name: average_review_rating, Length: 9999, dtype: float64"
      ]
     },
     "execution_count": 8,
     "metadata": {},
     "output_type": "execute_result"
    }
   ],
   "source": [
    "df['average_review_rating']"
   ]
  },
  {
   "cell_type": "code",
   "execution_count": 9,
   "id": "e25d7850-2350-4f24-83d2-3b81673dafee",
   "metadata": {},
   "outputs": [],
   "source": [
    "df.to_csv('data.csv', index=False)"
   ]
  },
  {
   "cell_type": "code",
   "execution_count": 10,
   "id": "ed6b591d-e2a8-48b0-99bf-acf0f696950c",
   "metadata": {},
   "outputs": [],
   "source": [
    "\n",
    "import numpy as np\n",
    "\n",
    "def split_review(text):\n",
    "    if pd.isna(text) or not isinstance(text, str):\n",
    "        return pd.Series([None, None, None, None])\n",
    "    \n",
    "    parts = text.split('//')\n",
    "    review = parts[0].strip()\n",
    "    rating = parts[1].strip() if len(parts) > 1 else None\n",
    "    date = parts[2].strip() if len(parts) > 2 else None\n",
    "    \n",
    "    if len(parts) > 3:\n",
    "        customer_date = parts[3].strip().split(' on ')\n",
    "        customer = customer_date[0].replace('\\n', '').strip()\n",
    "        date = customer_date[1] if len(customer_date) > 1 else date\n",
    "    else:\n",
    "        customer = None\n",
    "    customer = customer[2:].strip() if customer.startswith('By') else customer\n",
    "\n",
    "    return pd.Series([review, rating, date, customer])\n",
    "\n",
    "df[['review_text', 'rating', 'date', 'customer_name']] = df['customer_reviews'].apply(split_review)\n",
    "df = df.drop('customer_reviews', axis=1)\n"
   ]
  },
  {
   "cell_type": "code",
   "execution_count": 11,
   "id": "4e58bd44-83d9-430c-8e78-b2bf1edae61d",
   "metadata": {},
   "outputs": [],
   "source": [
    "df.to_csv('data.csv', index=False)"
   ]
  },
  {
   "cell_type": "code",
   "execution_count": 12,
   "id": "b8cd133b-ab0c-474f-a9ad-7c907275e31d",
   "metadata": {},
   "outputs": [
    {
     "data": {
      "text/plain": [
       "9994    DC 66 Batman Classic TV Series 6 Inch Riddler ...\n",
       "9995                                                  NaN\n",
       "9996    *Includes 1x Badge with holder and chain *High...\n",
       "9997    Designed by Ed BenesIt's here - the third seri...\n",
       "9998                                                  NaN\n",
       "Name: description, dtype: object"
      ]
     },
     "execution_count": 12,
     "metadata": {},
     "output_type": "execute_result"
    }
   ],
   "source": [
    "df['description'].tail(5)"
   ]
  },
  {
   "cell_type": "code",
   "execution_count": 13,
   "id": "2b51f2db-6df9-467e-81b1-0bde947b0e6f",
   "metadata": {},
   "outputs": [],
   "source": [
    "df = df.drop('description', axis =1)"
   ]
  },
  {
   "cell_type": "code",
   "execution_count": 14,
   "id": "d35df82f-ba36-4af5-a9fd-69ab24b4b536",
   "metadata": {},
   "outputs": [],
   "source": [
    "df.to_csv('data.csv', index= False)"
   ]
  },
  {
   "cell_type": "code",
   "execution_count": 15,
   "id": "70455f4c-5a71-4dd4-be8b-1b3c2d3bd1de",
   "metadata": {},
   "outputs": [],
   "source": [
    "# Combine the columns, using product_information if available, otherwise use product_description\n",
    "df['description'] = df['product_information'].fillna(df['product_description'])\n",
    "\n",
    "# If you want to use both, concatenating them when both are available:\n",
    "df['description'] = df['product_information'].fillna('') + ' ' + df['product_description'].fillna('')\n",
    "df['description'] = df['description'].str.strip()\n",
    "\n",
    "# Remove the original columns\n",
    "df = df.drop(['product_information', 'product_description'], axis=1)"
   ]
  },
  {
   "cell_type": "code",
   "execution_count": 16,
   "id": "8a1e3abb-af18-4cd3-9fdd-2b66a637238e",
   "metadata": {},
   "outputs": [],
   "source": [
    "df.to_csv('data.csv', index= False)"
   ]
  },
  {
   "cell_type": "code",
   "execution_count": 17,
   "id": "1592bdcf-8a62-47f1-b471-8dab389cd9b5",
   "metadata": {},
   "outputs": [],
   "source": [
    "\n",
    "df['category_list'] = df['amazon_category_and_sub_category'].str.split('>')\n",
    "\n",
    "\n",
    "df['category'] = df['category_list'].str[0].str.strip()\n",
    "df['sub_category_1'] = df['category_list'].str[1].str.strip()\n",
    "df['sub_category_2'] = df['category_list'].str[2].str.strip()\n",
    "df['sub_category_3'] = df['category_list'].str[3].str.strip()\n",
    "\n",
    "\n",
    "df = df.drop('category_list', axis=1)"
   ]
  },
  {
   "cell_type": "code",
   "execution_count": 18,
   "id": "76f102b9",
   "metadata": {},
   "outputs": [
    {
     "name": "stdout",
     "output_type": "stream",
     "text": [
      "0    Rail Vehicles\n",
      "1    Rail Vehicles\n",
      "2    Rail Vehicles\n",
      "3    Rail Vehicles\n",
      "4    Rail Vehicles\n",
      "Name: sub_category_2, dtype: object\n"
     ]
    }
   ],
   "source": [
    "print(df['sub_category_2'].head())"
   ]
  },
  {
   "cell_type": "code",
   "execution_count": 19,
   "id": "555d7e8e-471b-4e83-9e7c-4d6434db77f1",
   "metadata": {},
   "outputs": [
    {
     "name": "stdout",
     "output_type": "stream",
     "text": [
      "                            uniq_id  \\\n",
      "0  eac7efa5dbd3d667f26eb3d3ab504464   \n",
      "1  b17540ef7e86e461d37f3ae58b7b72ac   \n",
      "2  348f344247b0c1a935b1223072ef9d8a   \n",
      "3  e12b92dbb8eaee78b22965d2a9bbbd9f   \n",
      "4  e33a9adeed5f36840ccc227db4682a36   \n",
      "\n",
      "                                        product_name manufacturer  price  \\\n",
      "0                              Hornby 2014 Catalogue       Hornby   3.42   \n",
      "1  FunkyBuys® Large Christmas Holiday Express Fes...    FunkyBuys  16.99   \n",
      "2  CLASSIC TOY TRAIN SET TRACK CARRIAGES LIGHT EN...          ccf   9.99   \n",
      "3     HORNBY Coach R4410A BR Hawksworth Corridor 3rd       Hornby  39.99   \n",
      "4  Hornby 00 Gauge 0-4-0 Gildenlow Salt Co. Steam...       Hornby  32.19   \n",
      "\n",
      "  purchase_date   ship_date   ship_country number_of_reviews  \\\n",
      "0      6/4/2018   6/14/2018  United States                15   \n",
      "1     8/30/2022    9/2/2022  United States                 2   \n",
      "2      8/4/2020    8/6/2020  United States                17   \n",
      "3    10/27/2020  10/30/2020  United States                 1   \n",
      "4      2/3/2018    2/4/2018  United States                 3   \n",
      "\n",
      "   number_of_answered_questions  average_review_rating  ... condition  \\\n",
      "0                             1                    4.9  ...       new   \n",
      "1                             1                    4.5  ...   Unknown   \n",
      "2                             2                    3.9  ...       new   \n",
      "3                             2                    5.0  ...   Unknown   \n",
      "4                             2                    4.7  ...   Unknown   \n",
      "\n",
      "                                     review_text rating           date  \\\n",
      "0  Worth Buying For The Pictures Alone (As Ever)    4.0   6 April 2014   \n",
      "1                                     Four Stars    4.0   18 Dec. 2015   \n",
      "2                        **Highly Recommended!**    5.0    26 May 2015   \n",
      "3                                      I love it    5.0   22 July 2013   \n",
      "4                               Birthday present    5.0  14 April 2014   \n",
      "\n",
      "   customer_name                                        description category  \\\n",
      "0    Copnovelist  Technical Details Item Weight640 g Product Dim...  Hobbies   \n",
      "1   kenneth bell  Technical Details Manufacturer recommended age...  Hobbies   \n",
      "2    Simon.B :-)  Technical Details Manufacturer recommended age...  Hobbies   \n",
      "3   Lilla Lukacs  Technical Details Item Weight259 g Product Dim...  Hobbies   \n",
      "4    Love my Dog  Technical Details Item Weight159 g Product Dim...  Hobbies   \n",
      "\n",
      "                sub_category_1 sub_category_2 sub_category_3  \n",
      "0  Model Trains & Railway Sets  Rail Vehicles         Trains  \n",
      "1  Model Trains & Railway Sets  Rail Vehicles         Trains  \n",
      "2  Model Trains & Railway Sets  Rail Vehicles         Trains  \n",
      "3  Model Trains & Railway Sets  Rail Vehicles         Trains  \n",
      "4  Model Trains & Railway Sets  Rail Vehicles         Trains  \n",
      "\n",
      "[5 rows x 25 columns]\n"
     ]
    }
   ],
   "source": [
    "print(df.head())"
   ]
  },
  {
   "cell_type": "code",
   "execution_count": 20,
   "id": "c0a24305",
   "metadata": {},
   "outputs": [],
   "source": [
    "df = pd.read_csv('amazon.csv')"
   ]
  },
  {
   "cell_type": "code",
   "execution_count": 21,
   "id": "f1a107e6",
   "metadata": {},
   "outputs": [
    {
     "name": "stdout",
     "output_type": "stream",
     "text": [
      "0        5 new\n",
      "1            0\n",
      "2        2 new\n",
      "3            0\n",
      "4            0\n",
      "         ...  \n",
      "9994     5 new\n",
      "9995         0\n",
      "9996     3 new\n",
      "9997     3 new\n",
      "9998    31 new\n",
      "Name: number_available_in_stock, Length: 9999, dtype: object\n"
     ]
    },
    {
     "name": "stderr",
     "output_type": "stream",
     "text": [
      "/var/folders/d2/zqv2mpg17tzb0413h3b_jwb00000gn/T/ipykernel_42910/313368633.py:1: FutureWarning: A value is trying to be set on a copy of a DataFrame or Series through chained assignment using an inplace method.\n",
      "The behavior will change in pandas 3.0. This inplace method will never work because the intermediate object on which we are setting values always behaves as a copy.\n",
      "\n",
      "For example, when doing 'df[col].method(value, inplace=True)', try using 'df.method({col: value}, inplace=True)' or df[col] = df[col].method(value) instead, to perform the operation inplace on the original object.\n",
      "\n",
      "\n",
      "  df['number_available_in_stock'].fillna(0, inplace=True)\n"
     ]
    }
   ],
   "source": [
    "df['number_available_in_stock'].fillna(0, inplace=True)\n",
    "print(df['number_available_in_stock'])"
   ]
  },
  {
   "cell_type": "code",
   "execution_count": 22,
   "id": "c41cbb6a",
   "metadata": {},
   "outputs": [
    {
     "name": "stderr",
     "output_type": "stream",
     "text": [
      "/var/folders/d2/zqv2mpg17tzb0413h3b_jwb00000gn/T/ipykernel_42910/2756258389.py:3: FutureWarning: A value is trying to be set on a copy of a DataFrame or Series through chained assignment using an inplace method.\n",
      "The behavior will change in pandas 3.0. This inplace method will never work because the intermediate object on which we are setting values always behaves as a copy.\n",
      "\n",
      "For example, when doing 'df[col].method(value, inplace=True)', try using 'df.method({col: value}, inplace=True)' or df[col] = df[col].method(value) instead, to perform the operation inplace on the original object.\n",
      "\n",
      "\n",
      "  df['condition'].fillna('', inplace=True)  # Fill NaN with empty string for rows with no condition\n"
     ]
    }
   ],
   "source": [
    "df['quantity'] = df['number_available_in_stock'].str.extract(r'^(\\d+)').fillna(0).astype(int)\n",
    "df['condition'] = df['number_available_in_stock'].str.extract(r'\\s(.*)')  # Extract condition if it exists\n",
    "df['condition'].fillna('', inplace=True)  # Fill NaN with empty string for rows with no condition\n",
    "\n"
   ]
  },
  {
   "cell_type": "code",
   "execution_count": 23,
   "id": "f1c31474",
   "metadata": {},
   "outputs": [
    {
     "name": "stdout",
     "output_type": "stream",
     "text": [
      "      quantity condition\n",
      "0            5       new\n",
      "1            0          \n",
      "2            2       new\n",
      "3            0          \n",
      "4            0          \n",
      "...        ...       ...\n",
      "9994         5       new\n",
      "9995         0          \n",
      "9996         3       new\n",
      "9997         3       new\n",
      "9998        31       new\n",
      "\n",
      "[9999 rows x 2 columns]\n"
     ]
    }
   ],
   "source": [
    "print(df[['quantity', 'condition']])"
   ]
  },
  {
   "cell_type": "code",
   "execution_count": 25,
   "id": "8e49fc4e",
   "metadata": {},
   "outputs": [
    {
     "data": {
      "text/plain": [
       "array(['new', '', 'used', 'collectible', 'refurbished'], dtype=object)"
      ]
     },
     "execution_count": 25,
     "metadata": {},
     "output_type": "execute_result"
    }
   ],
   "source": [
    "df['condition'].unique()"
   ]
  },
  {
   "cell_type": "code",
   "execution_count": 26,
   "id": "fe389d7d",
   "metadata": {},
   "outputs": [
    {
     "name": "stdout",
     "output_type": "stream",
     "text": [
      "     ship_country  country_id\n",
      "0   United States           1\n",
      "1          Canada           2\n",
      "2       Australia           3\n",
      "3  United Kingdom           4\n",
      "4         Germany           5\n",
      "5          France           6\n"
     ]
    }
   ],
   "source": [
    "unique_countries = df['ship_country'].drop_duplicates().reset_index(drop=True)\n",
    "unique_countries = pd.DataFrame(unique_countries, columns=['ship_country'])\n",
    "unique_countries['country_id'] = unique_countries.index + 1  # Generate unique IDs starting from 1\n",
    "\n",
    "# Create a country ID mapping\n",
    "country_mapping = dict(zip(unique_countries['ship_country'], unique_countries['country_id']))\n",
    "\n",
    "# Update product data\n",
    "df['country_id'] = df['ship_country'].map(country_mapping)\n",
    "df = df.drop(columns=['ship_country'])\n",
    "\n",
    "# Save the countries DataFrame\n",
    "unique_countries.to_csv('countries.csv', index=False)\n",
    "\n",
    "# Save the updated product DataFrame\n",
    "#df.to_csv('products_updated.csv', index=False)\n",
    "print(unique_countries)"
   ]
  },
  {
   "cell_type": "code",
   "execution_count": 54,
   "id": "5cc39862",
   "metadata": {},
   "outputs": [
    {
     "name": "stdout",
     "output_type": "stream",
     "text": [
      "<class 'pandas.core.frame.DataFrame'>\n",
      "RangeIndex: 9999 entries, 0 to 9998\n",
      "Data columns (total 21 columns):\n",
      " #   Column                                       Non-Null Count  Dtype  \n",
      "---  ------                                       --------------  -----  \n",
      " 0   uniq_id                                      9999 non-null   object \n",
      " 1   product_name                                 9999 non-null   object \n",
      " 2   manufacturer                                 9999 non-null   object \n",
      " 3   price                                        8565 non-null   object \n",
      " 4   purchase_date                                9999 non-null   object \n",
      " 5   ship_date                                    9999 non-null   object \n",
      " 6   number_available_in_stock                    9999 non-null   object \n",
      " 7   number_of_reviews                            9981 non-null   object \n",
      " 8   number_of_answered_questions                 9234 non-null   float64\n",
      " 9   average_review_rating                        9981 non-null   object \n",
      " 10  amazon_category_and_sub_category             9309 non-null   object \n",
      " 11  customers_who_bought_this_item_also_bought   8937 non-null   object \n",
      " 12  description                                  9348 non-null   object \n",
      " 13  product_information                          9941 non-null   object \n",
      " 14  product_description                          9348 non-null   object \n",
      " 15  items_customers_buy_after_viewing_this_item  6934 non-null   object \n",
      " 16  customer_questions_and_answers               913 non-null    object \n",
      " 17  customer_reviews                             9999 non-null   object \n",
      " 18  quantity                                     9999 non-null   int64  \n",
      " 19  condition                                    9999 non-null   object \n",
      " 20  country_id                                   9999 non-null   int64  \n",
      "dtypes: float64(1), int64(2), object(18)\n",
      "memory usage: 1.6+ MB\n",
      "None\n"
     ]
    }
   ],
   "source": [
    "print(df.info())"
   ]
  },
  {
   "cell_type": "code",
   "execution_count": 56,
   "id": "7226fb80",
   "metadata": {},
   "outputs": [
    {
     "name": "stdout",
     "output_type": "stream",
     "text": [
      "                               uniq_id  \\\n",
      "0     eac7efa5dbd3d667f26eb3d3ab504464   \n",
      "1     b17540ef7e86e461d37f3ae58b7b72ac   \n",
      "2     348f344247b0c1a935b1223072ef9d8a   \n",
      "3     e12b92dbb8eaee78b22965d2a9bbbd9f   \n",
      "4     e33a9adeed5f36840ccc227db4682a36   \n",
      "...                                ...   \n",
      "9994  44d6967f083825a5de36ad4865a65bcd   \n",
      "9995  08f0747b6fc6687215ffb994c3a6fb32   \n",
      "9996  bf6cc073f8f24e6e338190fa16f6ee9d   \n",
      "9997  cd783d0b8b44e631b9788b203eaaefae   \n",
      "9998  94d18e86e504bee1e392df7e5738b18a   \n",
      "\n",
      "                       amazon_category_and_sub_category  \n",
      "0     Hobbies > Model Trains & Railway Sets > Rail V...  \n",
      "1     Hobbies > Model Trains & Railway Sets > Rail V...  \n",
      "2     Hobbies > Model Trains & Railway Sets > Rail V...  \n",
      "3     Hobbies > Model Trains & Railway Sets > Rail V...  \n",
      "4     Hobbies > Model Trains & Railway Sets > Rail V...  \n",
      "...                                                 ...  \n",
      "9994  Hobbies > Collectible Figures & Memorabilia > ...  \n",
      "9995             Characters & Brands > Star Wars > Toys  \n",
      "9996  Novelty & Special Use > Novelty > Accessories ...  \n",
      "9997  Hobbies > Collectible Figures & Memorabilia > ...  \n",
      "9998             Characters & Brands > Star Wars > Toys  \n",
      "\n",
      "[9999 rows x 2 columns]\n"
     ]
    }
   ],
   "source": [
    "print(df[['uniq_id', 'amazon_category_and_sub_category']])"
   ]
  },
  {
   "cell_type": "code",
   "execution_count": 58,
   "id": "69fb19f0",
   "metadata": {},
   "outputs": [
    {
     "name": "stdout",
     "output_type": "stream",
     "text": [
      "d_category DataFrame:\n",
      "                            product_id               Category\n",
      "0     eac7efa5dbd3d667f26eb3d3ab504464                Hobbies\n",
      "1     b17540ef7e86e461d37f3ae58b7b72ac                Hobbies\n",
      "2     348f344247b0c1a935b1223072ef9d8a                Hobbies\n",
      "3     e12b92dbb8eaee78b22965d2a9bbbd9f                Hobbies\n",
      "4     e33a9adeed5f36840ccc227db4682a36                Hobbies\n",
      "...                                ...                    ...\n",
      "9994  44d6967f083825a5de36ad4865a65bcd                Hobbies\n",
      "9995  08f0747b6fc6687215ffb994c3a6fb32    Characters & Brands\n",
      "9996  bf6cc073f8f24e6e338190fa16f6ee9d  Novelty & Special Use\n",
      "9997  cd783d0b8b44e631b9788b203eaaefae                Hobbies\n",
      "9998  94d18e86e504bee1e392df7e5738b18a    Characters & Brands\n",
      "\n",
      "[9999 rows x 2 columns]\n",
      "\n",
      "d_sub_category DataFrame:\n",
      "                            product_id                       Sub_Category  \\\n",
      "0     eac7efa5dbd3d667f26eb3d3ab504464        Model Trains & Railway Sets   \n",
      "1     b17540ef7e86e461d37f3ae58b7b72ac        Model Trains & Railway Sets   \n",
      "2     348f344247b0c1a935b1223072ef9d8a        Model Trains & Railway Sets   \n",
      "3     e12b92dbb8eaee78b22965d2a9bbbd9f        Model Trains & Railway Sets   \n",
      "4     e33a9adeed5f36840ccc227db4682a36        Model Trains & Railway Sets   \n",
      "...                                ...                                ...   \n",
      "9994  44d6967f083825a5de36ad4865a65bcd  Collectible Figures & Memorabilia   \n",
      "9995  08f0747b6fc6687215ffb994c3a6fb32                          Star Wars   \n",
      "9996  bf6cc073f8f24e6e338190fa16f6ee9d                            Novelty   \n",
      "9997  cd783d0b8b44e631b9788b203eaaefae  Collectible Figures & Memorabilia   \n",
      "9998  94d18e86e504bee1e392df7e5738b18a                          Star Wars   \n",
      "\n",
      "                     Sub_Sub_Category Sub_Sub_Sub_Category    id  \n",
      "0                       Rail Vehicles               Trains     1  \n",
      "1                       Rail Vehicles               Trains     2  \n",
      "2                       Rail Vehicles               Trains     3  \n",
      "3                       Rail Vehicles               Trains     4  \n",
      "4                       Rail Vehicles               Trains     5  \n",
      "...                               ...                  ...   ...  \n",
      "9994  Collectible Props & Memorabilia                 None  9995  \n",
      "9995                             Toys                 None  9996  \n",
      "9996                      Accessories       Buttons & Pins  9997  \n",
      "9997  Collectible Props & Memorabilia                 None  9998  \n",
      "9998                             Toys                 None  9999  \n",
      "\n",
      "[9999 rows x 5 columns]\n"
     ]
    }
   ],
   "source": [
    "df[['Category', 'Sub_Category', 'Sub_Sub_Category', 'Sub_Sub_Sub_Category']] = df['amazon_category_and_sub_category'].str.split(' > ', expand=True, n=3)\n",
    "\n",
    "# Create unique identifiers for subcategories\n",
    "df['Sub_Category_ID'] = df['Sub_Category'].factorize()[0] + 1\n",
    "df['Sub_Sub_Category_ID'] = df['Sub_Sub_Category'].factorize()[0] + 1\n",
    "df['Sub_Sub_Sub_Category_ID'] = df['Sub_Sub_Sub_Category'].factorize()[0] + 1\n",
    "\n",
    "# Create d_category DataFrame\n",
    "d_category = df[['uniq_id', 'Category']].drop_duplicates().reset_index(drop=True)\n",
    "d_category.rename(columns={'uniq_id': 'product_id'}, inplace=True)\n",
    "\n",
    "# Create d_sub_category DataFrame\n",
    "d_sub_category = df[['uniq_id', 'Sub_Category', 'Sub_Sub_Category', 'Sub_Sub_Sub_Category']].drop_duplicates().reset_index(drop=True)\n",
    "d_sub_category.rename(columns={'uniq_id': 'product_id'}, inplace=True)\n",
    "d_sub_category['id'] = d_sub_category.index + 1  # Add a primary key column\n",
    "\n",
    "# Display the new DataFrames\n",
    "print(\"d_category DataFrame:\")\n",
    "print(d_category)\n",
    "print(\"\\nd_sub_category DataFrame:\")\n",
    "print(d_sub_category)"
   ]
  },
  {
   "cell_type": "code",
   "execution_count": 63,
   "id": "e83979dd",
   "metadata": {},
   "outputs": [
    {
     "name": "stdout",
     "output_type": "stream",
     "text": [
      "                            Category  category_id\n",
      "0                            Hobbies            1\n",
      "1                                NaN            2\n",
      "2                Characters & Brands            3\n",
      "3                        Fancy Dress            4\n",
      "4                               Bags            5\n",
      "5                      Arts & Crafts            6\n",
      "6           Handbags & Shoulder Bags            7\n",
      "7                              Games            8\n",
      "8                 Figures & Playsets            9\n",
      "9                   Home Accessories           10\n",
      "10           Sweets, Chocolate & Gum           11\n",
      "11             Sports Toys & Outdoor           12\n",
      "12           Die-Cast & Toy Vehicles           13\n",
      "13               Baby & Toddler Toys           14\n",
      "14   Storage, Cleaning & Ring Sizers           15\n",
      "15                  Bedding & Linens           16\n",
      "16                   Office Supplies           17\n",
      "17                    Party Supplies           18\n",
      "18                  Camping & Hiking           19\n",
      "19                      Pretend Play           20\n",
      "20                             Women           21\n",
      "21                   Electronic Toys           22\n",
      "22                         Car Parts           23\n",
      "23               Dolls & Accessories           24\n",
      "24                   Indoor Lighting           25\n",
      "25                  Educational Toys           26\n",
      "26   Laundry, Storage & Organisation           27\n",
      "27                  Supporters' Gear           28\n",
      "28             Jams, Honey & Spreads           29\n",
      "29             Novelty & Special Use           30\n",
      "30           Musical Toy Instruments           31\n",
      "31                               Men           32\n",
      "32                  Sex & Sensuality           33\n",
      "33                  Cooking & Dining           34\n",
      "34             Medication & Remedies           35\n",
      "35         Puppets & Puppet Theatres           36\n",
      "36                 Jigsaws & Puzzles           37\n",
      "37                              Dogs           38\n",
      "38      Medical Supplies & Equipment           39\n",
      "39  Pens, Pencils & Writing Supplies           40\n",
      "40                      Worlds Apart           41\n",
      "41                         Gardening           42\n",
      "42         Lab & Scientific Products           43\n",
      "43                 Novelty Jewellery           44\n"
     ]
    }
   ],
   "source": [
    "# Drop duplicates based on 'Category' column, keeping the first occurrence\n",
    "d_category = d_category.drop_duplicates(subset='Category').reset_index(drop=True)\n",
    "\n",
    "# Add a 'category_id' column with increasing values from one\n",
    "d_category['category_id'] = range(1, len(d_category) + 1)\n",
    "\n",
    "# Drop the 'product_id' column\n",
    "d_category = d_category.drop(columns=['product_id'])\n",
    "\n",
    "# Display the resulting DataFram\n",
    "print(d_category)\n"
   ]
  },
  {
   "cell_type": "code",
   "execution_count": 59,
   "id": "ca6924eb",
   "metadata": {},
   "outputs": [
    {
     "name": "stdout",
     "output_type": "stream",
     "text": [
      "                            product_id               Category\n",
      "0     eac7efa5dbd3d667f26eb3d3ab504464                Hobbies\n",
      "1     b17540ef7e86e461d37f3ae58b7b72ac                Hobbies\n",
      "2     348f344247b0c1a935b1223072ef9d8a                Hobbies\n",
      "3     e12b92dbb8eaee78b22965d2a9bbbd9f                Hobbies\n",
      "4     e33a9adeed5f36840ccc227db4682a36                Hobbies\n",
      "...                                ...                    ...\n",
      "9994  44d6967f083825a5de36ad4865a65bcd                Hobbies\n",
      "9995  08f0747b6fc6687215ffb994c3a6fb32    Characters & Brands\n",
      "9996  bf6cc073f8f24e6e338190fa16f6ee9d  Novelty & Special Use\n",
      "9997  cd783d0b8b44e631b9788b203eaaefae                Hobbies\n",
      "9998  94d18e86e504bee1e392df7e5738b18a    Characters & Brands\n",
      "\n",
      "[9999 rows x 2 columns]\n"
     ]
    }
   ],
   "source": [
    "print(d_category)"
   ]
  },
  {
   "cell_type": "code",
   "execution_count": 28,
   "id": "69c5ad00",
   "metadata": {},
   "outputs": [
    {
     "name": "stdout",
     "output_type": "stream",
     "text": [
      "      manufacturer_id manufacturer_name\n",
      "0                   1            Hornby\n",
      "1                   2         FunkyBuys\n",
      "2                   3               ccf\n",
      "3                   4           Generic\n",
      "4                   5       Chuggington\n",
      "...               ...               ...\n",
      "2646             2647          Feldherr\n",
      "2647             2648               GGS\n",
      "2648             2649   Captain america\n",
      "2649             2650           IronMan\n",
      "2650             2651      Super Heroes\n",
      "\n",
      "[2651 rows x 2 columns]\n"
     ]
    },
    {
     "name": "stderr",
     "output_type": "stream",
     "text": [
      "/var/folders/d2/zqv2mpg17tzb0413h3b_jwb00000gn/T/ipykernel_42910/2172223898.py:1: FutureWarning: A value is trying to be set on a copy of a DataFrame or Series through chained assignment using an inplace method.\n",
      "The behavior will change in pandas 3.0. This inplace method will never work because the intermediate object on which we are setting values always behaves as a copy.\n",
      "\n",
      "For example, when doing 'df[col].method(value, inplace=True)', try using 'df.method({col: value}, inplace=True)' or df[col] = df[col].method(value) instead, to perform the operation inplace on the original object.\n",
      "\n",
      "\n",
      "  df['manufacturer'].replace({None: 'Unknown', '': 'Unknown'}, inplace=True)\n"
     ]
    }
   ],
   "source": [
    "df['manufacturer'].replace({None: 'Unknown', '': 'Unknown'}, inplace=True)\n",
    "\n",
    "# Drop duplicates and keep only unique manufacturers\n",
    "unique_manufacturers = df['manufacturer'].drop_duplicates().reset_index(drop=True)\n",
    "\n",
    "# Create a new DataFrame with manufacturer_id\n",
    "d_manufacturers = pd.DataFrame({\n",
    "    'manufacturer_id': range(1, len(unique_manufacturers) + 1),\n",
    "    'manufacturer_name': unique_manufacturers\n",
    "})\n",
    "\n",
    "# Print the new DataFrame\n",
    "print(d_manufacturers)"
   ]
  },
  {
   "cell_type": "code",
   "execution_count": 29,
   "id": "5ca2ef75",
   "metadata": {},
   "outputs": [
    {
     "name": "stdout",
     "output_type": "stream",
     "text": [
      "['Hornby' 'FunkyBuys' 'ccf' ... 'Captain america' 'IronMan' 'Super Heroes']\n"
     ]
    }
   ],
   "source": [
    "print(df['manufacturer'].unique())"
   ]
  },
  {
   "cell_type": "code",
   "execution_count": 30,
   "id": "c4eb7639",
   "metadata": {},
   "outputs": [],
   "source": [
    "unique_manufacturers = df['manufacturer'].drop_duplicates().reset_index(drop=True)\n",
    "unique_manufacturers = pd.DataFrame(unique_manufacturers, columns=['manufacturer_name'])"
   ]
  },
  {
   "cell_type": "code",
   "execution_count": 31,
   "id": "0a07020f",
   "metadata": {},
   "outputs": [
    {
     "name": "stdout",
     "output_type": "stream",
     "text": [
      "0       Worth Buying For The Pictures Alone (As Ever) ...\n",
      "1       Four Stars // 4.0 // 18 Dec. 2015 // By\\n    \\...\n",
      "2       **Highly Recommended!** // 5.0 // 26 May 2015 ...\n",
      "3       I love it // 5.0 // 22 July 2013 // By\\n    \\n...\n",
      "4       Birthday present // 5.0 // 14 April 2014 // By...\n",
      "                              ...                        \n",
      "9994    Realistic // 5.0 // 31 Mar. 2014 // By\\n    \\n...\n",
      "9995    ... what I see my grandson us going to have fu...\n",
      "9996    Five Stars // 5.0 // 18 Dec. 2015 // By\\n    \\...\n",
      "9997    The best sculpt in a while // 5.0 // 13 May 20...\n",
      "9998    Gold leader // 5.0 // 31 Aug. 2015 // By\\n    ...\n",
      "Name: customer_reviews, Length: 9999, dtype: object\n"
     ]
    }
   ],
   "source": [
    "print(df['customer_reviews'])"
   ]
  },
  {
   "cell_type": "code",
   "execution_count": 32,
   "id": "4d6c6648",
   "metadata": {},
   "outputs": [],
   "source": [
    "import re"
   ]
  },
  {
   "cell_type": "code",
   "execution_count": 33,
   "id": "0abad578",
   "metadata": {},
   "outputs": [
    {
     "name": "stdout",
     "output_type": "stream",
     "text": [
      "                                             review  rating review_date  \\\n",
      "0     Worth Buying For The Pictures Alone (As Ever)     4.0  2014-04-06   \n",
      "1                                              None     NaN         NaT   \n",
      "2                           **Highly Recommended!**     5.0  2015-05-26   \n",
      "3                                         I love it     5.0  2013-07-22   \n",
      "4                                  Birthday present     5.0  2014-04-14   \n",
      "...                                             ...     ...         ...   \n",
      "9994                                           None     NaN         NaT   \n",
      "9995                                           None     NaN         NaT   \n",
      "9996                                           None     NaN         NaT   \n",
      "9997                     The best sculpt in a while     5.0  2010-05-13   \n",
      "9998                                           None     NaN         NaT   \n",
      "\n",
      "            author                        product_id  \n",
      "0      Copnovelist  eac7efa5dbd3d667f26eb3d3ab504464  \n",
      "1             None  b17540ef7e86e461d37f3ae58b7b72ac  \n",
      "2      Simon.B :-)  348f344247b0c1a935b1223072ef9d8a  \n",
      "3     Lilla Lukacs  e12b92dbb8eaee78b22965d2a9bbbd9f  \n",
      "4      Love my Dog  e33a9adeed5f36840ccc227db4682a36  \n",
      "...            ...                               ...  \n",
      "9994          None  44d6967f083825a5de36ad4865a65bcd  \n",
      "9995          None  08f0747b6fc6687215ffb994c3a6fb32  \n",
      "9996          None  bf6cc073f8f24e6e338190fa16f6ee9d  \n",
      "9997     Sodam Yat  cd783d0b8b44e631b9788b203eaaefae  \n",
      "9998          None  94d18e86e504bee1e392df7e5738b18a  \n",
      "\n",
      "[9999 rows x 5 columns]\n"
     ]
    }
   ],
   "source": [
    "def parse_review(review):\n",
    "    if not isinstance(review, str):\n",
    "        return pd.Series([None, None, None, None])\n",
    "    \n",
    "    # Improved regex to better capture author details\n",
    "    match = re.match(r'(.+?) // (\\d+\\.\\d+) // (\\d{1,2} \\w+ \\d{4}) // By\\s*(.+?)(?:\\n|$)', review, re.DOTALL)\n",
    "    if match:\n",
    "        review_text, rating, date, author = match.groups()\n",
    "        return pd.Series([review_text.strip(), float(rating), date.strip(), author.strip()])\n",
    "    else:\n",
    "        return pd.Series([None, None, None, None])\n",
    "\n",
    "# Convert all entries to strings\n",
    "df['customer_reviews'] = df['customer_reviews'].astype(str)\n",
    "\n",
    "# Apply function to the DataFrame\n",
    "d_reviews = df['customer_reviews'].apply(parse_review)\n",
    "d_reviews.columns = ['review', 'rating', 'review_date', 'author']\n",
    "\n",
    "# Add product_id column to d_reviews\n",
    "d_reviews['product_id'] = df['uniq_id']\n",
    "d_reviews['review_date'] = pd.to_datetime(d_reviews['review_date'], format='%d %B %Y', errors='coerce')\n",
    "\n",
    "print(d_reviews)"
   ]
  },
  {
   "cell_type": "code",
   "execution_count": 34,
   "id": "4bc3c46a",
   "metadata": {},
   "outputs": [
    {
     "name": "stdout",
     "output_type": "stream",
     "text": [
      "<class 'pandas.core.frame.DataFrame'>\n",
      "RangeIndex: 9999 entries, 0 to 9998\n",
      "Data columns (total 21 columns):\n",
      " #   Column                                       Non-Null Count  Dtype  \n",
      "---  ------                                       --------------  -----  \n",
      " 0   uniq_id                                      9999 non-null   object \n",
      " 1   product_name                                 9999 non-null   object \n",
      " 2   manufacturer                                 9999 non-null   object \n",
      " 3   price                                        8565 non-null   object \n",
      " 4   purchase_date                                9999 non-null   object \n",
      " 5   ship_date                                    9999 non-null   object \n",
      " 6   number_available_in_stock                    9999 non-null   object \n",
      " 7   number_of_reviews                            9981 non-null   object \n",
      " 8   number_of_answered_questions                 9234 non-null   float64\n",
      " 9   average_review_rating                        9981 non-null   object \n",
      " 10  amazon_category_and_sub_category             9309 non-null   object \n",
      " 11  customers_who_bought_this_item_also_bought   8937 non-null   object \n",
      " 12  description                                  9348 non-null   object \n",
      " 13  product_information                          9941 non-null   object \n",
      " 14  product_description                          9348 non-null   object \n",
      " 15  items_customers_buy_after_viewing_this_item  6934 non-null   object \n",
      " 16  customer_questions_and_answers               913 non-null    object \n",
      " 17  customer_reviews                             9999 non-null   object \n",
      " 18  quantity                                     9999 non-null   int64  \n",
      " 19  condition                                    9999 non-null   object \n",
      " 20  country_id                                   9999 non-null   int64  \n",
      "dtypes: float64(1), int64(2), object(18)\n",
      "memory usage: 1.6+ MB\n",
      "None\n"
     ]
    }
   ],
   "source": [
    "print(df.info())"
   ]
  },
  {
   "cell_type": "code",
   "execution_count": 35,
   "id": "7b0ec89d",
   "metadata": {},
   "outputs": [
    {
     "name": "stdout",
     "output_type": "stream",
     "text": [
      "         author  customer_id\n",
      "0   Copnovelist            1\n",
      "1          None            2\n",
      "2   Simon.B :-)            3\n",
      "3  Lilla Lukacs            4\n",
      "4   Love my Dog            5\n"
     ]
    }
   ],
   "source": [
    "# Create d_customers DataFrame\n",
    "d_customers = pd.DataFrame({'author': d_reviews['author'].unique()})\n",
    "d_customers['customer_id'] = range(1, len(d_customers) + 1)\n",
    "\n",
    "# Merge d_reviews with d_customers to replace author with customer_id\n",
    "d_reviews = d_reviews.merge(d_customers, on='author', how='left')\n",
    "\n",
    "# Drop the original author column and rename customer_id column\n",
    "d_reviews = d_reviews.drop(columns=['author'])\n",
    "d_reviews = d_reviews.rename(columns={'customer_id': 'author_id'})\n",
    "\n",
    "print(d_customers.head())"
   ]
  },
  {
   "cell_type": "code",
   "execution_count": 36,
   "id": "43b71d29",
   "metadata": {},
   "outputs": [],
   "source": [
    "d_customers.rename(columns={'author': 'customer_name'}, inplace=True)\n"
   ]
  },
  {
   "cell_type": "code",
   "execution_count": 37,
   "id": "d6a756a6",
   "metadata": {},
   "outputs": [
    {
     "name": "stdout",
     "output_type": "stream",
     "text": [
      "                                     customer_name  customer_id\n",
      "0                                      Copnovelist            1\n",
      "1                                             None            2\n",
      "2                                      Simon.B :-)            3\n",
      "3                                     Lilla Lukacs            4\n",
      "4                                      Love my Dog            5\n",
      "...                                            ...          ...\n",
      "3242                                         fumps         3243\n",
      "3243                                          Robo         3244\n",
      "3244  Margie Greyvenstein author of  'Masked Gods'         3245\n",
      "3245                                        Jay B.         3246\n",
      "3246                                     Sodam Yat         3247\n",
      "\n",
      "[3247 rows x 2 columns]\n"
     ]
    }
   ],
   "source": [
    "print(d_customers)"
   ]
  },
  {
   "cell_type": "code",
   "execution_count": 38,
   "id": "9223bab8",
   "metadata": {},
   "outputs": [
    {
     "name": "stdout",
     "output_type": "stream",
     "text": [
      "                                             review  rating review_date  \\\n",
      "0     Worth Buying For The Pictures Alone (As Ever)     4.0  2014-04-06   \n",
      "1                                              None     NaN         NaT   \n",
      "2                           **Highly Recommended!**     5.0  2015-05-26   \n",
      "3                                         I love it     5.0  2013-07-22   \n",
      "4                                  Birthday present     5.0  2014-04-14   \n",
      "...                                             ...     ...         ...   \n",
      "9994                                           None     NaN         NaT   \n",
      "9995                                           None     NaN         NaT   \n",
      "9996                                           None     NaN         NaT   \n",
      "9997                     The best sculpt in a while     5.0  2010-05-13   \n",
      "9998                                           None     NaN         NaT   \n",
      "\n",
      "                            product_id  author_id  \n",
      "0     eac7efa5dbd3d667f26eb3d3ab504464          1  \n",
      "1     b17540ef7e86e461d37f3ae58b7b72ac          2  \n",
      "2     348f344247b0c1a935b1223072ef9d8a          3  \n",
      "3     e12b92dbb8eaee78b22965d2a9bbbd9f          4  \n",
      "4     e33a9adeed5f36840ccc227db4682a36          5  \n",
      "...                                ...        ...  \n",
      "9994  44d6967f083825a5de36ad4865a65bcd          2  \n",
      "9995  08f0747b6fc6687215ffb994c3a6fb32          2  \n",
      "9996  bf6cc073f8f24e6e338190fa16f6ee9d          2  \n",
      "9997  cd783d0b8b44e631b9788b203eaaefae       3247  \n",
      "9998  94d18e86e504bee1e392df7e5738b18a          2  \n",
      "\n",
      "[9999 rows x 5 columns]\n"
     ]
    }
   ],
   "source": [
    "print(d_reviews)"
   ]
  },
  {
   "cell_type": "code",
   "execution_count": 39,
   "id": "4e9c847d",
   "metadata": {},
   "outputs": [
    {
     "name": "stdout",
     "output_type": "stream",
     "text": [
      "     condition  condition_id\n",
      "0          new             1\n",
      "1                          2\n",
      "2         used             3\n",
      "3  collectible             4\n",
      "4  refurbished             5\n"
     ]
    }
   ],
   "source": [
    "conditions = pd.DataFrame({'condition': df['condition'].unique()})\n",
    "conditions['condition_id'] = range(1, len(conditions) + 1)\n",
    "\n",
    "# Print the DataFrame\n",
    "print(conditions.head())"
   ]
  },
  {
   "cell_type": "code",
   "execution_count": null,
   "id": "661d3cf8",
   "metadata": {},
   "outputs": [],
   "source": []
  },
  {
   "cell_type": "code",
   "execution_count": 40,
   "id": "d8b3b5ea",
   "metadata": {},
   "outputs": [
    {
     "name": "stdout",
     "output_type": "stream",
     "text": [
      "SQLAlchemy version: 2.0.31\n",
      "PyMySQL version: 1.4.6\n"
     ]
    }
   ],
   "source": [
    "import sqlalchemy\n",
    "import pymysql\n",
    "\n",
    "print(f\"SQLAlchemy version: {sqlalchemy.__version__}\")\n",
    "print(f\"PyMySQL version: {pymysql.__version__}\")\n"
   ]
  },
  {
   "cell_type": "code",
   "execution_count": 43,
   "id": "3e7968d6",
   "metadata": {},
   "outputs": [
    {
     "name": "stdout",
     "output_type": "stream",
     "text": [
      "                                     customer_name  customer_id\n",
      "0                                      Copnovelist            1\n",
      "1                                             None            2\n",
      "2                                      Simon.B :-)            3\n",
      "3                                     Lilla Lukacs            4\n",
      "4                                      Love my Dog            5\n",
      "...                                            ...          ...\n",
      "3242                                         fumps         3243\n",
      "3243                                          Robo         3244\n",
      "3244  Margie Greyvenstein author of  'Masked Gods'         3245\n",
      "3245                                        Jay B.         3246\n",
      "3246                                     Sodam Yat         3247\n",
      "\n",
      "[3247 rows x 2 columns]\n"
     ]
    }
   ],
   "source": [
    "print(d_customers)"
   ]
  },
  {
   "cell_type": "code",
   "execution_count": 53,
   "id": "0d7f9801",
   "metadata": {},
   "outputs": [
    {
     "data": {
      "text/plain": [
       "3247"
      ]
     },
     "execution_count": 53,
     "metadata": {},
     "output_type": "execute_result"
    }
   ],
   "source": [
    "import pandas as pd\n",
    "from sqlalchemy import create_engine\n",
    "\n",
    "# Database credentials\n",
    "db_user = 'root'\n",
    "db_password = ''\n",
    "db_host = 'localhost'\n",
    "db_port = 3306\n",
    "db_name = 'amazon_sales_db'\n",
    "\n",
    "# Create the database engine\n",
    "engine = create_engine(f'mysql+pymysql://{db_user}:{db_password}@{db_host}:{db_port}/{db_name}')\n",
    "\n",
    "# Load DataFrame into the MySQL table\n",
    "d_customers.to_sql('d_customers', con=engine, if_exists='append', index=False)\n",
    "\n"
   ]
  },
  {
   "cell_type": "code",
   "execution_count": 52,
   "id": "9600776b",
   "metadata": {},
   "outputs": [
    {
     "data": {
      "text/plain": [
       "2651"
      ]
     },
     "execution_count": 52,
     "metadata": {},
     "output_type": "execute_result"
    }
   ],
   "source": [
    "d_manufacturers.to_sql('d_manufacturers', con=engine, if_exists='append', index=False)"
   ]
  },
  {
   "cell_type": "code",
   "execution_count": 64,
   "id": "5cc51934",
   "metadata": {},
   "outputs": [
    {
     "data": {
      "text/plain": [
       "44"
      ]
     },
     "execution_count": 64,
     "metadata": {},
     "output_type": "execute_result"
    }
   ],
   "source": [
    "d_category.to_sql('d_categories', con=engine, if_exists=\"append\", index=False)"
   ]
  }
 ],
 "metadata": {
  "kernelspec": {
   "display_name": "Python 3 (ipykernel)",
   "language": "python",
   "name": "python3"
  },
  "language_info": {
   "codemirror_mode": {
    "name": "ipython",
    "version": 3
   },
   "file_extension": ".py",
   "mimetype": "text/x-python",
   "name": "python",
   "nbconvert_exporter": "python",
   "pygments_lexer": "ipython3",
   "version": "3.12.2"
  }
 },
 "nbformat": 4,
 "nbformat_minor": 5
}
