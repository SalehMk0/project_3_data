{
 "cells": [
  {
   "cell_type": "code",
   "execution_count": 219,
   "id": "d4de0fd0-1f16-4321-98ba-3d56b0b580c3",
   "metadata": {},
   "outputs": [],
   "source": [
    "import pandas as pd"
   ]
  },
  {
   "cell_type": "code",
   "execution_count": 220,
   "id": "20a684da-35e0-4310-905b-222e19042933",
   "metadata": {},
   "outputs": [],
   "source": [
    "df = pd.read_csv('amazon.csv')"
   ]
  },
  {
   "cell_type": "code",
   "execution_count": 221,
   "id": "7b3a7729-35fe-4bce-a3b2-6b1fbfc58960",
   "metadata": {},
   "outputs": [
    {
     "name": "stderr",
     "output_type": "stream",
     "text": [
      "<>:1: SyntaxWarning: invalid escape sequence '\\d'\n",
      "<>:1: SyntaxWarning: invalid escape sequence '\\d'\n",
      "/var/folders/d2/zqv2mpg17tzb0413h3b_jwb00000gn/T/ipykernel_52705/4135669244.py:1: SyntaxWarning: invalid escape sequence '\\d'\n",
      "  df['price'] = df['price'].str.replace('[^\\d.]', '', regex=True)\n"
     ]
    },
    {
     "data": {
      "text/plain": [
       "dtype('float64')"
      ]
     },
     "execution_count": 221,
     "metadata": {},
     "output_type": "execute_result"
    }
   ],
   "source": [
    "df['price'] = df['price'].str.replace('[^\\d.]', '', regex=True)\n",
    "df['price'] = pd.to_numeric(df['price'], errors='coerce')\n",
    "df['price'].dtype"
   ]
  },
  {
   "cell_type": "code",
   "execution_count": 222,
   "id": "417a73ec-1399-494c-8cef-2621ae291fe9",
   "metadata": {},
   "outputs": [],
   "source": [
    "df['number_available_in_stock'] = df['number_available_in_stock'].str.replace('Â', '', regex=False)\n",
    "df[['quantity', 'condition']] = df['number_available_in_stock'].str.split(n=1, expand=True)\n",
    "df['quantity'] = pd.to_numeric(df['quantity'], errors='coerce')\n",
    "df['condition'] = df['condition'].str.strip()\n",
    "df['condition'] = df['condition'].fillna('Unknown')\n",
    "df = df.drop('number_available_in_stock', axis=1)"
   ]
  },
  {
   "cell_type": "code",
   "execution_count": 223,
   "id": "cba1983c-b594-46f1-9a95-7cffa8d58855",
   "metadata": {},
   "outputs": [],
   "source": [
    "df['number_of_answered_questions'] = df['number_of_answered_questions'].fillna(0).astype(int)\n",
    "df['number_of_answered_questions'] = df['number_of_answered_questions'].astype(int)"
   ]
  },
  {
   "cell_type": "code",
   "execution_count": 224,
   "id": "46617e65-fefe-4a1d-885d-cf769ca31d5a",
   "metadata": {},
   "outputs": [
    {
     "data": {
      "text/plain": [
       "dtype('int64')"
      ]
     },
     "execution_count": 224,
     "metadata": {},
     "output_type": "execute_result"
    }
   ],
   "source": [
    "df['number_of_answered_questions'].dtype"
   ]
  },
  {
   "cell_type": "code",
   "execution_count": 225,
   "id": "a054333f-33f3-47b8-9174-fc5106724d74",
   "metadata": {},
   "outputs": [],
   "source": [
    "df['average_review_rating'] = df['average_review_rating'].str.split().str[0].astype(float)"
   ]
  },
  {
   "cell_type": "code",
   "execution_count": 226,
   "id": "d1c1960e-a50c-464d-96d8-07217ec73d26",
   "metadata": {},
   "outputs": [
    {
     "data": {
      "text/plain": [
       "0       4.9\n",
       "1       4.5\n",
       "2       3.9\n",
       "3       5.0\n",
       "4       4.7\n",
       "       ... \n",
       "9994    5.0\n",
       "9995    4.0\n",
       "9996    5.0\n",
       "9997    5.0\n",
       "9998    4.5\n",
       "Name: average_review_rating, Length: 9999, dtype: float64"
      ]
     },
     "execution_count": 226,
     "metadata": {},
     "output_type": "execute_result"
    }
   ],
   "source": [
    "df['average_review_rating']"
   ]
  },
  {
   "cell_type": "code",
   "execution_count": 227,
   "id": "e25d7850-2350-4f24-83d2-3b81673dafee",
   "metadata": {},
   "outputs": [],
   "source": [
    "df.to_csv('data.csv', index=False)"
   ]
  },
  {
   "cell_type": "code",
   "execution_count": 228,
   "id": "ed6b591d-e2a8-48b0-99bf-acf0f696950c",
   "metadata": {},
   "outputs": [],
   "source": [
    "\n",
    "import numpy as np\n",
    "\n",
    "def split_review(text):\n",
    "    if pd.isna(text) or not isinstance(text, str):\n",
    "        return pd.Series([None, None, None, None])\n",
    "    \n",
    "    parts = text.split('//')\n",
    "    review = parts[0].strip()\n",
    "    rating = parts[1].strip() if len(parts) > 1 else None\n",
    "    date = parts[2].strip() if len(parts) > 2 else None\n",
    "    \n",
    "    if len(parts) > 3:\n",
    "        customer_date = parts[3].strip().split(' on ')\n",
    "        customer = customer_date[0].replace('\\n', '').strip()\n",
    "        date = customer_date[1] if len(customer_date) > 1 else date\n",
    "    else:\n",
    "        customer = None\n",
    "    customer = customer[2:].strip() if customer.startswith('By') else customer\n",
    "\n",
    "    return pd.Series([review, rating, date, customer])\n",
    "\n",
    "df[['review_text', 'rating', 'date', 'customer_name']] = df['customer_reviews'].apply(split_review)\n",
    "df = df.drop('customer_reviews', axis=1)\n"
   ]
  },
  {
   "cell_type": "code",
   "execution_count": 229,
   "id": "4e58bd44-83d9-430c-8e78-b2bf1edae61d",
   "metadata": {},
   "outputs": [],
   "source": [
    "df.to_csv('data.csv', index=False)"
   ]
  },
  {
   "cell_type": "code",
   "execution_count": 230,
   "id": "b8cd133b-ab0c-474f-a9ad-7c907275e31d",
   "metadata": {},
   "outputs": [
    {
     "data": {
      "text/plain": [
       "9994    DC 66 Batman Classic TV Series 6 Inch Riddler ...\n",
       "9995                                                  NaN\n",
       "9996    *Includes 1x Badge with holder and chain *High...\n",
       "9997    Designed by Ed BenesIt's here - the third seri...\n",
       "9998                                                  NaN\n",
       "Name: description, dtype: object"
      ]
     },
     "execution_count": 230,
     "metadata": {},
     "output_type": "execute_result"
    }
   ],
   "source": [
    "df['description'].tail(5)"
   ]
  },
  {
   "cell_type": "code",
   "execution_count": 231,
   "id": "2b51f2db-6df9-467e-81b1-0bde947b0e6f",
   "metadata": {},
   "outputs": [],
   "source": [
    "df = df.drop('description', axis =1)"
   ]
  },
  {
   "cell_type": "code",
   "execution_count": 232,
   "id": "d35df82f-ba36-4af5-a9fd-69ab24b4b536",
   "metadata": {},
   "outputs": [],
   "source": [
    "df.to_csv('data.csv', index= False)"
   ]
  },
  {
   "cell_type": "code",
   "execution_count": 233,
   "id": "70455f4c-5a71-4dd4-be8b-1b3c2d3bd1de",
   "metadata": {},
   "outputs": [],
   "source": [
    "# Combine the columns, using product_information if available, otherwise use product_description\n",
    "df['description'] = df['product_information'].fillna(df['product_description'])\n",
    "\n",
    "# If you want to use both, concatenating them when both are available:\n",
    "df['description'] = df['product_information'].fillna('') + ' ' + df['product_description'].fillna('')\n",
    "df['description'] = df['description'].str.strip()\n",
    "\n",
    "# Remove the original columns\n",
    "df = df.drop(['product_information', 'product_description'], axis=1)"
   ]
  },
  {
   "cell_type": "code",
   "execution_count": 234,
   "id": "8a1e3abb-af18-4cd3-9fdd-2b66a637238e",
   "metadata": {},
   "outputs": [],
   "source": [
    "df.to_csv('data.csv', index= False)"
   ]
  },
  {
   "cell_type": "code",
   "execution_count": 235,
   "id": "1592bdcf-8a62-47f1-b471-8dab389cd9b5",
   "metadata": {},
   "outputs": [],
   "source": [
    "\n",
    "df['category_list'] = df['amazon_category_and_sub_category'].str.split('>')\n",
    "\n",
    "\n",
    "df['category'] = df['category_list'].str[0].str.strip()\n",
    "df['sub_category_1'] = df['category_list'].str[1].str.strip()\n",
    "df['sub_category_2'] = df['category_list'].str[2].str.strip()\n",
    "df['sub_category_3'] = df['category_list'].str[3].str.strip()\n",
    "\n",
    "\n",
    "df = df.drop('category_list', axis=1)"
   ]
  },
  {
   "cell_type": "code",
   "execution_count": 236,
   "id": "76f102b9",
   "metadata": {},
   "outputs": [
    {
     "name": "stdout",
     "output_type": "stream",
     "text": [
      "0    Rail Vehicles\n",
      "1    Rail Vehicles\n",
      "2    Rail Vehicles\n",
      "3    Rail Vehicles\n",
      "4    Rail Vehicles\n",
      "Name: sub_category_2, dtype: object\n"
     ]
    }
   ],
   "source": [
    "print(df['sub_category_2'].head())"
   ]
  },
  {
   "cell_type": "code",
   "execution_count": 237,
   "id": "555d7e8e-471b-4e83-9e7c-4d6434db77f1",
   "metadata": {},
   "outputs": [
    {
     "name": "stdout",
     "output_type": "stream",
     "text": [
      "                            uniq_id  \\\n",
      "0  eac7efa5dbd3d667f26eb3d3ab504464   \n",
      "1  b17540ef7e86e461d37f3ae58b7b72ac   \n",
      "2  348f344247b0c1a935b1223072ef9d8a   \n",
      "3  e12b92dbb8eaee78b22965d2a9bbbd9f   \n",
      "4  e33a9adeed5f36840ccc227db4682a36   \n",
      "\n",
      "                                        product_name manufacturer  price  \\\n",
      "0                              Hornby 2014 Catalogue       Hornby   3.42   \n",
      "1  FunkyBuys® Large Christmas Holiday Express Fes...    FunkyBuys  16.99   \n",
      "2  CLASSIC TOY TRAIN SET TRACK CARRIAGES LIGHT EN...          ccf   9.99   \n",
      "3     HORNBY Coach R4410A BR Hawksworth Corridor 3rd       Hornby  39.99   \n",
      "4  Hornby 00 Gauge 0-4-0 Gildenlow Salt Co. Steam...       Hornby  32.19   \n",
      "\n",
      "  purchase_date   ship_date   ship_country number_of_reviews  \\\n",
      "0      6/4/2018   6/14/2018  United States                15   \n",
      "1     8/30/2022    9/2/2022  United States                 2   \n",
      "2      8/4/2020    8/6/2020  United States                17   \n",
      "3    10/27/2020  10/30/2020  United States                 1   \n",
      "4      2/3/2018    2/4/2018  United States                 3   \n",
      "\n",
      "   number_of_answered_questions  average_review_rating  ... condition  \\\n",
      "0                             1                    4.9  ...       new   \n",
      "1                             1                    4.5  ...   Unknown   \n",
      "2                             2                    3.9  ...       new   \n",
      "3                             2                    5.0  ...   Unknown   \n",
      "4                             2                    4.7  ...   Unknown   \n",
      "\n",
      "                                     review_text rating           date  \\\n",
      "0  Worth Buying For The Pictures Alone (As Ever)    4.0   6 April 2014   \n",
      "1                                     Four Stars    4.0   18 Dec. 2015   \n",
      "2                        **Highly Recommended!**    5.0    26 May 2015   \n",
      "3                                      I love it    5.0   22 July 2013   \n",
      "4                               Birthday present    5.0  14 April 2014   \n",
      "\n",
      "   customer_name                                        description category  \\\n",
      "0    Copnovelist  Technical Details Item Weight640 g Product Dim...  Hobbies   \n",
      "1   kenneth bell  Technical Details Manufacturer recommended age...  Hobbies   \n",
      "2    Simon.B :-)  Technical Details Manufacturer recommended age...  Hobbies   \n",
      "3   Lilla Lukacs  Technical Details Item Weight259 g Product Dim...  Hobbies   \n",
      "4    Love my Dog  Technical Details Item Weight159 g Product Dim...  Hobbies   \n",
      "\n",
      "                sub_category_1 sub_category_2 sub_category_3  \n",
      "0  Model Trains & Railway Sets  Rail Vehicles         Trains  \n",
      "1  Model Trains & Railway Sets  Rail Vehicles         Trains  \n",
      "2  Model Trains & Railway Sets  Rail Vehicles         Trains  \n",
      "3  Model Trains & Railway Sets  Rail Vehicles         Trains  \n",
      "4  Model Trains & Railway Sets  Rail Vehicles         Trains  \n",
      "\n",
      "[5 rows x 25 columns]\n"
     ]
    }
   ],
   "source": [
    "print(df.head())"
   ]
  },
  {
   "cell_type": "code",
   "execution_count": 238,
   "id": "c0a24305",
   "metadata": {},
   "outputs": [],
   "source": [
    "df = pd.read_csv('amazon.csv')"
   ]
  },
  {
   "cell_type": "code",
   "execution_count": 239,
   "id": "f1a107e6",
   "metadata": {},
   "outputs": [
    {
     "name": "stdout",
     "output_type": "stream",
     "text": [
      "0        5 new\n",
      "1            0\n",
      "2        2 new\n",
      "3            0\n",
      "4            0\n",
      "         ...  \n",
      "9994     5 new\n",
      "9995         0\n",
      "9996     3 new\n",
      "9997     3 new\n",
      "9998    31 new\n",
      "Name: number_available_in_stock, Length: 9999, dtype: object\n"
     ]
    },
    {
     "name": "stderr",
     "output_type": "stream",
     "text": [
      "/var/folders/d2/zqv2mpg17tzb0413h3b_jwb00000gn/T/ipykernel_52705/313368633.py:1: FutureWarning: A value is trying to be set on a copy of a DataFrame or Series through chained assignment using an inplace method.\n",
      "The behavior will change in pandas 3.0. This inplace method will never work because the intermediate object on which we are setting values always behaves as a copy.\n",
      "\n",
      "For example, when doing 'df[col].method(value, inplace=True)', try using 'df.method({col: value}, inplace=True)' or df[col] = df[col].method(value) instead, to perform the operation inplace on the original object.\n",
      "\n",
      "\n",
      "  df['number_available_in_stock'].fillna(0, inplace=True)\n"
     ]
    }
   ],
   "source": [
    "df['number_available_in_stock'].fillna(0, inplace=True)\n",
    "print(df['number_available_in_stock'])"
   ]
  },
  {
   "cell_type": "code",
   "execution_count": 240,
   "id": "c41cbb6a",
   "metadata": {},
   "outputs": [
    {
     "name": "stderr",
     "output_type": "stream",
     "text": [
      "/var/folders/d2/zqv2mpg17tzb0413h3b_jwb00000gn/T/ipykernel_52705/2756258389.py:3: FutureWarning: A value is trying to be set on a copy of a DataFrame or Series through chained assignment using an inplace method.\n",
      "The behavior will change in pandas 3.0. This inplace method will never work because the intermediate object on which we are setting values always behaves as a copy.\n",
      "\n",
      "For example, when doing 'df[col].method(value, inplace=True)', try using 'df.method({col: value}, inplace=True)' or df[col] = df[col].method(value) instead, to perform the operation inplace on the original object.\n",
      "\n",
      "\n",
      "  df['condition'].fillna('', inplace=True)  # Fill NaN with empty string for rows with no condition\n"
     ]
    }
   ],
   "source": [
    "df['quantity'] = df['number_available_in_stock'].str.extract(r'^(\\d+)').fillna(0).astype(int)\n",
    "df['condition'] = df['number_available_in_stock'].str.extract(r'\\s(.*)')  # Extract condition if it exists\n",
    "df['condition'].fillna('', inplace=True)  # Fill NaN with empty string for rows with no condition\n",
    "\n"
   ]
  },
  {
   "cell_type": "code",
   "execution_count": 241,
   "id": "f1c31474",
   "metadata": {},
   "outputs": [
    {
     "name": "stdout",
     "output_type": "stream",
     "text": [
      "      quantity condition\n",
      "0            5       new\n",
      "1            0          \n",
      "2            2       new\n",
      "3            0          \n",
      "4            0          \n",
      "...        ...       ...\n",
      "9994         5       new\n",
      "9995         0          \n",
      "9996         3       new\n",
      "9997         3       new\n",
      "9998        31       new\n",
      "\n",
      "[9999 rows x 2 columns]\n"
     ]
    }
   ],
   "source": [
    "print(df[['quantity', 'condition']])"
   ]
  },
  {
   "cell_type": "code",
   "execution_count": 242,
   "id": "8e49fc4e",
   "metadata": {},
   "outputs": [
    {
     "data": {
      "text/plain": [
       "array(['new', '', 'used', 'collectible', 'refurbished'], dtype=object)"
      ]
     },
     "execution_count": 242,
     "metadata": {},
     "output_type": "execute_result"
    }
   ],
   "source": [
    "df['condition'].unique()"
   ]
  },
  {
   "cell_type": "code",
   "execution_count": 243,
   "id": "fe389d7d",
   "metadata": {},
   "outputs": [
    {
     "name": "stdout",
     "output_type": "stream",
     "text": [
      "     ship_country  country_id\n",
      "0   United States           1\n",
      "1          Canada           2\n",
      "2       Australia           3\n",
      "3  United Kingdom           4\n",
      "4         Germany           5\n",
      "5          France           6\n"
     ]
    }
   ],
   "source": [
    "unique_countries = df['ship_country'].drop_duplicates().reset_index(drop=True)\n",
    "unique_countries = pd.DataFrame(unique_countries, columns=['ship_country'])\n",
    "unique_countries['country_id'] = unique_countries.index + 1  # Generate unique IDs starting from 1\n",
    "\n",
    "# Create a country ID mapping\n",
    "country_mapping = dict(zip(unique_countries['ship_country'], unique_countries['country_id']))\n",
    "\n",
    "# Update product data\n",
    "df['country_id'] = df['ship_country'].map(country_mapping)\n",
    "df = df.drop(columns=['ship_country'])\n",
    "\n",
    "# Save the countries DataFrame\n",
    "unique_countries.to_csv('countries.csv', index=False)\n",
    "\n",
    "# Save the updated product DataFrame\n",
    "#df.to_csv('products_updated.csv', index=False)\n",
    "print(unique_countries)"
   ]
  },
  {
   "cell_type": "code",
   "execution_count": 244,
   "id": "5f5fb0fc",
   "metadata": {},
   "outputs": [],
   "source": [
    "d_countries = unique_countries\n",
    "d_countries.rename(columns={'ship_country': 'country_name'}, inplace=True)\n"
   ]
  },
  {
   "cell_type": "code",
   "execution_count": 245,
   "id": "5cc39862",
   "metadata": {},
   "outputs": [
    {
     "name": "stdout",
     "output_type": "stream",
     "text": [
      "<class 'pandas.core.frame.DataFrame'>\n",
      "RangeIndex: 9999 entries, 0 to 9998\n",
      "Data columns (total 21 columns):\n",
      " #   Column                                       Non-Null Count  Dtype  \n",
      "---  ------                                       --------------  -----  \n",
      " 0   uniq_id                                      9999 non-null   object \n",
      " 1   product_name                                 9999 non-null   object \n",
      " 2   manufacturer                                 9992 non-null   object \n",
      " 3   price                                        8565 non-null   object \n",
      " 4   purchase_date                                9999 non-null   object \n",
      " 5   ship_date                                    9999 non-null   object \n",
      " 6   number_available_in_stock                    9999 non-null   object \n",
      " 7   number_of_reviews                            9981 non-null   object \n",
      " 8   number_of_answered_questions                 9234 non-null   float64\n",
      " 9   average_review_rating                        9981 non-null   object \n",
      " 10  amazon_category_and_sub_category             9309 non-null   object \n",
      " 11  customers_who_bought_this_item_also_bought   8937 non-null   object \n",
      " 12  description                                  9348 non-null   object \n",
      " 13  product_information                          9941 non-null   object \n",
      " 14  product_description                          9348 non-null   object \n",
      " 15  items_customers_buy_after_viewing_this_item  6934 non-null   object \n",
      " 16  customer_questions_and_answers               913 non-null    object \n",
      " 17  customer_reviews                             9978 non-null   object \n",
      " 18  quantity                                     9999 non-null   int64  \n",
      " 19  condition                                    9999 non-null   object \n",
      " 20  country_id                                   9999 non-null   int64  \n",
      "dtypes: float64(1), int64(2), object(18)\n",
      "memory usage: 1.6+ MB\n",
      "None\n"
     ]
    }
   ],
   "source": [
    "print(df.info())"
   ]
  },
  {
   "cell_type": "code",
   "execution_count": 246,
   "id": "45b009ae",
   "metadata": {},
   "outputs": [
    {
     "name": "stdout",
     "output_type": "stream",
     "text": [
      "<class 'pandas.core.frame.DataFrame'>\n",
      "RangeIndex: 1677 entries, 0 to 1676\n",
      "Data columns (total 4 columns):\n",
      " #   Column       Non-Null Count  Dtype \n",
      "---  ------       --------------  ----- \n",
      " 0   product_id   1677 non-null   object\n",
      " 1   question     1677 non-null   object\n",
      " 2   answer       1677 non-null   object\n",
      " 3   question_id  1677 non-null   int64 \n",
      "dtypes: int64(1), object(3)\n",
      "memory usage: 52.5+ KB\n",
      "None\n"
     ]
    }
   ],
   "source": [
    "def split_questions_and_answers(row):\n",
    "    if isinstance(row['customer_questions_and_answers'], str):\n",
    "        qa_pairs = row['customer_questions_and_answers'].split(' | ')\n",
    "        product_id = row['uniq_id']\n",
    "        return [{'product_id': product_id, 'question': qa.split(' // ')[0].strip(), 'answer': qa.split(' // ')[1].strip()} for qa in qa_pairs]\n",
    "    else:\n",
    "        return None\n",
    "\n",
    "# Apply the function to each row in the DataFrame\n",
    "qa_list = df.apply(split_questions_and_answers, axis=1).dropna().tolist()\n",
    "\n",
    "# Flatten the list of dictionaries into a DataFrame\n",
    "new_df = pd.DataFrame([item for sublist in qa_list for item in sublist])\n",
    "\n",
    "# Add the question_id column\n",
    "new_df['question_id'] = range(1, len(new_df) + 1)\n",
    "\n",
    "print(new_df.info())\n",
    "d_questions = new_df"
   ]
  },
  {
   "cell_type": "code",
   "execution_count": 247,
   "id": "7226fb80",
   "metadata": {},
   "outputs": [
    {
     "name": "stdout",
     "output_type": "stream",
     "text": [
      "                               uniq_id  \\\n",
      "0     eac7efa5dbd3d667f26eb3d3ab504464   \n",
      "1     b17540ef7e86e461d37f3ae58b7b72ac   \n",
      "2     348f344247b0c1a935b1223072ef9d8a   \n",
      "3     e12b92dbb8eaee78b22965d2a9bbbd9f   \n",
      "4     e33a9adeed5f36840ccc227db4682a36   \n",
      "...                                ...   \n",
      "9994  44d6967f083825a5de36ad4865a65bcd   \n",
      "9995  08f0747b6fc6687215ffb994c3a6fb32   \n",
      "9996  bf6cc073f8f24e6e338190fa16f6ee9d   \n",
      "9997  cd783d0b8b44e631b9788b203eaaefae   \n",
      "9998  94d18e86e504bee1e392df7e5738b18a   \n",
      "\n",
      "                       amazon_category_and_sub_category  \n",
      "0     Hobbies > Model Trains & Railway Sets > Rail V...  \n",
      "1     Hobbies > Model Trains & Railway Sets > Rail V...  \n",
      "2     Hobbies > Model Trains & Railway Sets > Rail V...  \n",
      "3     Hobbies > Model Trains & Railway Sets > Rail V...  \n",
      "4     Hobbies > Model Trains & Railway Sets > Rail V...  \n",
      "...                                                 ...  \n",
      "9994  Hobbies > Collectible Figures & Memorabilia > ...  \n",
      "9995             Characters & Brands > Star Wars > Toys  \n",
      "9996  Novelty & Special Use > Novelty > Accessories ...  \n",
      "9997  Hobbies > Collectible Figures & Memorabilia > ...  \n",
      "9998             Characters & Brands > Star Wars > Toys  \n",
      "\n",
      "[9999 rows x 2 columns]\n"
     ]
    }
   ],
   "source": [
    "print(df[['uniq_id', 'amazon_category_and_sub_category']])"
   ]
  },
  {
   "cell_type": "code",
   "execution_count": 248,
   "id": "69fb19f0",
   "metadata": {},
   "outputs": [
    {
     "name": "stdout",
     "output_type": "stream",
     "text": [
      "d_category DataFrame:\n",
      "                            product_id               Category\n",
      "0     eac7efa5dbd3d667f26eb3d3ab504464                Hobbies\n",
      "1     b17540ef7e86e461d37f3ae58b7b72ac                Hobbies\n",
      "2     348f344247b0c1a935b1223072ef9d8a                Hobbies\n",
      "3     e12b92dbb8eaee78b22965d2a9bbbd9f                Hobbies\n",
      "4     e33a9adeed5f36840ccc227db4682a36                Hobbies\n",
      "...                                ...                    ...\n",
      "9994  44d6967f083825a5de36ad4865a65bcd                Hobbies\n",
      "9995  08f0747b6fc6687215ffb994c3a6fb32    Characters & Brands\n",
      "9996  bf6cc073f8f24e6e338190fa16f6ee9d  Novelty & Special Use\n",
      "9997  cd783d0b8b44e631b9788b203eaaefae                Hobbies\n",
      "9998  94d18e86e504bee1e392df7e5738b18a    Characters & Brands\n",
      "\n",
      "[9999 rows x 2 columns]\n",
      "\n",
      "d_sub_category DataFrame:\n",
      "                            product_id                       Sub_Category  \\\n",
      "0     eac7efa5dbd3d667f26eb3d3ab504464        Model Trains & Railway Sets   \n",
      "1     b17540ef7e86e461d37f3ae58b7b72ac        Model Trains & Railway Sets   \n",
      "2     348f344247b0c1a935b1223072ef9d8a        Model Trains & Railway Sets   \n",
      "3     e12b92dbb8eaee78b22965d2a9bbbd9f        Model Trains & Railway Sets   \n",
      "4     e33a9adeed5f36840ccc227db4682a36        Model Trains & Railway Sets   \n",
      "...                                ...                                ...   \n",
      "9994  44d6967f083825a5de36ad4865a65bcd  Collectible Figures & Memorabilia   \n",
      "9995  08f0747b6fc6687215ffb994c3a6fb32                          Star Wars   \n",
      "9996  bf6cc073f8f24e6e338190fa16f6ee9d                            Novelty   \n",
      "9997  cd783d0b8b44e631b9788b203eaaefae  Collectible Figures & Memorabilia   \n",
      "9998  94d18e86e504bee1e392df7e5738b18a                          Star Wars   \n",
      "\n",
      "                     Sub_Sub_Category Sub_Sub_Sub_Category    id  \n",
      "0                       Rail Vehicles               Trains     1  \n",
      "1                       Rail Vehicles               Trains     2  \n",
      "2                       Rail Vehicles               Trains     3  \n",
      "3                       Rail Vehicles               Trains     4  \n",
      "4                       Rail Vehicles               Trains     5  \n",
      "...                               ...                  ...   ...  \n",
      "9994  Collectible Props & Memorabilia                 None  9995  \n",
      "9995                             Toys                 None  9996  \n",
      "9996                      Accessories       Buttons & Pins  9997  \n",
      "9997  Collectible Props & Memorabilia                 None  9998  \n",
      "9998                             Toys                 None  9999  \n",
      "\n",
      "[9999 rows x 5 columns]\n"
     ]
    }
   ],
   "source": [
    "df[['Category', 'Sub_Category', 'Sub_Sub_Category', 'Sub_Sub_Sub_Category']] = df['amazon_category_and_sub_category'].str.split(' > ', expand=True, n=3)\n",
    "\n",
    "# Create unique identifiers for subcategories\n",
    "df['Sub_Category_ID'] = df['Sub_Category'].factorize()[0] + 1\n",
    "df['Sub_Sub_Category_ID'] = df['Sub_Sub_Category'].factorize()[0] + 1\n",
    "df['Sub_Sub_Sub_Category_ID'] = df['Sub_Sub_Sub_Category'].factorize()[0] + 1\n",
    "\n",
    "# Create d_category DataFrame\n",
    "d_category = df[['uniq_id', 'Category']].drop_duplicates().reset_index(drop=True)\n",
    "d_category.rename(columns={'uniq_id': 'product_id'}, inplace=True)\n",
    "\n",
    "# Create d_sub_category DataFrame\n",
    "d_sub_category = df[['uniq_id', 'Sub_Category', 'Sub_Sub_Category', 'Sub_Sub_Sub_Category']].drop_duplicates().reset_index(drop=True)\n",
    "d_sub_category.rename(columns={'uniq_id': 'product_id'}, inplace=True)\n",
    "d_sub_category['id'] = d_sub_category.index + 1  # Add a primary key column\n",
    "\n",
    "# Display the new DataFrames\n",
    "print(\"d_category DataFrame:\")\n",
    "print(d_category)\n",
    "print(\"\\nd_sub_category DataFrame:\")\n",
    "print(d_sub_category)"
   ]
  },
  {
   "cell_type": "code",
   "execution_count": 249,
   "id": "e83979dd",
   "metadata": {},
   "outputs": [
    {
     "name": "stdout",
     "output_type": "stream",
     "text": [
      "                            Category  category_id\n",
      "0                            Hobbies            1\n",
      "1                                NaN            2\n",
      "2                Characters & Brands            3\n",
      "3                        Fancy Dress            4\n",
      "4                               Bags            5\n",
      "5                      Arts & Crafts            6\n",
      "6           Handbags & Shoulder Bags            7\n",
      "7                              Games            8\n",
      "8                 Figures & Playsets            9\n",
      "9                   Home Accessories           10\n",
      "10           Sweets, Chocolate & Gum           11\n",
      "11             Sports Toys & Outdoor           12\n",
      "12           Die-Cast & Toy Vehicles           13\n",
      "13               Baby & Toddler Toys           14\n",
      "14   Storage, Cleaning & Ring Sizers           15\n",
      "15                  Bedding & Linens           16\n",
      "16                   Office Supplies           17\n",
      "17                    Party Supplies           18\n",
      "18                  Camping & Hiking           19\n",
      "19                      Pretend Play           20\n",
      "20                             Women           21\n",
      "21                   Electronic Toys           22\n",
      "22                         Car Parts           23\n",
      "23               Dolls & Accessories           24\n",
      "24                   Indoor Lighting           25\n",
      "25                  Educational Toys           26\n",
      "26   Laundry, Storage & Organisation           27\n",
      "27                  Supporters' Gear           28\n",
      "28             Jams, Honey & Spreads           29\n",
      "29             Novelty & Special Use           30\n",
      "30           Musical Toy Instruments           31\n",
      "31                               Men           32\n",
      "32                  Sex & Sensuality           33\n",
      "33                  Cooking & Dining           34\n",
      "34             Medication & Remedies           35\n",
      "35         Puppets & Puppet Theatres           36\n",
      "36                 Jigsaws & Puzzles           37\n",
      "37                              Dogs           38\n",
      "38      Medical Supplies & Equipment           39\n",
      "39  Pens, Pencils & Writing Supplies           40\n",
      "40                      Worlds Apart           41\n",
      "41                         Gardening           42\n",
      "42         Lab & Scientific Products           43\n",
      "43                 Novelty Jewellery           44\n"
     ]
    }
   ],
   "source": [
    "# Drop duplicates based on 'Category' column, keeping the first occurrence\n",
    "d_category = d_category.drop_duplicates(subset='Category').reset_index(drop=True)\n",
    "\n",
    "# Add a 'category_id' column with increasing values from one\n",
    "d_category['category_id'] = range(1, len(d_category) + 1)\n",
    "\n",
    "# Drop the 'product_id' column\n",
    "d_category = d_category.drop(columns=['product_id'])\n",
    "\n",
    "# Display the resulting DataFram\n",
    "print(d_category)\n"
   ]
  },
  {
   "cell_type": "code",
   "execution_count": 250,
   "id": "ca6924eb",
   "metadata": {},
   "outputs": [
    {
     "name": "stdout",
     "output_type": "stream",
     "text": [
      "                            Category  category_id\n",
      "0                            Hobbies            1\n",
      "1                                NaN            2\n",
      "2                Characters & Brands            3\n",
      "3                        Fancy Dress            4\n",
      "4                               Bags            5\n",
      "5                      Arts & Crafts            6\n",
      "6           Handbags & Shoulder Bags            7\n",
      "7                              Games            8\n",
      "8                 Figures & Playsets            9\n",
      "9                   Home Accessories           10\n",
      "10           Sweets, Chocolate & Gum           11\n",
      "11             Sports Toys & Outdoor           12\n",
      "12           Die-Cast & Toy Vehicles           13\n",
      "13               Baby & Toddler Toys           14\n",
      "14   Storage, Cleaning & Ring Sizers           15\n",
      "15                  Bedding & Linens           16\n",
      "16                   Office Supplies           17\n",
      "17                    Party Supplies           18\n",
      "18                  Camping & Hiking           19\n",
      "19                      Pretend Play           20\n",
      "20                             Women           21\n",
      "21                   Electronic Toys           22\n",
      "22                         Car Parts           23\n",
      "23               Dolls & Accessories           24\n",
      "24                   Indoor Lighting           25\n",
      "25                  Educational Toys           26\n",
      "26   Laundry, Storage & Organisation           27\n",
      "27                  Supporters' Gear           28\n",
      "28             Jams, Honey & Spreads           29\n",
      "29             Novelty & Special Use           30\n",
      "30           Musical Toy Instruments           31\n",
      "31                               Men           32\n",
      "32                  Sex & Sensuality           33\n",
      "33                  Cooking & Dining           34\n",
      "34             Medication & Remedies           35\n",
      "35         Puppets & Puppet Theatres           36\n",
      "36                 Jigsaws & Puzzles           37\n",
      "37                              Dogs           38\n",
      "38      Medical Supplies & Equipment           39\n",
      "39  Pens, Pencils & Writing Supplies           40\n",
      "40                      Worlds Apart           41\n",
      "41                         Gardening           42\n",
      "42         Lab & Scientific Products           43\n",
      "43                 Novelty Jewellery           44\n"
     ]
    }
   ],
   "source": [
    "print(d_category)"
   ]
  },
  {
   "cell_type": "code",
   "execution_count": 251,
   "id": "69c5ad00",
   "metadata": {},
   "outputs": [
    {
     "name": "stdout",
     "output_type": "stream",
     "text": [
      "      manufacturer_id manufacturer_name\n",
      "0                   1            Hornby\n",
      "1                   2         FunkyBuys\n",
      "2                   3               ccf\n",
      "3                   4           Generic\n",
      "4                   5       Chuggington\n",
      "...               ...               ...\n",
      "2646             2647          Feldherr\n",
      "2647             2648               GGS\n",
      "2648             2649   Captain america\n",
      "2649             2650           IronMan\n",
      "2650             2651      Super Heroes\n",
      "\n",
      "[2651 rows x 2 columns]\n"
     ]
    },
    {
     "name": "stderr",
     "output_type": "stream",
     "text": [
      "/var/folders/d2/zqv2mpg17tzb0413h3b_jwb00000gn/T/ipykernel_52705/2172223898.py:1: FutureWarning: A value is trying to be set on a copy of a DataFrame or Series through chained assignment using an inplace method.\n",
      "The behavior will change in pandas 3.0. This inplace method will never work because the intermediate object on which we are setting values always behaves as a copy.\n",
      "\n",
      "For example, when doing 'df[col].method(value, inplace=True)', try using 'df.method({col: value}, inplace=True)' or df[col] = df[col].method(value) instead, to perform the operation inplace on the original object.\n",
      "\n",
      "\n",
      "  df['manufacturer'].replace({None: 'Unknown', '': 'Unknown'}, inplace=True)\n"
     ]
    }
   ],
   "source": [
    "df['manufacturer'].replace({None: 'Unknown', '': 'Unknown'}, inplace=True)\n",
    "\n",
    "# Drop duplicates and keep only unique manufacturers\n",
    "unique_manufacturers = df['manufacturer'].drop_duplicates().reset_index(drop=True)\n",
    "\n",
    "# Create a new DataFrame with manufacturer_id\n",
    "d_manufacturers = pd.DataFrame({\n",
    "    'manufacturer_id': range(1, len(unique_manufacturers) + 1),\n",
    "    'manufacturer_name': unique_manufacturers\n",
    "})\n",
    "\n",
    "# Print the new DataFrame\n",
    "print(d_manufacturers)"
   ]
  },
  {
   "cell_type": "code",
   "execution_count": 252,
   "id": "5ca2ef75",
   "metadata": {},
   "outputs": [
    {
     "name": "stdout",
     "output_type": "stream",
     "text": [
      "['Hornby' 'FunkyBuys' 'ccf' ... 'Captain america' 'IronMan' 'Super Heroes']\n"
     ]
    }
   ],
   "source": [
    "print(df['manufacturer'].unique())"
   ]
  },
  {
   "cell_type": "code",
   "execution_count": 253,
   "id": "c4eb7639",
   "metadata": {},
   "outputs": [],
   "source": [
    "unique_manufacturers = df['manufacturer'].drop_duplicates().reset_index(drop=True)\n",
    "unique_manufacturers = pd.DataFrame(unique_manufacturers, columns=['manufacturer_name'])"
   ]
  },
  {
   "cell_type": "code",
   "execution_count": 254,
   "id": "0a07020f",
   "metadata": {},
   "outputs": [
    {
     "name": "stdout",
     "output_type": "stream",
     "text": [
      "0       Worth Buying For The Pictures Alone (As Ever) ...\n",
      "1       Four Stars // 4.0 // 18 Dec. 2015 // By\\n    \\...\n",
      "2       **Highly Recommended!** // 5.0 // 26 May 2015 ...\n",
      "3       I love it // 5.0 // 22 July 2013 // By\\n    \\n...\n",
      "4       Birthday present // 5.0 // 14 April 2014 // By...\n",
      "                              ...                        \n",
      "9994    Realistic // 5.0 // 31 Mar. 2014 // By\\n    \\n...\n",
      "9995    ... what I see my grandson us going to have fu...\n",
      "9996    Five Stars // 5.0 // 18 Dec. 2015 // By\\n    \\...\n",
      "9997    The best sculpt in a while // 5.0 // 13 May 20...\n",
      "9998    Gold leader // 5.0 // 31 Aug. 2015 // By\\n    ...\n",
      "Name: customer_reviews, Length: 9999, dtype: object\n"
     ]
    }
   ],
   "source": [
    "print(df['customer_reviews'])"
   ]
  },
  {
   "cell_type": "code",
   "execution_count": 255,
   "id": "4d6c6648",
   "metadata": {},
   "outputs": [],
   "source": [
    "import re"
   ]
  },
  {
   "cell_type": "code",
   "execution_count": 256,
   "id": "0abad578",
   "metadata": {},
   "outputs": [
    {
     "name": "stdout",
     "output_type": "stream",
     "text": [
      "                                             review  rating review_date  \\\n",
      "0     Worth Buying For The Pictures Alone (As Ever)     4.0  2014-04-06   \n",
      "1                                              None     NaN         NaT   \n",
      "2                           **Highly Recommended!**     5.0  2015-05-26   \n",
      "3                                         I love it     5.0  2013-07-22   \n",
      "4                                  Birthday present     5.0  2014-04-14   \n",
      "...                                             ...     ...         ...   \n",
      "9994                                           None     NaN         NaT   \n",
      "9995                                           None     NaN         NaT   \n",
      "9996                                           None     NaN         NaT   \n",
      "9997                     The best sculpt in a while     5.0  2010-05-13   \n",
      "9998                                           None     NaN         NaT   \n",
      "\n",
      "            author                        product_id  \n",
      "0      Copnovelist  eac7efa5dbd3d667f26eb3d3ab504464  \n",
      "1             None  b17540ef7e86e461d37f3ae58b7b72ac  \n",
      "2      Simon.B :-)  348f344247b0c1a935b1223072ef9d8a  \n",
      "3     Lilla Lukacs  e12b92dbb8eaee78b22965d2a9bbbd9f  \n",
      "4      Love my Dog  e33a9adeed5f36840ccc227db4682a36  \n",
      "...            ...                               ...  \n",
      "9994          None  44d6967f083825a5de36ad4865a65bcd  \n",
      "9995          None  08f0747b6fc6687215ffb994c3a6fb32  \n",
      "9996          None  bf6cc073f8f24e6e338190fa16f6ee9d  \n",
      "9997     Sodam Yat  cd783d0b8b44e631b9788b203eaaefae  \n",
      "9998          None  94d18e86e504bee1e392df7e5738b18a  \n",
      "\n",
      "[9999 rows x 5 columns]\n"
     ]
    }
   ],
   "source": [
    "def parse_review(review):\n",
    "    if not isinstance(review, str):\n",
    "        return pd.Series([None, None, None, None])\n",
    "    \n",
    "    # Improved regex to better capture author details\n",
    "    match = re.match(r'(.+?) // (\\d+\\.\\d+) // (\\d{1,2} \\w+ \\d{4}) // By\\s*(.+?)(?:\\n|$)', review, re.DOTALL)\n",
    "    if match:\n",
    "        review_text, rating, date, author = match.groups()\n",
    "        return pd.Series([review_text.strip(), float(rating), date.strip(), author.strip()])\n",
    "    else:\n",
    "        return pd.Series([None, None, None, None])\n",
    "\n",
    "# Convert all entries to strings\n",
    "df['customer_reviews'] = df['customer_reviews'].astype(str)\n",
    "\n",
    "# Apply function to the DataFrame\n",
    "d_reviews = df['customer_reviews'].apply(parse_review)\n",
    "d_reviews.columns = ['review', 'rating', 'review_date', 'author']\n",
    "\n",
    "# Add product_id column to d_reviews\n",
    "d_reviews['product_id'] = df['uniq_id']\n",
    "d_reviews['review_date'] = pd.to_datetime(d_reviews['review_date'], format='%d %B %Y', errors='coerce')\n",
    "\n",
    "print(d_reviews)"
   ]
  },
  {
   "cell_type": "code",
   "execution_count": 257,
   "id": "4bc3c46a",
   "metadata": {},
   "outputs": [
    {
     "name": "stdout",
     "output_type": "stream",
     "text": [
      "<class 'pandas.core.frame.DataFrame'>\n",
      "RangeIndex: 9999 entries, 0 to 9998\n",
      "Data columns (total 28 columns):\n",
      " #   Column                                       Non-Null Count  Dtype  \n",
      "---  ------                                       --------------  -----  \n",
      " 0   uniq_id                                      9999 non-null   object \n",
      " 1   product_name                                 9999 non-null   object \n",
      " 2   manufacturer                                 9999 non-null   object \n",
      " 3   price                                        8565 non-null   object \n",
      " 4   purchase_date                                9999 non-null   object \n",
      " 5   ship_date                                    9999 non-null   object \n",
      " 6   number_available_in_stock                    9999 non-null   object \n",
      " 7   number_of_reviews                            9981 non-null   object \n",
      " 8   number_of_answered_questions                 9234 non-null   float64\n",
      " 9   average_review_rating                        9981 non-null   object \n",
      " 10  amazon_category_and_sub_category             9309 non-null   object \n",
      " 11  customers_who_bought_this_item_also_bought   8937 non-null   object \n",
      " 12  description                                  9348 non-null   object \n",
      " 13  product_information                          9941 non-null   object \n",
      " 14  product_description                          9348 non-null   object \n",
      " 15  items_customers_buy_after_viewing_this_item  6934 non-null   object \n",
      " 16  customer_questions_and_answers               913 non-null    object \n",
      " 17  customer_reviews                             9999 non-null   object \n",
      " 18  quantity                                     9999 non-null   int64  \n",
      " 19  condition                                    9999 non-null   object \n",
      " 20  country_id                                   9999 non-null   int64  \n",
      " 21  Category                                     9309 non-null   object \n",
      " 22  Sub_Category                                 9309 non-null   object \n",
      " 23  Sub_Sub_Category                             5386 non-null   object \n",
      " 24  Sub_Sub_Sub_Category                         1397 non-null   object \n",
      " 25  Sub_Category_ID                              9999 non-null   int64  \n",
      " 26  Sub_Sub_Category_ID                          9999 non-null   int64  \n",
      " 27  Sub_Sub_Sub_Category_ID                      9999 non-null   int64  \n",
      "dtypes: float64(1), int64(5), object(22)\n",
      "memory usage: 2.1+ MB\n",
      "None\n"
     ]
    }
   ],
   "source": [
    "print(df.info())"
   ]
  },
  {
   "cell_type": "code",
   "execution_count": 258,
   "id": "7b0ec89d",
   "metadata": {},
   "outputs": [
    {
     "name": "stdout",
     "output_type": "stream",
     "text": [
      "         author  customer_id\n",
      "0   Copnovelist            1\n",
      "1          None            2\n",
      "2   Simon.B :-)            3\n",
      "3  Lilla Lukacs            4\n",
      "4   Love my Dog            5\n"
     ]
    }
   ],
   "source": [
    "# Create d_customers DataFrame\n",
    "d_customers = pd.DataFrame({'author': d_reviews['author'].unique()})\n",
    "d_customers['customer_id'] = range(1, len(d_customers) + 1)\n",
    "\n",
    "# Merge d_reviews with d_customers to replace author with customer_id\n",
    "d_reviews = d_reviews.merge(d_customers, on='author', how='left')\n",
    "\n",
    "# Drop the original author column and rename customer_id column\n",
    "d_reviews = d_reviews.drop(columns=['author'])\n",
    "d_reviews = d_reviews.rename(columns={'customer_id': 'author_id'})\n",
    "\n",
    "print(d_customers.head())"
   ]
  },
  {
   "cell_type": "code",
   "execution_count": 259,
   "id": "43b71d29",
   "metadata": {},
   "outputs": [],
   "source": [
    "d_customers.rename(columns={'author': 'customer_name'}, inplace=True)\n"
   ]
  },
  {
   "cell_type": "code",
   "execution_count": 260,
   "id": "d6a756a6",
   "metadata": {},
   "outputs": [
    {
     "name": "stdout",
     "output_type": "stream",
     "text": [
      "                                     customer_name  customer_id\n",
      "0                                      Copnovelist            1\n",
      "1                                             None            2\n",
      "2                                      Simon.B :-)            3\n",
      "3                                     Lilla Lukacs            4\n",
      "4                                      Love my Dog            5\n",
      "...                                            ...          ...\n",
      "3242                                         fumps         3243\n",
      "3243                                          Robo         3244\n",
      "3244  Margie Greyvenstein author of  'Masked Gods'         3245\n",
      "3245                                        Jay B.         3246\n",
      "3246                                     Sodam Yat         3247\n",
      "\n",
      "[3247 rows x 2 columns]\n"
     ]
    }
   ],
   "source": [
    "print(d_customers)"
   ]
  },
  {
   "cell_type": "code",
   "execution_count": 261,
   "id": "9223bab8",
   "metadata": {},
   "outputs": [
    {
     "name": "stdout",
     "output_type": "stream",
     "text": [
      "                                             review  rating review_date  \\\n",
      "0     Worth Buying For The Pictures Alone (As Ever)     4.0  2014-04-06   \n",
      "1                                              None     NaN         NaT   \n",
      "2                           **Highly Recommended!**     5.0  2015-05-26   \n",
      "3                                         I love it     5.0  2013-07-22   \n",
      "4                                  Birthday present     5.0  2014-04-14   \n",
      "...                                             ...     ...         ...   \n",
      "9994                                           None     NaN         NaT   \n",
      "9995                                           None     NaN         NaT   \n",
      "9996                                           None     NaN         NaT   \n",
      "9997                     The best sculpt in a while     5.0  2010-05-13   \n",
      "9998                                           None     NaN         NaT   \n",
      "\n",
      "                            product_id  author_id  \n",
      "0     eac7efa5dbd3d667f26eb3d3ab504464          1  \n",
      "1     b17540ef7e86e461d37f3ae58b7b72ac          2  \n",
      "2     348f344247b0c1a935b1223072ef9d8a          3  \n",
      "3     e12b92dbb8eaee78b22965d2a9bbbd9f          4  \n",
      "4     e33a9adeed5f36840ccc227db4682a36          5  \n",
      "...                                ...        ...  \n",
      "9994  44d6967f083825a5de36ad4865a65bcd          2  \n",
      "9995  08f0747b6fc6687215ffb994c3a6fb32          2  \n",
      "9996  bf6cc073f8f24e6e338190fa16f6ee9d          2  \n",
      "9997  cd783d0b8b44e631b9788b203eaaefae       3247  \n",
      "9998  94d18e86e504bee1e392df7e5738b18a          2  \n",
      "\n",
      "[9999 rows x 5 columns]\n"
     ]
    }
   ],
   "source": [
    "print(d_reviews)"
   ]
  },
  {
   "cell_type": "code",
   "execution_count": 262,
   "id": "4e9c847d",
   "metadata": {},
   "outputs": [
    {
     "name": "stdout",
     "output_type": "stream",
     "text": [
      "     condition  condition_id\n",
      "0          new             1\n",
      "1                          2\n",
      "2         used             3\n",
      "3  collectible             4\n",
      "4  refurbished             5\n"
     ]
    }
   ],
   "source": [
    "conditions = pd.DataFrame({'condition': df['condition'].unique()})\n",
    "conditions['condition_id'] = range(1, len(conditions) + 1)\n",
    "\n",
    "# Print the DataFrame\n",
    "print(conditions.head())"
   ]
  },
  {
   "cell_type": "code",
   "execution_count": 263,
   "id": "661d3cf8",
   "metadata": {},
   "outputs": [],
   "source": [
    "d_conditions = conditions"
   ]
  },
  {
   "cell_type": "code",
   "execution_count": 264,
   "id": "d8b3b5ea",
   "metadata": {},
   "outputs": [
    {
     "name": "stdout",
     "output_type": "stream",
     "text": [
      "SQLAlchemy version: 2.0.31\n",
      "PyMySQL version: 1.4.6\n"
     ]
    }
   ],
   "source": [
    "import sqlalchemy\n",
    "import pymysql\n",
    "\n",
    "print(f\"SQLAlchemy version: {sqlalchemy.__version__}\")\n",
    "print(f\"PyMySQL version: {pymysql.__version__}\")\n"
   ]
  },
  {
   "cell_type": "code",
   "execution_count": 265,
   "id": "3e7968d6",
   "metadata": {},
   "outputs": [
    {
     "name": "stdout",
     "output_type": "stream",
     "text": [
      "                                     customer_name  customer_id\n",
      "0                                      Copnovelist            1\n",
      "1                                             None            2\n",
      "2                                      Simon.B :-)            3\n",
      "3                                     Lilla Lukacs            4\n",
      "4                                      Love my Dog            5\n",
      "...                                            ...          ...\n",
      "3242                                         fumps         3243\n",
      "3243                                          Robo         3244\n",
      "3244  Margie Greyvenstein author of  'Masked Gods'         3245\n",
      "3245                                        Jay B.         3246\n",
      "3246                                     Sodam Yat         3247\n",
      "\n",
      "[3247 rows x 2 columns]\n"
     ]
    }
   ],
   "source": [
    "print(d_customers)"
   ]
  },
  {
   "cell_type": "code",
   "execution_count": 302,
   "id": "498a1034",
   "metadata": {},
   "outputs": [
    {
     "data": {
      "text/html": [
       "<div>\n",
       "<style scoped>\n",
       "    .dataframe tbody tr th:only-of-type {\n",
       "        vertical-align: middle;\n",
       "    }\n",
       "\n",
       "    .dataframe tbody tr th {\n",
       "        vertical-align: top;\n",
       "    }\n",
       "\n",
       "    .dataframe thead th {\n",
       "        text-align: right;\n",
       "    }\n",
       "</style>\n",
       "<table border=\"1\" class=\"dataframe\">\n",
       "  <thead>\n",
       "    <tr style=\"text-align: right;\">\n",
       "      <th></th>\n",
       "      <th>uniq_id</th>\n",
       "      <th>product_name</th>\n",
       "      <th>manufacturer</th>\n",
       "      <th>price</th>\n",
       "      <th>purchase_date</th>\n",
       "      <th>ship_date</th>\n",
       "      <th>number_available_in_stock</th>\n",
       "      <th>number_of_reviews</th>\n",
       "      <th>number_of_answered_questions</th>\n",
       "      <th>average_review_rating</th>\n",
       "      <th>...</th>\n",
       "      <th>quantity</th>\n",
       "      <th>condition</th>\n",
       "      <th>country_id</th>\n",
       "      <th>Category</th>\n",
       "      <th>Sub_Category</th>\n",
       "      <th>Sub_Sub_Category</th>\n",
       "      <th>Sub_Sub_Sub_Category</th>\n",
       "      <th>Sub_Category_ID</th>\n",
       "      <th>Sub_Sub_Category_ID</th>\n",
       "      <th>Sub_Sub_Sub_Category_ID</th>\n",
       "    </tr>\n",
       "  </thead>\n",
       "  <tbody>\n",
       "    <tr>\n",
       "      <th>0</th>\n",
       "      <td>eac7efa5dbd3d667f26eb3d3ab504464</td>\n",
       "      <td>Hornby 2014 Catalogue</td>\n",
       "      <td>Hornby</td>\n",
       "      <td>£3.42</td>\n",
       "      <td>6/4/2018</td>\n",
       "      <td>6/14/2018</td>\n",
       "      <td>5 new</td>\n",
       "      <td>15</td>\n",
       "      <td>1.0</td>\n",
       "      <td>4.9 out of 5 stars</td>\n",
       "      <td>...</td>\n",
       "      <td>5</td>\n",
       "      <td>new</td>\n",
       "      <td>1</td>\n",
       "      <td>Hobbies</td>\n",
       "      <td>Model Trains &amp; Railway Sets</td>\n",
       "      <td>Rail Vehicles</td>\n",
       "      <td>Trains</td>\n",
       "      <td>1</td>\n",
       "      <td>1</td>\n",
       "      <td>1</td>\n",
       "    </tr>\n",
       "    <tr>\n",
       "      <th>1</th>\n",
       "      <td>b17540ef7e86e461d37f3ae58b7b72ac</td>\n",
       "      <td>FunkyBuys® Large Christmas Holiday Express Fes...</td>\n",
       "      <td>FunkyBuys</td>\n",
       "      <td>£16.99</td>\n",
       "      <td>8/30/2022</td>\n",
       "      <td>9/2/2022</td>\n",
       "      <td>0</td>\n",
       "      <td>2</td>\n",
       "      <td>1.0</td>\n",
       "      <td>4.5 out of 5 stars</td>\n",
       "      <td>...</td>\n",
       "      <td>0</td>\n",
       "      <td></td>\n",
       "      <td>1</td>\n",
       "      <td>Hobbies</td>\n",
       "      <td>Model Trains &amp; Railway Sets</td>\n",
       "      <td>Rail Vehicles</td>\n",
       "      <td>Trains</td>\n",
       "      <td>1</td>\n",
       "      <td>1</td>\n",
       "      <td>1</td>\n",
       "    </tr>\n",
       "    <tr>\n",
       "      <th>2</th>\n",
       "      <td>348f344247b0c1a935b1223072ef9d8a</td>\n",
       "      <td>CLASSIC TOY TRAIN SET TRACK CARRIAGES LIGHT EN...</td>\n",
       "      <td>ccf</td>\n",
       "      <td>£9.99</td>\n",
       "      <td>8/4/2020</td>\n",
       "      <td>8/6/2020</td>\n",
       "      <td>2 new</td>\n",
       "      <td>17</td>\n",
       "      <td>2.0</td>\n",
       "      <td>3.9 out of 5 stars</td>\n",
       "      <td>...</td>\n",
       "      <td>2</td>\n",
       "      <td>new</td>\n",
       "      <td>1</td>\n",
       "      <td>Hobbies</td>\n",
       "      <td>Model Trains &amp; Railway Sets</td>\n",
       "      <td>Rail Vehicles</td>\n",
       "      <td>Trains</td>\n",
       "      <td>1</td>\n",
       "      <td>1</td>\n",
       "      <td>1</td>\n",
       "    </tr>\n",
       "    <tr>\n",
       "      <th>3</th>\n",
       "      <td>e12b92dbb8eaee78b22965d2a9bbbd9f</td>\n",
       "      <td>HORNBY Coach R4410A BR Hawksworth Corridor 3rd</td>\n",
       "      <td>Hornby</td>\n",
       "      <td>£39.99</td>\n",
       "      <td>10/27/2020</td>\n",
       "      <td>10/30/2020</td>\n",
       "      <td>0</td>\n",
       "      <td>1</td>\n",
       "      <td>2.0</td>\n",
       "      <td>5.0 out of 5 stars</td>\n",
       "      <td>...</td>\n",
       "      <td>0</td>\n",
       "      <td></td>\n",
       "      <td>1</td>\n",
       "      <td>Hobbies</td>\n",
       "      <td>Model Trains &amp; Railway Sets</td>\n",
       "      <td>Rail Vehicles</td>\n",
       "      <td>Trains</td>\n",
       "      <td>1</td>\n",
       "      <td>1</td>\n",
       "      <td>1</td>\n",
       "    </tr>\n",
       "    <tr>\n",
       "      <th>4</th>\n",
       "      <td>e33a9adeed5f36840ccc227db4682a36</td>\n",
       "      <td>Hornby 00 Gauge 0-4-0 Gildenlow Salt Co. Steam...</td>\n",
       "      <td>Hornby</td>\n",
       "      <td>£32.19</td>\n",
       "      <td>2/3/2018</td>\n",
       "      <td>2/4/2018</td>\n",
       "      <td>0</td>\n",
       "      <td>3</td>\n",
       "      <td>2.0</td>\n",
       "      <td>4.7 out of 5 stars</td>\n",
       "      <td>...</td>\n",
       "      <td>0</td>\n",
       "      <td></td>\n",
       "      <td>1</td>\n",
       "      <td>Hobbies</td>\n",
       "      <td>Model Trains &amp; Railway Sets</td>\n",
       "      <td>Rail Vehicles</td>\n",
       "      <td>Trains</td>\n",
       "      <td>1</td>\n",
       "      <td>1</td>\n",
       "      <td>1</td>\n",
       "    </tr>\n",
       "    <tr>\n",
       "      <th>...</th>\n",
       "      <td>...</td>\n",
       "      <td>...</td>\n",
       "      <td>...</td>\n",
       "      <td>...</td>\n",
       "      <td>...</td>\n",
       "      <td>...</td>\n",
       "      <td>...</td>\n",
       "      <td>...</td>\n",
       "      <td>...</td>\n",
       "      <td>...</td>\n",
       "      <td>...</td>\n",
       "      <td>...</td>\n",
       "      <td>...</td>\n",
       "      <td>...</td>\n",
       "      <td>...</td>\n",
       "      <td>...</td>\n",
       "      <td>...</td>\n",
       "      <td>...</td>\n",
       "      <td>...</td>\n",
       "      <td>...</td>\n",
       "      <td>...</td>\n",
       "    </tr>\n",
       "    <tr>\n",
       "      <th>9994</th>\n",
       "      <td>44d6967f083825a5de36ad4865a65bcd</td>\n",
       "      <td>Batman 1966 TV Series Action Figures - The Rid...</td>\n",
       "      <td>Mattel</td>\n",
       "      <td>£22.95</td>\n",
       "      <td>6/6/2016</td>\n",
       "      <td>6/15/2016</td>\n",
       "      <td>5 new</td>\n",
       "      <td>3</td>\n",
       "      <td>3.0</td>\n",
       "      <td>5.0 out of 5 stars</td>\n",
       "      <td>...</td>\n",
       "      <td>5</td>\n",
       "      <td>new</td>\n",
       "      <td>6</td>\n",
       "      <td>Hobbies</td>\n",
       "      <td>Collectible Figures &amp; Memorabilia</td>\n",
       "      <td>Collectible Props &amp; Memorabilia</td>\n",
       "      <td>None</td>\n",
       "      <td>29</td>\n",
       "      <td>13</td>\n",
       "      <td>0</td>\n",
       "    </tr>\n",
       "    <tr>\n",
       "      <th>9995</th>\n",
       "      <td>08f0747b6fc6687215ffb994c3a6fb32</td>\n",
       "      <td>Star Wars Costume, Kids Stormtrooper Costume S...</td>\n",
       "      <td>Star Wars</td>\n",
       "      <td>£39.99</td>\n",
       "      <td>8/28/2016</td>\n",
       "      <td>8/30/2016</td>\n",
       "      <td>0</td>\n",
       "      <td>1</td>\n",
       "      <td>3.0</td>\n",
       "      <td>4.0 out of 5 stars</td>\n",
       "      <td>...</td>\n",
       "      <td>0</td>\n",
       "      <td></td>\n",
       "      <td>6</td>\n",
       "      <td>Characters &amp; Brands</td>\n",
       "      <td>Star Wars</td>\n",
       "      <td>Toys</td>\n",
       "      <td>None</td>\n",
       "      <td>4</td>\n",
       "      <td>5</td>\n",
       "      <td>0</td>\n",
       "    </tr>\n",
       "    <tr>\n",
       "      <th>9996</th>\n",
       "      <td>bf6cc073f8f24e6e338190fa16f6ee9d</td>\n",
       "      <td>Defiance Lawkeeper Metal Badge Prop Replica</td>\n",
       "      <td>Olde Scotland Yard Ltd.</td>\n",
       "      <td>£43.99</td>\n",
       "      <td>7/19/2016</td>\n",
       "      <td>7/24/2016</td>\n",
       "      <td>3 new</td>\n",
       "      <td>1</td>\n",
       "      <td>3.0</td>\n",
       "      <td>5.0 out of 5 stars</td>\n",
       "      <td>...</td>\n",
       "      <td>3</td>\n",
       "      <td>new</td>\n",
       "      <td>6</td>\n",
       "      <td>Novelty &amp; Special Use</td>\n",
       "      <td>Novelty</td>\n",
       "      <td>Accessories</td>\n",
       "      <td>Buttons &amp; Pins</td>\n",
       "      <td>67</td>\n",
       "      <td>3</td>\n",
       "      <td>21</td>\n",
       "    </tr>\n",
       "    <tr>\n",
       "      <th>9997</th>\n",
       "      <td>cd783d0b8b44e631b9788b203eaaefae</td>\n",
       "      <td>Justice League of America Series 3 Green Lante...</td>\n",
       "      <td>DC Comics</td>\n",
       "      <td>£49.81</td>\n",
       "      <td>1/31/2016</td>\n",
       "      <td>2/5/2016</td>\n",
       "      <td>3 new</td>\n",
       "      <td>1</td>\n",
       "      <td>3.0</td>\n",
       "      <td>5.0 out of 5 stars</td>\n",
       "      <td>...</td>\n",
       "      <td>3</td>\n",
       "      <td>new</td>\n",
       "      <td>6</td>\n",
       "      <td>Hobbies</td>\n",
       "      <td>Collectible Figures &amp; Memorabilia</td>\n",
       "      <td>Collectible Props &amp; Memorabilia</td>\n",
       "      <td>None</td>\n",
       "      <td>29</td>\n",
       "      <td>13</td>\n",
       "      <td>0</td>\n",
       "    </tr>\n",
       "    <tr>\n",
       "      <th>9998</th>\n",
       "      <td>94d18e86e504bee1e392df7e5738b18a</td>\n",
       "      <td>Star Wars 1/72 Y-Wing Starfighter</td>\n",
       "      <td>Bandai</td>\n",
       "      <td>£21.20</td>\n",
       "      <td>10/8/2016</td>\n",
       "      <td>10/11/2016</td>\n",
       "      <td>31 new</td>\n",
       "      <td>11</td>\n",
       "      <td>3.0</td>\n",
       "      <td>4.5 out of 5 stars</td>\n",
       "      <td>...</td>\n",
       "      <td>31</td>\n",
       "      <td>new</td>\n",
       "      <td>6</td>\n",
       "      <td>Characters &amp; Brands</td>\n",
       "      <td>Star Wars</td>\n",
       "      <td>Toys</td>\n",
       "      <td>None</td>\n",
       "      <td>4</td>\n",
       "      <td>5</td>\n",
       "      <td>0</td>\n",
       "    </tr>\n",
       "  </tbody>\n",
       "</table>\n",
       "<p>9999 rows × 28 columns</p>\n",
       "</div>"
      ],
      "text/plain": [
       "                               uniq_id  \\\n",
       "0     eac7efa5dbd3d667f26eb3d3ab504464   \n",
       "1     b17540ef7e86e461d37f3ae58b7b72ac   \n",
       "2     348f344247b0c1a935b1223072ef9d8a   \n",
       "3     e12b92dbb8eaee78b22965d2a9bbbd9f   \n",
       "4     e33a9adeed5f36840ccc227db4682a36   \n",
       "...                                ...   \n",
       "9994  44d6967f083825a5de36ad4865a65bcd   \n",
       "9995  08f0747b6fc6687215ffb994c3a6fb32   \n",
       "9996  bf6cc073f8f24e6e338190fa16f6ee9d   \n",
       "9997  cd783d0b8b44e631b9788b203eaaefae   \n",
       "9998  94d18e86e504bee1e392df7e5738b18a   \n",
       "\n",
       "                                           product_name  \\\n",
       "0                                 Hornby 2014 Catalogue   \n",
       "1     FunkyBuys® Large Christmas Holiday Express Fes...   \n",
       "2     CLASSIC TOY TRAIN SET TRACK CARRIAGES LIGHT EN...   \n",
       "3        HORNBY Coach R4410A BR Hawksworth Corridor 3rd   \n",
       "4     Hornby 00 Gauge 0-4-0 Gildenlow Salt Co. Steam...   \n",
       "...                                                 ...   \n",
       "9994  Batman 1966 TV Series Action Figures - The Rid...   \n",
       "9995  Star Wars Costume, Kids Stormtrooper Costume S...   \n",
       "9996        Defiance Lawkeeper Metal Badge Prop Replica   \n",
       "9997  Justice League of America Series 3 Green Lante...   \n",
       "9998                  Star Wars 1/72 Y-Wing Starfighter   \n",
       "\n",
       "                 manufacturer   price purchase_date   ship_date  \\\n",
       "0                      Hornby   £3.42      6/4/2018   6/14/2018   \n",
       "1                   FunkyBuys  £16.99     8/30/2022    9/2/2022   \n",
       "2                         ccf   £9.99      8/4/2020    8/6/2020   \n",
       "3                      Hornby  £39.99    10/27/2020  10/30/2020   \n",
       "4                      Hornby  £32.19      2/3/2018    2/4/2018   \n",
       "...                       ...     ...           ...         ...   \n",
       "9994                   Mattel  £22.95      6/6/2016   6/15/2016   \n",
       "9995                Star Wars  £39.99     8/28/2016   8/30/2016   \n",
       "9996  Olde Scotland Yard Ltd.  £43.99     7/19/2016   7/24/2016   \n",
       "9997                DC Comics  £49.81     1/31/2016    2/5/2016   \n",
       "9998                   Bandai  £21.20     10/8/2016  10/11/2016   \n",
       "\n",
       "     number_available_in_stock number_of_reviews  \\\n",
       "0                        5 new                15   \n",
       "1                            0                 2   \n",
       "2                        2 new                17   \n",
       "3                            0                 1   \n",
       "4                            0                 3   \n",
       "...                        ...               ...   \n",
       "9994                     5 new                 3   \n",
       "9995                         0                 1   \n",
       "9996                     3 new                 1   \n",
       "9997                     3 new                 1   \n",
       "9998                    31 new                11   \n",
       "\n",
       "      number_of_answered_questions average_review_rating  ... quantity  \\\n",
       "0                              1.0    4.9 out of 5 stars  ...        5   \n",
       "1                              1.0    4.5 out of 5 stars  ...        0   \n",
       "2                              2.0    3.9 out of 5 stars  ...        2   \n",
       "3                              2.0    5.0 out of 5 stars  ...        0   \n",
       "4                              2.0    4.7 out of 5 stars  ...        0   \n",
       "...                            ...                   ...  ...      ...   \n",
       "9994                           3.0    5.0 out of 5 stars  ...        5   \n",
       "9995                           3.0    4.0 out of 5 stars  ...        0   \n",
       "9996                           3.0    5.0 out of 5 stars  ...        3   \n",
       "9997                           3.0    5.0 out of 5 stars  ...        3   \n",
       "9998                           3.0    4.5 out of 5 stars  ...       31   \n",
       "\n",
       "     condition country_id               Category  \\\n",
       "0          new          1                Hobbies   \n",
       "1                       1                Hobbies   \n",
       "2          new          1                Hobbies   \n",
       "3                       1                Hobbies   \n",
       "4                       1                Hobbies   \n",
       "...        ...        ...                    ...   \n",
       "9994       new          6                Hobbies   \n",
       "9995                    6    Characters & Brands   \n",
       "9996       new          6  Novelty & Special Use   \n",
       "9997       new          6                Hobbies   \n",
       "9998       new          6    Characters & Brands   \n",
       "\n",
       "                           Sub_Category                 Sub_Sub_Category  \\\n",
       "0           Model Trains & Railway Sets                    Rail Vehicles   \n",
       "1           Model Trains & Railway Sets                    Rail Vehicles   \n",
       "2           Model Trains & Railway Sets                    Rail Vehicles   \n",
       "3           Model Trains & Railway Sets                    Rail Vehicles   \n",
       "4           Model Trains & Railway Sets                    Rail Vehicles   \n",
       "...                                 ...                              ...   \n",
       "9994  Collectible Figures & Memorabilia  Collectible Props & Memorabilia   \n",
       "9995                          Star Wars                             Toys   \n",
       "9996                            Novelty                      Accessories   \n",
       "9997  Collectible Figures & Memorabilia  Collectible Props & Memorabilia   \n",
       "9998                          Star Wars                             Toys   \n",
       "\n",
       "     Sub_Sub_Sub_Category Sub_Category_ID  Sub_Sub_Category_ID  \\\n",
       "0                  Trains               1                    1   \n",
       "1                  Trains               1                    1   \n",
       "2                  Trains               1                    1   \n",
       "3                  Trains               1                    1   \n",
       "4                  Trains               1                    1   \n",
       "...                   ...             ...                  ...   \n",
       "9994                 None              29                   13   \n",
       "9995                 None               4                    5   \n",
       "9996       Buttons & Pins              67                    3   \n",
       "9997                 None              29                   13   \n",
       "9998                 None               4                    5   \n",
       "\n",
       "     Sub_Sub_Sub_Category_ID  \n",
       "0                          1  \n",
       "1                          1  \n",
       "2                          1  \n",
       "3                          1  \n",
       "4                          1  \n",
       "...                      ...  \n",
       "9994                       0  \n",
       "9995                       0  \n",
       "9996                      21  \n",
       "9997                       0  \n",
       "9998                       0  \n",
       "\n",
       "[9999 rows x 28 columns]"
      ]
     },
     "execution_count": 302,
     "metadata": {},
     "output_type": "execute_result"
    }
   ],
   "source": [
    "df"
   ]
  },
  {
   "cell_type": "code",
   "execution_count": 322,
   "id": "9cf4c9b5",
   "metadata": {},
   "outputs": [
    {
     "name": "stdout",
     "output_type": "stream",
     "text": [
      "                         product_id  category_id      average_rating  \\\n",
      "0  eac7efa5dbd3d667f26eb3d3ab504464            1  4.9 out of 5 stars   \n",
      "1  b17540ef7e86e461d37f3ae58b7b72ac            1  4.5 out of 5 stars   \n",
      "2  348f344247b0c1a935b1223072ef9d8a            1  3.9 out of 5 stars   \n",
      "3  e12b92dbb8eaee78b22965d2a9bbbd9f            1  5.0 out of 5 stars   \n",
      "4  e33a9adeed5f36840ccc227db4682a36            1  4.7 out of 5 stars   \n",
      "\n",
      "                                         description  country_id   price  \\\n",
      "0  Product Description Hornby 2014 Catalogue Box ...           1   £3.42   \n",
      "1  Size Name:Large FunkyBuys® Large Christmas Hol...           1  £16.99   \n",
      "2  BIG CLASSIC TOY TRAIN SET TRACK CARRIAGE LIGHT...           1   £9.99   \n",
      "3  Hornby 00 Gauge BR Hawksworth 3rd Class W 2107...           1  £39.99   \n",
      "4  Product Description Hornby RailRoad 0-4-0 Gild...           1  £32.19   \n",
      "\n",
      "    ship_date purchase_date reviews_nb  manufacturer_id nb_stocks  \\\n",
      "0  2018-06-14    2018-06-04         15             1030     5 new   \n",
      "1  2022-09-02    2022-08-30          2              802         0   \n",
      "2  2020-08-06    2020-08-04         17             2556     2 new   \n",
      "3  2020-10-30    2020-10-27          1             1030         0   \n",
      "4  2018-02-04    2018-02-03          3             1030         0   \n",
      "\n",
      "   condition_id                                       bought_after  \\\n",
      "0             3  http://www.amazon.co.uk/Hornby-R8150-Catalogue...   \n",
      "1             1  http://www.amazon.co.uk/Christmas-Holiday-Expr...   \n",
      "2             3  http://www.amazon.co.uk/Train-With-Tracks-Batt...   \n",
      "3             1                                                NaN   \n",
      "4             1  http://www.amazon.co.uk/Hornby-R2672-RailRoad-...   \n",
      "\n",
      "                sub_category_1 sub_category_2 sub_category_3  \n",
      "0  Model Trains & Railway Sets  Rail Vehicles         Trains  \n",
      "1  Model Trains & Railway Sets  Rail Vehicles         Trains  \n",
      "2  Model Trains & Railway Sets  Rail Vehicles         Trains  \n",
      "3  Model Trains & Railway Sets  Rail Vehicles         Trains  \n",
      "4  Model Trains & Railway Sets  Rail Vehicles         Trains  \n"
     ]
    }
   ],
   "source": [
    "def convert_to_timestamp(timestamp):\n",
    "    try:\n",
    "        # Adjust the format to match 'M/D/YYYY'\n",
    "        dt = datetime.strptime(timestamp, '%m/%d/%Y')\n",
    "        return dt.strftime('%Y-%m-%d')\n",
    "    except Exception as e:\n",
    "        # Log or print the error message if needed\n",
    "        print(f\"Error converting timestamp: {e}\")\n",
    "        return None\n",
    "\n",
    "# Assuming df is already defined\n",
    "f_products = pd.DataFrame({\n",
    "    'product_id': df['uniq_id'],\n",
    "    'category_id': df['Sub_Category_ID'].astype('category').cat.codes+1,\n",
    "    'average_rating': df['average_review_rating'],\n",
    "    'description': df['description'],\n",
    "    'country_id': df['country_id'],\n",
    "    'price': df['price'],\n",
    "    'ship_date': df['ship_date'].apply(lambda x: convert_to_timestamp(x) if pd.notnull(x) else None),\n",
    "    'purchase_date': df['purchase_date'].apply(lambda x: convert_to_timestamp(x) if pd.notnull(x) else None),\n",
    "    'reviews_nb': df['number_of_reviews'],\n",
    "    'manufacturer_id': df['manufacturer'].astype('category').cat.codes+1,\n",
    "    'nb_stocks': df['number_available_in_stock'],\n",
    "    'condition_id': df['condition'].astype('category').cat.codes+1,\n",
    "    'bought_after': df['items_customers_buy_after_viewing_this_item'],\n",
    "    'sub_category_1': df['Sub_Category'],\n",
    "    'sub_category_2': df['Sub_Sub_Category'],\n",
    "    'sub_category_3': df['Sub_Sub_Sub_Category']\n",
    "})\n",
    "\n",
    "# Display the DataFrame\n",
    "print(f_products.head())"
   ]
  },
  {
   "cell_type": "code",
   "execution_count": 323,
   "id": "29b87a80",
   "metadata": {},
   "outputs": [
    {
     "name": "stdout",
     "output_type": "stream",
     "text": [
      "product_id                 object\n",
      "category_id                 int16\n",
      "average_rating            float64\n",
      "description                object\n",
      "country_id                   int8\n",
      "price                     float64\n",
      "ship_date          datetime64[ns]\n",
      "purchase_date      datetime64[ns]\n",
      "reviews_nb                float64\n",
      "manufacturer_id             int16\n",
      "nb_stocks                 float64\n",
      "condition_id                 int8\n",
      "bought_after               object\n",
      "sub_category_1             object\n",
      "sub_category_2             object\n",
      "sub_category_3             object\n",
      "dtype: object\n"
     ]
    }
   ],
   "source": [
    "# Function to extract numeric rating\n",
    "def extract_rating(rating_str):\n",
    "    try:\n",
    "        return float(rating_str.split()[0])\n",
    "    except:\n",
    "        return np.nan\n",
    "\n",
    "# Function to clean price\n",
    "def clean_price(price_str):\n",
    "    try:\n",
    "        return float(price_str.replace('£', '').replace(',', ''))\n",
    "    except:\n",
    "        return np.nan\n",
    "\n",
    "# Correcting data types\n",
    "f_products['product_id'] = f_products['product_id'].astype(str)\n",
    "f_products['category_id'] = pd.to_numeric(f_products['category_id'], errors='coerce', downcast='integer')\n",
    "f_products['average_rating'] = f_products['average_rating'].apply(extract_rating)\n",
    "f_products['description'] = f_products['description'].astype(str)\n",
    "f_products['country_id'] = pd.to_numeric(f_products['country_id'], errors='coerce', downcast='integer')\n",
    "f_products['price'] = f_products['price'].apply(clean_price)\n",
    "f_products['ship_date'] = f_products['ship_date']\n",
    "f_products['purchase_date'] = f_products['purchase_date']\n",
    "f_products['reviews_nb'] = pd.to_numeric(f_products['reviews_nb'], errors='coerce', downcast='integer')\n",
    "f_products['manufacturer_id'] = pd.to_numeric(f_products['manufacturer_id'], errors='coerce', downcast='integer')\n",
    "f_products['nb_stocks'] = pd.to_numeric(f_products['nb_stocks'], errors='coerce', downcast='integer')\n",
    "f_products['condition_id'] = pd.to_numeric(f_products['condition_id'], errors='coerce', downcast='integer')\n",
    "f_products['bought_after'] = f_products['bought_after'].astype(str)\n",
    "f_products['sub_category_1'] = f_products['sub_category_1'].astype(str)\n",
    "f_products['sub_category_2'] = f_products['sub_category_2'].astype(str)\n",
    "f_products['sub_category_3'] = f_products['sub_category_3'].astype(str)\n",
    "\n",
    "f_products['ship_date'] = pd.to_datetime(f_products['ship_date'], format='%Y-%m-%d', errors='coerce')\n",
    "f_products['purchase_date'] = pd.to_datetime(f_products['purchase_date'], format='%Y-%m-%d', errors='coerce')\n",
    "\n",
    "# Display the DataFrame with corrected data types\n",
    "print(f_products.dtypes)\n"
   ]
  },
  {
   "cell_type": "code",
   "execution_count": 318,
   "id": "7199162a",
   "metadata": {},
   "outputs": [
    {
     "data": {
      "text/html": [
       "<div>\n",
       "<style scoped>\n",
       "    .dataframe tbody tr th:only-of-type {\n",
       "        vertical-align: middle;\n",
       "    }\n",
       "\n",
       "    .dataframe tbody tr th {\n",
       "        vertical-align: top;\n",
       "    }\n",
       "\n",
       "    .dataframe thead th {\n",
       "        text-align: right;\n",
       "    }\n",
       "</style>\n",
       "<table border=\"1\" class=\"dataframe\">\n",
       "  <thead>\n",
       "    <tr style=\"text-align: right;\">\n",
       "      <th></th>\n",
       "      <th>product_id</th>\n",
       "      <th>category_id</th>\n",
       "      <th>average_rating</th>\n",
       "      <th>description</th>\n",
       "      <th>country_id</th>\n",
       "      <th>price</th>\n",
       "      <th>ship_date</th>\n",
       "      <th>purchase_date</th>\n",
       "      <th>reviews_nb</th>\n",
       "      <th>manufacturer_id</th>\n",
       "      <th>nb_stocks</th>\n",
       "      <th>condition_id</th>\n",
       "      <th>bought_after</th>\n",
       "      <th>sub_category_1</th>\n",
       "      <th>sub_category_2</th>\n",
       "      <th>sub_category_3</th>\n",
       "    </tr>\n",
       "  </thead>\n",
       "  <tbody>\n",
       "    <tr>\n",
       "      <th>0</th>\n",
       "      <td>eac7efa5dbd3d667f26eb3d3ab504464</td>\n",
       "      <td>1</td>\n",
       "      <td>4.9</td>\n",
       "      <td>Product Description Hornby 2014 Catalogue Box ...</td>\n",
       "      <td>1</td>\n",
       "      <td>3.42</td>\n",
       "      <td>2018-06-14</td>\n",
       "      <td>2018-06-04</td>\n",
       "      <td>15.0</td>\n",
       "      <td>1029</td>\n",
       "      <td>NaN</td>\n",
       "      <td>2</td>\n",
       "      <td>http://www.amazon.co.uk/Hornby-R8150-Catalogue...</td>\n",
       "      <td>Model Trains &amp; Railway Sets</td>\n",
       "      <td>Rail Vehicles</td>\n",
       "      <td>Trains</td>\n",
       "    </tr>\n",
       "    <tr>\n",
       "      <th>1</th>\n",
       "      <td>b17540ef7e86e461d37f3ae58b7b72ac</td>\n",
       "      <td>1</td>\n",
       "      <td>4.5</td>\n",
       "      <td>Size Name:Large FunkyBuys® Large Christmas Hol...</td>\n",
       "      <td>1</td>\n",
       "      <td>16.99</td>\n",
       "      <td>2022-09-02</td>\n",
       "      <td>2022-08-30</td>\n",
       "      <td>2.0</td>\n",
       "      <td>801</td>\n",
       "      <td>0.0</td>\n",
       "      <td>0</td>\n",
       "      <td>http://www.amazon.co.uk/Christmas-Holiday-Expr...</td>\n",
       "      <td>Model Trains &amp; Railway Sets</td>\n",
       "      <td>Rail Vehicles</td>\n",
       "      <td>Trains</td>\n",
       "    </tr>\n",
       "    <tr>\n",
       "      <th>2</th>\n",
       "      <td>348f344247b0c1a935b1223072ef9d8a</td>\n",
       "      <td>1</td>\n",
       "      <td>3.9</td>\n",
       "      <td>BIG CLASSIC TOY TRAIN SET TRACK CARRIAGE LIGHT...</td>\n",
       "      <td>1</td>\n",
       "      <td>9.99</td>\n",
       "      <td>2020-08-06</td>\n",
       "      <td>2020-08-04</td>\n",
       "      <td>17.0</td>\n",
       "      <td>2555</td>\n",
       "      <td>NaN</td>\n",
       "      <td>2</td>\n",
       "      <td>http://www.amazon.co.uk/Train-With-Tracks-Batt...</td>\n",
       "      <td>Model Trains &amp; Railway Sets</td>\n",
       "      <td>Rail Vehicles</td>\n",
       "      <td>Trains</td>\n",
       "    </tr>\n",
       "    <tr>\n",
       "      <th>3</th>\n",
       "      <td>e12b92dbb8eaee78b22965d2a9bbbd9f</td>\n",
       "      <td>1</td>\n",
       "      <td>5.0</td>\n",
       "      <td>Hornby 00 Gauge BR Hawksworth 3rd Class W 2107...</td>\n",
       "      <td>1</td>\n",
       "      <td>39.99</td>\n",
       "      <td>2020-10-30</td>\n",
       "      <td>2020-10-27</td>\n",
       "      <td>1.0</td>\n",
       "      <td>1029</td>\n",
       "      <td>0.0</td>\n",
       "      <td>0</td>\n",
       "      <td>nan</td>\n",
       "      <td>Model Trains &amp; Railway Sets</td>\n",
       "      <td>Rail Vehicles</td>\n",
       "      <td>Trains</td>\n",
       "    </tr>\n",
       "    <tr>\n",
       "      <th>4</th>\n",
       "      <td>e33a9adeed5f36840ccc227db4682a36</td>\n",
       "      <td>1</td>\n",
       "      <td>4.7</td>\n",
       "      <td>Product Description Hornby RailRoad 0-4-0 Gild...</td>\n",
       "      <td>1</td>\n",
       "      <td>32.19</td>\n",
       "      <td>2018-02-04</td>\n",
       "      <td>2018-02-03</td>\n",
       "      <td>3.0</td>\n",
       "      <td>1029</td>\n",
       "      <td>0.0</td>\n",
       "      <td>0</td>\n",
       "      <td>http://www.amazon.co.uk/Hornby-R2672-RailRoad-...</td>\n",
       "      <td>Model Trains &amp; Railway Sets</td>\n",
       "      <td>Rail Vehicles</td>\n",
       "      <td>Trains</td>\n",
       "    </tr>\n",
       "    <tr>\n",
       "      <th>...</th>\n",
       "      <td>...</td>\n",
       "      <td>...</td>\n",
       "      <td>...</td>\n",
       "      <td>...</td>\n",
       "      <td>...</td>\n",
       "      <td>...</td>\n",
       "      <td>...</td>\n",
       "      <td>...</td>\n",
       "      <td>...</td>\n",
       "      <td>...</td>\n",
       "      <td>...</td>\n",
       "      <td>...</td>\n",
       "      <td>...</td>\n",
       "      <td>...</td>\n",
       "      <td>...</td>\n",
       "      <td>...</td>\n",
       "    </tr>\n",
       "    <tr>\n",
       "      <th>9994</th>\n",
       "      <td>44d6967f083825a5de36ad4865a65bcd</td>\n",
       "      <td>29</td>\n",
       "      <td>5.0</td>\n",
       "      <td>DC 66 Batman Classic TV Series 6 Inch Riddler ...</td>\n",
       "      <td>6</td>\n",
       "      <td>22.95</td>\n",
       "      <td>2016-06-15</td>\n",
       "      <td>2016-06-06</td>\n",
       "      <td>3.0</td>\n",
       "      <td>1388</td>\n",
       "      <td>NaN</td>\n",
       "      <td>2</td>\n",
       "      <td>nan</td>\n",
       "      <td>Collectible Figures &amp; Memorabilia</td>\n",
       "      <td>Collectible Props &amp; Memorabilia</td>\n",
       "      <td>None</td>\n",
       "    </tr>\n",
       "    <tr>\n",
       "      <th>9995</th>\n",
       "      <td>08f0747b6fc6687215ffb994c3a6fb32</td>\n",
       "      <td>4</td>\n",
       "      <td>4.0</td>\n",
       "      <td>nan</td>\n",
       "      <td>6</td>\n",
       "      <td>39.99</td>\n",
       "      <td>2016-08-30</td>\n",
       "      <td>2016-08-28</td>\n",
       "      <td>1.0</td>\n",
       "      <td>2037</td>\n",
       "      <td>0.0</td>\n",
       "      <td>0</td>\n",
       "      <td>http://www.amazon.co.uk/Storm-Trooper-Costume-...</td>\n",
       "      <td>Star Wars</td>\n",
       "      <td>Toys</td>\n",
       "      <td>None</td>\n",
       "    </tr>\n",
       "    <tr>\n",
       "      <th>9996</th>\n",
       "      <td>bf6cc073f8f24e6e338190fa16f6ee9d</td>\n",
       "      <td>67</td>\n",
       "      <td>5.0</td>\n",
       "      <td>*Includes 1x Badge with holder and chain *High...</td>\n",
       "      <td>6</td>\n",
       "      <td>43.99</td>\n",
       "      <td>2016-07-24</td>\n",
       "      <td>2016-07-19</td>\n",
       "      <td>1.0</td>\n",
       "      <td>1576</td>\n",
       "      <td>NaN</td>\n",
       "      <td>2</td>\n",
       "      <td>http://www.amazon.co.uk/Olde-Scotland-Yard-Ltd...</td>\n",
       "      <td>Novelty</td>\n",
       "      <td>Accessories</td>\n",
       "      <td>Buttons &amp; Pins</td>\n",
       "    </tr>\n",
       "    <tr>\n",
       "      <th>9997</th>\n",
       "      <td>cd783d0b8b44e631b9788b203eaaefae</td>\n",
       "      <td>29</td>\n",
       "      <td>5.0</td>\n",
       "      <td>Designed by Ed BenesIt's here - the third seri...</td>\n",
       "      <td>6</td>\n",
       "      <td>49.81</td>\n",
       "      <td>2016-02-05</td>\n",
       "      <td>2016-01-31</td>\n",
       "      <td>1.0</td>\n",
       "      <td>534</td>\n",
       "      <td>NaN</td>\n",
       "      <td>2</td>\n",
       "      <td>nan</td>\n",
       "      <td>Collectible Figures &amp; Memorabilia</td>\n",
       "      <td>Collectible Props &amp; Memorabilia</td>\n",
       "      <td>None</td>\n",
       "    </tr>\n",
       "    <tr>\n",
       "      <th>9998</th>\n",
       "      <td>94d18e86e504bee1e392df7e5738b18a</td>\n",
       "      <td>4</td>\n",
       "      <td>4.5</td>\n",
       "      <td>nan</td>\n",
       "      <td>6</td>\n",
       "      <td>21.20</td>\n",
       "      <td>2016-10-11</td>\n",
       "      <td>2016-10-08</td>\n",
       "      <td>11.0</td>\n",
       "      <td>210</td>\n",
       "      <td>NaN</td>\n",
       "      <td>2</td>\n",
       "      <td>nan</td>\n",
       "      <td>Star Wars</td>\n",
       "      <td>Toys</td>\n",
       "      <td>None</td>\n",
       "    </tr>\n",
       "  </tbody>\n",
       "</table>\n",
       "<p>9999 rows × 16 columns</p>\n",
       "</div>"
      ],
      "text/plain": [
       "                            product_id  category_id  average_rating  \\\n",
       "0     eac7efa5dbd3d667f26eb3d3ab504464            1             4.9   \n",
       "1     b17540ef7e86e461d37f3ae58b7b72ac            1             4.5   \n",
       "2     348f344247b0c1a935b1223072ef9d8a            1             3.9   \n",
       "3     e12b92dbb8eaee78b22965d2a9bbbd9f            1             5.0   \n",
       "4     e33a9adeed5f36840ccc227db4682a36            1             4.7   \n",
       "...                                ...          ...             ...   \n",
       "9994  44d6967f083825a5de36ad4865a65bcd           29             5.0   \n",
       "9995  08f0747b6fc6687215ffb994c3a6fb32            4             4.0   \n",
       "9996  bf6cc073f8f24e6e338190fa16f6ee9d           67             5.0   \n",
       "9997  cd783d0b8b44e631b9788b203eaaefae           29             5.0   \n",
       "9998  94d18e86e504bee1e392df7e5738b18a            4             4.5   \n",
       "\n",
       "                                            description  country_id  price  \\\n",
       "0     Product Description Hornby 2014 Catalogue Box ...           1   3.42   \n",
       "1     Size Name:Large FunkyBuys® Large Christmas Hol...           1  16.99   \n",
       "2     BIG CLASSIC TOY TRAIN SET TRACK CARRIAGE LIGHT...           1   9.99   \n",
       "3     Hornby 00 Gauge BR Hawksworth 3rd Class W 2107...           1  39.99   \n",
       "4     Product Description Hornby RailRoad 0-4-0 Gild...           1  32.19   \n",
       "...                                                 ...         ...    ...   \n",
       "9994  DC 66 Batman Classic TV Series 6 Inch Riddler ...           6  22.95   \n",
       "9995                                                nan           6  39.99   \n",
       "9996  *Includes 1x Badge with holder and chain *High...           6  43.99   \n",
       "9997  Designed by Ed BenesIt's here - the third seri...           6  49.81   \n",
       "9998                                                nan           6  21.20   \n",
       "\n",
       "      ship_date purchase_date  reviews_nb  manufacturer_id  nb_stocks  \\\n",
       "0    2018-06-14    2018-06-04        15.0             1029        NaN   \n",
       "1    2022-09-02    2022-08-30         2.0              801        0.0   \n",
       "2    2020-08-06    2020-08-04        17.0             2555        NaN   \n",
       "3    2020-10-30    2020-10-27         1.0             1029        0.0   \n",
       "4    2018-02-04    2018-02-03         3.0             1029        0.0   \n",
       "...         ...           ...         ...              ...        ...   \n",
       "9994 2016-06-15    2016-06-06         3.0             1388        NaN   \n",
       "9995 2016-08-30    2016-08-28         1.0             2037        0.0   \n",
       "9996 2016-07-24    2016-07-19         1.0             1576        NaN   \n",
       "9997 2016-02-05    2016-01-31         1.0              534        NaN   \n",
       "9998 2016-10-11    2016-10-08        11.0              210        NaN   \n",
       "\n",
       "      condition_id                                       bought_after  \\\n",
       "0                2  http://www.amazon.co.uk/Hornby-R8150-Catalogue...   \n",
       "1                0  http://www.amazon.co.uk/Christmas-Holiday-Expr...   \n",
       "2                2  http://www.amazon.co.uk/Train-With-Tracks-Batt...   \n",
       "3                0                                                nan   \n",
       "4                0  http://www.amazon.co.uk/Hornby-R2672-RailRoad-...   \n",
       "...            ...                                                ...   \n",
       "9994             2                                                nan   \n",
       "9995             0  http://www.amazon.co.uk/Storm-Trooper-Costume-...   \n",
       "9996             2  http://www.amazon.co.uk/Olde-Scotland-Yard-Ltd...   \n",
       "9997             2                                                nan   \n",
       "9998             2                                                nan   \n",
       "\n",
       "                         sub_category_1                   sub_category_2  \\\n",
       "0           Model Trains & Railway Sets                    Rail Vehicles   \n",
       "1           Model Trains & Railway Sets                    Rail Vehicles   \n",
       "2           Model Trains & Railway Sets                    Rail Vehicles   \n",
       "3           Model Trains & Railway Sets                    Rail Vehicles   \n",
       "4           Model Trains & Railway Sets                    Rail Vehicles   \n",
       "...                                 ...                              ...   \n",
       "9994  Collectible Figures & Memorabilia  Collectible Props & Memorabilia   \n",
       "9995                          Star Wars                             Toys   \n",
       "9996                            Novelty                      Accessories   \n",
       "9997  Collectible Figures & Memorabilia  Collectible Props & Memorabilia   \n",
       "9998                          Star Wars                             Toys   \n",
       "\n",
       "      sub_category_3  \n",
       "0             Trains  \n",
       "1             Trains  \n",
       "2             Trains  \n",
       "3             Trains  \n",
       "4             Trains  \n",
       "...              ...  \n",
       "9994            None  \n",
       "9995            None  \n",
       "9996  Buttons & Pins  \n",
       "9997            None  \n",
       "9998            None  \n",
       "\n",
       "[9999 rows x 16 columns]"
      ]
     },
     "execution_count": 318,
     "metadata": {},
     "output_type": "execute_result"
    }
   ],
   "source": [
    "f_products"
   ]
  },
  {
   "cell_type": "code",
   "execution_count": 266,
   "id": "0d7f9801",
   "metadata": {},
   "outputs": [
    {
     "data": {
      "text/plain": [
       "3247"
      ]
     },
     "execution_count": 266,
     "metadata": {},
     "output_type": "execute_result"
    }
   ],
   "source": [
    "import pandas as pd\n",
    "from sqlalchemy import create_engine\n",
    "\n",
    "# Database credentials\n",
    "db_user = 'root'\n",
    "db_password = ''\n",
    "db_host = 'localhost'\n",
    "db_port = 3306\n",
    "db_name = 'amazon_sales_db'\n",
    "\n",
    "# Create the database engine\n",
    "engine = create_engine(f'mysql+pymysql://{db_user}:{db_password}@{db_host}:{db_port}/{db_name}')\n",
    "\n",
    "# Load DataFrame into the MySQL table\n",
    "d_customers.to_sql('d_customers', con=engine, if_exists='append', index=False)\n",
    "\n"
   ]
  },
  {
   "cell_type": "code",
   "execution_count": 267,
   "id": "9600776b",
   "metadata": {},
   "outputs": [
    {
     "data": {
      "text/plain": [
       "2651"
      ]
     },
     "execution_count": 267,
     "metadata": {},
     "output_type": "execute_result"
    }
   ],
   "source": [
    "d_manufacturers.to_sql('d_manufacturers', con=engine, if_exists='append', index=False)"
   ]
  },
  {
   "cell_type": "code",
   "execution_count": 268,
   "id": "5cc51934",
   "metadata": {},
   "outputs": [
    {
     "data": {
      "text/plain": [
       "44"
      ]
     },
     "execution_count": 268,
     "metadata": {},
     "output_type": "execute_result"
    }
   ],
   "source": [
    "d_category.to_sql('d_categories', con=engine, if_exists=\"append\", index=False)"
   ]
  },
  {
   "cell_type": "code",
   "execution_count": 269,
   "id": "3d7f9418",
   "metadata": {},
   "outputs": [
    {
     "data": {
      "text/plain": [
       "6"
      ]
     },
     "execution_count": 269,
     "metadata": {},
     "output_type": "execute_result"
    }
   ],
   "source": [
    "d_countries.to_sql('d_countries', con=engine, if_exists=\"append\", index=False)"
   ]
  },
  {
   "cell_type": "code",
   "execution_count": 270,
   "id": "6a92335a",
   "metadata": {},
   "outputs": [
    {
     "data": {
      "text/plain": [
       "5"
      ]
     },
     "execution_count": 270,
     "metadata": {},
     "output_type": "execute_result"
    }
   ],
   "source": [
    "d_conditions.to_sql('d_conditions', con=engine, if_exists=\"append\", index=False)"
   ]
  },
  {
   "cell_type": "code",
   "execution_count": 326,
   "id": "b559f494",
   "metadata": {},
   "outputs": [
    {
     "data": {
      "text/plain": [
       "array([  1,   0,   2,   3,   4,   5,   6,   7,   8,   9,  10,  11,  12,\n",
       "        13,  14,  15,  16,  17,  18,  19,  20,  21,  22,  23,  24,  25,\n",
       "        26,  27,  28,  29,  30,  31,  32,  33,  34,  35,  36,  37,  38,\n",
       "        39,  40,  41,  42,  43,  44,  45,  46,  47,  48,  49,  50,  51,\n",
       "        52,  53,  54,  55,  56,  57,  58,  59,  60,  61,  62,  63,  64,\n",
       "        65,  66,  67,  68,  69,  70,  71,  72,  73,  74,  75,  76,  77,\n",
       "        78,  79,  80,  81,  82,  83,  84,  85,  86,  87,  88,  89,  90,\n",
       "        91,  92,  93,  94,  95,  96,  97,  98,  99, 100, 101, 102, 103,\n",
       "       104, 105, 106, 107, 108, 109, 110, 111, 112, 113, 114, 115, 116,\n",
       "       117, 118, 119, 120, 121, 122, 123, 124, 125, 126, 127, 128, 129,\n",
       "       130, 131, 132, 133, 134, 135, 136, 137, 138, 139, 140, 141, 142,\n",
       "       143, 144, 145, 146, 147, 148], dtype=int16)"
      ]
     },
     "execution_count": 326,
     "metadata": {},
     "output_type": "execute_result"
    }
   ],
   "source": [
    "f_products['category_id'].unique()"
   ]
  },
  {
   "cell_type": "code",
   "execution_count": 325,
   "id": "2d65353b",
   "metadata": {},
   "outputs": [
    {
     "ename": "IntegrityError",
     "evalue": "(pymysql.err.IntegrityError) (1452, 'Cannot add or update a child row: a foreign key constraint fails (`amazon_sales_db`.`f_products`, CONSTRAINT `f_products_ibfk_1` FOREIGN KEY (`category_id`) REFERENCES `d_categories` (`category_id`))')\n[SQL: INSERT INTO f_products (product_id, category_id, average_rating, description, country_id, price, ship_date, purchase_date, reviews_nb, manufacturer_id, nb_stocks, condition_id, bought_after, sub_category_1, sub_category_2, sub_category_3) VALUES (%(product_id)s, %(category_id)s, %(average_rating)s, %(description)s, %(country_id)s, %(price)s, %(ship_date)s, %(purchase_date)s, %(reviews_nb)s, %(manufacturer_id)s, %(nb_stocks)s, %(condition_id)s, %(bought_after)s, %(sub_category_1)s, %(sub_category_2)s, %(sub_category_3)s)]\n[parameters: [{'product_id': 'eac7efa5dbd3d667f26eb3d3ab504464', 'category_id': 1, 'average_rating': 4.9, 'description': 'Product Description Hornby 2014 Catalogue Box Contains 1 x one catalogue', 'country_id': 1, 'price': 3.42, 'ship_date': datetime.datetime(2018, 6, 14, 0, 0), 'purchase_date': datetime.datetime(2018, 6, 4, 0, 0), 'reviews_nb': 15.0, 'manufacturer_id': 1030, 'nb_stocks': None, 'condition_id': 3, 'bought_after': 'http://www.amazon.co.uk/Hornby-R8150-Catalogue-2015/dp/B00S9SUUBE | http://www.amazon.co.uk/Hornby-Book-Model-Railways-Edition/dp/1844860957 | http://www.amazon.co.uk/Peco-60-Plans-Book/dp/B002QVL16I | http://www.amazon.co.uk/Newcomers-Guide-Model-Railways-Step/dp/1857943295', 'sub_category_1': 'Model Trains & Railway Sets', 'sub_category_2': 'Rail Vehicles', 'sub_category_3': 'Trains'}, {'product_id': 'b17540ef7e86e461d37f3ae58b7b72ac', 'category_id': 1, 'average_rating': 4.5, 'description': 'Size Name:Large FunkyBuys® Large Christmas Holiday Express Festive Train Set (SI-TY1017) Toy Light / Sounds / Battery Operated & Smoke', 'country_id': 1, 'price': 16.99, 'ship_date': datetime.datetime(2022, 9, 2, 0, 0), 'purchase_date': datetime.datetime(2022, 8, 30, 0, 0), 'reviews_nb': 2.0, 'manufacturer_id': 802, 'nb_stocks': 0.0, 'condition_id': 1, 'bought_after': 'http://www.amazon.co.uk/Christmas-Holiday-Express-Festive-Train-Set-Toy/dp/B009R8S8AA | http://www.amazon.co.uk/Goldlok-Holiday-Express-Operated-Mult ... (40 characters truncated) ... on.co.uk/FunkyBuys%C2%AE-Christmas-SI-TY1017-Ornaments-Operated/dp/B01437QMHA | http://www.amazon.co.uk/Holiday-Express-Christmas-Ornament-Decoration', 'sub_category_1': 'Model Trains & Railway Sets', 'sub_category_2': 'Rail Vehicles', 'sub_category_3': 'Trains'}, {'product_id': '348f344247b0c1a935b1223072ef9d8a', 'category_id': 1, 'average_rating': 3.9, 'description': 'BIG CLASSIC TOY TRAIN SET TRACK CARRIAGE LIGHT ENGINE SOUND BOXED KIDS BATTERY Railway Train Set with Light Sound, Big Size Curved Track Free Wheelin ... (59 characters truncated) ...  Assembled In More Layouts Length Of Track 104 cm WIDTH OF THE TRACK 68 CM Finely Detailed Realistic Toy Train REQUIRES 2 AA BATTERIES (NOT INCLUDED)', 'country_id': 1, 'price': 9.99, 'ship_date': datetime.datetime(2020, 8, 6, 0, 0), 'purchase_date': datetime.datetime(2020, 8, 4, 0, 0), 'reviews_nb': 17.0, 'manufacturer_id': 2556, 'nb_stocks': None, 'condition_id': 3, 'bought_after': 'http://www.amazon.co.uk/Train-With-Tracks-Battery-Operated-x/dp/B009P540O8 | http://www.amazon.co.uk/Classic-Train-Lights-Battery-Operated/dp/B0041L9OHE | http://www.amazon.co.uk/Train-Flash-Electric-Sound-Europe/dp/B008D7CEH4 | http://www.amazon.co.uk/13-Piece-Train-Set-Ideal/dp/B0173N6E4W', 'sub_category_1': 'Model Trains & Railway Sets', 'sub_category_2': 'Rail Vehicles', 'sub_category_3': 'Trains'}, {'product_id': 'e12b92dbb8eaee78b22965d2a9bbbd9f', 'category_id': 1, 'average_rating': 5.0, 'description': 'Hornby 00 Gauge BR Hawksworth 3rd Class W 2107 W # R4410A', 'country_id': 1, 'price': 39.99, 'ship_date': datetime.datetime(2020, 10, 30, 0, 0), 'purchase_date': datetime.datetime(2020, 10, 27, 0, 0), 'reviews_nb': 1.0, 'manufacturer_id': 1030, 'nb_stocks': 0.0, 'condition_id': 1, 'bought_after': 'nan', 'sub_category_1': 'Model Trains & Railway Sets', 'sub_category_2': 'Rail Vehicles', 'sub_category_3': 'Trains'}, {'product_id': 'e33a9adeed5f36840ccc227db4682a36', 'category_id': 1, 'average_rating': 4.7, 'description': 'Product Description Hornby RailRoad 0-4-0 Gildenlow Salt Co 00 gauge steam locomotive model. Safety warning: This product is not suitable for childre ... (100 characters truncated) ... nctional sharp edges. Handle with care. Only use this product with the recommended transformer. Made in China. Box Contains 1x Steam Locomotive Model', 'country_id': 1, 'price': 32.19, 'ship_date': datetime.datetime(2018, 2, 4, 0, 0), 'purchase_date': datetime.datetime(2018, 2, 3, 0, 0), 'reviews_nb': 3.0, 'manufacturer_id': 1030, 'nb_stocks': 0.0, 'condition_id': 1, 'bought_after': 'http://www.amazon.co.uk/Hornby-R2672-RailRoad-Caledonian | http://www.amazon.co.uk/Hornby-R3064-RailRoad-Smokey-Locomotive | http://www.amazon.co.uk/Hornby-Railroad-Transatlanic | http://www.amazon.co.uk/Hornby-R8222-Gauge-Track-Extension/dp/B000RK3FZK', 'sub_category_1': 'Model Trains & Railway Sets', 'sub_category_2': 'Rail Vehicles', 'sub_category_3': 'Trains'}, {'product_id': 'cb34f0a84102c1ebc3ef6892d7444d36', 'category_id': 1, 'average_rating': 5.0, 'description': 'These delicate model garden lights are mainly used in teaching, photography, and various kinds of scene model. Each of them is completed with wires a ... (482 characters truncated) ... e power, please connect two long wires with one end and connect the rest two short wires with another end. Package Include: 20pcs model garden lights', 'country_id': 1, 'price': 6.99, 'ship_date': datetime.datetime(2020, 2, 22, 0, 0), 'purchase_date': datetime.datetime(2020, 2, 20, 0, 0), 'reviews_nb': 2.0, 'manufacturer_id': 853, 'nb_stocks': 0.0, 'condition_id': 1, 'bought_after': 'http://www.amazon.co.uk/Single-Head-Garden-Lights-Lamppost-Layout/dp/B008XCSHCA | http://www.amazon.co.uk/Model-Scene-Gas-Lamp-Posts/dp/B006MGB90G | http://www.amazon.co.uk/12pcs-1-2-inch-Scenery-Landscape/dp/B008S8NHYM | http://www.amazon.co.uk/douself-100Pcs-OO-Scale-Passenger/dp/B00GRUD8W4', 'sub_category_1': 'Model Trains & Railway Sets', 'sub_category_2': 'Lighting & Signal Engineering', 'sub_category_3': 'Lamps & Lighting'}, {'product_id': 'f74b562470571dfb689324adf236f82c', 'category_id': 1, 'average_rating': 4.5, 'description': 'Product Description Hornby BR bogie passenger brake coach has pristine finish. Livery: BR red livery. Entered Service: 1930. Period: 1950. 230mm coac ... (74 characters truncated) ... ffers something for most enthusiasts modelling the various regions and periods of the British rail network. Box Contains 1x Red Bogie Passenger Brake', 'country_id': 1, 'price': 24.99, 'ship_date': datetime.datetime(2022, 3, 10, 0, 0), 'purchase_date': datetime.datetime(2022, 3, 6, 0, 0), 'reviews_nb': 2.0, 'manufacturer_id': 1030, 'nb_stocks': 0.0, 'condition_id': 1, 'bought_after': 'nan', 'sub_category_1': 'Model Trains & Railway Sets', 'sub_category_2': 'Rail Vehicles', 'sub_category_3': 'Trains'}, {'product_id': '87bbb472ef9d90dcef140a551665c929', 'category_id': 1, 'average_rating': 4.3, 'description': \"Product Description Inject a bit of Hornby magic into Christmas with the special Santa's Express Train Set. The set includes everything you need to g ... (1321 characters truncated) ...  Box Van 1x 3rd Radius Starter Oval 1x Power Track and Track Straight 1xR8250 Train Controller 1x P9000 Transformer 1x Hornby MidiMat (1600 x 1180mm)\", 'country_id': 1, 'price': 69.93, 'ship_date': datetime.datetime(2017, 9, 15, 0, 0), 'purchase_date': datetime.datetime(2017, 9, 5, 0, 0), 'reviews_nb': 36.0, 'manufacturer_id': 1030, 'nb_stocks': None, 'condition_id': 3, 'bought_after': 'http://www.amazon.co.uk/Hornby-R1151-Caledonian | http://www.amazon.co.uk/Hornby-R8222-Gauge-Track-Extension/dp/B000RK3FZK | http://www.amazon.co.uk/Hornby-R3064-RailRoad-Smokey-Locomotive | http://www.amazon.co.uk/Hornby-Hobbies-Santa-Express-Train/dp/B016WP3RYM', 'sub_category_1': 'Model Trains & Railway Sets', 'sub_category_2': 'Rail Vehicles', 'sub_category_3': 'Trains'}  ... displaying 10 of 9999 total bound parameter sets ...  {'product_id': 'cd783d0b8b44e631b9788b203eaaefae', 'category_id': 29, 'average_rating': 5.0, 'description': 'Designed by Ed BenesIt\\'s here - the third series based on the popular DC Comics series, JUSTICE LEAGUE OF AMERICA, written by New York Times best-se ... (137 characters truncated) ... be made into action figures!- Green Lantern - 6.75\" HEach figure features multiple points of articulation and a base. 4-color blister card packaging.', 'country_id': 6, 'price': 49.81, 'ship_date': datetime.datetime(2016, 2, 5, 0, 0), 'purchase_date': datetime.datetime(2016, 1, 31, 0, 0), 'reviews_nb': 1.0, 'manufacturer_id': 535, 'nb_stocks': None, 'condition_id': 3, 'bought_after': 'nan', 'sub_category_1': 'Collectible Figures & Memorabilia', 'sub_category_2': 'Collectible Props & Memorabilia', 'sub_category_3': 'None'}, {'product_id': '94d18e86e504bee1e392df7e5738b18a', 'category_id': 4, 'average_rating': 4.5, 'description': 'nan', 'country_id': 6, 'price': 21.2, 'ship_date': datetime.datetime(2016, 10, 11, 0, 0), 'purchase_date': datetime.datetime(2016, 10, 8, 0, 0), 'reviews_nb': 11.0, 'manufacturer_id': 211, 'nb_stocks': None, 'condition_id': 3, 'bought_after': 'nan', 'sub_category_1': 'Star Wars', 'sub_category_2': 'Toys', 'sub_category_3': 'None'}]]\n(Background on this error at: https://sqlalche.me/e/20/gkpj)",
     "output_type": "error",
     "traceback": [
      "\u001b[0;31m---------------------------------------------------------------------------\u001b[0m",
      "\u001b[0;31mIntegrityError\u001b[0m                            Traceback (most recent call last)",
      "File \u001b[0;32m/opt/miniconda3/lib/python3.12/site-packages/sqlalchemy/engine/base.py:1936\u001b[0m, in \u001b[0;36mConnection._exec_single_context\u001b[0;34m(self, dialect, context, statement, parameters)\u001b[0m\n\u001b[1;32m   1935\u001b[0m     \u001b[38;5;28;01mif\u001b[39;00m \u001b[38;5;129;01mnot\u001b[39;00m evt_handled:\n\u001b[0;32m-> 1936\u001b[0m         \u001b[38;5;28;43mself\u001b[39;49m\u001b[38;5;241;43m.\u001b[39;49m\u001b[43mdialect\u001b[49m\u001b[38;5;241;43m.\u001b[39;49m\u001b[43mdo_executemany\u001b[49m\u001b[43m(\u001b[49m\n\u001b[1;32m   1937\u001b[0m \u001b[43m            \u001b[49m\u001b[43mcursor\u001b[49m\u001b[43m,\u001b[49m\n\u001b[1;32m   1938\u001b[0m \u001b[43m            \u001b[49m\u001b[43mstr_statement\u001b[49m\u001b[43m,\u001b[49m\n\u001b[1;32m   1939\u001b[0m \u001b[43m            \u001b[49m\u001b[43meffective_parameters\u001b[49m\u001b[43m,\u001b[49m\n\u001b[1;32m   1940\u001b[0m \u001b[43m            \u001b[49m\u001b[43mcontext\u001b[49m\u001b[43m,\u001b[49m\n\u001b[1;32m   1941\u001b[0m \u001b[43m        \u001b[49m\u001b[43m)\u001b[49m\n\u001b[1;32m   1942\u001b[0m \u001b[38;5;28;01melif\u001b[39;00m \u001b[38;5;129;01mnot\u001b[39;00m effective_parameters \u001b[38;5;129;01mand\u001b[39;00m context\u001b[38;5;241m.\u001b[39mno_parameters:\n",
      "File \u001b[0;32m/opt/miniconda3/lib/python3.12/site-packages/sqlalchemy/dialects/mysql/mysqldb.py:170\u001b[0m, in \u001b[0;36mMySQLDialect_mysqldb.do_executemany\u001b[0;34m(self, cursor, statement, parameters, context)\u001b[0m\n\u001b[1;32m    169\u001b[0m \u001b[38;5;28;01mdef\u001b[39;00m \u001b[38;5;21mdo_executemany\u001b[39m(\u001b[38;5;28mself\u001b[39m, cursor, statement, parameters, context\u001b[38;5;241m=\u001b[39m\u001b[38;5;28;01mNone\u001b[39;00m):\n\u001b[0;32m--> 170\u001b[0m     rowcount \u001b[38;5;241m=\u001b[39m \u001b[43mcursor\u001b[49m\u001b[38;5;241;43m.\u001b[39;49m\u001b[43mexecutemany\u001b[49m\u001b[43m(\u001b[49m\u001b[43mstatement\u001b[49m\u001b[43m,\u001b[49m\u001b[43m \u001b[49m\u001b[43mparameters\u001b[49m\u001b[43m)\u001b[49m\n\u001b[1;32m    171\u001b[0m     \u001b[38;5;28;01mif\u001b[39;00m context \u001b[38;5;129;01mis\u001b[39;00m \u001b[38;5;129;01mnot\u001b[39;00m \u001b[38;5;28;01mNone\u001b[39;00m:\n",
      "File \u001b[0;32m/opt/miniconda3/lib/python3.12/site-packages/pymysql/cursors.py:182\u001b[0m, in \u001b[0;36mCursor.executemany\u001b[0;34m(self, query, args)\u001b[0m\n\u001b[1;32m    181\u001b[0m     \u001b[38;5;28;01massert\u001b[39;00m q_values[\u001b[38;5;241m0\u001b[39m] \u001b[38;5;241m==\u001b[39m \u001b[38;5;124m\"\u001b[39m\u001b[38;5;124m(\u001b[39m\u001b[38;5;124m\"\u001b[39m \u001b[38;5;129;01mand\u001b[39;00m q_values[\u001b[38;5;241m-\u001b[39m\u001b[38;5;241m1\u001b[39m] \u001b[38;5;241m==\u001b[39m \u001b[38;5;124m\"\u001b[39m\u001b[38;5;124m)\u001b[39m\u001b[38;5;124m\"\u001b[39m\n\u001b[0;32m--> 182\u001b[0m     \u001b[38;5;28;01mreturn\u001b[39;00m \u001b[38;5;28;43mself\u001b[39;49m\u001b[38;5;241;43m.\u001b[39;49m\u001b[43m_do_execute_many\u001b[49m\u001b[43m(\u001b[49m\n\u001b[1;32m    183\u001b[0m \u001b[43m        \u001b[49m\u001b[43mq_prefix\u001b[49m\u001b[43m,\u001b[49m\n\u001b[1;32m    184\u001b[0m \u001b[43m        \u001b[49m\u001b[43mq_values\u001b[49m\u001b[43m,\u001b[49m\n\u001b[1;32m    185\u001b[0m \u001b[43m        \u001b[49m\u001b[43mq_postfix\u001b[49m\u001b[43m,\u001b[49m\n\u001b[1;32m    186\u001b[0m \u001b[43m        \u001b[49m\u001b[43margs\u001b[49m\u001b[43m,\u001b[49m\n\u001b[1;32m    187\u001b[0m \u001b[43m        \u001b[49m\u001b[38;5;28;43mself\u001b[39;49m\u001b[38;5;241;43m.\u001b[39;49m\u001b[43mmax_stmt_length\u001b[49m\u001b[43m,\u001b[49m\n\u001b[1;32m    188\u001b[0m \u001b[43m        \u001b[49m\u001b[38;5;28;43mself\u001b[39;49m\u001b[38;5;241;43m.\u001b[39;49m\u001b[43m_get_db\u001b[49m\u001b[43m(\u001b[49m\u001b[43m)\u001b[49m\u001b[38;5;241;43m.\u001b[39;49m\u001b[43mencoding\u001b[49m\u001b[43m,\u001b[49m\n\u001b[1;32m    189\u001b[0m \u001b[43m    \u001b[49m\u001b[43m)\u001b[49m\n\u001b[1;32m    191\u001b[0m \u001b[38;5;28mself\u001b[39m\u001b[38;5;241m.\u001b[39mrowcount \u001b[38;5;241m=\u001b[39m \u001b[38;5;28msum\u001b[39m(\u001b[38;5;28mself\u001b[39m\u001b[38;5;241m.\u001b[39mexecute(query, arg) \u001b[38;5;28;01mfor\u001b[39;00m arg \u001b[38;5;129;01min\u001b[39;00m args)\n",
      "File \u001b[0;32m/opt/miniconda3/lib/python3.12/site-packages/pymysql/cursors.py:215\u001b[0m, in \u001b[0;36mCursor._do_execute_many\u001b[0;34m(self, prefix, values, postfix, args, max_stmt_length, encoding)\u001b[0m\n\u001b[1;32m    214\u001b[0m \u001b[38;5;28;01mif\u001b[39;00m \u001b[38;5;28mlen\u001b[39m(sql) \u001b[38;5;241m+\u001b[39m \u001b[38;5;28mlen\u001b[39m(v) \u001b[38;5;241m+\u001b[39m \u001b[38;5;28mlen\u001b[39m(postfix) \u001b[38;5;241m+\u001b[39m \u001b[38;5;241m1\u001b[39m \u001b[38;5;241m>\u001b[39m max_stmt_length:\n\u001b[0;32m--> 215\u001b[0m     rows \u001b[38;5;241m+\u001b[39m\u001b[38;5;241m=\u001b[39m \u001b[38;5;28;43mself\u001b[39;49m\u001b[38;5;241;43m.\u001b[39;49m\u001b[43mexecute\u001b[49m\u001b[43m(\u001b[49m\u001b[43msql\u001b[49m\u001b[43m \u001b[49m\u001b[38;5;241;43m+\u001b[39;49m\u001b[43m \u001b[49m\u001b[43mpostfix\u001b[49m\u001b[43m)\u001b[49m\n\u001b[1;32m    216\u001b[0m     sql \u001b[38;5;241m=\u001b[39m \u001b[38;5;28mbytearray\u001b[39m(prefix)\n",
      "File \u001b[0;32m/opt/miniconda3/lib/python3.12/site-packages/pymysql/cursors.py:153\u001b[0m, in \u001b[0;36mCursor.execute\u001b[0;34m(self, query, args)\u001b[0m\n\u001b[1;32m    151\u001b[0m query \u001b[38;5;241m=\u001b[39m \u001b[38;5;28mself\u001b[39m\u001b[38;5;241m.\u001b[39mmogrify(query, args)\n\u001b[0;32m--> 153\u001b[0m result \u001b[38;5;241m=\u001b[39m \u001b[38;5;28;43mself\u001b[39;49m\u001b[38;5;241;43m.\u001b[39;49m\u001b[43m_query\u001b[49m\u001b[43m(\u001b[49m\u001b[43mquery\u001b[49m\u001b[43m)\u001b[49m\n\u001b[1;32m    154\u001b[0m \u001b[38;5;28mself\u001b[39m\u001b[38;5;241m.\u001b[39m_executed \u001b[38;5;241m=\u001b[39m query\n",
      "File \u001b[0;32m/opt/miniconda3/lib/python3.12/site-packages/pymysql/cursors.py:322\u001b[0m, in \u001b[0;36mCursor._query\u001b[0;34m(self, q)\u001b[0m\n\u001b[1;32m    321\u001b[0m \u001b[38;5;28mself\u001b[39m\u001b[38;5;241m.\u001b[39m_clear_result()\n\u001b[0;32m--> 322\u001b[0m \u001b[43mconn\u001b[49m\u001b[38;5;241;43m.\u001b[39;49m\u001b[43mquery\u001b[49m\u001b[43m(\u001b[49m\u001b[43mq\u001b[49m\u001b[43m)\u001b[49m\n\u001b[1;32m    323\u001b[0m \u001b[38;5;28mself\u001b[39m\u001b[38;5;241m.\u001b[39m_do_get_result()\n",
      "File \u001b[0;32m/opt/miniconda3/lib/python3.12/site-packages/pymysql/connections.py:558\u001b[0m, in \u001b[0;36mConnection.query\u001b[0;34m(self, sql, unbuffered)\u001b[0m\n\u001b[1;32m    557\u001b[0m \u001b[38;5;28mself\u001b[39m\u001b[38;5;241m.\u001b[39m_execute_command(COMMAND\u001b[38;5;241m.\u001b[39mCOM_QUERY, sql)\n\u001b[0;32m--> 558\u001b[0m \u001b[38;5;28mself\u001b[39m\u001b[38;5;241m.\u001b[39m_affected_rows \u001b[38;5;241m=\u001b[39m \u001b[38;5;28;43mself\u001b[39;49m\u001b[38;5;241;43m.\u001b[39;49m\u001b[43m_read_query_result\u001b[49m\u001b[43m(\u001b[49m\u001b[43munbuffered\u001b[49m\u001b[38;5;241;43m=\u001b[39;49m\u001b[43munbuffered\u001b[49m\u001b[43m)\u001b[49m\n\u001b[1;32m    559\u001b[0m \u001b[38;5;28;01mreturn\u001b[39;00m \u001b[38;5;28mself\u001b[39m\u001b[38;5;241m.\u001b[39m_affected_rows\n",
      "File \u001b[0;32m/opt/miniconda3/lib/python3.12/site-packages/pymysql/connections.py:822\u001b[0m, in \u001b[0;36mConnection._read_query_result\u001b[0;34m(self, unbuffered)\u001b[0m\n\u001b[1;32m    821\u001b[0m     result \u001b[38;5;241m=\u001b[39m MySQLResult(\u001b[38;5;28mself\u001b[39m)\n\u001b[0;32m--> 822\u001b[0m     \u001b[43mresult\u001b[49m\u001b[38;5;241;43m.\u001b[39;49m\u001b[43mread\u001b[49m\u001b[43m(\u001b[49m\u001b[43m)\u001b[49m\n\u001b[1;32m    823\u001b[0m \u001b[38;5;28mself\u001b[39m\u001b[38;5;241m.\u001b[39m_result \u001b[38;5;241m=\u001b[39m result\n",
      "File \u001b[0;32m/opt/miniconda3/lib/python3.12/site-packages/pymysql/connections.py:1200\u001b[0m, in \u001b[0;36mMySQLResult.read\u001b[0;34m(self)\u001b[0m\n\u001b[1;32m   1199\u001b[0m \u001b[38;5;28;01mtry\u001b[39;00m:\n\u001b[0;32m-> 1200\u001b[0m     first_packet \u001b[38;5;241m=\u001b[39m \u001b[38;5;28;43mself\u001b[39;49m\u001b[38;5;241;43m.\u001b[39;49m\u001b[43mconnection\u001b[49m\u001b[38;5;241;43m.\u001b[39;49m\u001b[43m_read_packet\u001b[49m\u001b[43m(\u001b[49m\u001b[43m)\u001b[49m\n\u001b[1;32m   1202\u001b[0m     \u001b[38;5;28;01mif\u001b[39;00m first_packet\u001b[38;5;241m.\u001b[39mis_ok_packet():\n",
      "File \u001b[0;32m/opt/miniconda3/lib/python3.12/site-packages/pymysql/connections.py:772\u001b[0m, in \u001b[0;36mConnection._read_packet\u001b[0;34m(self, packet_type)\u001b[0m\n\u001b[1;32m    771\u001b[0m         \u001b[38;5;28mself\u001b[39m\u001b[38;5;241m.\u001b[39m_result\u001b[38;5;241m.\u001b[39munbuffered_active \u001b[38;5;241m=\u001b[39m \u001b[38;5;28;01mFalse\u001b[39;00m\n\u001b[0;32m--> 772\u001b[0m     \u001b[43mpacket\u001b[49m\u001b[38;5;241;43m.\u001b[39;49m\u001b[43mraise_for_error\u001b[49m\u001b[43m(\u001b[49m\u001b[43m)\u001b[49m\n\u001b[1;32m    773\u001b[0m \u001b[38;5;28;01mreturn\u001b[39;00m packet\n",
      "File \u001b[0;32m/opt/miniconda3/lib/python3.12/site-packages/pymysql/protocol.py:221\u001b[0m, in \u001b[0;36mMysqlPacket.raise_for_error\u001b[0;34m(self)\u001b[0m\n\u001b[1;32m    220\u001b[0m     \u001b[38;5;28mprint\u001b[39m(\u001b[38;5;124m\"\u001b[39m\u001b[38;5;124merrno =\u001b[39m\u001b[38;5;124m\"\u001b[39m, errno)\n\u001b[0;32m--> 221\u001b[0m \u001b[43merr\u001b[49m\u001b[38;5;241;43m.\u001b[39;49m\u001b[43mraise_mysql_exception\u001b[49m\u001b[43m(\u001b[49m\u001b[38;5;28;43mself\u001b[39;49m\u001b[38;5;241;43m.\u001b[39;49m\u001b[43m_data\u001b[49m\u001b[43m)\u001b[49m\n",
      "File \u001b[0;32m/opt/miniconda3/lib/python3.12/site-packages/pymysql/err.py:143\u001b[0m, in \u001b[0;36mraise_mysql_exception\u001b[0;34m(data)\u001b[0m\n\u001b[1;32m    142\u001b[0m     errorclass \u001b[38;5;241m=\u001b[39m InternalError \u001b[38;5;28;01mif\u001b[39;00m errno \u001b[38;5;241m<\u001b[39m \u001b[38;5;241m1000\u001b[39m \u001b[38;5;28;01melse\u001b[39;00m OperationalError\n\u001b[0;32m--> 143\u001b[0m \u001b[38;5;28;01mraise\u001b[39;00m errorclass(errno, errval)\n",
      "\u001b[0;31mIntegrityError\u001b[0m: (1452, 'Cannot add or update a child row: a foreign key constraint fails (`amazon_sales_db`.`f_products`, CONSTRAINT `f_products_ibfk_1` FOREIGN KEY (`category_id`) REFERENCES `d_categories` (`category_id`))')",
      "\nThe above exception was the direct cause of the following exception:\n",
      "\u001b[0;31mIntegrityError\u001b[0m                            Traceback (most recent call last)",
      "Cell \u001b[0;32mIn[325], line 1\u001b[0m\n\u001b[0;32m----> 1\u001b[0m \u001b[43mf_products\u001b[49m\u001b[38;5;241;43m.\u001b[39;49m\u001b[43mto_sql\u001b[49m\u001b[43m(\u001b[49m\u001b[38;5;124;43m'\u001b[39;49m\u001b[38;5;124;43mf_products\u001b[39;49m\u001b[38;5;124;43m'\u001b[39;49m\u001b[43m,\u001b[49m\u001b[43m \u001b[49m\u001b[43mcon\u001b[49m\u001b[38;5;241;43m=\u001b[39;49m\u001b[43mengine\u001b[49m\u001b[43m,\u001b[49m\u001b[43m \u001b[49m\u001b[43mif_exists\u001b[49m\u001b[38;5;241;43m=\u001b[39;49m\u001b[38;5;124;43m\"\u001b[39;49m\u001b[38;5;124;43mappend\u001b[39;49m\u001b[38;5;124;43m\"\u001b[39;49m\u001b[43m,\u001b[49m\u001b[43m \u001b[49m\u001b[43mindex\u001b[49m\u001b[38;5;241;43m=\u001b[39;49m\u001b[38;5;28;43;01mFalse\u001b[39;49;00m\u001b[43m)\u001b[49m\n",
      "File \u001b[0;32m/opt/miniconda3/lib/python3.12/site-packages/pandas/util/_decorators.py:333\u001b[0m, in \u001b[0;36mdeprecate_nonkeyword_arguments.<locals>.decorate.<locals>.wrapper\u001b[0;34m(*args, **kwargs)\u001b[0m\n\u001b[1;32m    327\u001b[0m \u001b[38;5;28;01mif\u001b[39;00m \u001b[38;5;28mlen\u001b[39m(args) \u001b[38;5;241m>\u001b[39m num_allow_args:\n\u001b[1;32m    328\u001b[0m     warnings\u001b[38;5;241m.\u001b[39mwarn(\n\u001b[1;32m    329\u001b[0m         msg\u001b[38;5;241m.\u001b[39mformat(arguments\u001b[38;5;241m=\u001b[39m_format_argument_list(allow_args)),\n\u001b[1;32m    330\u001b[0m         \u001b[38;5;167;01mFutureWarning\u001b[39;00m,\n\u001b[1;32m    331\u001b[0m         stacklevel\u001b[38;5;241m=\u001b[39mfind_stack_level(),\n\u001b[1;32m    332\u001b[0m     )\n\u001b[0;32m--> 333\u001b[0m \u001b[38;5;28;01mreturn\u001b[39;00m \u001b[43mfunc\u001b[49m\u001b[43m(\u001b[49m\u001b[38;5;241;43m*\u001b[39;49m\u001b[43margs\u001b[49m\u001b[43m,\u001b[49m\u001b[43m \u001b[49m\u001b[38;5;241;43m*\u001b[39;49m\u001b[38;5;241;43m*\u001b[39;49m\u001b[43mkwargs\u001b[49m\u001b[43m)\u001b[49m\n",
      "File \u001b[0;32m/opt/miniconda3/lib/python3.12/site-packages/pandas/core/generic.py:3087\u001b[0m, in \u001b[0;36mNDFrame.to_sql\u001b[0;34m(self, name, con, schema, if_exists, index, index_label, chunksize, dtype, method)\u001b[0m\n\u001b[1;32m   2889\u001b[0m \u001b[38;5;250m\u001b[39m\u001b[38;5;124;03m\"\"\"\u001b[39;00m\n\u001b[1;32m   2890\u001b[0m \u001b[38;5;124;03mWrite records stored in a DataFrame to a SQL database.\u001b[39;00m\n\u001b[1;32m   2891\u001b[0m \n\u001b[0;32m   (...)\u001b[0m\n\u001b[1;32m   3083\u001b[0m \u001b[38;5;124;03m[(1,), (None,), (2,)]\u001b[39;00m\n\u001b[1;32m   3084\u001b[0m \u001b[38;5;124;03m\"\"\"\u001b[39;00m  \u001b[38;5;66;03m# noqa: E501\u001b[39;00m\n\u001b[1;32m   3085\u001b[0m \u001b[38;5;28;01mfrom\u001b[39;00m \u001b[38;5;21;01mpandas\u001b[39;00m\u001b[38;5;21;01m.\u001b[39;00m\u001b[38;5;21;01mio\u001b[39;00m \u001b[38;5;28;01mimport\u001b[39;00m sql\n\u001b[0;32m-> 3087\u001b[0m \u001b[38;5;28;01mreturn\u001b[39;00m \u001b[43msql\u001b[49m\u001b[38;5;241;43m.\u001b[39;49m\u001b[43mto_sql\u001b[49m\u001b[43m(\u001b[49m\n\u001b[1;32m   3088\u001b[0m \u001b[43m    \u001b[49m\u001b[38;5;28;43mself\u001b[39;49m\u001b[43m,\u001b[49m\n\u001b[1;32m   3089\u001b[0m \u001b[43m    \u001b[49m\u001b[43mname\u001b[49m\u001b[43m,\u001b[49m\n\u001b[1;32m   3090\u001b[0m \u001b[43m    \u001b[49m\u001b[43mcon\u001b[49m\u001b[43m,\u001b[49m\n\u001b[1;32m   3091\u001b[0m \u001b[43m    \u001b[49m\u001b[43mschema\u001b[49m\u001b[38;5;241;43m=\u001b[39;49m\u001b[43mschema\u001b[49m\u001b[43m,\u001b[49m\n\u001b[1;32m   3092\u001b[0m \u001b[43m    \u001b[49m\u001b[43mif_exists\u001b[49m\u001b[38;5;241;43m=\u001b[39;49m\u001b[43mif_exists\u001b[49m\u001b[43m,\u001b[49m\n\u001b[1;32m   3093\u001b[0m \u001b[43m    \u001b[49m\u001b[43mindex\u001b[49m\u001b[38;5;241;43m=\u001b[39;49m\u001b[43mindex\u001b[49m\u001b[43m,\u001b[49m\n\u001b[1;32m   3094\u001b[0m \u001b[43m    \u001b[49m\u001b[43mindex_label\u001b[49m\u001b[38;5;241;43m=\u001b[39;49m\u001b[43mindex_label\u001b[49m\u001b[43m,\u001b[49m\n\u001b[1;32m   3095\u001b[0m \u001b[43m    \u001b[49m\u001b[43mchunksize\u001b[49m\u001b[38;5;241;43m=\u001b[39;49m\u001b[43mchunksize\u001b[49m\u001b[43m,\u001b[49m\n\u001b[1;32m   3096\u001b[0m \u001b[43m    \u001b[49m\u001b[43mdtype\u001b[49m\u001b[38;5;241;43m=\u001b[39;49m\u001b[43mdtype\u001b[49m\u001b[43m,\u001b[49m\n\u001b[1;32m   3097\u001b[0m \u001b[43m    \u001b[49m\u001b[43mmethod\u001b[49m\u001b[38;5;241;43m=\u001b[39;49m\u001b[43mmethod\u001b[49m\u001b[43m,\u001b[49m\n\u001b[1;32m   3098\u001b[0m \u001b[43m\u001b[49m\u001b[43m)\u001b[49m\n",
      "File \u001b[0;32m/opt/miniconda3/lib/python3.12/site-packages/pandas/io/sql.py:842\u001b[0m, in \u001b[0;36mto_sql\u001b[0;34m(frame, name, con, schema, if_exists, index, index_label, chunksize, dtype, method, engine, **engine_kwargs)\u001b[0m\n\u001b[1;32m    837\u001b[0m     \u001b[38;5;28;01mraise\u001b[39;00m \u001b[38;5;167;01mNotImplementedError\u001b[39;00m(\n\u001b[1;32m    838\u001b[0m         \u001b[38;5;124m\"\u001b[39m\u001b[38;5;124m'\u001b[39m\u001b[38;5;124mframe\u001b[39m\u001b[38;5;124m'\u001b[39m\u001b[38;5;124m argument should be either a Series or a DataFrame\u001b[39m\u001b[38;5;124m\"\u001b[39m\n\u001b[1;32m    839\u001b[0m     )\n\u001b[1;32m    841\u001b[0m \u001b[38;5;28;01mwith\u001b[39;00m pandasSQL_builder(con, schema\u001b[38;5;241m=\u001b[39mschema, need_transaction\u001b[38;5;241m=\u001b[39m\u001b[38;5;28;01mTrue\u001b[39;00m) \u001b[38;5;28;01mas\u001b[39;00m pandas_sql:\n\u001b[0;32m--> 842\u001b[0m     \u001b[38;5;28;01mreturn\u001b[39;00m \u001b[43mpandas_sql\u001b[49m\u001b[38;5;241;43m.\u001b[39;49m\u001b[43mto_sql\u001b[49m\u001b[43m(\u001b[49m\n\u001b[1;32m    843\u001b[0m \u001b[43m        \u001b[49m\u001b[43mframe\u001b[49m\u001b[43m,\u001b[49m\n\u001b[1;32m    844\u001b[0m \u001b[43m        \u001b[49m\u001b[43mname\u001b[49m\u001b[43m,\u001b[49m\n\u001b[1;32m    845\u001b[0m \u001b[43m        \u001b[49m\u001b[43mif_exists\u001b[49m\u001b[38;5;241;43m=\u001b[39;49m\u001b[43mif_exists\u001b[49m\u001b[43m,\u001b[49m\n\u001b[1;32m    846\u001b[0m \u001b[43m        \u001b[49m\u001b[43mindex\u001b[49m\u001b[38;5;241;43m=\u001b[39;49m\u001b[43mindex\u001b[49m\u001b[43m,\u001b[49m\n\u001b[1;32m    847\u001b[0m \u001b[43m        \u001b[49m\u001b[43mindex_label\u001b[49m\u001b[38;5;241;43m=\u001b[39;49m\u001b[43mindex_label\u001b[49m\u001b[43m,\u001b[49m\n\u001b[1;32m    848\u001b[0m \u001b[43m        \u001b[49m\u001b[43mschema\u001b[49m\u001b[38;5;241;43m=\u001b[39;49m\u001b[43mschema\u001b[49m\u001b[43m,\u001b[49m\n\u001b[1;32m    849\u001b[0m \u001b[43m        \u001b[49m\u001b[43mchunksize\u001b[49m\u001b[38;5;241;43m=\u001b[39;49m\u001b[43mchunksize\u001b[49m\u001b[43m,\u001b[49m\n\u001b[1;32m    850\u001b[0m \u001b[43m        \u001b[49m\u001b[43mdtype\u001b[49m\u001b[38;5;241;43m=\u001b[39;49m\u001b[43mdtype\u001b[49m\u001b[43m,\u001b[49m\n\u001b[1;32m    851\u001b[0m \u001b[43m        \u001b[49m\u001b[43mmethod\u001b[49m\u001b[38;5;241;43m=\u001b[39;49m\u001b[43mmethod\u001b[49m\u001b[43m,\u001b[49m\n\u001b[1;32m    852\u001b[0m \u001b[43m        \u001b[49m\u001b[43mengine\u001b[49m\u001b[38;5;241;43m=\u001b[39;49m\u001b[43mengine\u001b[49m\u001b[43m,\u001b[49m\n\u001b[1;32m    853\u001b[0m \u001b[43m        \u001b[49m\u001b[38;5;241;43m*\u001b[39;49m\u001b[38;5;241;43m*\u001b[39;49m\u001b[43mengine_kwargs\u001b[49m\u001b[43m,\u001b[49m\n\u001b[1;32m    854\u001b[0m \u001b[43m    \u001b[49m\u001b[43m)\u001b[49m\n",
      "File \u001b[0;32m/opt/miniconda3/lib/python3.12/site-packages/pandas/io/sql.py:2018\u001b[0m, in \u001b[0;36mSQLDatabase.to_sql\u001b[0;34m(self, frame, name, if_exists, index, index_label, schema, chunksize, dtype, method, engine, **engine_kwargs)\u001b[0m\n\u001b[1;32m   2006\u001b[0m sql_engine \u001b[38;5;241m=\u001b[39m get_engine(engine)\n\u001b[1;32m   2008\u001b[0m table \u001b[38;5;241m=\u001b[39m \u001b[38;5;28mself\u001b[39m\u001b[38;5;241m.\u001b[39mprep_table(\n\u001b[1;32m   2009\u001b[0m     frame\u001b[38;5;241m=\u001b[39mframe,\n\u001b[1;32m   2010\u001b[0m     name\u001b[38;5;241m=\u001b[39mname,\n\u001b[0;32m   (...)\u001b[0m\n\u001b[1;32m   2015\u001b[0m     dtype\u001b[38;5;241m=\u001b[39mdtype,\n\u001b[1;32m   2016\u001b[0m )\n\u001b[0;32m-> 2018\u001b[0m total_inserted \u001b[38;5;241m=\u001b[39m \u001b[43msql_engine\u001b[49m\u001b[38;5;241;43m.\u001b[39;49m\u001b[43minsert_records\u001b[49m\u001b[43m(\u001b[49m\n\u001b[1;32m   2019\u001b[0m \u001b[43m    \u001b[49m\u001b[43mtable\u001b[49m\u001b[38;5;241;43m=\u001b[39;49m\u001b[43mtable\u001b[49m\u001b[43m,\u001b[49m\n\u001b[1;32m   2020\u001b[0m \u001b[43m    \u001b[49m\u001b[43mcon\u001b[49m\u001b[38;5;241;43m=\u001b[39;49m\u001b[38;5;28;43mself\u001b[39;49m\u001b[38;5;241;43m.\u001b[39;49m\u001b[43mcon\u001b[49m\u001b[43m,\u001b[49m\n\u001b[1;32m   2021\u001b[0m \u001b[43m    \u001b[49m\u001b[43mframe\u001b[49m\u001b[38;5;241;43m=\u001b[39;49m\u001b[43mframe\u001b[49m\u001b[43m,\u001b[49m\n\u001b[1;32m   2022\u001b[0m \u001b[43m    \u001b[49m\u001b[43mname\u001b[49m\u001b[38;5;241;43m=\u001b[39;49m\u001b[43mname\u001b[49m\u001b[43m,\u001b[49m\n\u001b[1;32m   2023\u001b[0m \u001b[43m    \u001b[49m\u001b[43mindex\u001b[49m\u001b[38;5;241;43m=\u001b[39;49m\u001b[43mindex\u001b[49m\u001b[43m,\u001b[49m\n\u001b[1;32m   2024\u001b[0m \u001b[43m    \u001b[49m\u001b[43mschema\u001b[49m\u001b[38;5;241;43m=\u001b[39;49m\u001b[43mschema\u001b[49m\u001b[43m,\u001b[49m\n\u001b[1;32m   2025\u001b[0m \u001b[43m    \u001b[49m\u001b[43mchunksize\u001b[49m\u001b[38;5;241;43m=\u001b[39;49m\u001b[43mchunksize\u001b[49m\u001b[43m,\u001b[49m\n\u001b[1;32m   2026\u001b[0m \u001b[43m    \u001b[49m\u001b[43mmethod\u001b[49m\u001b[38;5;241;43m=\u001b[39;49m\u001b[43mmethod\u001b[49m\u001b[43m,\u001b[49m\n\u001b[1;32m   2027\u001b[0m \u001b[43m    \u001b[49m\u001b[38;5;241;43m*\u001b[39;49m\u001b[38;5;241;43m*\u001b[39;49m\u001b[43mengine_kwargs\u001b[49m\u001b[43m,\u001b[49m\n\u001b[1;32m   2028\u001b[0m \u001b[43m\u001b[49m\u001b[43m)\u001b[49m\n\u001b[1;32m   2030\u001b[0m \u001b[38;5;28mself\u001b[39m\u001b[38;5;241m.\u001b[39mcheck_case_sensitive(name\u001b[38;5;241m=\u001b[39mname, schema\u001b[38;5;241m=\u001b[39mschema)\n\u001b[1;32m   2031\u001b[0m \u001b[38;5;28;01mreturn\u001b[39;00m total_inserted\n",
      "File \u001b[0;32m/opt/miniconda3/lib/python3.12/site-packages/pandas/io/sql.py:1567\u001b[0m, in \u001b[0;36mSQLAlchemyEngine.insert_records\u001b[0;34m(self, table, con, frame, name, index, schema, chunksize, method, **engine_kwargs)\u001b[0m\n\u001b[1;32m   1565\u001b[0m \u001b[38;5;28;01mif\u001b[39;00m re\u001b[38;5;241m.\u001b[39msearch(msg, err_text):\n\u001b[1;32m   1566\u001b[0m     \u001b[38;5;28;01mraise\u001b[39;00m \u001b[38;5;167;01mValueError\u001b[39;00m(\u001b[38;5;124m\"\u001b[39m\u001b[38;5;124minf cannot be used with MySQL\u001b[39m\u001b[38;5;124m\"\u001b[39m) \u001b[38;5;28;01mfrom\u001b[39;00m \u001b[38;5;21;01merr\u001b[39;00m\n\u001b[0;32m-> 1567\u001b[0m \u001b[38;5;28;01mraise\u001b[39;00m err\n",
      "File \u001b[0;32m/opt/miniconda3/lib/python3.12/site-packages/pandas/io/sql.py:1558\u001b[0m, in \u001b[0;36mSQLAlchemyEngine.insert_records\u001b[0;34m(self, table, con, frame, name, index, schema, chunksize, method, **engine_kwargs)\u001b[0m\n\u001b[1;32m   1555\u001b[0m \u001b[38;5;28;01mfrom\u001b[39;00m \u001b[38;5;21;01msqlalchemy\u001b[39;00m \u001b[38;5;28;01mimport\u001b[39;00m exc\n\u001b[1;32m   1557\u001b[0m \u001b[38;5;28;01mtry\u001b[39;00m:\n\u001b[0;32m-> 1558\u001b[0m     \u001b[38;5;28;01mreturn\u001b[39;00m \u001b[43mtable\u001b[49m\u001b[38;5;241;43m.\u001b[39;49m\u001b[43minsert\u001b[49m\u001b[43m(\u001b[49m\u001b[43mchunksize\u001b[49m\u001b[38;5;241;43m=\u001b[39;49m\u001b[43mchunksize\u001b[49m\u001b[43m,\u001b[49m\u001b[43m \u001b[49m\u001b[43mmethod\u001b[49m\u001b[38;5;241;43m=\u001b[39;49m\u001b[43mmethod\u001b[49m\u001b[43m)\u001b[49m\n\u001b[1;32m   1559\u001b[0m \u001b[38;5;28;01mexcept\u001b[39;00m exc\u001b[38;5;241m.\u001b[39mStatementError \u001b[38;5;28;01mas\u001b[39;00m err:\n\u001b[1;32m   1560\u001b[0m     \u001b[38;5;66;03m# GH34431\u001b[39;00m\n\u001b[1;32m   1561\u001b[0m     \u001b[38;5;66;03m# https://stackoverflow.com/a/67358288/6067848\u001b[39;00m\n\u001b[1;32m   1562\u001b[0m     msg \u001b[38;5;241m=\u001b[39m \u001b[38;5;124mr\u001b[39m\u001b[38;5;124m\"\"\"\u001b[39m\u001b[38;5;124m(\u001b[39m\u001b[38;5;124m\\\u001b[39m\u001b[38;5;124m(1054, \u001b[39m\u001b[38;5;124m\"\u001b[39m\u001b[38;5;124mUnknown column \u001b[39m\u001b[38;5;124m'\u001b[39m\u001b[38;5;124minf(e0)?\u001b[39m\u001b[38;5;124m'\u001b[39m\u001b[38;5;124m in \u001b[39m\u001b[38;5;124m'\u001b[39m\u001b[38;5;124mfield list\u001b[39m\u001b[38;5;124m'\u001b[39m\u001b[38;5;124m\"\u001b[39m\u001b[38;5;124m\\\u001b[39m\u001b[38;5;124m))(?#\u001b[39m\n\u001b[1;32m   1563\u001b[0m \u001b[38;5;124m    )|inf can not be used with MySQL\u001b[39m\u001b[38;5;124m\"\"\"\u001b[39m\n",
      "File \u001b[0;32m/opt/miniconda3/lib/python3.12/site-packages/pandas/io/sql.py:1119\u001b[0m, in \u001b[0;36mSQLTable.insert\u001b[0;34m(self, chunksize, method)\u001b[0m\n\u001b[1;32m   1116\u001b[0m     \u001b[38;5;28;01mbreak\u001b[39;00m\n\u001b[1;32m   1118\u001b[0m chunk_iter \u001b[38;5;241m=\u001b[39m \u001b[38;5;28mzip\u001b[39m(\u001b[38;5;241m*\u001b[39m(arr[start_i:end_i] \u001b[38;5;28;01mfor\u001b[39;00m arr \u001b[38;5;129;01min\u001b[39;00m data_list))\n\u001b[0;32m-> 1119\u001b[0m num_inserted \u001b[38;5;241m=\u001b[39m \u001b[43mexec_insert\u001b[49m\u001b[43m(\u001b[49m\u001b[43mconn\u001b[49m\u001b[43m,\u001b[49m\u001b[43m \u001b[49m\u001b[43mkeys\u001b[49m\u001b[43m,\u001b[49m\u001b[43m \u001b[49m\u001b[43mchunk_iter\u001b[49m\u001b[43m)\u001b[49m\n\u001b[1;32m   1120\u001b[0m \u001b[38;5;66;03m# GH 46891\u001b[39;00m\n\u001b[1;32m   1121\u001b[0m \u001b[38;5;28;01mif\u001b[39;00m num_inserted \u001b[38;5;129;01mis\u001b[39;00m \u001b[38;5;129;01mnot\u001b[39;00m \u001b[38;5;28;01mNone\u001b[39;00m:\n",
      "File \u001b[0;32m/opt/miniconda3/lib/python3.12/site-packages/pandas/io/sql.py:1010\u001b[0m, in \u001b[0;36mSQLTable._execute_insert\u001b[0;34m(self, conn, keys, data_iter)\u001b[0m\n\u001b[1;32m    998\u001b[0m \u001b[38;5;250m\u001b[39m\u001b[38;5;124;03m\"\"\"\u001b[39;00m\n\u001b[1;32m    999\u001b[0m \u001b[38;5;124;03mExecute SQL statement inserting data\u001b[39;00m\n\u001b[1;32m   1000\u001b[0m \n\u001b[0;32m   (...)\u001b[0m\n\u001b[1;32m   1007\u001b[0m \u001b[38;5;124;03m   Each item contains a list of values to be inserted\u001b[39;00m\n\u001b[1;32m   1008\u001b[0m \u001b[38;5;124;03m\"\"\"\u001b[39;00m\n\u001b[1;32m   1009\u001b[0m data \u001b[38;5;241m=\u001b[39m [\u001b[38;5;28mdict\u001b[39m(\u001b[38;5;28mzip\u001b[39m(keys, row)) \u001b[38;5;28;01mfor\u001b[39;00m row \u001b[38;5;129;01min\u001b[39;00m data_iter]\n\u001b[0;32m-> 1010\u001b[0m result \u001b[38;5;241m=\u001b[39m \u001b[43mconn\u001b[49m\u001b[38;5;241;43m.\u001b[39;49m\u001b[43mexecute\u001b[49m\u001b[43m(\u001b[49m\u001b[38;5;28;43mself\u001b[39;49m\u001b[38;5;241;43m.\u001b[39;49m\u001b[43mtable\u001b[49m\u001b[38;5;241;43m.\u001b[39;49m\u001b[43minsert\u001b[49m\u001b[43m(\u001b[49m\u001b[43m)\u001b[49m\u001b[43m,\u001b[49m\u001b[43m \u001b[49m\u001b[43mdata\u001b[49m\u001b[43m)\u001b[49m\n\u001b[1;32m   1011\u001b[0m \u001b[38;5;28;01mreturn\u001b[39;00m result\u001b[38;5;241m.\u001b[39mrowcount\n",
      "File \u001b[0;32m/opt/miniconda3/lib/python3.12/site-packages/sqlalchemy/engine/base.py:1418\u001b[0m, in \u001b[0;36mConnection.execute\u001b[0;34m(self, statement, parameters, execution_options)\u001b[0m\n\u001b[1;32m   1416\u001b[0m     \u001b[38;5;28;01mraise\u001b[39;00m exc\u001b[38;5;241m.\u001b[39mObjectNotExecutableError(statement) \u001b[38;5;28;01mfrom\u001b[39;00m \u001b[38;5;21;01merr\u001b[39;00m\n\u001b[1;32m   1417\u001b[0m \u001b[38;5;28;01melse\u001b[39;00m:\n\u001b[0;32m-> 1418\u001b[0m     \u001b[38;5;28;01mreturn\u001b[39;00m \u001b[43mmeth\u001b[49m\u001b[43m(\u001b[49m\n\u001b[1;32m   1419\u001b[0m \u001b[43m        \u001b[49m\u001b[38;5;28;43mself\u001b[39;49m\u001b[43m,\u001b[49m\n\u001b[1;32m   1420\u001b[0m \u001b[43m        \u001b[49m\u001b[43mdistilled_parameters\u001b[49m\u001b[43m,\u001b[49m\n\u001b[1;32m   1421\u001b[0m \u001b[43m        \u001b[49m\u001b[43mexecution_options\u001b[49m\u001b[43m \u001b[49m\u001b[38;5;129;43;01mor\u001b[39;49;00m\u001b[43m \u001b[49m\u001b[43mNO_OPTIONS\u001b[49m\u001b[43m,\u001b[49m\n\u001b[1;32m   1422\u001b[0m \u001b[43m    \u001b[49m\u001b[43m)\u001b[49m\n",
      "File \u001b[0;32m/opt/miniconda3/lib/python3.12/site-packages/sqlalchemy/sql/elements.py:515\u001b[0m, in \u001b[0;36mClauseElement._execute_on_connection\u001b[0;34m(self, connection, distilled_params, execution_options)\u001b[0m\n\u001b[1;32m    513\u001b[0m     \u001b[38;5;28;01mif\u001b[39;00m TYPE_CHECKING:\n\u001b[1;32m    514\u001b[0m         \u001b[38;5;28;01massert\u001b[39;00m \u001b[38;5;28misinstance\u001b[39m(\u001b[38;5;28mself\u001b[39m, Executable)\n\u001b[0;32m--> 515\u001b[0m     \u001b[38;5;28;01mreturn\u001b[39;00m \u001b[43mconnection\u001b[49m\u001b[38;5;241;43m.\u001b[39;49m\u001b[43m_execute_clauseelement\u001b[49m\u001b[43m(\u001b[49m\n\u001b[1;32m    516\u001b[0m \u001b[43m        \u001b[49m\u001b[38;5;28;43mself\u001b[39;49m\u001b[43m,\u001b[49m\u001b[43m \u001b[49m\u001b[43mdistilled_params\u001b[49m\u001b[43m,\u001b[49m\u001b[43m \u001b[49m\u001b[43mexecution_options\u001b[49m\n\u001b[1;32m    517\u001b[0m \u001b[43m    \u001b[49m\u001b[43m)\u001b[49m\n\u001b[1;32m    518\u001b[0m \u001b[38;5;28;01melse\u001b[39;00m:\n\u001b[1;32m    519\u001b[0m     \u001b[38;5;28;01mraise\u001b[39;00m exc\u001b[38;5;241m.\u001b[39mObjectNotExecutableError(\u001b[38;5;28mself\u001b[39m)\n",
      "File \u001b[0;32m/opt/miniconda3/lib/python3.12/site-packages/sqlalchemy/engine/base.py:1640\u001b[0m, in \u001b[0;36mConnection._execute_clauseelement\u001b[0;34m(self, elem, distilled_parameters, execution_options)\u001b[0m\n\u001b[1;32m   1628\u001b[0m compiled_cache: Optional[CompiledCacheType] \u001b[38;5;241m=\u001b[39m execution_options\u001b[38;5;241m.\u001b[39mget(\n\u001b[1;32m   1629\u001b[0m     \u001b[38;5;124m\"\u001b[39m\u001b[38;5;124mcompiled_cache\u001b[39m\u001b[38;5;124m\"\u001b[39m, \u001b[38;5;28mself\u001b[39m\u001b[38;5;241m.\u001b[39mengine\u001b[38;5;241m.\u001b[39m_compiled_cache\n\u001b[1;32m   1630\u001b[0m )\n\u001b[1;32m   1632\u001b[0m compiled_sql, extracted_params, cache_hit \u001b[38;5;241m=\u001b[39m elem\u001b[38;5;241m.\u001b[39m_compile_w_cache(\n\u001b[1;32m   1633\u001b[0m     dialect\u001b[38;5;241m=\u001b[39mdialect,\n\u001b[1;32m   1634\u001b[0m     compiled_cache\u001b[38;5;241m=\u001b[39mcompiled_cache,\n\u001b[0;32m   (...)\u001b[0m\n\u001b[1;32m   1638\u001b[0m     linting\u001b[38;5;241m=\u001b[39m\u001b[38;5;28mself\u001b[39m\u001b[38;5;241m.\u001b[39mdialect\u001b[38;5;241m.\u001b[39mcompiler_linting \u001b[38;5;241m|\u001b[39m compiler\u001b[38;5;241m.\u001b[39mWARN_LINTING,\n\u001b[1;32m   1639\u001b[0m )\n\u001b[0;32m-> 1640\u001b[0m ret \u001b[38;5;241m=\u001b[39m \u001b[38;5;28;43mself\u001b[39;49m\u001b[38;5;241;43m.\u001b[39;49m\u001b[43m_execute_context\u001b[49m\u001b[43m(\u001b[49m\n\u001b[1;32m   1641\u001b[0m \u001b[43m    \u001b[49m\u001b[43mdialect\u001b[49m\u001b[43m,\u001b[49m\n\u001b[1;32m   1642\u001b[0m \u001b[43m    \u001b[49m\u001b[43mdialect\u001b[49m\u001b[38;5;241;43m.\u001b[39;49m\u001b[43mexecution_ctx_cls\u001b[49m\u001b[38;5;241;43m.\u001b[39;49m\u001b[43m_init_compiled\u001b[49m\u001b[43m,\u001b[49m\n\u001b[1;32m   1643\u001b[0m \u001b[43m    \u001b[49m\u001b[43mcompiled_sql\u001b[49m\u001b[43m,\u001b[49m\n\u001b[1;32m   1644\u001b[0m \u001b[43m    \u001b[49m\u001b[43mdistilled_parameters\u001b[49m\u001b[43m,\u001b[49m\n\u001b[1;32m   1645\u001b[0m \u001b[43m    \u001b[49m\u001b[43mexecution_options\u001b[49m\u001b[43m,\u001b[49m\n\u001b[1;32m   1646\u001b[0m \u001b[43m    \u001b[49m\u001b[43mcompiled_sql\u001b[49m\u001b[43m,\u001b[49m\n\u001b[1;32m   1647\u001b[0m \u001b[43m    \u001b[49m\u001b[43mdistilled_parameters\u001b[49m\u001b[43m,\u001b[49m\n\u001b[1;32m   1648\u001b[0m \u001b[43m    \u001b[49m\u001b[43melem\u001b[49m\u001b[43m,\u001b[49m\n\u001b[1;32m   1649\u001b[0m \u001b[43m    \u001b[49m\u001b[43mextracted_params\u001b[49m\u001b[43m,\u001b[49m\n\u001b[1;32m   1650\u001b[0m \u001b[43m    \u001b[49m\u001b[43mcache_hit\u001b[49m\u001b[38;5;241;43m=\u001b[39;49m\u001b[43mcache_hit\u001b[49m\u001b[43m,\u001b[49m\n\u001b[1;32m   1651\u001b[0m \u001b[43m\u001b[49m\u001b[43m)\u001b[49m\n\u001b[1;32m   1652\u001b[0m \u001b[38;5;28;01mif\u001b[39;00m has_events:\n\u001b[1;32m   1653\u001b[0m     \u001b[38;5;28mself\u001b[39m\u001b[38;5;241m.\u001b[39mdispatch\u001b[38;5;241m.\u001b[39mafter_execute(\n\u001b[1;32m   1654\u001b[0m         \u001b[38;5;28mself\u001b[39m,\n\u001b[1;32m   1655\u001b[0m         elem,\n\u001b[0;32m   (...)\u001b[0m\n\u001b[1;32m   1659\u001b[0m         ret,\n\u001b[1;32m   1660\u001b[0m     )\n",
      "File \u001b[0;32m/opt/miniconda3/lib/python3.12/site-packages/sqlalchemy/engine/base.py:1846\u001b[0m, in \u001b[0;36mConnection._execute_context\u001b[0;34m(self, dialect, constructor, statement, parameters, execution_options, *args, **kw)\u001b[0m\n\u001b[1;32m   1844\u001b[0m     \u001b[38;5;28;01mreturn\u001b[39;00m \u001b[38;5;28mself\u001b[39m\u001b[38;5;241m.\u001b[39m_exec_insertmany_context(dialect, context)\n\u001b[1;32m   1845\u001b[0m \u001b[38;5;28;01melse\u001b[39;00m:\n\u001b[0;32m-> 1846\u001b[0m     \u001b[38;5;28;01mreturn\u001b[39;00m \u001b[38;5;28;43mself\u001b[39;49m\u001b[38;5;241;43m.\u001b[39;49m\u001b[43m_exec_single_context\u001b[49m\u001b[43m(\u001b[49m\n\u001b[1;32m   1847\u001b[0m \u001b[43m        \u001b[49m\u001b[43mdialect\u001b[49m\u001b[43m,\u001b[49m\u001b[43m \u001b[49m\u001b[43mcontext\u001b[49m\u001b[43m,\u001b[49m\u001b[43m \u001b[49m\u001b[43mstatement\u001b[49m\u001b[43m,\u001b[49m\u001b[43m \u001b[49m\u001b[43mparameters\u001b[49m\n\u001b[1;32m   1848\u001b[0m \u001b[43m    \u001b[49m\u001b[43m)\u001b[49m\n",
      "File \u001b[0;32m/opt/miniconda3/lib/python3.12/site-packages/sqlalchemy/engine/base.py:1986\u001b[0m, in \u001b[0;36mConnection._exec_single_context\u001b[0;34m(self, dialect, context, statement, parameters)\u001b[0m\n\u001b[1;32m   1983\u001b[0m     result \u001b[38;5;241m=\u001b[39m context\u001b[38;5;241m.\u001b[39m_setup_result_proxy()\n\u001b[1;32m   1985\u001b[0m \u001b[38;5;28;01mexcept\u001b[39;00m \u001b[38;5;167;01mBaseException\u001b[39;00m \u001b[38;5;28;01mas\u001b[39;00m e:\n\u001b[0;32m-> 1986\u001b[0m     \u001b[38;5;28;43mself\u001b[39;49m\u001b[38;5;241;43m.\u001b[39;49m\u001b[43m_handle_dbapi_exception\u001b[49m\u001b[43m(\u001b[49m\n\u001b[1;32m   1987\u001b[0m \u001b[43m        \u001b[49m\u001b[43me\u001b[49m\u001b[43m,\u001b[49m\u001b[43m \u001b[49m\u001b[43mstr_statement\u001b[49m\u001b[43m,\u001b[49m\u001b[43m \u001b[49m\u001b[43meffective_parameters\u001b[49m\u001b[43m,\u001b[49m\u001b[43m \u001b[49m\u001b[43mcursor\u001b[49m\u001b[43m,\u001b[49m\u001b[43m \u001b[49m\u001b[43mcontext\u001b[49m\n\u001b[1;32m   1988\u001b[0m \u001b[43m    \u001b[49m\u001b[43m)\u001b[49m\n\u001b[1;32m   1990\u001b[0m \u001b[38;5;28;01mreturn\u001b[39;00m result\n",
      "File \u001b[0;32m/opt/miniconda3/lib/python3.12/site-packages/sqlalchemy/engine/base.py:2353\u001b[0m, in \u001b[0;36mConnection._handle_dbapi_exception\u001b[0;34m(self, e, statement, parameters, cursor, context, is_sub_exec)\u001b[0m\n\u001b[1;32m   2351\u001b[0m \u001b[38;5;28;01melif\u001b[39;00m should_wrap:\n\u001b[1;32m   2352\u001b[0m     \u001b[38;5;28;01massert\u001b[39;00m sqlalchemy_exception \u001b[38;5;129;01mis\u001b[39;00m \u001b[38;5;129;01mnot\u001b[39;00m \u001b[38;5;28;01mNone\u001b[39;00m\n\u001b[0;32m-> 2353\u001b[0m     \u001b[38;5;28;01mraise\u001b[39;00m sqlalchemy_exception\u001b[38;5;241m.\u001b[39mwith_traceback(exc_info[\u001b[38;5;241m2\u001b[39m]) \u001b[38;5;28;01mfrom\u001b[39;00m \u001b[38;5;21;01me\u001b[39;00m\n\u001b[1;32m   2354\u001b[0m \u001b[38;5;28;01melse\u001b[39;00m:\n\u001b[1;32m   2355\u001b[0m     \u001b[38;5;28;01massert\u001b[39;00m exc_info[\u001b[38;5;241m1\u001b[39m] \u001b[38;5;129;01mis\u001b[39;00m \u001b[38;5;129;01mnot\u001b[39;00m \u001b[38;5;28;01mNone\u001b[39;00m\n",
      "File \u001b[0;32m/opt/miniconda3/lib/python3.12/site-packages/sqlalchemy/engine/base.py:1936\u001b[0m, in \u001b[0;36mConnection._exec_single_context\u001b[0;34m(self, dialect, context, statement, parameters)\u001b[0m\n\u001b[1;32m   1934\u001b[0m                 \u001b[38;5;28;01mbreak\u001b[39;00m\n\u001b[1;32m   1935\u001b[0m     \u001b[38;5;28;01mif\u001b[39;00m \u001b[38;5;129;01mnot\u001b[39;00m evt_handled:\n\u001b[0;32m-> 1936\u001b[0m         \u001b[38;5;28;43mself\u001b[39;49m\u001b[38;5;241;43m.\u001b[39;49m\u001b[43mdialect\u001b[49m\u001b[38;5;241;43m.\u001b[39;49m\u001b[43mdo_executemany\u001b[49m\u001b[43m(\u001b[49m\n\u001b[1;32m   1937\u001b[0m \u001b[43m            \u001b[49m\u001b[43mcursor\u001b[49m\u001b[43m,\u001b[49m\n\u001b[1;32m   1938\u001b[0m \u001b[43m            \u001b[49m\u001b[43mstr_statement\u001b[49m\u001b[43m,\u001b[49m\n\u001b[1;32m   1939\u001b[0m \u001b[43m            \u001b[49m\u001b[43meffective_parameters\u001b[49m\u001b[43m,\u001b[49m\n\u001b[1;32m   1940\u001b[0m \u001b[43m            \u001b[49m\u001b[43mcontext\u001b[49m\u001b[43m,\u001b[49m\n\u001b[1;32m   1941\u001b[0m \u001b[43m        \u001b[49m\u001b[43m)\u001b[49m\n\u001b[1;32m   1942\u001b[0m \u001b[38;5;28;01melif\u001b[39;00m \u001b[38;5;129;01mnot\u001b[39;00m effective_parameters \u001b[38;5;129;01mand\u001b[39;00m context\u001b[38;5;241m.\u001b[39mno_parameters:\n\u001b[1;32m   1943\u001b[0m     \u001b[38;5;28;01mif\u001b[39;00m \u001b[38;5;28mself\u001b[39m\u001b[38;5;241m.\u001b[39mdialect\u001b[38;5;241m.\u001b[39m_has_events:\n",
      "File \u001b[0;32m/opt/miniconda3/lib/python3.12/site-packages/sqlalchemy/dialects/mysql/mysqldb.py:170\u001b[0m, in \u001b[0;36mMySQLDialect_mysqldb.do_executemany\u001b[0;34m(self, cursor, statement, parameters, context)\u001b[0m\n\u001b[1;32m    169\u001b[0m \u001b[38;5;28;01mdef\u001b[39;00m \u001b[38;5;21mdo_executemany\u001b[39m(\u001b[38;5;28mself\u001b[39m, cursor, statement, parameters, context\u001b[38;5;241m=\u001b[39m\u001b[38;5;28;01mNone\u001b[39;00m):\n\u001b[0;32m--> 170\u001b[0m     rowcount \u001b[38;5;241m=\u001b[39m \u001b[43mcursor\u001b[49m\u001b[38;5;241;43m.\u001b[39;49m\u001b[43mexecutemany\u001b[49m\u001b[43m(\u001b[49m\u001b[43mstatement\u001b[49m\u001b[43m,\u001b[49m\u001b[43m \u001b[49m\u001b[43mparameters\u001b[49m\u001b[43m)\u001b[49m\n\u001b[1;32m    171\u001b[0m     \u001b[38;5;28;01mif\u001b[39;00m context \u001b[38;5;129;01mis\u001b[39;00m \u001b[38;5;129;01mnot\u001b[39;00m \u001b[38;5;28;01mNone\u001b[39;00m:\n\u001b[1;32m    172\u001b[0m         context\u001b[38;5;241m.\u001b[39m_rowcount \u001b[38;5;241m=\u001b[39m rowcount\n",
      "File \u001b[0;32m/opt/miniconda3/lib/python3.12/site-packages/pymysql/cursors.py:182\u001b[0m, in \u001b[0;36mCursor.executemany\u001b[0;34m(self, query, args)\u001b[0m\n\u001b[1;32m    180\u001b[0m     q_postfix \u001b[38;5;241m=\u001b[39m m\u001b[38;5;241m.\u001b[39mgroup(\u001b[38;5;241m3\u001b[39m) \u001b[38;5;129;01mor\u001b[39;00m \u001b[38;5;124m\"\u001b[39m\u001b[38;5;124m\"\u001b[39m\n\u001b[1;32m    181\u001b[0m     \u001b[38;5;28;01massert\u001b[39;00m q_values[\u001b[38;5;241m0\u001b[39m] \u001b[38;5;241m==\u001b[39m \u001b[38;5;124m\"\u001b[39m\u001b[38;5;124m(\u001b[39m\u001b[38;5;124m\"\u001b[39m \u001b[38;5;129;01mand\u001b[39;00m q_values[\u001b[38;5;241m-\u001b[39m\u001b[38;5;241m1\u001b[39m] \u001b[38;5;241m==\u001b[39m \u001b[38;5;124m\"\u001b[39m\u001b[38;5;124m)\u001b[39m\u001b[38;5;124m\"\u001b[39m\n\u001b[0;32m--> 182\u001b[0m     \u001b[38;5;28;01mreturn\u001b[39;00m \u001b[38;5;28;43mself\u001b[39;49m\u001b[38;5;241;43m.\u001b[39;49m\u001b[43m_do_execute_many\u001b[49m\u001b[43m(\u001b[49m\n\u001b[1;32m    183\u001b[0m \u001b[43m        \u001b[49m\u001b[43mq_prefix\u001b[49m\u001b[43m,\u001b[49m\n\u001b[1;32m    184\u001b[0m \u001b[43m        \u001b[49m\u001b[43mq_values\u001b[49m\u001b[43m,\u001b[49m\n\u001b[1;32m    185\u001b[0m \u001b[43m        \u001b[49m\u001b[43mq_postfix\u001b[49m\u001b[43m,\u001b[49m\n\u001b[1;32m    186\u001b[0m \u001b[43m        \u001b[49m\u001b[43margs\u001b[49m\u001b[43m,\u001b[49m\n\u001b[1;32m    187\u001b[0m \u001b[43m        \u001b[49m\u001b[38;5;28;43mself\u001b[39;49m\u001b[38;5;241;43m.\u001b[39;49m\u001b[43mmax_stmt_length\u001b[49m\u001b[43m,\u001b[49m\n\u001b[1;32m    188\u001b[0m \u001b[43m        \u001b[49m\u001b[38;5;28;43mself\u001b[39;49m\u001b[38;5;241;43m.\u001b[39;49m\u001b[43m_get_db\u001b[49m\u001b[43m(\u001b[49m\u001b[43m)\u001b[49m\u001b[38;5;241;43m.\u001b[39;49m\u001b[43mencoding\u001b[49m\u001b[43m,\u001b[49m\n\u001b[1;32m    189\u001b[0m \u001b[43m    \u001b[49m\u001b[43m)\u001b[49m\n\u001b[1;32m    191\u001b[0m \u001b[38;5;28mself\u001b[39m\u001b[38;5;241m.\u001b[39mrowcount \u001b[38;5;241m=\u001b[39m \u001b[38;5;28msum\u001b[39m(\u001b[38;5;28mself\u001b[39m\u001b[38;5;241m.\u001b[39mexecute(query, arg) \u001b[38;5;28;01mfor\u001b[39;00m arg \u001b[38;5;129;01min\u001b[39;00m args)\n\u001b[1;32m    192\u001b[0m \u001b[38;5;28;01mreturn\u001b[39;00m \u001b[38;5;28mself\u001b[39m\u001b[38;5;241m.\u001b[39mrowcount\n",
      "File \u001b[0;32m/opt/miniconda3/lib/python3.12/site-packages/pymysql/cursors.py:215\u001b[0m, in \u001b[0;36mCursor._do_execute_many\u001b[0;34m(self, prefix, values, postfix, args, max_stmt_length, encoding)\u001b[0m\n\u001b[1;32m    213\u001b[0m     v \u001b[38;5;241m=\u001b[39m v\u001b[38;5;241m.\u001b[39mencode(encoding, \u001b[38;5;124m\"\u001b[39m\u001b[38;5;124msurrogateescape\u001b[39m\u001b[38;5;124m\"\u001b[39m)\n\u001b[1;32m    214\u001b[0m \u001b[38;5;28;01mif\u001b[39;00m \u001b[38;5;28mlen\u001b[39m(sql) \u001b[38;5;241m+\u001b[39m \u001b[38;5;28mlen\u001b[39m(v) \u001b[38;5;241m+\u001b[39m \u001b[38;5;28mlen\u001b[39m(postfix) \u001b[38;5;241m+\u001b[39m \u001b[38;5;241m1\u001b[39m \u001b[38;5;241m>\u001b[39m max_stmt_length:\n\u001b[0;32m--> 215\u001b[0m     rows \u001b[38;5;241m+\u001b[39m\u001b[38;5;241m=\u001b[39m \u001b[38;5;28;43mself\u001b[39;49m\u001b[38;5;241;43m.\u001b[39;49m\u001b[43mexecute\u001b[49m\u001b[43m(\u001b[49m\u001b[43msql\u001b[49m\u001b[43m \u001b[49m\u001b[38;5;241;43m+\u001b[39;49m\u001b[43m \u001b[49m\u001b[43mpostfix\u001b[49m\u001b[43m)\u001b[49m\n\u001b[1;32m    216\u001b[0m     sql \u001b[38;5;241m=\u001b[39m \u001b[38;5;28mbytearray\u001b[39m(prefix)\n\u001b[1;32m    217\u001b[0m \u001b[38;5;28;01melse\u001b[39;00m:\n",
      "File \u001b[0;32m/opt/miniconda3/lib/python3.12/site-packages/pymysql/cursors.py:153\u001b[0m, in \u001b[0;36mCursor.execute\u001b[0;34m(self, query, args)\u001b[0m\n\u001b[1;32m    149\u001b[0m     \u001b[38;5;28;01mpass\u001b[39;00m\n\u001b[1;32m    151\u001b[0m query \u001b[38;5;241m=\u001b[39m \u001b[38;5;28mself\u001b[39m\u001b[38;5;241m.\u001b[39mmogrify(query, args)\n\u001b[0;32m--> 153\u001b[0m result \u001b[38;5;241m=\u001b[39m \u001b[38;5;28;43mself\u001b[39;49m\u001b[38;5;241;43m.\u001b[39;49m\u001b[43m_query\u001b[49m\u001b[43m(\u001b[49m\u001b[43mquery\u001b[49m\u001b[43m)\u001b[49m\n\u001b[1;32m    154\u001b[0m \u001b[38;5;28mself\u001b[39m\u001b[38;5;241m.\u001b[39m_executed \u001b[38;5;241m=\u001b[39m query\n\u001b[1;32m    155\u001b[0m \u001b[38;5;28;01mreturn\u001b[39;00m result\n",
      "File \u001b[0;32m/opt/miniconda3/lib/python3.12/site-packages/pymysql/cursors.py:322\u001b[0m, in \u001b[0;36mCursor._query\u001b[0;34m(self, q)\u001b[0m\n\u001b[1;32m    320\u001b[0m conn \u001b[38;5;241m=\u001b[39m \u001b[38;5;28mself\u001b[39m\u001b[38;5;241m.\u001b[39m_get_db()\n\u001b[1;32m    321\u001b[0m \u001b[38;5;28mself\u001b[39m\u001b[38;5;241m.\u001b[39m_clear_result()\n\u001b[0;32m--> 322\u001b[0m \u001b[43mconn\u001b[49m\u001b[38;5;241;43m.\u001b[39;49m\u001b[43mquery\u001b[49m\u001b[43m(\u001b[49m\u001b[43mq\u001b[49m\u001b[43m)\u001b[49m\n\u001b[1;32m    323\u001b[0m \u001b[38;5;28mself\u001b[39m\u001b[38;5;241m.\u001b[39m_do_get_result()\n\u001b[1;32m    324\u001b[0m \u001b[38;5;28;01mreturn\u001b[39;00m \u001b[38;5;28mself\u001b[39m\u001b[38;5;241m.\u001b[39mrowcount\n",
      "File \u001b[0;32m/opt/miniconda3/lib/python3.12/site-packages/pymysql/connections.py:558\u001b[0m, in \u001b[0;36mConnection.query\u001b[0;34m(self, sql, unbuffered)\u001b[0m\n\u001b[1;32m    556\u001b[0m     sql \u001b[38;5;241m=\u001b[39m sql\u001b[38;5;241m.\u001b[39mencode(\u001b[38;5;28mself\u001b[39m\u001b[38;5;241m.\u001b[39mencoding, \u001b[38;5;124m\"\u001b[39m\u001b[38;5;124msurrogateescape\u001b[39m\u001b[38;5;124m\"\u001b[39m)\n\u001b[1;32m    557\u001b[0m \u001b[38;5;28mself\u001b[39m\u001b[38;5;241m.\u001b[39m_execute_command(COMMAND\u001b[38;5;241m.\u001b[39mCOM_QUERY, sql)\n\u001b[0;32m--> 558\u001b[0m \u001b[38;5;28mself\u001b[39m\u001b[38;5;241m.\u001b[39m_affected_rows \u001b[38;5;241m=\u001b[39m \u001b[38;5;28;43mself\u001b[39;49m\u001b[38;5;241;43m.\u001b[39;49m\u001b[43m_read_query_result\u001b[49m\u001b[43m(\u001b[49m\u001b[43munbuffered\u001b[49m\u001b[38;5;241;43m=\u001b[39;49m\u001b[43munbuffered\u001b[49m\u001b[43m)\u001b[49m\n\u001b[1;32m    559\u001b[0m \u001b[38;5;28;01mreturn\u001b[39;00m \u001b[38;5;28mself\u001b[39m\u001b[38;5;241m.\u001b[39m_affected_rows\n",
      "File \u001b[0;32m/opt/miniconda3/lib/python3.12/site-packages/pymysql/connections.py:822\u001b[0m, in \u001b[0;36mConnection._read_query_result\u001b[0;34m(self, unbuffered)\u001b[0m\n\u001b[1;32m    820\u001b[0m \u001b[38;5;28;01melse\u001b[39;00m:\n\u001b[1;32m    821\u001b[0m     result \u001b[38;5;241m=\u001b[39m MySQLResult(\u001b[38;5;28mself\u001b[39m)\n\u001b[0;32m--> 822\u001b[0m     \u001b[43mresult\u001b[49m\u001b[38;5;241;43m.\u001b[39;49m\u001b[43mread\u001b[49m\u001b[43m(\u001b[49m\u001b[43m)\u001b[49m\n\u001b[1;32m    823\u001b[0m \u001b[38;5;28mself\u001b[39m\u001b[38;5;241m.\u001b[39m_result \u001b[38;5;241m=\u001b[39m result\n\u001b[1;32m    824\u001b[0m \u001b[38;5;28;01mif\u001b[39;00m result\u001b[38;5;241m.\u001b[39mserver_status \u001b[38;5;129;01mis\u001b[39;00m \u001b[38;5;129;01mnot\u001b[39;00m \u001b[38;5;28;01mNone\u001b[39;00m:\n",
      "File \u001b[0;32m/opt/miniconda3/lib/python3.12/site-packages/pymysql/connections.py:1200\u001b[0m, in \u001b[0;36mMySQLResult.read\u001b[0;34m(self)\u001b[0m\n\u001b[1;32m   1198\u001b[0m \u001b[38;5;28;01mdef\u001b[39;00m \u001b[38;5;21mread\u001b[39m(\u001b[38;5;28mself\u001b[39m):\n\u001b[1;32m   1199\u001b[0m     \u001b[38;5;28;01mtry\u001b[39;00m:\n\u001b[0;32m-> 1200\u001b[0m         first_packet \u001b[38;5;241m=\u001b[39m \u001b[38;5;28;43mself\u001b[39;49m\u001b[38;5;241;43m.\u001b[39;49m\u001b[43mconnection\u001b[49m\u001b[38;5;241;43m.\u001b[39;49m\u001b[43m_read_packet\u001b[49m\u001b[43m(\u001b[49m\u001b[43m)\u001b[49m\n\u001b[1;32m   1202\u001b[0m         \u001b[38;5;28;01mif\u001b[39;00m first_packet\u001b[38;5;241m.\u001b[39mis_ok_packet():\n\u001b[1;32m   1203\u001b[0m             \u001b[38;5;28mself\u001b[39m\u001b[38;5;241m.\u001b[39m_read_ok_packet(first_packet)\n",
      "File \u001b[0;32m/opt/miniconda3/lib/python3.12/site-packages/pymysql/connections.py:772\u001b[0m, in \u001b[0;36mConnection._read_packet\u001b[0;34m(self, packet_type)\u001b[0m\n\u001b[1;32m    770\u001b[0m     \u001b[38;5;28;01mif\u001b[39;00m \u001b[38;5;28mself\u001b[39m\u001b[38;5;241m.\u001b[39m_result \u001b[38;5;129;01mis\u001b[39;00m \u001b[38;5;129;01mnot\u001b[39;00m \u001b[38;5;28;01mNone\u001b[39;00m \u001b[38;5;129;01mand\u001b[39;00m \u001b[38;5;28mself\u001b[39m\u001b[38;5;241m.\u001b[39m_result\u001b[38;5;241m.\u001b[39munbuffered_active \u001b[38;5;129;01mis\u001b[39;00m \u001b[38;5;28;01mTrue\u001b[39;00m:\n\u001b[1;32m    771\u001b[0m         \u001b[38;5;28mself\u001b[39m\u001b[38;5;241m.\u001b[39m_result\u001b[38;5;241m.\u001b[39munbuffered_active \u001b[38;5;241m=\u001b[39m \u001b[38;5;28;01mFalse\u001b[39;00m\n\u001b[0;32m--> 772\u001b[0m     \u001b[43mpacket\u001b[49m\u001b[38;5;241;43m.\u001b[39;49m\u001b[43mraise_for_error\u001b[49m\u001b[43m(\u001b[49m\u001b[43m)\u001b[49m\n\u001b[1;32m    773\u001b[0m \u001b[38;5;28;01mreturn\u001b[39;00m packet\n",
      "File \u001b[0;32m/opt/miniconda3/lib/python3.12/site-packages/pymysql/protocol.py:221\u001b[0m, in \u001b[0;36mMysqlPacket.raise_for_error\u001b[0;34m(self)\u001b[0m\n\u001b[1;32m    219\u001b[0m \u001b[38;5;28;01mif\u001b[39;00m DEBUG:\n\u001b[1;32m    220\u001b[0m     \u001b[38;5;28mprint\u001b[39m(\u001b[38;5;124m\"\u001b[39m\u001b[38;5;124merrno =\u001b[39m\u001b[38;5;124m\"\u001b[39m, errno)\n\u001b[0;32m--> 221\u001b[0m \u001b[43merr\u001b[49m\u001b[38;5;241;43m.\u001b[39;49m\u001b[43mraise_mysql_exception\u001b[49m\u001b[43m(\u001b[49m\u001b[38;5;28;43mself\u001b[39;49m\u001b[38;5;241;43m.\u001b[39;49m\u001b[43m_data\u001b[49m\u001b[43m)\u001b[49m\n",
      "File \u001b[0;32m/opt/miniconda3/lib/python3.12/site-packages/pymysql/err.py:143\u001b[0m, in \u001b[0;36mraise_mysql_exception\u001b[0;34m(data)\u001b[0m\n\u001b[1;32m    141\u001b[0m \u001b[38;5;28;01mif\u001b[39;00m errorclass \u001b[38;5;129;01mis\u001b[39;00m \u001b[38;5;28;01mNone\u001b[39;00m:\n\u001b[1;32m    142\u001b[0m     errorclass \u001b[38;5;241m=\u001b[39m InternalError \u001b[38;5;28;01mif\u001b[39;00m errno \u001b[38;5;241m<\u001b[39m \u001b[38;5;241m1000\u001b[39m \u001b[38;5;28;01melse\u001b[39;00m OperationalError\n\u001b[0;32m--> 143\u001b[0m \u001b[38;5;28;01mraise\u001b[39;00m errorclass(errno, errval)\n",
      "\u001b[0;31mIntegrityError\u001b[0m: (pymysql.err.IntegrityError) (1452, 'Cannot add or update a child row: a foreign key constraint fails (`amazon_sales_db`.`f_products`, CONSTRAINT `f_products_ibfk_1` FOREIGN KEY (`category_id`) REFERENCES `d_categories` (`category_id`))')\n[SQL: INSERT INTO f_products (product_id, category_id, average_rating, description, country_id, price, ship_date, purchase_date, reviews_nb, manufacturer_id, nb_stocks, condition_id, bought_after, sub_category_1, sub_category_2, sub_category_3) VALUES (%(product_id)s, %(category_id)s, %(average_rating)s, %(description)s, %(country_id)s, %(price)s, %(ship_date)s, %(purchase_date)s, %(reviews_nb)s, %(manufacturer_id)s, %(nb_stocks)s, %(condition_id)s, %(bought_after)s, %(sub_category_1)s, %(sub_category_2)s, %(sub_category_3)s)]\n[parameters: [{'product_id': 'eac7efa5dbd3d667f26eb3d3ab504464', 'category_id': 1, 'average_rating': 4.9, 'description': 'Product Description Hornby 2014 Catalogue Box Contains 1 x one catalogue', 'country_id': 1, 'price': 3.42, 'ship_date': datetime.datetime(2018, 6, 14, 0, 0), 'purchase_date': datetime.datetime(2018, 6, 4, 0, 0), 'reviews_nb': 15.0, 'manufacturer_id': 1030, 'nb_stocks': None, 'condition_id': 3, 'bought_after': 'http://www.amazon.co.uk/Hornby-R8150-Catalogue-2015/dp/B00S9SUUBE | http://www.amazon.co.uk/Hornby-Book-Model-Railways-Edition/dp/1844860957 | http://www.amazon.co.uk/Peco-60-Plans-Book/dp/B002QVL16I | http://www.amazon.co.uk/Newcomers-Guide-Model-Railways-Step/dp/1857943295', 'sub_category_1': 'Model Trains & Railway Sets', 'sub_category_2': 'Rail Vehicles', 'sub_category_3': 'Trains'}, {'product_id': 'b17540ef7e86e461d37f3ae58b7b72ac', 'category_id': 1, 'average_rating': 4.5, 'description': 'Size Name:Large FunkyBuys® Large Christmas Holiday Express Festive Train Set (SI-TY1017) Toy Light / Sounds / Battery Operated & Smoke', 'country_id': 1, 'price': 16.99, 'ship_date': datetime.datetime(2022, 9, 2, 0, 0), 'purchase_date': datetime.datetime(2022, 8, 30, 0, 0), 'reviews_nb': 2.0, 'manufacturer_id': 802, 'nb_stocks': 0.0, 'condition_id': 1, 'bought_after': 'http://www.amazon.co.uk/Christmas-Holiday-Express-Festive-Train-Set-Toy/dp/B009R8S8AA | http://www.amazon.co.uk/Goldlok-Holiday-Express-Operated-Mult ... (40 characters truncated) ... on.co.uk/FunkyBuys%C2%AE-Christmas-SI-TY1017-Ornaments-Operated/dp/B01437QMHA | http://www.amazon.co.uk/Holiday-Express-Christmas-Ornament-Decoration', 'sub_category_1': 'Model Trains & Railway Sets', 'sub_category_2': 'Rail Vehicles', 'sub_category_3': 'Trains'}, {'product_id': '348f344247b0c1a935b1223072ef9d8a', 'category_id': 1, 'average_rating': 3.9, 'description': 'BIG CLASSIC TOY TRAIN SET TRACK CARRIAGE LIGHT ENGINE SOUND BOXED KIDS BATTERY Railway Train Set with Light Sound, Big Size Curved Track Free Wheelin ... (59 characters truncated) ...  Assembled In More Layouts Length Of Track 104 cm WIDTH OF THE TRACK 68 CM Finely Detailed Realistic Toy Train REQUIRES 2 AA BATTERIES (NOT INCLUDED)', 'country_id': 1, 'price': 9.99, 'ship_date': datetime.datetime(2020, 8, 6, 0, 0), 'purchase_date': datetime.datetime(2020, 8, 4, 0, 0), 'reviews_nb': 17.0, 'manufacturer_id': 2556, 'nb_stocks': None, 'condition_id': 3, 'bought_after': 'http://www.amazon.co.uk/Train-With-Tracks-Battery-Operated-x/dp/B009P540O8 | http://www.amazon.co.uk/Classic-Train-Lights-Battery-Operated/dp/B0041L9OHE | http://www.amazon.co.uk/Train-Flash-Electric-Sound-Europe/dp/B008D7CEH4 | http://www.amazon.co.uk/13-Piece-Train-Set-Ideal/dp/B0173N6E4W', 'sub_category_1': 'Model Trains & Railway Sets', 'sub_category_2': 'Rail Vehicles', 'sub_category_3': 'Trains'}, {'product_id': 'e12b92dbb8eaee78b22965d2a9bbbd9f', 'category_id': 1, 'average_rating': 5.0, 'description': 'Hornby 00 Gauge BR Hawksworth 3rd Class W 2107 W # R4410A', 'country_id': 1, 'price': 39.99, 'ship_date': datetime.datetime(2020, 10, 30, 0, 0), 'purchase_date': datetime.datetime(2020, 10, 27, 0, 0), 'reviews_nb': 1.0, 'manufacturer_id': 1030, 'nb_stocks': 0.0, 'condition_id': 1, 'bought_after': 'nan', 'sub_category_1': 'Model Trains & Railway Sets', 'sub_category_2': 'Rail Vehicles', 'sub_category_3': 'Trains'}, {'product_id': 'e33a9adeed5f36840ccc227db4682a36', 'category_id': 1, 'average_rating': 4.7, 'description': 'Product Description Hornby RailRoad 0-4-0 Gildenlow Salt Co 00 gauge steam locomotive model. Safety warning: This product is not suitable for childre ... (100 characters truncated) ... nctional sharp edges. Handle with care. Only use this product with the recommended transformer. Made in China. Box Contains 1x Steam Locomotive Model', 'country_id': 1, 'price': 32.19, 'ship_date': datetime.datetime(2018, 2, 4, 0, 0), 'purchase_date': datetime.datetime(2018, 2, 3, 0, 0), 'reviews_nb': 3.0, 'manufacturer_id': 1030, 'nb_stocks': 0.0, 'condition_id': 1, 'bought_after': 'http://www.amazon.co.uk/Hornby-R2672-RailRoad-Caledonian | http://www.amazon.co.uk/Hornby-R3064-RailRoad-Smokey-Locomotive | http://www.amazon.co.uk/Hornby-Railroad-Transatlanic | http://www.amazon.co.uk/Hornby-R8222-Gauge-Track-Extension/dp/B000RK3FZK', 'sub_category_1': 'Model Trains & Railway Sets', 'sub_category_2': 'Rail Vehicles', 'sub_category_3': 'Trains'}, {'product_id': 'cb34f0a84102c1ebc3ef6892d7444d36', 'category_id': 1, 'average_rating': 5.0, 'description': 'These delicate model garden lights are mainly used in teaching, photography, and various kinds of scene model. Each of them is completed with wires a ... (482 characters truncated) ... e power, please connect two long wires with one end and connect the rest two short wires with another end. Package Include: 20pcs model garden lights', 'country_id': 1, 'price': 6.99, 'ship_date': datetime.datetime(2020, 2, 22, 0, 0), 'purchase_date': datetime.datetime(2020, 2, 20, 0, 0), 'reviews_nb': 2.0, 'manufacturer_id': 853, 'nb_stocks': 0.0, 'condition_id': 1, 'bought_after': 'http://www.amazon.co.uk/Single-Head-Garden-Lights-Lamppost-Layout/dp/B008XCSHCA | http://www.amazon.co.uk/Model-Scene-Gas-Lamp-Posts/dp/B006MGB90G | http://www.amazon.co.uk/12pcs-1-2-inch-Scenery-Landscape/dp/B008S8NHYM | http://www.amazon.co.uk/douself-100Pcs-OO-Scale-Passenger/dp/B00GRUD8W4', 'sub_category_1': 'Model Trains & Railway Sets', 'sub_category_2': 'Lighting & Signal Engineering', 'sub_category_3': 'Lamps & Lighting'}, {'product_id': 'f74b562470571dfb689324adf236f82c', 'category_id': 1, 'average_rating': 4.5, 'description': 'Product Description Hornby BR bogie passenger brake coach has pristine finish. Livery: BR red livery. Entered Service: 1930. Period: 1950. 230mm coac ... (74 characters truncated) ... ffers something for most enthusiasts modelling the various regions and periods of the British rail network. Box Contains 1x Red Bogie Passenger Brake', 'country_id': 1, 'price': 24.99, 'ship_date': datetime.datetime(2022, 3, 10, 0, 0), 'purchase_date': datetime.datetime(2022, 3, 6, 0, 0), 'reviews_nb': 2.0, 'manufacturer_id': 1030, 'nb_stocks': 0.0, 'condition_id': 1, 'bought_after': 'nan', 'sub_category_1': 'Model Trains & Railway Sets', 'sub_category_2': 'Rail Vehicles', 'sub_category_3': 'Trains'}, {'product_id': '87bbb472ef9d90dcef140a551665c929', 'category_id': 1, 'average_rating': 4.3, 'description': \"Product Description Inject a bit of Hornby magic into Christmas with the special Santa's Express Train Set. The set includes everything you need to g ... (1321 characters truncated) ...  Box Van 1x 3rd Radius Starter Oval 1x Power Track and Track Straight 1xR8250 Train Controller 1x P9000 Transformer 1x Hornby MidiMat (1600 x 1180mm)\", 'country_id': 1, 'price': 69.93, 'ship_date': datetime.datetime(2017, 9, 15, 0, 0), 'purchase_date': datetime.datetime(2017, 9, 5, 0, 0), 'reviews_nb': 36.0, 'manufacturer_id': 1030, 'nb_stocks': None, 'condition_id': 3, 'bought_after': 'http://www.amazon.co.uk/Hornby-R1151-Caledonian | http://www.amazon.co.uk/Hornby-R8222-Gauge-Track-Extension/dp/B000RK3FZK | http://www.amazon.co.uk/Hornby-R3064-RailRoad-Smokey-Locomotive | http://www.amazon.co.uk/Hornby-Hobbies-Santa-Express-Train/dp/B016WP3RYM', 'sub_category_1': 'Model Trains & Railway Sets', 'sub_category_2': 'Rail Vehicles', 'sub_category_3': 'Trains'}  ... displaying 10 of 9999 total bound parameter sets ...  {'product_id': 'cd783d0b8b44e631b9788b203eaaefae', 'category_id': 29, 'average_rating': 5.0, 'description': 'Designed by Ed BenesIt\\'s here - the third series based on the popular DC Comics series, JUSTICE LEAGUE OF AMERICA, written by New York Times best-se ... (137 characters truncated) ... be made into action figures!- Green Lantern - 6.75\" HEach figure features multiple points of articulation and a base. 4-color blister card packaging.', 'country_id': 6, 'price': 49.81, 'ship_date': datetime.datetime(2016, 2, 5, 0, 0), 'purchase_date': datetime.datetime(2016, 1, 31, 0, 0), 'reviews_nb': 1.0, 'manufacturer_id': 535, 'nb_stocks': None, 'condition_id': 3, 'bought_after': 'nan', 'sub_category_1': 'Collectible Figures & Memorabilia', 'sub_category_2': 'Collectible Props & Memorabilia', 'sub_category_3': 'None'}, {'product_id': '94d18e86e504bee1e392df7e5738b18a', 'category_id': 4, 'average_rating': 4.5, 'description': 'nan', 'country_id': 6, 'price': 21.2, 'ship_date': datetime.datetime(2016, 10, 11, 0, 0), 'purchase_date': datetime.datetime(2016, 10, 8, 0, 0), 'reviews_nb': 11.0, 'manufacturer_id': 211, 'nb_stocks': None, 'condition_id': 3, 'bought_after': 'nan', 'sub_category_1': 'Star Wars', 'sub_category_2': 'Toys', 'sub_category_3': 'None'}]]\n(Background on this error at: https://sqlalche.me/e/20/gkpj)"
     ]
    }
   ],
   "source": [
    "f_products.to_sql('f_products', con=engine, if_exists=\"append\", index=False)"
   ]
  },
  {
   "cell_type": "code",
   "execution_count": 272,
   "id": "d80246ce",
   "metadata": {},
   "outputs": [
    {
     "ename": "IntegrityError",
     "evalue": "(pymysql.err.IntegrityError) (1452, 'Cannot add or update a child row: a foreign key constraint fails (`amazon_sales_db`.`d_questions`, CONSTRAINT `d_questions_ibfk_1` FOREIGN KEY (`product_id`) REFERENCES `f_products` (`product_id`))')\n[SQL: INSERT INTO d_questions (product_id, question, answer, question_id) VALUES (%(product_id)s, %(question)s, %(answer)s, %(question_id)s)]\n[parameters: [{'product_id': 'eac7efa5dbd3d667f26eb3d3ab504464', 'question': 'Does this catalogue detail all the previous Hornby products please?', 'answer': 'HiThe 2014 catalogue does indeed detail previous models but also includes new releases for 2014.You would be advised to purchase models as you need t ... (192 characters truncated) ... 14.You would be advised to purchase models as you need them to avoid them being discontinued in subsequent yearsHope this helps\\n    \\n      see less', 'question_id': 1}, {'product_id': 'b17540ef7e86e461d37f3ae58b7b72ac', 'question': 'can you turn off sounds', 'answer': 'hi no you cant turn sound off', 'question_id': 2}, {'product_id': '348f344247b0c1a935b1223072ef9d8a', 'question': 'What is the gauge of the track', 'answer': \"Hi Paul.Truthfully, I'm not sure. But it's very much alike to a 00 gauge. But this train set isn't an add-on for an electric train set nor has nothin ... (4 characters truncated) ...  do with one.I bought this for my 4 year old nephew as he adores trains but is far too young for an electric set. He was VERY happy with this though!\", 'question_id': 3}, {'product_id': '348f344247b0c1a935b1223072ef9d8a', 'question': 'what is the layout of the tracks?', 'answer': 'Its an oval shape layout', 'question_id': 4}, {'product_id': 'cb34f0a84102c1ebc3ef6892d7444d36', 'question': 'is it possible to replace thr grain of wheat lamps with leds', 'answer': \"Hi Pete. No it's not possible the main pole is to thin to take readily available LEDs wiring. I was hoping to do this myself but it would mean rewire ... (568 characters truncated) ... ugh to solder the led back on. That I will be trying in the next few months. Hope I may have been some help, good luck. Derryck\\n    \\n      see less\", 'question_id': 5}, {'product_id': '87bbb472ef9d90dcef140a551665c929', 'question': 'Can this train go backwards as well as forward?', 'answer': 'Yes.  Variable speed in both directions.', 'question_id': 6}, {'product_id': '87bbb472ef9d90dcef140a551665c929', 'question': 'Is this train set OO Gauge.', 'answer': 'Yes it is.', 'question_id': 7}, {'product_id': '87bbb472ef9d90dcef140a551665c929', 'question': 'can it sit directly on carpet or will i need a board to put it on ?', 'answer': 'The train set can be run on carpet, although a board is more beneficial.', 'question_id': 8}  ... displaying 10 of 1677 total bound parameter sets ...  {'product_id': '569b2e8a3aef1831cd68fe1de287c809', 'question': 'Is this metal?', 'answer': \"Yes and it's got a good weight to it\", 'question_id': 1676}, {'product_id': '569b2e8a3aef1831cd68fe1de287c809', 'question': 'Can you separate the batarang from the actual display?', 'answer': 'Yes you can.', 'question_id': 1677}]]\n(Background on this error at: https://sqlalche.me/e/20/gkpj)",
     "output_type": "error",
     "traceback": [
      "\u001b[0;31m---------------------------------------------------------------------------\u001b[0m",
      "\u001b[0;31mIntegrityError\u001b[0m                            Traceback (most recent call last)",
      "File \u001b[0;32m/opt/miniconda3/lib/python3.12/site-packages/sqlalchemy/engine/base.py:1936\u001b[0m, in \u001b[0;36mConnection._exec_single_context\u001b[0;34m(self, dialect, context, statement, parameters)\u001b[0m\n\u001b[1;32m   1935\u001b[0m     \u001b[38;5;28;01mif\u001b[39;00m \u001b[38;5;129;01mnot\u001b[39;00m evt_handled:\n\u001b[0;32m-> 1936\u001b[0m         \u001b[38;5;28;43mself\u001b[39;49m\u001b[38;5;241;43m.\u001b[39;49m\u001b[43mdialect\u001b[49m\u001b[38;5;241;43m.\u001b[39;49m\u001b[43mdo_executemany\u001b[49m\u001b[43m(\u001b[49m\n\u001b[1;32m   1937\u001b[0m \u001b[43m            \u001b[49m\u001b[43mcursor\u001b[49m\u001b[43m,\u001b[49m\n\u001b[1;32m   1938\u001b[0m \u001b[43m            \u001b[49m\u001b[43mstr_statement\u001b[49m\u001b[43m,\u001b[49m\n\u001b[1;32m   1939\u001b[0m \u001b[43m            \u001b[49m\u001b[43meffective_parameters\u001b[49m\u001b[43m,\u001b[49m\n\u001b[1;32m   1940\u001b[0m \u001b[43m            \u001b[49m\u001b[43mcontext\u001b[49m\u001b[43m,\u001b[49m\n\u001b[1;32m   1941\u001b[0m \u001b[43m        \u001b[49m\u001b[43m)\u001b[49m\n\u001b[1;32m   1942\u001b[0m \u001b[38;5;28;01melif\u001b[39;00m \u001b[38;5;129;01mnot\u001b[39;00m effective_parameters \u001b[38;5;129;01mand\u001b[39;00m context\u001b[38;5;241m.\u001b[39mno_parameters:\n",
      "File \u001b[0;32m/opt/miniconda3/lib/python3.12/site-packages/sqlalchemy/dialects/mysql/mysqldb.py:170\u001b[0m, in \u001b[0;36mMySQLDialect_mysqldb.do_executemany\u001b[0;34m(self, cursor, statement, parameters, context)\u001b[0m\n\u001b[1;32m    169\u001b[0m \u001b[38;5;28;01mdef\u001b[39;00m \u001b[38;5;21mdo_executemany\u001b[39m(\u001b[38;5;28mself\u001b[39m, cursor, statement, parameters, context\u001b[38;5;241m=\u001b[39m\u001b[38;5;28;01mNone\u001b[39;00m):\n\u001b[0;32m--> 170\u001b[0m     rowcount \u001b[38;5;241m=\u001b[39m \u001b[43mcursor\u001b[49m\u001b[38;5;241;43m.\u001b[39;49m\u001b[43mexecutemany\u001b[49m\u001b[43m(\u001b[49m\u001b[43mstatement\u001b[49m\u001b[43m,\u001b[49m\u001b[43m \u001b[49m\u001b[43mparameters\u001b[49m\u001b[43m)\u001b[49m\n\u001b[1;32m    171\u001b[0m     \u001b[38;5;28;01mif\u001b[39;00m context \u001b[38;5;129;01mis\u001b[39;00m \u001b[38;5;129;01mnot\u001b[39;00m \u001b[38;5;28;01mNone\u001b[39;00m:\n",
      "File \u001b[0;32m/opt/miniconda3/lib/python3.12/site-packages/pymysql/cursors.py:182\u001b[0m, in \u001b[0;36mCursor.executemany\u001b[0;34m(self, query, args)\u001b[0m\n\u001b[1;32m    181\u001b[0m     \u001b[38;5;28;01massert\u001b[39;00m q_values[\u001b[38;5;241m0\u001b[39m] \u001b[38;5;241m==\u001b[39m \u001b[38;5;124m\"\u001b[39m\u001b[38;5;124m(\u001b[39m\u001b[38;5;124m\"\u001b[39m \u001b[38;5;129;01mand\u001b[39;00m q_values[\u001b[38;5;241m-\u001b[39m\u001b[38;5;241m1\u001b[39m] \u001b[38;5;241m==\u001b[39m \u001b[38;5;124m\"\u001b[39m\u001b[38;5;124m)\u001b[39m\u001b[38;5;124m\"\u001b[39m\n\u001b[0;32m--> 182\u001b[0m     \u001b[38;5;28;01mreturn\u001b[39;00m \u001b[38;5;28;43mself\u001b[39;49m\u001b[38;5;241;43m.\u001b[39;49m\u001b[43m_do_execute_many\u001b[49m\u001b[43m(\u001b[49m\n\u001b[1;32m    183\u001b[0m \u001b[43m        \u001b[49m\u001b[43mq_prefix\u001b[49m\u001b[43m,\u001b[49m\n\u001b[1;32m    184\u001b[0m \u001b[43m        \u001b[49m\u001b[43mq_values\u001b[49m\u001b[43m,\u001b[49m\n\u001b[1;32m    185\u001b[0m \u001b[43m        \u001b[49m\u001b[43mq_postfix\u001b[49m\u001b[43m,\u001b[49m\n\u001b[1;32m    186\u001b[0m \u001b[43m        \u001b[49m\u001b[43margs\u001b[49m\u001b[43m,\u001b[49m\n\u001b[1;32m    187\u001b[0m \u001b[43m        \u001b[49m\u001b[38;5;28;43mself\u001b[39;49m\u001b[38;5;241;43m.\u001b[39;49m\u001b[43mmax_stmt_length\u001b[49m\u001b[43m,\u001b[49m\n\u001b[1;32m    188\u001b[0m \u001b[43m        \u001b[49m\u001b[38;5;28;43mself\u001b[39;49m\u001b[38;5;241;43m.\u001b[39;49m\u001b[43m_get_db\u001b[49m\u001b[43m(\u001b[49m\u001b[43m)\u001b[49m\u001b[38;5;241;43m.\u001b[39;49m\u001b[43mencoding\u001b[49m\u001b[43m,\u001b[49m\n\u001b[1;32m    189\u001b[0m \u001b[43m    \u001b[49m\u001b[43m)\u001b[49m\n\u001b[1;32m    191\u001b[0m \u001b[38;5;28mself\u001b[39m\u001b[38;5;241m.\u001b[39mrowcount \u001b[38;5;241m=\u001b[39m \u001b[38;5;28msum\u001b[39m(\u001b[38;5;28mself\u001b[39m\u001b[38;5;241m.\u001b[39mexecute(query, arg) \u001b[38;5;28;01mfor\u001b[39;00m arg \u001b[38;5;129;01min\u001b[39;00m args)\n",
      "File \u001b[0;32m/opt/miniconda3/lib/python3.12/site-packages/pymysql/cursors.py:220\u001b[0m, in \u001b[0;36mCursor._do_execute_many\u001b[0;34m(self, prefix, values, postfix, args, max_stmt_length, encoding)\u001b[0m\n\u001b[1;32m    219\u001b[0m     sql \u001b[38;5;241m+\u001b[39m\u001b[38;5;241m=\u001b[39m v\n\u001b[0;32m--> 220\u001b[0m rows \u001b[38;5;241m+\u001b[39m\u001b[38;5;241m=\u001b[39m \u001b[38;5;28;43mself\u001b[39;49m\u001b[38;5;241;43m.\u001b[39;49m\u001b[43mexecute\u001b[49m\u001b[43m(\u001b[49m\u001b[43msql\u001b[49m\u001b[43m \u001b[49m\u001b[38;5;241;43m+\u001b[39;49m\u001b[43m \u001b[49m\u001b[43mpostfix\u001b[49m\u001b[43m)\u001b[49m\n\u001b[1;32m    221\u001b[0m \u001b[38;5;28mself\u001b[39m\u001b[38;5;241m.\u001b[39mrowcount \u001b[38;5;241m=\u001b[39m rows\n",
      "File \u001b[0;32m/opt/miniconda3/lib/python3.12/site-packages/pymysql/cursors.py:153\u001b[0m, in \u001b[0;36mCursor.execute\u001b[0;34m(self, query, args)\u001b[0m\n\u001b[1;32m    151\u001b[0m query \u001b[38;5;241m=\u001b[39m \u001b[38;5;28mself\u001b[39m\u001b[38;5;241m.\u001b[39mmogrify(query, args)\n\u001b[0;32m--> 153\u001b[0m result \u001b[38;5;241m=\u001b[39m \u001b[38;5;28;43mself\u001b[39;49m\u001b[38;5;241;43m.\u001b[39;49m\u001b[43m_query\u001b[49m\u001b[43m(\u001b[49m\u001b[43mquery\u001b[49m\u001b[43m)\u001b[49m\n\u001b[1;32m    154\u001b[0m \u001b[38;5;28mself\u001b[39m\u001b[38;5;241m.\u001b[39m_executed \u001b[38;5;241m=\u001b[39m query\n",
      "File \u001b[0;32m/opt/miniconda3/lib/python3.12/site-packages/pymysql/cursors.py:322\u001b[0m, in \u001b[0;36mCursor._query\u001b[0;34m(self, q)\u001b[0m\n\u001b[1;32m    321\u001b[0m \u001b[38;5;28mself\u001b[39m\u001b[38;5;241m.\u001b[39m_clear_result()\n\u001b[0;32m--> 322\u001b[0m \u001b[43mconn\u001b[49m\u001b[38;5;241;43m.\u001b[39;49m\u001b[43mquery\u001b[49m\u001b[43m(\u001b[49m\u001b[43mq\u001b[49m\u001b[43m)\u001b[49m\n\u001b[1;32m    323\u001b[0m \u001b[38;5;28mself\u001b[39m\u001b[38;5;241m.\u001b[39m_do_get_result()\n",
      "File \u001b[0;32m/opt/miniconda3/lib/python3.12/site-packages/pymysql/connections.py:558\u001b[0m, in \u001b[0;36mConnection.query\u001b[0;34m(self, sql, unbuffered)\u001b[0m\n\u001b[1;32m    557\u001b[0m \u001b[38;5;28mself\u001b[39m\u001b[38;5;241m.\u001b[39m_execute_command(COMMAND\u001b[38;5;241m.\u001b[39mCOM_QUERY, sql)\n\u001b[0;32m--> 558\u001b[0m \u001b[38;5;28mself\u001b[39m\u001b[38;5;241m.\u001b[39m_affected_rows \u001b[38;5;241m=\u001b[39m \u001b[38;5;28;43mself\u001b[39;49m\u001b[38;5;241;43m.\u001b[39;49m\u001b[43m_read_query_result\u001b[49m\u001b[43m(\u001b[49m\u001b[43munbuffered\u001b[49m\u001b[38;5;241;43m=\u001b[39;49m\u001b[43munbuffered\u001b[49m\u001b[43m)\u001b[49m\n\u001b[1;32m    559\u001b[0m \u001b[38;5;28;01mreturn\u001b[39;00m \u001b[38;5;28mself\u001b[39m\u001b[38;5;241m.\u001b[39m_affected_rows\n",
      "File \u001b[0;32m/opt/miniconda3/lib/python3.12/site-packages/pymysql/connections.py:822\u001b[0m, in \u001b[0;36mConnection._read_query_result\u001b[0;34m(self, unbuffered)\u001b[0m\n\u001b[1;32m    821\u001b[0m     result \u001b[38;5;241m=\u001b[39m MySQLResult(\u001b[38;5;28mself\u001b[39m)\n\u001b[0;32m--> 822\u001b[0m     \u001b[43mresult\u001b[49m\u001b[38;5;241;43m.\u001b[39;49m\u001b[43mread\u001b[49m\u001b[43m(\u001b[49m\u001b[43m)\u001b[49m\n\u001b[1;32m    823\u001b[0m \u001b[38;5;28mself\u001b[39m\u001b[38;5;241m.\u001b[39m_result \u001b[38;5;241m=\u001b[39m result\n",
      "File \u001b[0;32m/opt/miniconda3/lib/python3.12/site-packages/pymysql/connections.py:1200\u001b[0m, in \u001b[0;36mMySQLResult.read\u001b[0;34m(self)\u001b[0m\n\u001b[1;32m   1199\u001b[0m \u001b[38;5;28;01mtry\u001b[39;00m:\n\u001b[0;32m-> 1200\u001b[0m     first_packet \u001b[38;5;241m=\u001b[39m \u001b[38;5;28;43mself\u001b[39;49m\u001b[38;5;241;43m.\u001b[39;49m\u001b[43mconnection\u001b[49m\u001b[38;5;241;43m.\u001b[39;49m\u001b[43m_read_packet\u001b[49m\u001b[43m(\u001b[49m\u001b[43m)\u001b[49m\n\u001b[1;32m   1202\u001b[0m     \u001b[38;5;28;01mif\u001b[39;00m first_packet\u001b[38;5;241m.\u001b[39mis_ok_packet():\n",
      "File \u001b[0;32m/opt/miniconda3/lib/python3.12/site-packages/pymysql/connections.py:772\u001b[0m, in \u001b[0;36mConnection._read_packet\u001b[0;34m(self, packet_type)\u001b[0m\n\u001b[1;32m    771\u001b[0m         \u001b[38;5;28mself\u001b[39m\u001b[38;5;241m.\u001b[39m_result\u001b[38;5;241m.\u001b[39munbuffered_active \u001b[38;5;241m=\u001b[39m \u001b[38;5;28;01mFalse\u001b[39;00m\n\u001b[0;32m--> 772\u001b[0m     \u001b[43mpacket\u001b[49m\u001b[38;5;241;43m.\u001b[39;49m\u001b[43mraise_for_error\u001b[49m\u001b[43m(\u001b[49m\u001b[43m)\u001b[49m\n\u001b[1;32m    773\u001b[0m \u001b[38;5;28;01mreturn\u001b[39;00m packet\n",
      "File \u001b[0;32m/opt/miniconda3/lib/python3.12/site-packages/pymysql/protocol.py:221\u001b[0m, in \u001b[0;36mMysqlPacket.raise_for_error\u001b[0;34m(self)\u001b[0m\n\u001b[1;32m    220\u001b[0m     \u001b[38;5;28mprint\u001b[39m(\u001b[38;5;124m\"\u001b[39m\u001b[38;5;124merrno =\u001b[39m\u001b[38;5;124m\"\u001b[39m, errno)\n\u001b[0;32m--> 221\u001b[0m \u001b[43merr\u001b[49m\u001b[38;5;241;43m.\u001b[39;49m\u001b[43mraise_mysql_exception\u001b[49m\u001b[43m(\u001b[49m\u001b[38;5;28;43mself\u001b[39;49m\u001b[38;5;241;43m.\u001b[39;49m\u001b[43m_data\u001b[49m\u001b[43m)\u001b[49m\n",
      "File \u001b[0;32m/opt/miniconda3/lib/python3.12/site-packages/pymysql/err.py:143\u001b[0m, in \u001b[0;36mraise_mysql_exception\u001b[0;34m(data)\u001b[0m\n\u001b[1;32m    142\u001b[0m     errorclass \u001b[38;5;241m=\u001b[39m InternalError \u001b[38;5;28;01mif\u001b[39;00m errno \u001b[38;5;241m<\u001b[39m \u001b[38;5;241m1000\u001b[39m \u001b[38;5;28;01melse\u001b[39;00m OperationalError\n\u001b[0;32m--> 143\u001b[0m \u001b[38;5;28;01mraise\u001b[39;00m errorclass(errno, errval)\n",
      "\u001b[0;31mIntegrityError\u001b[0m: (1452, 'Cannot add or update a child row: a foreign key constraint fails (`amazon_sales_db`.`d_questions`, CONSTRAINT `d_questions_ibfk_1` FOREIGN KEY (`product_id`) REFERENCES `f_products` (`product_id`))')",
      "\nThe above exception was the direct cause of the following exception:\n",
      "\u001b[0;31mIntegrityError\u001b[0m                            Traceback (most recent call last)",
      "Cell \u001b[0;32mIn[272], line 1\u001b[0m\n\u001b[0;32m----> 1\u001b[0m \u001b[43md_questions\u001b[49m\u001b[38;5;241;43m.\u001b[39;49m\u001b[43mto_sql\u001b[49m\u001b[43m(\u001b[49m\u001b[38;5;124;43m'\u001b[39;49m\u001b[38;5;124;43md_questions\u001b[39;49m\u001b[38;5;124;43m'\u001b[39;49m\u001b[43m,\u001b[49m\u001b[43m \u001b[49m\u001b[43mcon\u001b[49m\u001b[38;5;241;43m=\u001b[39;49m\u001b[43mengine\u001b[49m\u001b[43m,\u001b[49m\u001b[43m \u001b[49m\u001b[43mif_exists\u001b[49m\u001b[38;5;241;43m=\u001b[39;49m\u001b[38;5;124;43m\"\u001b[39;49m\u001b[38;5;124;43mappend\u001b[39;49m\u001b[38;5;124;43m\"\u001b[39;49m\u001b[43m,\u001b[49m\u001b[43m \u001b[49m\u001b[43mindex\u001b[49m\u001b[38;5;241;43m=\u001b[39;49m\u001b[38;5;28;43;01mFalse\u001b[39;49;00m\u001b[43m)\u001b[49m\n",
      "File \u001b[0;32m/opt/miniconda3/lib/python3.12/site-packages/pandas/util/_decorators.py:333\u001b[0m, in \u001b[0;36mdeprecate_nonkeyword_arguments.<locals>.decorate.<locals>.wrapper\u001b[0;34m(*args, **kwargs)\u001b[0m\n\u001b[1;32m    327\u001b[0m \u001b[38;5;28;01mif\u001b[39;00m \u001b[38;5;28mlen\u001b[39m(args) \u001b[38;5;241m>\u001b[39m num_allow_args:\n\u001b[1;32m    328\u001b[0m     warnings\u001b[38;5;241m.\u001b[39mwarn(\n\u001b[1;32m    329\u001b[0m         msg\u001b[38;5;241m.\u001b[39mformat(arguments\u001b[38;5;241m=\u001b[39m_format_argument_list(allow_args)),\n\u001b[1;32m    330\u001b[0m         \u001b[38;5;167;01mFutureWarning\u001b[39;00m,\n\u001b[1;32m    331\u001b[0m         stacklevel\u001b[38;5;241m=\u001b[39mfind_stack_level(),\n\u001b[1;32m    332\u001b[0m     )\n\u001b[0;32m--> 333\u001b[0m \u001b[38;5;28;01mreturn\u001b[39;00m \u001b[43mfunc\u001b[49m\u001b[43m(\u001b[49m\u001b[38;5;241;43m*\u001b[39;49m\u001b[43margs\u001b[49m\u001b[43m,\u001b[49m\u001b[43m \u001b[49m\u001b[38;5;241;43m*\u001b[39;49m\u001b[38;5;241;43m*\u001b[39;49m\u001b[43mkwargs\u001b[49m\u001b[43m)\u001b[49m\n",
      "File \u001b[0;32m/opt/miniconda3/lib/python3.12/site-packages/pandas/core/generic.py:3087\u001b[0m, in \u001b[0;36mNDFrame.to_sql\u001b[0;34m(self, name, con, schema, if_exists, index, index_label, chunksize, dtype, method)\u001b[0m\n\u001b[1;32m   2889\u001b[0m \u001b[38;5;250m\u001b[39m\u001b[38;5;124;03m\"\"\"\u001b[39;00m\n\u001b[1;32m   2890\u001b[0m \u001b[38;5;124;03mWrite records stored in a DataFrame to a SQL database.\u001b[39;00m\n\u001b[1;32m   2891\u001b[0m \n\u001b[0;32m   (...)\u001b[0m\n\u001b[1;32m   3083\u001b[0m \u001b[38;5;124;03m[(1,), (None,), (2,)]\u001b[39;00m\n\u001b[1;32m   3084\u001b[0m \u001b[38;5;124;03m\"\"\"\u001b[39;00m  \u001b[38;5;66;03m# noqa: E501\u001b[39;00m\n\u001b[1;32m   3085\u001b[0m \u001b[38;5;28;01mfrom\u001b[39;00m \u001b[38;5;21;01mpandas\u001b[39;00m\u001b[38;5;21;01m.\u001b[39;00m\u001b[38;5;21;01mio\u001b[39;00m \u001b[38;5;28;01mimport\u001b[39;00m sql\n\u001b[0;32m-> 3087\u001b[0m \u001b[38;5;28;01mreturn\u001b[39;00m \u001b[43msql\u001b[49m\u001b[38;5;241;43m.\u001b[39;49m\u001b[43mto_sql\u001b[49m\u001b[43m(\u001b[49m\n\u001b[1;32m   3088\u001b[0m \u001b[43m    \u001b[49m\u001b[38;5;28;43mself\u001b[39;49m\u001b[43m,\u001b[49m\n\u001b[1;32m   3089\u001b[0m \u001b[43m    \u001b[49m\u001b[43mname\u001b[49m\u001b[43m,\u001b[49m\n\u001b[1;32m   3090\u001b[0m \u001b[43m    \u001b[49m\u001b[43mcon\u001b[49m\u001b[43m,\u001b[49m\n\u001b[1;32m   3091\u001b[0m \u001b[43m    \u001b[49m\u001b[43mschema\u001b[49m\u001b[38;5;241;43m=\u001b[39;49m\u001b[43mschema\u001b[49m\u001b[43m,\u001b[49m\n\u001b[1;32m   3092\u001b[0m \u001b[43m    \u001b[49m\u001b[43mif_exists\u001b[49m\u001b[38;5;241;43m=\u001b[39;49m\u001b[43mif_exists\u001b[49m\u001b[43m,\u001b[49m\n\u001b[1;32m   3093\u001b[0m \u001b[43m    \u001b[49m\u001b[43mindex\u001b[49m\u001b[38;5;241;43m=\u001b[39;49m\u001b[43mindex\u001b[49m\u001b[43m,\u001b[49m\n\u001b[1;32m   3094\u001b[0m \u001b[43m    \u001b[49m\u001b[43mindex_label\u001b[49m\u001b[38;5;241;43m=\u001b[39;49m\u001b[43mindex_label\u001b[49m\u001b[43m,\u001b[49m\n\u001b[1;32m   3095\u001b[0m \u001b[43m    \u001b[49m\u001b[43mchunksize\u001b[49m\u001b[38;5;241;43m=\u001b[39;49m\u001b[43mchunksize\u001b[49m\u001b[43m,\u001b[49m\n\u001b[1;32m   3096\u001b[0m \u001b[43m    \u001b[49m\u001b[43mdtype\u001b[49m\u001b[38;5;241;43m=\u001b[39;49m\u001b[43mdtype\u001b[49m\u001b[43m,\u001b[49m\n\u001b[1;32m   3097\u001b[0m \u001b[43m    \u001b[49m\u001b[43mmethod\u001b[49m\u001b[38;5;241;43m=\u001b[39;49m\u001b[43mmethod\u001b[49m\u001b[43m,\u001b[49m\n\u001b[1;32m   3098\u001b[0m \u001b[43m\u001b[49m\u001b[43m)\u001b[49m\n",
      "File \u001b[0;32m/opt/miniconda3/lib/python3.12/site-packages/pandas/io/sql.py:842\u001b[0m, in \u001b[0;36mto_sql\u001b[0;34m(frame, name, con, schema, if_exists, index, index_label, chunksize, dtype, method, engine, **engine_kwargs)\u001b[0m\n\u001b[1;32m    837\u001b[0m     \u001b[38;5;28;01mraise\u001b[39;00m \u001b[38;5;167;01mNotImplementedError\u001b[39;00m(\n\u001b[1;32m    838\u001b[0m         \u001b[38;5;124m\"\u001b[39m\u001b[38;5;124m'\u001b[39m\u001b[38;5;124mframe\u001b[39m\u001b[38;5;124m'\u001b[39m\u001b[38;5;124m argument should be either a Series or a DataFrame\u001b[39m\u001b[38;5;124m\"\u001b[39m\n\u001b[1;32m    839\u001b[0m     )\n\u001b[1;32m    841\u001b[0m \u001b[38;5;28;01mwith\u001b[39;00m pandasSQL_builder(con, schema\u001b[38;5;241m=\u001b[39mschema, need_transaction\u001b[38;5;241m=\u001b[39m\u001b[38;5;28;01mTrue\u001b[39;00m) \u001b[38;5;28;01mas\u001b[39;00m pandas_sql:\n\u001b[0;32m--> 842\u001b[0m     \u001b[38;5;28;01mreturn\u001b[39;00m \u001b[43mpandas_sql\u001b[49m\u001b[38;5;241;43m.\u001b[39;49m\u001b[43mto_sql\u001b[49m\u001b[43m(\u001b[49m\n\u001b[1;32m    843\u001b[0m \u001b[43m        \u001b[49m\u001b[43mframe\u001b[49m\u001b[43m,\u001b[49m\n\u001b[1;32m    844\u001b[0m \u001b[43m        \u001b[49m\u001b[43mname\u001b[49m\u001b[43m,\u001b[49m\n\u001b[1;32m    845\u001b[0m \u001b[43m        \u001b[49m\u001b[43mif_exists\u001b[49m\u001b[38;5;241;43m=\u001b[39;49m\u001b[43mif_exists\u001b[49m\u001b[43m,\u001b[49m\n\u001b[1;32m    846\u001b[0m \u001b[43m        \u001b[49m\u001b[43mindex\u001b[49m\u001b[38;5;241;43m=\u001b[39;49m\u001b[43mindex\u001b[49m\u001b[43m,\u001b[49m\n\u001b[1;32m    847\u001b[0m \u001b[43m        \u001b[49m\u001b[43mindex_label\u001b[49m\u001b[38;5;241;43m=\u001b[39;49m\u001b[43mindex_label\u001b[49m\u001b[43m,\u001b[49m\n\u001b[1;32m    848\u001b[0m \u001b[43m        \u001b[49m\u001b[43mschema\u001b[49m\u001b[38;5;241;43m=\u001b[39;49m\u001b[43mschema\u001b[49m\u001b[43m,\u001b[49m\n\u001b[1;32m    849\u001b[0m \u001b[43m        \u001b[49m\u001b[43mchunksize\u001b[49m\u001b[38;5;241;43m=\u001b[39;49m\u001b[43mchunksize\u001b[49m\u001b[43m,\u001b[49m\n\u001b[1;32m    850\u001b[0m \u001b[43m        \u001b[49m\u001b[43mdtype\u001b[49m\u001b[38;5;241;43m=\u001b[39;49m\u001b[43mdtype\u001b[49m\u001b[43m,\u001b[49m\n\u001b[1;32m    851\u001b[0m \u001b[43m        \u001b[49m\u001b[43mmethod\u001b[49m\u001b[38;5;241;43m=\u001b[39;49m\u001b[43mmethod\u001b[49m\u001b[43m,\u001b[49m\n\u001b[1;32m    852\u001b[0m \u001b[43m        \u001b[49m\u001b[43mengine\u001b[49m\u001b[38;5;241;43m=\u001b[39;49m\u001b[43mengine\u001b[49m\u001b[43m,\u001b[49m\n\u001b[1;32m    853\u001b[0m \u001b[43m        \u001b[49m\u001b[38;5;241;43m*\u001b[39;49m\u001b[38;5;241;43m*\u001b[39;49m\u001b[43mengine_kwargs\u001b[49m\u001b[43m,\u001b[49m\n\u001b[1;32m    854\u001b[0m \u001b[43m    \u001b[49m\u001b[43m)\u001b[49m\n",
      "File \u001b[0;32m/opt/miniconda3/lib/python3.12/site-packages/pandas/io/sql.py:2018\u001b[0m, in \u001b[0;36mSQLDatabase.to_sql\u001b[0;34m(self, frame, name, if_exists, index, index_label, schema, chunksize, dtype, method, engine, **engine_kwargs)\u001b[0m\n\u001b[1;32m   2006\u001b[0m sql_engine \u001b[38;5;241m=\u001b[39m get_engine(engine)\n\u001b[1;32m   2008\u001b[0m table \u001b[38;5;241m=\u001b[39m \u001b[38;5;28mself\u001b[39m\u001b[38;5;241m.\u001b[39mprep_table(\n\u001b[1;32m   2009\u001b[0m     frame\u001b[38;5;241m=\u001b[39mframe,\n\u001b[1;32m   2010\u001b[0m     name\u001b[38;5;241m=\u001b[39mname,\n\u001b[0;32m   (...)\u001b[0m\n\u001b[1;32m   2015\u001b[0m     dtype\u001b[38;5;241m=\u001b[39mdtype,\n\u001b[1;32m   2016\u001b[0m )\n\u001b[0;32m-> 2018\u001b[0m total_inserted \u001b[38;5;241m=\u001b[39m \u001b[43msql_engine\u001b[49m\u001b[38;5;241;43m.\u001b[39;49m\u001b[43minsert_records\u001b[49m\u001b[43m(\u001b[49m\n\u001b[1;32m   2019\u001b[0m \u001b[43m    \u001b[49m\u001b[43mtable\u001b[49m\u001b[38;5;241;43m=\u001b[39;49m\u001b[43mtable\u001b[49m\u001b[43m,\u001b[49m\n\u001b[1;32m   2020\u001b[0m \u001b[43m    \u001b[49m\u001b[43mcon\u001b[49m\u001b[38;5;241;43m=\u001b[39;49m\u001b[38;5;28;43mself\u001b[39;49m\u001b[38;5;241;43m.\u001b[39;49m\u001b[43mcon\u001b[49m\u001b[43m,\u001b[49m\n\u001b[1;32m   2021\u001b[0m \u001b[43m    \u001b[49m\u001b[43mframe\u001b[49m\u001b[38;5;241;43m=\u001b[39;49m\u001b[43mframe\u001b[49m\u001b[43m,\u001b[49m\n\u001b[1;32m   2022\u001b[0m \u001b[43m    \u001b[49m\u001b[43mname\u001b[49m\u001b[38;5;241;43m=\u001b[39;49m\u001b[43mname\u001b[49m\u001b[43m,\u001b[49m\n\u001b[1;32m   2023\u001b[0m \u001b[43m    \u001b[49m\u001b[43mindex\u001b[49m\u001b[38;5;241;43m=\u001b[39;49m\u001b[43mindex\u001b[49m\u001b[43m,\u001b[49m\n\u001b[1;32m   2024\u001b[0m \u001b[43m    \u001b[49m\u001b[43mschema\u001b[49m\u001b[38;5;241;43m=\u001b[39;49m\u001b[43mschema\u001b[49m\u001b[43m,\u001b[49m\n\u001b[1;32m   2025\u001b[0m \u001b[43m    \u001b[49m\u001b[43mchunksize\u001b[49m\u001b[38;5;241;43m=\u001b[39;49m\u001b[43mchunksize\u001b[49m\u001b[43m,\u001b[49m\n\u001b[1;32m   2026\u001b[0m \u001b[43m    \u001b[49m\u001b[43mmethod\u001b[49m\u001b[38;5;241;43m=\u001b[39;49m\u001b[43mmethod\u001b[49m\u001b[43m,\u001b[49m\n\u001b[1;32m   2027\u001b[0m \u001b[43m    \u001b[49m\u001b[38;5;241;43m*\u001b[39;49m\u001b[38;5;241;43m*\u001b[39;49m\u001b[43mengine_kwargs\u001b[49m\u001b[43m,\u001b[49m\n\u001b[1;32m   2028\u001b[0m \u001b[43m\u001b[49m\u001b[43m)\u001b[49m\n\u001b[1;32m   2030\u001b[0m \u001b[38;5;28mself\u001b[39m\u001b[38;5;241m.\u001b[39mcheck_case_sensitive(name\u001b[38;5;241m=\u001b[39mname, schema\u001b[38;5;241m=\u001b[39mschema)\n\u001b[1;32m   2031\u001b[0m \u001b[38;5;28;01mreturn\u001b[39;00m total_inserted\n",
      "File \u001b[0;32m/opt/miniconda3/lib/python3.12/site-packages/pandas/io/sql.py:1567\u001b[0m, in \u001b[0;36mSQLAlchemyEngine.insert_records\u001b[0;34m(self, table, con, frame, name, index, schema, chunksize, method, **engine_kwargs)\u001b[0m\n\u001b[1;32m   1565\u001b[0m \u001b[38;5;28;01mif\u001b[39;00m re\u001b[38;5;241m.\u001b[39msearch(msg, err_text):\n\u001b[1;32m   1566\u001b[0m     \u001b[38;5;28;01mraise\u001b[39;00m \u001b[38;5;167;01mValueError\u001b[39;00m(\u001b[38;5;124m\"\u001b[39m\u001b[38;5;124minf cannot be used with MySQL\u001b[39m\u001b[38;5;124m\"\u001b[39m) \u001b[38;5;28;01mfrom\u001b[39;00m \u001b[38;5;21;01merr\u001b[39;00m\n\u001b[0;32m-> 1567\u001b[0m \u001b[38;5;28;01mraise\u001b[39;00m err\n",
      "File \u001b[0;32m/opt/miniconda3/lib/python3.12/site-packages/pandas/io/sql.py:1558\u001b[0m, in \u001b[0;36mSQLAlchemyEngine.insert_records\u001b[0;34m(self, table, con, frame, name, index, schema, chunksize, method, **engine_kwargs)\u001b[0m\n\u001b[1;32m   1555\u001b[0m \u001b[38;5;28;01mfrom\u001b[39;00m \u001b[38;5;21;01msqlalchemy\u001b[39;00m \u001b[38;5;28;01mimport\u001b[39;00m exc\n\u001b[1;32m   1557\u001b[0m \u001b[38;5;28;01mtry\u001b[39;00m:\n\u001b[0;32m-> 1558\u001b[0m     \u001b[38;5;28;01mreturn\u001b[39;00m \u001b[43mtable\u001b[49m\u001b[38;5;241;43m.\u001b[39;49m\u001b[43minsert\u001b[49m\u001b[43m(\u001b[49m\u001b[43mchunksize\u001b[49m\u001b[38;5;241;43m=\u001b[39;49m\u001b[43mchunksize\u001b[49m\u001b[43m,\u001b[49m\u001b[43m \u001b[49m\u001b[43mmethod\u001b[49m\u001b[38;5;241;43m=\u001b[39;49m\u001b[43mmethod\u001b[49m\u001b[43m)\u001b[49m\n\u001b[1;32m   1559\u001b[0m \u001b[38;5;28;01mexcept\u001b[39;00m exc\u001b[38;5;241m.\u001b[39mStatementError \u001b[38;5;28;01mas\u001b[39;00m err:\n\u001b[1;32m   1560\u001b[0m     \u001b[38;5;66;03m# GH34431\u001b[39;00m\n\u001b[1;32m   1561\u001b[0m     \u001b[38;5;66;03m# https://stackoverflow.com/a/67358288/6067848\u001b[39;00m\n\u001b[1;32m   1562\u001b[0m     msg \u001b[38;5;241m=\u001b[39m \u001b[38;5;124mr\u001b[39m\u001b[38;5;124m\"\"\"\u001b[39m\u001b[38;5;124m(\u001b[39m\u001b[38;5;124m\\\u001b[39m\u001b[38;5;124m(1054, \u001b[39m\u001b[38;5;124m\"\u001b[39m\u001b[38;5;124mUnknown column \u001b[39m\u001b[38;5;124m'\u001b[39m\u001b[38;5;124minf(e0)?\u001b[39m\u001b[38;5;124m'\u001b[39m\u001b[38;5;124m in \u001b[39m\u001b[38;5;124m'\u001b[39m\u001b[38;5;124mfield list\u001b[39m\u001b[38;5;124m'\u001b[39m\u001b[38;5;124m\"\u001b[39m\u001b[38;5;124m\\\u001b[39m\u001b[38;5;124m))(?#\u001b[39m\n\u001b[1;32m   1563\u001b[0m \u001b[38;5;124m    )|inf can not be used with MySQL\u001b[39m\u001b[38;5;124m\"\"\"\u001b[39m\n",
      "File \u001b[0;32m/opt/miniconda3/lib/python3.12/site-packages/pandas/io/sql.py:1119\u001b[0m, in \u001b[0;36mSQLTable.insert\u001b[0;34m(self, chunksize, method)\u001b[0m\n\u001b[1;32m   1116\u001b[0m     \u001b[38;5;28;01mbreak\u001b[39;00m\n\u001b[1;32m   1118\u001b[0m chunk_iter \u001b[38;5;241m=\u001b[39m \u001b[38;5;28mzip\u001b[39m(\u001b[38;5;241m*\u001b[39m(arr[start_i:end_i] \u001b[38;5;28;01mfor\u001b[39;00m arr \u001b[38;5;129;01min\u001b[39;00m data_list))\n\u001b[0;32m-> 1119\u001b[0m num_inserted \u001b[38;5;241m=\u001b[39m \u001b[43mexec_insert\u001b[49m\u001b[43m(\u001b[49m\u001b[43mconn\u001b[49m\u001b[43m,\u001b[49m\u001b[43m \u001b[49m\u001b[43mkeys\u001b[49m\u001b[43m,\u001b[49m\u001b[43m \u001b[49m\u001b[43mchunk_iter\u001b[49m\u001b[43m)\u001b[49m\n\u001b[1;32m   1120\u001b[0m \u001b[38;5;66;03m# GH 46891\u001b[39;00m\n\u001b[1;32m   1121\u001b[0m \u001b[38;5;28;01mif\u001b[39;00m num_inserted \u001b[38;5;129;01mis\u001b[39;00m \u001b[38;5;129;01mnot\u001b[39;00m \u001b[38;5;28;01mNone\u001b[39;00m:\n",
      "File \u001b[0;32m/opt/miniconda3/lib/python3.12/site-packages/pandas/io/sql.py:1010\u001b[0m, in \u001b[0;36mSQLTable._execute_insert\u001b[0;34m(self, conn, keys, data_iter)\u001b[0m\n\u001b[1;32m    998\u001b[0m \u001b[38;5;250m\u001b[39m\u001b[38;5;124;03m\"\"\"\u001b[39;00m\n\u001b[1;32m    999\u001b[0m \u001b[38;5;124;03mExecute SQL statement inserting data\u001b[39;00m\n\u001b[1;32m   1000\u001b[0m \n\u001b[0;32m   (...)\u001b[0m\n\u001b[1;32m   1007\u001b[0m \u001b[38;5;124;03m   Each item contains a list of values to be inserted\u001b[39;00m\n\u001b[1;32m   1008\u001b[0m \u001b[38;5;124;03m\"\"\"\u001b[39;00m\n\u001b[1;32m   1009\u001b[0m data \u001b[38;5;241m=\u001b[39m [\u001b[38;5;28mdict\u001b[39m(\u001b[38;5;28mzip\u001b[39m(keys, row)) \u001b[38;5;28;01mfor\u001b[39;00m row \u001b[38;5;129;01min\u001b[39;00m data_iter]\n\u001b[0;32m-> 1010\u001b[0m result \u001b[38;5;241m=\u001b[39m \u001b[43mconn\u001b[49m\u001b[38;5;241;43m.\u001b[39;49m\u001b[43mexecute\u001b[49m\u001b[43m(\u001b[49m\u001b[38;5;28;43mself\u001b[39;49m\u001b[38;5;241;43m.\u001b[39;49m\u001b[43mtable\u001b[49m\u001b[38;5;241;43m.\u001b[39;49m\u001b[43minsert\u001b[49m\u001b[43m(\u001b[49m\u001b[43m)\u001b[49m\u001b[43m,\u001b[49m\u001b[43m \u001b[49m\u001b[43mdata\u001b[49m\u001b[43m)\u001b[49m\n\u001b[1;32m   1011\u001b[0m \u001b[38;5;28;01mreturn\u001b[39;00m result\u001b[38;5;241m.\u001b[39mrowcount\n",
      "File \u001b[0;32m/opt/miniconda3/lib/python3.12/site-packages/sqlalchemy/engine/base.py:1418\u001b[0m, in \u001b[0;36mConnection.execute\u001b[0;34m(self, statement, parameters, execution_options)\u001b[0m\n\u001b[1;32m   1416\u001b[0m     \u001b[38;5;28;01mraise\u001b[39;00m exc\u001b[38;5;241m.\u001b[39mObjectNotExecutableError(statement) \u001b[38;5;28;01mfrom\u001b[39;00m \u001b[38;5;21;01merr\u001b[39;00m\n\u001b[1;32m   1417\u001b[0m \u001b[38;5;28;01melse\u001b[39;00m:\n\u001b[0;32m-> 1418\u001b[0m     \u001b[38;5;28;01mreturn\u001b[39;00m \u001b[43mmeth\u001b[49m\u001b[43m(\u001b[49m\n\u001b[1;32m   1419\u001b[0m \u001b[43m        \u001b[49m\u001b[38;5;28;43mself\u001b[39;49m\u001b[43m,\u001b[49m\n\u001b[1;32m   1420\u001b[0m \u001b[43m        \u001b[49m\u001b[43mdistilled_parameters\u001b[49m\u001b[43m,\u001b[49m\n\u001b[1;32m   1421\u001b[0m \u001b[43m        \u001b[49m\u001b[43mexecution_options\u001b[49m\u001b[43m \u001b[49m\u001b[38;5;129;43;01mor\u001b[39;49;00m\u001b[43m \u001b[49m\u001b[43mNO_OPTIONS\u001b[49m\u001b[43m,\u001b[49m\n\u001b[1;32m   1422\u001b[0m \u001b[43m    \u001b[49m\u001b[43m)\u001b[49m\n",
      "File \u001b[0;32m/opt/miniconda3/lib/python3.12/site-packages/sqlalchemy/sql/elements.py:515\u001b[0m, in \u001b[0;36mClauseElement._execute_on_connection\u001b[0;34m(self, connection, distilled_params, execution_options)\u001b[0m\n\u001b[1;32m    513\u001b[0m     \u001b[38;5;28;01mif\u001b[39;00m TYPE_CHECKING:\n\u001b[1;32m    514\u001b[0m         \u001b[38;5;28;01massert\u001b[39;00m \u001b[38;5;28misinstance\u001b[39m(\u001b[38;5;28mself\u001b[39m, Executable)\n\u001b[0;32m--> 515\u001b[0m     \u001b[38;5;28;01mreturn\u001b[39;00m \u001b[43mconnection\u001b[49m\u001b[38;5;241;43m.\u001b[39;49m\u001b[43m_execute_clauseelement\u001b[49m\u001b[43m(\u001b[49m\n\u001b[1;32m    516\u001b[0m \u001b[43m        \u001b[49m\u001b[38;5;28;43mself\u001b[39;49m\u001b[43m,\u001b[49m\u001b[43m \u001b[49m\u001b[43mdistilled_params\u001b[49m\u001b[43m,\u001b[49m\u001b[43m \u001b[49m\u001b[43mexecution_options\u001b[49m\n\u001b[1;32m    517\u001b[0m \u001b[43m    \u001b[49m\u001b[43m)\u001b[49m\n\u001b[1;32m    518\u001b[0m \u001b[38;5;28;01melse\u001b[39;00m:\n\u001b[1;32m    519\u001b[0m     \u001b[38;5;28;01mraise\u001b[39;00m exc\u001b[38;5;241m.\u001b[39mObjectNotExecutableError(\u001b[38;5;28mself\u001b[39m)\n",
      "File \u001b[0;32m/opt/miniconda3/lib/python3.12/site-packages/sqlalchemy/engine/base.py:1640\u001b[0m, in \u001b[0;36mConnection._execute_clauseelement\u001b[0;34m(self, elem, distilled_parameters, execution_options)\u001b[0m\n\u001b[1;32m   1628\u001b[0m compiled_cache: Optional[CompiledCacheType] \u001b[38;5;241m=\u001b[39m execution_options\u001b[38;5;241m.\u001b[39mget(\n\u001b[1;32m   1629\u001b[0m     \u001b[38;5;124m\"\u001b[39m\u001b[38;5;124mcompiled_cache\u001b[39m\u001b[38;5;124m\"\u001b[39m, \u001b[38;5;28mself\u001b[39m\u001b[38;5;241m.\u001b[39mengine\u001b[38;5;241m.\u001b[39m_compiled_cache\n\u001b[1;32m   1630\u001b[0m )\n\u001b[1;32m   1632\u001b[0m compiled_sql, extracted_params, cache_hit \u001b[38;5;241m=\u001b[39m elem\u001b[38;5;241m.\u001b[39m_compile_w_cache(\n\u001b[1;32m   1633\u001b[0m     dialect\u001b[38;5;241m=\u001b[39mdialect,\n\u001b[1;32m   1634\u001b[0m     compiled_cache\u001b[38;5;241m=\u001b[39mcompiled_cache,\n\u001b[0;32m   (...)\u001b[0m\n\u001b[1;32m   1638\u001b[0m     linting\u001b[38;5;241m=\u001b[39m\u001b[38;5;28mself\u001b[39m\u001b[38;5;241m.\u001b[39mdialect\u001b[38;5;241m.\u001b[39mcompiler_linting \u001b[38;5;241m|\u001b[39m compiler\u001b[38;5;241m.\u001b[39mWARN_LINTING,\n\u001b[1;32m   1639\u001b[0m )\n\u001b[0;32m-> 1640\u001b[0m ret \u001b[38;5;241m=\u001b[39m \u001b[38;5;28;43mself\u001b[39;49m\u001b[38;5;241;43m.\u001b[39;49m\u001b[43m_execute_context\u001b[49m\u001b[43m(\u001b[49m\n\u001b[1;32m   1641\u001b[0m \u001b[43m    \u001b[49m\u001b[43mdialect\u001b[49m\u001b[43m,\u001b[49m\n\u001b[1;32m   1642\u001b[0m \u001b[43m    \u001b[49m\u001b[43mdialect\u001b[49m\u001b[38;5;241;43m.\u001b[39;49m\u001b[43mexecution_ctx_cls\u001b[49m\u001b[38;5;241;43m.\u001b[39;49m\u001b[43m_init_compiled\u001b[49m\u001b[43m,\u001b[49m\n\u001b[1;32m   1643\u001b[0m \u001b[43m    \u001b[49m\u001b[43mcompiled_sql\u001b[49m\u001b[43m,\u001b[49m\n\u001b[1;32m   1644\u001b[0m \u001b[43m    \u001b[49m\u001b[43mdistilled_parameters\u001b[49m\u001b[43m,\u001b[49m\n\u001b[1;32m   1645\u001b[0m \u001b[43m    \u001b[49m\u001b[43mexecution_options\u001b[49m\u001b[43m,\u001b[49m\n\u001b[1;32m   1646\u001b[0m \u001b[43m    \u001b[49m\u001b[43mcompiled_sql\u001b[49m\u001b[43m,\u001b[49m\n\u001b[1;32m   1647\u001b[0m \u001b[43m    \u001b[49m\u001b[43mdistilled_parameters\u001b[49m\u001b[43m,\u001b[49m\n\u001b[1;32m   1648\u001b[0m \u001b[43m    \u001b[49m\u001b[43melem\u001b[49m\u001b[43m,\u001b[49m\n\u001b[1;32m   1649\u001b[0m \u001b[43m    \u001b[49m\u001b[43mextracted_params\u001b[49m\u001b[43m,\u001b[49m\n\u001b[1;32m   1650\u001b[0m \u001b[43m    \u001b[49m\u001b[43mcache_hit\u001b[49m\u001b[38;5;241;43m=\u001b[39;49m\u001b[43mcache_hit\u001b[49m\u001b[43m,\u001b[49m\n\u001b[1;32m   1651\u001b[0m \u001b[43m\u001b[49m\u001b[43m)\u001b[49m\n\u001b[1;32m   1652\u001b[0m \u001b[38;5;28;01mif\u001b[39;00m has_events:\n\u001b[1;32m   1653\u001b[0m     \u001b[38;5;28mself\u001b[39m\u001b[38;5;241m.\u001b[39mdispatch\u001b[38;5;241m.\u001b[39mafter_execute(\n\u001b[1;32m   1654\u001b[0m         \u001b[38;5;28mself\u001b[39m,\n\u001b[1;32m   1655\u001b[0m         elem,\n\u001b[0;32m   (...)\u001b[0m\n\u001b[1;32m   1659\u001b[0m         ret,\n\u001b[1;32m   1660\u001b[0m     )\n",
      "File \u001b[0;32m/opt/miniconda3/lib/python3.12/site-packages/sqlalchemy/engine/base.py:1846\u001b[0m, in \u001b[0;36mConnection._execute_context\u001b[0;34m(self, dialect, constructor, statement, parameters, execution_options, *args, **kw)\u001b[0m\n\u001b[1;32m   1844\u001b[0m     \u001b[38;5;28;01mreturn\u001b[39;00m \u001b[38;5;28mself\u001b[39m\u001b[38;5;241m.\u001b[39m_exec_insertmany_context(dialect, context)\n\u001b[1;32m   1845\u001b[0m \u001b[38;5;28;01melse\u001b[39;00m:\n\u001b[0;32m-> 1846\u001b[0m     \u001b[38;5;28;01mreturn\u001b[39;00m \u001b[38;5;28;43mself\u001b[39;49m\u001b[38;5;241;43m.\u001b[39;49m\u001b[43m_exec_single_context\u001b[49m\u001b[43m(\u001b[49m\n\u001b[1;32m   1847\u001b[0m \u001b[43m        \u001b[49m\u001b[43mdialect\u001b[49m\u001b[43m,\u001b[49m\u001b[43m \u001b[49m\u001b[43mcontext\u001b[49m\u001b[43m,\u001b[49m\u001b[43m \u001b[49m\u001b[43mstatement\u001b[49m\u001b[43m,\u001b[49m\u001b[43m \u001b[49m\u001b[43mparameters\u001b[49m\n\u001b[1;32m   1848\u001b[0m \u001b[43m    \u001b[49m\u001b[43m)\u001b[49m\n",
      "File \u001b[0;32m/opt/miniconda3/lib/python3.12/site-packages/sqlalchemy/engine/base.py:1986\u001b[0m, in \u001b[0;36mConnection._exec_single_context\u001b[0;34m(self, dialect, context, statement, parameters)\u001b[0m\n\u001b[1;32m   1983\u001b[0m     result \u001b[38;5;241m=\u001b[39m context\u001b[38;5;241m.\u001b[39m_setup_result_proxy()\n\u001b[1;32m   1985\u001b[0m \u001b[38;5;28;01mexcept\u001b[39;00m \u001b[38;5;167;01mBaseException\u001b[39;00m \u001b[38;5;28;01mas\u001b[39;00m e:\n\u001b[0;32m-> 1986\u001b[0m     \u001b[38;5;28;43mself\u001b[39;49m\u001b[38;5;241;43m.\u001b[39;49m\u001b[43m_handle_dbapi_exception\u001b[49m\u001b[43m(\u001b[49m\n\u001b[1;32m   1987\u001b[0m \u001b[43m        \u001b[49m\u001b[43me\u001b[49m\u001b[43m,\u001b[49m\u001b[43m \u001b[49m\u001b[43mstr_statement\u001b[49m\u001b[43m,\u001b[49m\u001b[43m \u001b[49m\u001b[43meffective_parameters\u001b[49m\u001b[43m,\u001b[49m\u001b[43m \u001b[49m\u001b[43mcursor\u001b[49m\u001b[43m,\u001b[49m\u001b[43m \u001b[49m\u001b[43mcontext\u001b[49m\n\u001b[1;32m   1988\u001b[0m \u001b[43m    \u001b[49m\u001b[43m)\u001b[49m\n\u001b[1;32m   1990\u001b[0m \u001b[38;5;28;01mreturn\u001b[39;00m result\n",
      "File \u001b[0;32m/opt/miniconda3/lib/python3.12/site-packages/sqlalchemy/engine/base.py:2353\u001b[0m, in \u001b[0;36mConnection._handle_dbapi_exception\u001b[0;34m(self, e, statement, parameters, cursor, context, is_sub_exec)\u001b[0m\n\u001b[1;32m   2351\u001b[0m \u001b[38;5;28;01melif\u001b[39;00m should_wrap:\n\u001b[1;32m   2352\u001b[0m     \u001b[38;5;28;01massert\u001b[39;00m sqlalchemy_exception \u001b[38;5;129;01mis\u001b[39;00m \u001b[38;5;129;01mnot\u001b[39;00m \u001b[38;5;28;01mNone\u001b[39;00m\n\u001b[0;32m-> 2353\u001b[0m     \u001b[38;5;28;01mraise\u001b[39;00m sqlalchemy_exception\u001b[38;5;241m.\u001b[39mwith_traceback(exc_info[\u001b[38;5;241m2\u001b[39m]) \u001b[38;5;28;01mfrom\u001b[39;00m \u001b[38;5;21;01me\u001b[39;00m\n\u001b[1;32m   2354\u001b[0m \u001b[38;5;28;01melse\u001b[39;00m:\n\u001b[1;32m   2355\u001b[0m     \u001b[38;5;28;01massert\u001b[39;00m exc_info[\u001b[38;5;241m1\u001b[39m] \u001b[38;5;129;01mis\u001b[39;00m \u001b[38;5;129;01mnot\u001b[39;00m \u001b[38;5;28;01mNone\u001b[39;00m\n",
      "File \u001b[0;32m/opt/miniconda3/lib/python3.12/site-packages/sqlalchemy/engine/base.py:1936\u001b[0m, in \u001b[0;36mConnection._exec_single_context\u001b[0;34m(self, dialect, context, statement, parameters)\u001b[0m\n\u001b[1;32m   1934\u001b[0m                 \u001b[38;5;28;01mbreak\u001b[39;00m\n\u001b[1;32m   1935\u001b[0m     \u001b[38;5;28;01mif\u001b[39;00m \u001b[38;5;129;01mnot\u001b[39;00m evt_handled:\n\u001b[0;32m-> 1936\u001b[0m         \u001b[38;5;28;43mself\u001b[39;49m\u001b[38;5;241;43m.\u001b[39;49m\u001b[43mdialect\u001b[49m\u001b[38;5;241;43m.\u001b[39;49m\u001b[43mdo_executemany\u001b[49m\u001b[43m(\u001b[49m\n\u001b[1;32m   1937\u001b[0m \u001b[43m            \u001b[49m\u001b[43mcursor\u001b[49m\u001b[43m,\u001b[49m\n\u001b[1;32m   1938\u001b[0m \u001b[43m            \u001b[49m\u001b[43mstr_statement\u001b[49m\u001b[43m,\u001b[49m\n\u001b[1;32m   1939\u001b[0m \u001b[43m            \u001b[49m\u001b[43meffective_parameters\u001b[49m\u001b[43m,\u001b[49m\n\u001b[1;32m   1940\u001b[0m \u001b[43m            \u001b[49m\u001b[43mcontext\u001b[49m\u001b[43m,\u001b[49m\n\u001b[1;32m   1941\u001b[0m \u001b[43m        \u001b[49m\u001b[43m)\u001b[49m\n\u001b[1;32m   1942\u001b[0m \u001b[38;5;28;01melif\u001b[39;00m \u001b[38;5;129;01mnot\u001b[39;00m effective_parameters \u001b[38;5;129;01mand\u001b[39;00m context\u001b[38;5;241m.\u001b[39mno_parameters:\n\u001b[1;32m   1943\u001b[0m     \u001b[38;5;28;01mif\u001b[39;00m \u001b[38;5;28mself\u001b[39m\u001b[38;5;241m.\u001b[39mdialect\u001b[38;5;241m.\u001b[39m_has_events:\n",
      "File \u001b[0;32m/opt/miniconda3/lib/python3.12/site-packages/sqlalchemy/dialects/mysql/mysqldb.py:170\u001b[0m, in \u001b[0;36mMySQLDialect_mysqldb.do_executemany\u001b[0;34m(self, cursor, statement, parameters, context)\u001b[0m\n\u001b[1;32m    169\u001b[0m \u001b[38;5;28;01mdef\u001b[39;00m \u001b[38;5;21mdo_executemany\u001b[39m(\u001b[38;5;28mself\u001b[39m, cursor, statement, parameters, context\u001b[38;5;241m=\u001b[39m\u001b[38;5;28;01mNone\u001b[39;00m):\n\u001b[0;32m--> 170\u001b[0m     rowcount \u001b[38;5;241m=\u001b[39m \u001b[43mcursor\u001b[49m\u001b[38;5;241;43m.\u001b[39;49m\u001b[43mexecutemany\u001b[49m\u001b[43m(\u001b[49m\u001b[43mstatement\u001b[49m\u001b[43m,\u001b[49m\u001b[43m \u001b[49m\u001b[43mparameters\u001b[49m\u001b[43m)\u001b[49m\n\u001b[1;32m    171\u001b[0m     \u001b[38;5;28;01mif\u001b[39;00m context \u001b[38;5;129;01mis\u001b[39;00m \u001b[38;5;129;01mnot\u001b[39;00m \u001b[38;5;28;01mNone\u001b[39;00m:\n\u001b[1;32m    172\u001b[0m         context\u001b[38;5;241m.\u001b[39m_rowcount \u001b[38;5;241m=\u001b[39m rowcount\n",
      "File \u001b[0;32m/opt/miniconda3/lib/python3.12/site-packages/pymysql/cursors.py:182\u001b[0m, in \u001b[0;36mCursor.executemany\u001b[0;34m(self, query, args)\u001b[0m\n\u001b[1;32m    180\u001b[0m     q_postfix \u001b[38;5;241m=\u001b[39m m\u001b[38;5;241m.\u001b[39mgroup(\u001b[38;5;241m3\u001b[39m) \u001b[38;5;129;01mor\u001b[39;00m \u001b[38;5;124m\"\u001b[39m\u001b[38;5;124m\"\u001b[39m\n\u001b[1;32m    181\u001b[0m     \u001b[38;5;28;01massert\u001b[39;00m q_values[\u001b[38;5;241m0\u001b[39m] \u001b[38;5;241m==\u001b[39m \u001b[38;5;124m\"\u001b[39m\u001b[38;5;124m(\u001b[39m\u001b[38;5;124m\"\u001b[39m \u001b[38;5;129;01mand\u001b[39;00m q_values[\u001b[38;5;241m-\u001b[39m\u001b[38;5;241m1\u001b[39m] \u001b[38;5;241m==\u001b[39m \u001b[38;5;124m\"\u001b[39m\u001b[38;5;124m)\u001b[39m\u001b[38;5;124m\"\u001b[39m\n\u001b[0;32m--> 182\u001b[0m     \u001b[38;5;28;01mreturn\u001b[39;00m \u001b[38;5;28;43mself\u001b[39;49m\u001b[38;5;241;43m.\u001b[39;49m\u001b[43m_do_execute_many\u001b[49m\u001b[43m(\u001b[49m\n\u001b[1;32m    183\u001b[0m \u001b[43m        \u001b[49m\u001b[43mq_prefix\u001b[49m\u001b[43m,\u001b[49m\n\u001b[1;32m    184\u001b[0m \u001b[43m        \u001b[49m\u001b[43mq_values\u001b[49m\u001b[43m,\u001b[49m\n\u001b[1;32m    185\u001b[0m \u001b[43m        \u001b[49m\u001b[43mq_postfix\u001b[49m\u001b[43m,\u001b[49m\n\u001b[1;32m    186\u001b[0m \u001b[43m        \u001b[49m\u001b[43margs\u001b[49m\u001b[43m,\u001b[49m\n\u001b[1;32m    187\u001b[0m \u001b[43m        \u001b[49m\u001b[38;5;28;43mself\u001b[39;49m\u001b[38;5;241;43m.\u001b[39;49m\u001b[43mmax_stmt_length\u001b[49m\u001b[43m,\u001b[49m\n\u001b[1;32m    188\u001b[0m \u001b[43m        \u001b[49m\u001b[38;5;28;43mself\u001b[39;49m\u001b[38;5;241;43m.\u001b[39;49m\u001b[43m_get_db\u001b[49m\u001b[43m(\u001b[49m\u001b[43m)\u001b[49m\u001b[38;5;241;43m.\u001b[39;49m\u001b[43mencoding\u001b[49m\u001b[43m,\u001b[49m\n\u001b[1;32m    189\u001b[0m \u001b[43m    \u001b[49m\u001b[43m)\u001b[49m\n\u001b[1;32m    191\u001b[0m \u001b[38;5;28mself\u001b[39m\u001b[38;5;241m.\u001b[39mrowcount \u001b[38;5;241m=\u001b[39m \u001b[38;5;28msum\u001b[39m(\u001b[38;5;28mself\u001b[39m\u001b[38;5;241m.\u001b[39mexecute(query, arg) \u001b[38;5;28;01mfor\u001b[39;00m arg \u001b[38;5;129;01min\u001b[39;00m args)\n\u001b[1;32m    192\u001b[0m \u001b[38;5;28;01mreturn\u001b[39;00m \u001b[38;5;28mself\u001b[39m\u001b[38;5;241m.\u001b[39mrowcount\n",
      "File \u001b[0;32m/opt/miniconda3/lib/python3.12/site-packages/pymysql/cursors.py:220\u001b[0m, in \u001b[0;36mCursor._do_execute_many\u001b[0;34m(self, prefix, values, postfix, args, max_stmt_length, encoding)\u001b[0m\n\u001b[1;32m    218\u001b[0m         sql \u001b[38;5;241m+\u001b[39m\u001b[38;5;241m=\u001b[39m \u001b[38;5;124mb\u001b[39m\u001b[38;5;124m\"\u001b[39m\u001b[38;5;124m,\u001b[39m\u001b[38;5;124m\"\u001b[39m\n\u001b[1;32m    219\u001b[0m     sql \u001b[38;5;241m+\u001b[39m\u001b[38;5;241m=\u001b[39m v\n\u001b[0;32m--> 220\u001b[0m rows \u001b[38;5;241m+\u001b[39m\u001b[38;5;241m=\u001b[39m \u001b[38;5;28;43mself\u001b[39;49m\u001b[38;5;241;43m.\u001b[39;49m\u001b[43mexecute\u001b[49m\u001b[43m(\u001b[49m\u001b[43msql\u001b[49m\u001b[43m \u001b[49m\u001b[38;5;241;43m+\u001b[39;49m\u001b[43m \u001b[49m\u001b[43mpostfix\u001b[49m\u001b[43m)\u001b[49m\n\u001b[1;32m    221\u001b[0m \u001b[38;5;28mself\u001b[39m\u001b[38;5;241m.\u001b[39mrowcount \u001b[38;5;241m=\u001b[39m rows\n\u001b[1;32m    222\u001b[0m \u001b[38;5;28;01mreturn\u001b[39;00m rows\n",
      "File \u001b[0;32m/opt/miniconda3/lib/python3.12/site-packages/pymysql/cursors.py:153\u001b[0m, in \u001b[0;36mCursor.execute\u001b[0;34m(self, query, args)\u001b[0m\n\u001b[1;32m    149\u001b[0m     \u001b[38;5;28;01mpass\u001b[39;00m\n\u001b[1;32m    151\u001b[0m query \u001b[38;5;241m=\u001b[39m \u001b[38;5;28mself\u001b[39m\u001b[38;5;241m.\u001b[39mmogrify(query, args)\n\u001b[0;32m--> 153\u001b[0m result \u001b[38;5;241m=\u001b[39m \u001b[38;5;28;43mself\u001b[39;49m\u001b[38;5;241;43m.\u001b[39;49m\u001b[43m_query\u001b[49m\u001b[43m(\u001b[49m\u001b[43mquery\u001b[49m\u001b[43m)\u001b[49m\n\u001b[1;32m    154\u001b[0m \u001b[38;5;28mself\u001b[39m\u001b[38;5;241m.\u001b[39m_executed \u001b[38;5;241m=\u001b[39m query\n\u001b[1;32m    155\u001b[0m \u001b[38;5;28;01mreturn\u001b[39;00m result\n",
      "File \u001b[0;32m/opt/miniconda3/lib/python3.12/site-packages/pymysql/cursors.py:322\u001b[0m, in \u001b[0;36mCursor._query\u001b[0;34m(self, q)\u001b[0m\n\u001b[1;32m    320\u001b[0m conn \u001b[38;5;241m=\u001b[39m \u001b[38;5;28mself\u001b[39m\u001b[38;5;241m.\u001b[39m_get_db()\n\u001b[1;32m    321\u001b[0m \u001b[38;5;28mself\u001b[39m\u001b[38;5;241m.\u001b[39m_clear_result()\n\u001b[0;32m--> 322\u001b[0m \u001b[43mconn\u001b[49m\u001b[38;5;241;43m.\u001b[39;49m\u001b[43mquery\u001b[49m\u001b[43m(\u001b[49m\u001b[43mq\u001b[49m\u001b[43m)\u001b[49m\n\u001b[1;32m    323\u001b[0m \u001b[38;5;28mself\u001b[39m\u001b[38;5;241m.\u001b[39m_do_get_result()\n\u001b[1;32m    324\u001b[0m \u001b[38;5;28;01mreturn\u001b[39;00m \u001b[38;5;28mself\u001b[39m\u001b[38;5;241m.\u001b[39mrowcount\n",
      "File \u001b[0;32m/opt/miniconda3/lib/python3.12/site-packages/pymysql/connections.py:558\u001b[0m, in \u001b[0;36mConnection.query\u001b[0;34m(self, sql, unbuffered)\u001b[0m\n\u001b[1;32m    556\u001b[0m     sql \u001b[38;5;241m=\u001b[39m sql\u001b[38;5;241m.\u001b[39mencode(\u001b[38;5;28mself\u001b[39m\u001b[38;5;241m.\u001b[39mencoding, \u001b[38;5;124m\"\u001b[39m\u001b[38;5;124msurrogateescape\u001b[39m\u001b[38;5;124m\"\u001b[39m)\n\u001b[1;32m    557\u001b[0m \u001b[38;5;28mself\u001b[39m\u001b[38;5;241m.\u001b[39m_execute_command(COMMAND\u001b[38;5;241m.\u001b[39mCOM_QUERY, sql)\n\u001b[0;32m--> 558\u001b[0m \u001b[38;5;28mself\u001b[39m\u001b[38;5;241m.\u001b[39m_affected_rows \u001b[38;5;241m=\u001b[39m \u001b[38;5;28;43mself\u001b[39;49m\u001b[38;5;241;43m.\u001b[39;49m\u001b[43m_read_query_result\u001b[49m\u001b[43m(\u001b[49m\u001b[43munbuffered\u001b[49m\u001b[38;5;241;43m=\u001b[39;49m\u001b[43munbuffered\u001b[49m\u001b[43m)\u001b[49m\n\u001b[1;32m    559\u001b[0m \u001b[38;5;28;01mreturn\u001b[39;00m \u001b[38;5;28mself\u001b[39m\u001b[38;5;241m.\u001b[39m_affected_rows\n",
      "File \u001b[0;32m/opt/miniconda3/lib/python3.12/site-packages/pymysql/connections.py:822\u001b[0m, in \u001b[0;36mConnection._read_query_result\u001b[0;34m(self, unbuffered)\u001b[0m\n\u001b[1;32m    820\u001b[0m \u001b[38;5;28;01melse\u001b[39;00m:\n\u001b[1;32m    821\u001b[0m     result \u001b[38;5;241m=\u001b[39m MySQLResult(\u001b[38;5;28mself\u001b[39m)\n\u001b[0;32m--> 822\u001b[0m     \u001b[43mresult\u001b[49m\u001b[38;5;241;43m.\u001b[39;49m\u001b[43mread\u001b[49m\u001b[43m(\u001b[49m\u001b[43m)\u001b[49m\n\u001b[1;32m    823\u001b[0m \u001b[38;5;28mself\u001b[39m\u001b[38;5;241m.\u001b[39m_result \u001b[38;5;241m=\u001b[39m result\n\u001b[1;32m    824\u001b[0m \u001b[38;5;28;01mif\u001b[39;00m result\u001b[38;5;241m.\u001b[39mserver_status \u001b[38;5;129;01mis\u001b[39;00m \u001b[38;5;129;01mnot\u001b[39;00m \u001b[38;5;28;01mNone\u001b[39;00m:\n",
      "File \u001b[0;32m/opt/miniconda3/lib/python3.12/site-packages/pymysql/connections.py:1200\u001b[0m, in \u001b[0;36mMySQLResult.read\u001b[0;34m(self)\u001b[0m\n\u001b[1;32m   1198\u001b[0m \u001b[38;5;28;01mdef\u001b[39;00m \u001b[38;5;21mread\u001b[39m(\u001b[38;5;28mself\u001b[39m):\n\u001b[1;32m   1199\u001b[0m     \u001b[38;5;28;01mtry\u001b[39;00m:\n\u001b[0;32m-> 1200\u001b[0m         first_packet \u001b[38;5;241m=\u001b[39m \u001b[38;5;28;43mself\u001b[39;49m\u001b[38;5;241;43m.\u001b[39;49m\u001b[43mconnection\u001b[49m\u001b[38;5;241;43m.\u001b[39;49m\u001b[43m_read_packet\u001b[49m\u001b[43m(\u001b[49m\u001b[43m)\u001b[49m\n\u001b[1;32m   1202\u001b[0m         \u001b[38;5;28;01mif\u001b[39;00m first_packet\u001b[38;5;241m.\u001b[39mis_ok_packet():\n\u001b[1;32m   1203\u001b[0m             \u001b[38;5;28mself\u001b[39m\u001b[38;5;241m.\u001b[39m_read_ok_packet(first_packet)\n",
      "File \u001b[0;32m/opt/miniconda3/lib/python3.12/site-packages/pymysql/connections.py:772\u001b[0m, in \u001b[0;36mConnection._read_packet\u001b[0;34m(self, packet_type)\u001b[0m\n\u001b[1;32m    770\u001b[0m     \u001b[38;5;28;01mif\u001b[39;00m \u001b[38;5;28mself\u001b[39m\u001b[38;5;241m.\u001b[39m_result \u001b[38;5;129;01mis\u001b[39;00m \u001b[38;5;129;01mnot\u001b[39;00m \u001b[38;5;28;01mNone\u001b[39;00m \u001b[38;5;129;01mand\u001b[39;00m \u001b[38;5;28mself\u001b[39m\u001b[38;5;241m.\u001b[39m_result\u001b[38;5;241m.\u001b[39munbuffered_active \u001b[38;5;129;01mis\u001b[39;00m \u001b[38;5;28;01mTrue\u001b[39;00m:\n\u001b[1;32m    771\u001b[0m         \u001b[38;5;28mself\u001b[39m\u001b[38;5;241m.\u001b[39m_result\u001b[38;5;241m.\u001b[39munbuffered_active \u001b[38;5;241m=\u001b[39m \u001b[38;5;28;01mFalse\u001b[39;00m\n\u001b[0;32m--> 772\u001b[0m     \u001b[43mpacket\u001b[49m\u001b[38;5;241;43m.\u001b[39;49m\u001b[43mraise_for_error\u001b[49m\u001b[43m(\u001b[49m\u001b[43m)\u001b[49m\n\u001b[1;32m    773\u001b[0m \u001b[38;5;28;01mreturn\u001b[39;00m packet\n",
      "File \u001b[0;32m/opt/miniconda3/lib/python3.12/site-packages/pymysql/protocol.py:221\u001b[0m, in \u001b[0;36mMysqlPacket.raise_for_error\u001b[0;34m(self)\u001b[0m\n\u001b[1;32m    219\u001b[0m \u001b[38;5;28;01mif\u001b[39;00m DEBUG:\n\u001b[1;32m    220\u001b[0m     \u001b[38;5;28mprint\u001b[39m(\u001b[38;5;124m\"\u001b[39m\u001b[38;5;124merrno =\u001b[39m\u001b[38;5;124m\"\u001b[39m, errno)\n\u001b[0;32m--> 221\u001b[0m \u001b[43merr\u001b[49m\u001b[38;5;241;43m.\u001b[39;49m\u001b[43mraise_mysql_exception\u001b[49m\u001b[43m(\u001b[49m\u001b[38;5;28;43mself\u001b[39;49m\u001b[38;5;241;43m.\u001b[39;49m\u001b[43m_data\u001b[49m\u001b[43m)\u001b[49m\n",
      "File \u001b[0;32m/opt/miniconda3/lib/python3.12/site-packages/pymysql/err.py:143\u001b[0m, in \u001b[0;36mraise_mysql_exception\u001b[0;34m(data)\u001b[0m\n\u001b[1;32m    141\u001b[0m \u001b[38;5;28;01mif\u001b[39;00m errorclass \u001b[38;5;129;01mis\u001b[39;00m \u001b[38;5;28;01mNone\u001b[39;00m:\n\u001b[1;32m    142\u001b[0m     errorclass \u001b[38;5;241m=\u001b[39m InternalError \u001b[38;5;28;01mif\u001b[39;00m errno \u001b[38;5;241m<\u001b[39m \u001b[38;5;241m1000\u001b[39m \u001b[38;5;28;01melse\u001b[39;00m OperationalError\n\u001b[0;32m--> 143\u001b[0m \u001b[38;5;28;01mraise\u001b[39;00m errorclass(errno, errval)\n",
      "\u001b[0;31mIntegrityError\u001b[0m: (pymysql.err.IntegrityError) (1452, 'Cannot add or update a child row: a foreign key constraint fails (`amazon_sales_db`.`d_questions`, CONSTRAINT `d_questions_ibfk_1` FOREIGN KEY (`product_id`) REFERENCES `f_products` (`product_id`))')\n[SQL: INSERT INTO d_questions (product_id, question, answer, question_id) VALUES (%(product_id)s, %(question)s, %(answer)s, %(question_id)s)]\n[parameters: [{'product_id': 'eac7efa5dbd3d667f26eb3d3ab504464', 'question': 'Does this catalogue detail all the previous Hornby products please?', 'answer': 'HiThe 2014 catalogue does indeed detail previous models but also includes new releases for 2014.You would be advised to purchase models as you need t ... (192 characters truncated) ... 14.You would be advised to purchase models as you need them to avoid them being discontinued in subsequent yearsHope this helps\\n    \\n      see less', 'question_id': 1}, {'product_id': 'b17540ef7e86e461d37f3ae58b7b72ac', 'question': 'can you turn off sounds', 'answer': 'hi no you cant turn sound off', 'question_id': 2}, {'product_id': '348f344247b0c1a935b1223072ef9d8a', 'question': 'What is the gauge of the track', 'answer': \"Hi Paul.Truthfully, I'm not sure. But it's very much alike to a 00 gauge. But this train set isn't an add-on for an electric train set nor has nothin ... (4 characters truncated) ...  do with one.I bought this for my 4 year old nephew as he adores trains but is far too young for an electric set. He was VERY happy with this though!\", 'question_id': 3}, {'product_id': '348f344247b0c1a935b1223072ef9d8a', 'question': 'what is the layout of the tracks?', 'answer': 'Its an oval shape layout', 'question_id': 4}, {'product_id': 'cb34f0a84102c1ebc3ef6892d7444d36', 'question': 'is it possible to replace thr grain of wheat lamps with leds', 'answer': \"Hi Pete. No it's not possible the main pole is to thin to take readily available LEDs wiring. I was hoping to do this myself but it would mean rewire ... (568 characters truncated) ... ugh to solder the led back on. That I will be trying in the next few months. Hope I may have been some help, good luck. Derryck\\n    \\n      see less\", 'question_id': 5}, {'product_id': '87bbb472ef9d90dcef140a551665c929', 'question': 'Can this train go backwards as well as forward?', 'answer': 'Yes.  Variable speed in both directions.', 'question_id': 6}, {'product_id': '87bbb472ef9d90dcef140a551665c929', 'question': 'Is this train set OO Gauge.', 'answer': 'Yes it is.', 'question_id': 7}, {'product_id': '87bbb472ef9d90dcef140a551665c929', 'question': 'can it sit directly on carpet or will i need a board to put it on ?', 'answer': 'The train set can be run on carpet, although a board is more beneficial.', 'question_id': 8}  ... displaying 10 of 1677 total bound parameter sets ...  {'product_id': '569b2e8a3aef1831cd68fe1de287c809', 'question': 'Is this metal?', 'answer': \"Yes and it's got a good weight to it\", 'question_id': 1676}, {'product_id': '569b2e8a3aef1831cd68fe1de287c809', 'question': 'Can you separate the batarang from the actual display?', 'answer': 'Yes you can.', 'question_id': 1677}]]\n(Background on this error at: https://sqlalche.me/e/20/gkpj)"
     ]
    }
   ],
   "source": [
    "d_questions.to_sql('d_questions', con=engine, if_exists=\"append\", index=False)"
   ]
  },
  {
   "cell_type": "code",
   "execution_count": 274,
   "id": "ee77bab1",
   "metadata": {},
   "outputs": [
    {
     "name": "stdout",
     "output_type": "stream",
     "text": [
      "Index(['uniq_id', 'product_name', 'manufacturer', 'price', 'purchase_date',\n",
      "       'ship_date', 'number_available_in_stock', 'number_of_reviews',\n",
      "       'number_of_answered_questions', 'average_review_rating',\n",
      "       'amazon_category_and_sub_category',\n",
      "       'customers_who_bought_this_item_also_bought', 'description',\n",
      "       'product_information', 'product_description',\n",
      "       'items_customers_buy_after_viewing_this_item',\n",
      "       'customer_questions_and_answers', 'customer_reviews', 'quantity',\n",
      "       'condition', 'country_id', 'Category', 'Sub_Category',\n",
      "       'Sub_Sub_Category', 'Sub_Sub_Sub_Category', 'Sub_Category_ID',\n",
      "       'Sub_Sub_Category_ID', 'Sub_Sub_Sub_Category_ID'],\n",
      "      dtype='object')\n"
     ]
    }
   ],
   "source": [
    "print(df.columns)"
   ]
  },
  {
   "cell_type": "code",
   "execution_count": null,
   "id": "20ba042a",
   "metadata": {},
   "outputs": [],
   "source": []
  }
 ],
 "metadata": {
  "kernelspec": {
   "display_name": "Python 3 (ipykernel)",
   "language": "python",
   "name": "python3"
  },
  "language_info": {
   "codemirror_mode": {
    "name": "ipython",
    "version": 3
   },
   "file_extension": ".py",
   "mimetype": "text/x-python",
   "name": "python",
   "nbconvert_exporter": "python",
   "pygments_lexer": "ipython3",
   "version": "3.12.2"
  }
 },
 "nbformat": 4,
 "nbformat_minor": 5
}
