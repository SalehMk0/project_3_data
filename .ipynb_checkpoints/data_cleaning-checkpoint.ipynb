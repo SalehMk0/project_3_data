{
 "cells": [
  {
   "cell_type": "code",
   "execution_count": 2,
   "id": "d4de0fd0-1f16-4321-98ba-3d56b0b580c3",
   "metadata": {},
   "outputs": [],
   "source": [
    "import pandas as pd"
   ]
  },
  {
   "cell_type": "code",
   "execution_count": 3,
   "id": "20a684da-35e0-4310-905b-222e19042933",
   "metadata": {},
   "outputs": [],
   "source": [
    "df = pd.read_csv('amazon.csv')"
   ]
  },
  {
   "cell_type": "code",
   "execution_count": 4,
   "id": "7b3a7729-35fe-4bce-a3b2-6b1fbfc58960",
   "metadata": {},
   "outputs": [
    {
     "data": {
      "text/plain": [
       "dtype('float64')"
      ]
     },
     "execution_count": 4,
     "metadata": {},
     "output_type": "execute_result"
    }
   ],
   "source": [
    "df['price'] = df['price'].str.replace('[^\\d.]', '', regex=True)\n",
    "df['price'] = pd.to_numeric(df['price'], errors='coerce')\n",
    "df['price'].dtype"
   ]
  },
  {
   "cell_type": "code",
   "execution_count": 5,
   "id": "417a73ec-1399-494c-8cef-2621ae291fe9",
   "metadata": {},
   "outputs": [],
   "source": [
    "df['number_available_in_stock'] = df['number_available_in_stock'].str.replace('Â', '', regex=False)\n",
    "df[['quantity', 'condition']] = df['number_available_in_stock'].str.split(n=1, expand=True)\n",
    "df['quantity'] = pd.to_numeric(df['quantity'], errors='coerce')\n",
    "df['condition'] = df['condition'].str.strip()\n",
    "df['condition'] = df['condition'].fillna('Unknown')\n",
    "df = df.drop('number_available_in_stock', axis=1)"
   ]
  },
  {
   "cell_type": "code",
   "execution_count": 6,
   "id": "ee0920e4-ba67-478b-8374-d2e37652af03",
   "metadata": {},
   "outputs": [],
   "source": [
    "df.to_csv('data.csv', index=False)"
   ]
  },
  {
   "cell_type": "code",
   "execution_count": 7,
   "id": "cba1983c-b594-46f1-9a95-7cffa8d58855",
   "metadata": {},
   "outputs": [],
   "source": [
    "df['number_of_answered_questions'] = df['number_of_answered_questions'].fillna(0).astype(int)\n",
    "df['number_of_answered_questions'] = df['number_of_answered_questions'].astype(int)"
   ]
  },
  {
   "cell_type": "code",
   "execution_count": 8,
   "id": "46617e65-fefe-4a1d-885d-cf769ca31d5a",
   "metadata": {},
   "outputs": [
    {
     "data": {
      "text/plain": [
       "dtype('int32')"
      ]
     },
     "execution_count": 8,
     "metadata": {},
     "output_type": "execute_result"
    }
   ],
   "source": [
    "df['number_of_answered_questions'].dtype"
   ]
  },
  {
   "cell_type": "code",
   "execution_count": 9,
   "id": "e42383e9-b78c-424d-9a4a-540ac88d794c",
   "metadata": {},
   "outputs": [],
   "source": [
    "df.to_csv('data.csv', index=False)"
   ]
  },
  {
   "cell_type": "code",
   "execution_count": 10,
   "id": "a054333f-33f3-47b8-9174-fc5106724d74",
   "metadata": {},
   "outputs": [],
   "source": [
    "df['average_review_rating'] = df['average_review_rating'].str.split().str[0].astype(float)"
   ]
  },
  {
   "cell_type": "code",
   "execution_count": 11,
   "id": "900be9bd-3411-4c92-950a-b6ce596d16fb",
   "metadata": {},
   "outputs": [
    {
     "data": {
      "text/plain": [
       "dtype('float64')"
      ]
     },
     "execution_count": 11,
     "metadata": {},
     "output_type": "execute_result"
    }
   ],
   "source": [
    "df['average_review_rating'].dtype"
   ]
  },
  {
   "cell_type": "code",
   "execution_count": 12,
   "id": "d1c1960e-a50c-464d-96d8-07217ec73d26",
   "metadata": {},
   "outputs": [
    {
     "data": {
      "text/plain": [
       "0       4.9\n",
       "1       4.5\n",
       "2       3.9\n",
       "3       5.0\n",
       "4       4.7\n",
       "       ... \n",
       "9994    5.0\n",
       "9995    4.0\n",
       "9996    5.0\n",
       "9997    5.0\n",
       "9998    4.5\n",
       "Name: average_review_rating, Length: 9999, dtype: float64"
      ]
     },
     "execution_count": 12,
     "metadata": {},
     "output_type": "execute_result"
    }
   ],
   "source": [
    "df['average_review_rating']"
   ]
  },
  {
   "cell_type": "code",
   "execution_count": 13,
   "id": "e25d7850-2350-4f24-83d2-3b81673dafee",
   "metadata": {},
   "outputs": [],
   "source": [
    "df.to_csv('data.csv', index=False)"
   ]
  },
  {
   "cell_type": "code",
   "execution_count": 14,
   "id": "ed6b591d-e2a8-48b0-99bf-acf0f696950c",
   "metadata": {},
   "outputs": [],
   "source": [
    "\n",
    "import numpy as np\n",
    "\n",
    "def split_review(text):\n",
    "    if pd.isna(text) or not isinstance(text, str):\n",
    "        return pd.Series([None, None, None, None])\n",
    "    \n",
    "    parts = text.split('//')\n",
    "    review = parts[0].strip()\n",
    "    rating = parts[1].strip() if len(parts) > 1 else None\n",
    "    date = parts[2].strip() if len(parts) > 2 else None\n",
    "    \n",
    "    if len(parts) > 3:\n",
    "        customer_date = parts[3].strip().split(' on ')\n",
    "        customer = customer_date[0].replace('\\n', '').strip()\n",
    "        date = customer_date[1] if len(customer_date) > 1 else date\n",
    "    else:\n",
    "        customer = None\n",
    "    customer = customer[2:].strip() if customer.startswith('By') else customer\n",
    "\n",
    "    return pd.Series([review, rating, date, customer])\n",
    "\n",
    "df[['review_text', 'rating', 'date', 'customer_name']] = df['customer_reviews'].apply(split_review)\n",
    "df = df.drop('customer_reviews', axis=1)\n"
   ]
  },
  {
   "cell_type": "code",
   "execution_count": 15,
   "id": "4e58bd44-83d9-430c-8e78-b2bf1edae61d",
   "metadata": {},
   "outputs": [],
   "source": [
    "df.to_csv('data.csv', index=False)"
   ]
  },
  {
   "cell_type": "code",
   "execution_count": 53,
   "id": "b8cd133b-ab0c-474f-a9ad-7c907275e31d",
   "metadata": {},
   "outputs": [
    {
     "data": {
      "text/plain": [
       "9994    DC 66 Batman Classic TV Series 6 Inch Riddler ...\n",
       "9995                                                  NaN\n",
       "9996    *Includes 1x Badge with holder and chain *High...\n",
       "9997    Designed by Ed BenesIt's here - the third seri...\n",
       "9998                                                  NaN\n",
       "Name: description, dtype: object"
      ]
     },
     "execution_count": 53,
     "metadata": {},
     "output_type": "execute_result"
    }
   ],
   "source": [
    "df['description'].tail(5)"
   ]
  },
  {
   "cell_type": "code",
   "execution_count": null,
   "id": "214914e0-edc7-4b93-98a1-dad0af99a562",
   "metadata": {},
   "outputs": [],
   "source": []
  }
 ],
 "metadata": {
  "kernelspec": {
   "display_name": "Python 3 (ipykernel)",
   "language": "python",
   "name": "python3"
  },
  "language_info": {
   "codemirror_mode": {
    "name": "ipython",
    "version": 3
   },
   "file_extension": ".py",
   "mimetype": "text/x-python",
   "name": "python",
   "nbconvert_exporter": "python",
   "pygments_lexer": "ipython3",
   "version": "3.11.7"
  }
 },
 "nbformat": 4,
 "nbformat_minor": 5
}
