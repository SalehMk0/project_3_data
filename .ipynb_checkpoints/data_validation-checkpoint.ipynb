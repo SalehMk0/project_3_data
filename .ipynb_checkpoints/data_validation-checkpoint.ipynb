{
 "cells": [
  {
   "cell_type": "code",
   "execution_count": 3,
   "id": "4aaf8617-36f5-4ad8-abae-f14d95f9256e",
   "metadata": {},
   "outputs": [],
   "source": [
    "import pandas as pd\n",
    "df = pd.read_csv('data.csv')"
   ]
  },
  {
   "cell_type": "code",
   "execution_count": 6,
   "id": "ec09d611-7618-4730-93b9-06e14265085a",
   "metadata": {},
   "outputs": [
    {
     "data": {
      "text/plain": [
       "9999"
      ]
     },
     "execution_count": 6,
     "metadata": {},
     "output_type": "execute_result"
    }
   ],
   "source": [
    "df['product_name'].count()"
   ]
  },
  {
   "cell_type": "code",
   "execution_count": 9,
   "id": "737904b5-29b0-48f3-9655-e5bae31f34e6",
   "metadata": {},
   "outputs": [
    {
     "data": {
      "text/plain": [
       "9999"
      ]
     },
     "execution_count": 9,
     "metadata": {},
     "output_type": "execute_result"
    }
   ],
   "source": [
    "df['uniq_id'].count()"
   ]
  },
  {
   "cell_type": "code",
   "execution_count": 26,
   "id": "445cd5b8-04ef-4325-aff2-dcdb9d8fd1da",
   "metadata": {},
   "outputs": [
    {
     "data": {
      "text/plain": [
       "9992"
      ]
     },
     "execution_count": 26,
     "metadata": {},
     "output_type": "execute_result"
    }
   ],
   "source": [
    "df['manufacturer'].count()\n"
   ]
  },
  {
   "cell_type": "code",
   "execution_count": 34,
   "id": "5782b99e-6e74-4762-a9a0-f2e06b1fa9ee",
   "metadata": {},
   "outputs": [
    {
     "data": {
      "text/plain": [
       "9309"
      ]
     },
     "execution_count": 34,
     "metadata": {},
     "output_type": "execute_result"
    }
   ],
   "source": [
    "df['amazon_category_and_sub_category'].count()"
   ]
  },
  {
   "cell_type": "code",
   "execution_count": 86,
   "id": "84c138b6-3363-4472-8fea-b244c75fcb14",
   "metadata": {},
   "outputs": [
    {
     "data": {
      "text/plain": [
       "array(['United States', 'Canada', 'Australia', 'United Kingdom',\n",
       "       'Germany', 'France'], dtype=object)"
      ]
     },
     "execution_count": 86,
     "metadata": {},
     "output_type": "execute_result"
    }
   ],
   "source": [
    "df['ship_country'].unique()\n"
   ]
  },
  {
   "cell_type": "code",
   "execution_count": 88,
   "id": "43686d92-2827-47dc-b86e-16288132116a",
   "metadata": {},
   "outputs": [
    {
     "data": {
      "text/plain": [
       "788"
      ]
     },
     "execution_count": 88,
     "metadata": {},
     "output_type": "execute_result"
    }
   ],
   "source": [
    "customer_counts = df['customer_name'].value_counts()\n",
    "\n",
    "\n",
    "unique_counts = customer_counts.unique()\n",
    "\n",
    "unique_counts.sum()"
   ]
  },
  {
   "cell_type": "code",
   "execution_count": 96,
   "id": "1b2ad4de-4876-4ba1-9193-563785841c60",
   "metadata": {},
   "outputs": [
    {
     "data": {
      "text/plain": [
       "2721"
      ]
     },
     "execution_count": 96,
     "metadata": {},
     "output_type": "execute_result"
    }
   ],
   "source": [
    "reviews_counts = df['review_text'].value_counts()\n",
    "\n",
    "\n",
    "unique_counts = reviews_counts.unique()\n",
    "\n",
    "unique_counts.sum()"
   ]
  },
  {
   "cell_type": "code",
   "execution_count": 98,
   "id": "8e0aab13-3844-410d-b43d-ac6fb17a7392",
   "metadata": {},
   "outputs": [
    {
     "data": {
      "text/plain": [
       "8177"
      ]
     },
     "execution_count": 98,
     "metadata": {},
     "output_type": "execute_result"
    }
   ],
   "source": [
    "categories_counts = df['amazon_category_and_sub_category'].value_counts()\n",
    "\n",
    "\n",
    "unique_counts = categories_counts.unique()\n",
    "\n",
    "unique_counts.sum()"
   ]
  },
  {
   "cell_type": "code",
   "execution_count": 108,
   "id": "a6808968-84a5-489c-81c6-7efbad4f8d26",
   "metadata": {},
   "outputs": [
    {
     "data": {
      "text/plain": [
       "913"
      ]
     },
     "execution_count": 108,
     "metadata": {},
     "output_type": "execute_result"
    }
   ],
   "source": [
    "df['customer_questions_and_answers'].count()"
   ]
  },
  {
   "cell_type": "code",
   "execution_count": 111,
   "id": "e950c1f8-6c48-4442-9849-d5f5248e5878",
   "metadata": {},
   "outputs": [
    {
     "data": {
      "text/plain": [
       "9999"
      ]
     },
     "execution_count": 111,
     "metadata": {},
     "output_type": "execute_result"
    }
   ],
   "source": [
    "df['condition'].count()"
   ]
  },
  {
   "cell_type": "code",
   "execution_count": null,
   "id": "c69bc9fc-b319-4285-a2fd-cd9c912ac4e2",
   "metadata": {},
   "outputs": [],
   "source": []
  }
 ],
 "metadata": {
  "kernelspec": {
   "display_name": "Python 3 (ipykernel)",
   "language": "python",
   "name": "python3"
  },
  "language_info": {
   "codemirror_mode": {
    "name": "ipython",
    "version": 3
   },
   "file_extension": ".py",
   "mimetype": "text/x-python",
   "name": "python",
   "nbconvert_exporter": "python",
   "pygments_lexer": "ipython3",
   "version": "3.11.7"
  }
 },
 "nbformat": 4,
 "nbformat_minor": 5
}
